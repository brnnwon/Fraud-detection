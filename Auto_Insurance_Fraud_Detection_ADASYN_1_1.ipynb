{
  "nbformat": 4,
  "nbformat_minor": 0,
  "metadata": {
    "colab": {
      "provenance": [],
      "gpuType": "T4",
      "authorship_tag": "ABX9TyNWz8JmkWKU/OGgH+UitO+U",
      "include_colab_link": true
    },
    "kernelspec": {
      "name": "python3",
      "display_name": "Python 3"
    },
    "language_info": {
      "name": "python"
    },
    "accelerator": "GPU"
  },
  "cells": [
    {
      "cell_type": "markdown",
      "metadata": {
        "id": "view-in-github",
        "colab_type": "text"
      },
      "source": [
        "<a href=\"https://colab.research.google.com/github/brnnwon/Fraud-detection/blob/main/Auto_Insurance_Fraud_Detection_ADASYN_1_1.ipynb\" target=\"_parent\"><img src=\"https://colab.research.google.com/assets/colab-badge.svg\" alt=\"Open In Colab\"/></a>"
      ]
    },
    {
      "cell_type": "code",
      "source": [
        "import numpy as np\n",
        "import pandas as pd\n",
        "import matplotlib.pyplot as plt\n",
        "import seaborn as sns"
      ],
      "metadata": {
        "id": "9vJ35EuGpuzv"
      },
      "execution_count": null,
      "outputs": []
    },
    {
      "cell_type": "markdown",
      "source": [
        "Import dataset"
      ],
      "metadata": {
        "id": "K2HpmGKsqlpR"
      }
    },
    {
      "cell_type": "code",
      "execution_count": null,
      "metadata": {
        "id": "m9jH0t9RphQe"
      },
      "outputs": [],
      "source": [
        "url = 'https://raw.githubusercontent.com/brnnwon/Fraud-detection/main/fraud_oracle.csv'\n",
        "\n",
        "df = pd.read_csv(url)"
      ]
    },
    {
      "cell_type": "code",
      "source": [
        "df.head()"
      ],
      "metadata": {
        "colab": {
          "base_uri": "https://localhost:8080/",
          "height": 255
        },
        "id": "hJhDgc_1qV-V",
        "outputId": "185929aa-f774-426c-a66a-9b37d0a9d867"
      },
      "execution_count": null,
      "outputs": [
        {
          "output_type": "execute_result",
          "data": {
            "text/plain": [
              "  Month  WeekOfMonth  DayOfWeek    Make AccidentArea DayOfWeekClaimed  \\\n",
              "0   Dec            5  Wednesday   Honda        Urban          Tuesday   \n",
              "1   Jan            3  Wednesday   Honda        Urban           Monday   \n",
              "2   Oct            5     Friday   Honda        Urban         Thursday   \n",
              "3   Jun            2   Saturday  Toyota        Rural           Friday   \n",
              "4   Jan            5     Monday   Honda        Urban          Tuesday   \n",
              "\n",
              "  MonthClaimed  WeekOfMonthClaimed     Sex MaritalStatus  ...  AgeOfVehicle  \\\n",
              "0          Jan                   1  Female        Single  ...       3 years   \n",
              "1          Jan                   4    Male        Single  ...       6 years   \n",
              "2          Nov                   2    Male       Married  ...       7 years   \n",
              "3          Jul                   1    Male       Married  ...   more than 7   \n",
              "4          Feb                   2  Female        Single  ...       5 years   \n",
              "\n",
              "  AgeOfPolicyHolder PoliceReportFiled WitnessPresent AgentType  \\\n",
              "0          26 to 30                No             No  External   \n",
              "1          31 to 35               Yes             No  External   \n",
              "2          41 to 50                No             No  External   \n",
              "3          51 to 65               Yes             No  External   \n",
              "4          31 to 35                No             No  External   \n",
              "\n",
              "   NumberOfSuppliments  AddressChange_Claim  NumberOfCars  Year  BasePolicy  \n",
              "0                 none               1 year        3 to 4  1994   Liability  \n",
              "1                 none            no change     1 vehicle  1994   Collision  \n",
              "2                 none            no change     1 vehicle  1994   Collision  \n",
              "3          more than 5            no change     1 vehicle  1994   Liability  \n",
              "4                 none            no change     1 vehicle  1994   Collision  \n",
              "\n",
              "[5 rows x 33 columns]"
            ],
            "text/html": [
              "\n",
              "  <div id=\"df-b0781b75-a596-43a1-98b2-08c708f9ec18\" class=\"colab-df-container\">\n",
              "    <div>\n",
              "<style scoped>\n",
              "    .dataframe tbody tr th:only-of-type {\n",
              "        vertical-align: middle;\n",
              "    }\n",
              "\n",
              "    .dataframe tbody tr th {\n",
              "        vertical-align: top;\n",
              "    }\n",
              "\n",
              "    .dataframe thead th {\n",
              "        text-align: right;\n",
              "    }\n",
              "</style>\n",
              "<table border=\"1\" class=\"dataframe\">\n",
              "  <thead>\n",
              "    <tr style=\"text-align: right;\">\n",
              "      <th></th>\n",
              "      <th>Month</th>\n",
              "      <th>WeekOfMonth</th>\n",
              "      <th>DayOfWeek</th>\n",
              "      <th>Make</th>\n",
              "      <th>AccidentArea</th>\n",
              "      <th>DayOfWeekClaimed</th>\n",
              "      <th>MonthClaimed</th>\n",
              "      <th>WeekOfMonthClaimed</th>\n",
              "      <th>Sex</th>\n",
              "      <th>MaritalStatus</th>\n",
              "      <th>...</th>\n",
              "      <th>AgeOfVehicle</th>\n",
              "      <th>AgeOfPolicyHolder</th>\n",
              "      <th>PoliceReportFiled</th>\n",
              "      <th>WitnessPresent</th>\n",
              "      <th>AgentType</th>\n",
              "      <th>NumberOfSuppliments</th>\n",
              "      <th>AddressChange_Claim</th>\n",
              "      <th>NumberOfCars</th>\n",
              "      <th>Year</th>\n",
              "      <th>BasePolicy</th>\n",
              "    </tr>\n",
              "  </thead>\n",
              "  <tbody>\n",
              "    <tr>\n",
              "      <th>0</th>\n",
              "      <td>Dec</td>\n",
              "      <td>5</td>\n",
              "      <td>Wednesday</td>\n",
              "      <td>Honda</td>\n",
              "      <td>Urban</td>\n",
              "      <td>Tuesday</td>\n",
              "      <td>Jan</td>\n",
              "      <td>1</td>\n",
              "      <td>Female</td>\n",
              "      <td>Single</td>\n",
              "      <td>...</td>\n",
              "      <td>3 years</td>\n",
              "      <td>26 to 30</td>\n",
              "      <td>No</td>\n",
              "      <td>No</td>\n",
              "      <td>External</td>\n",
              "      <td>none</td>\n",
              "      <td>1 year</td>\n",
              "      <td>3 to 4</td>\n",
              "      <td>1994</td>\n",
              "      <td>Liability</td>\n",
              "    </tr>\n",
              "    <tr>\n",
              "      <th>1</th>\n",
              "      <td>Jan</td>\n",
              "      <td>3</td>\n",
              "      <td>Wednesday</td>\n",
              "      <td>Honda</td>\n",
              "      <td>Urban</td>\n",
              "      <td>Monday</td>\n",
              "      <td>Jan</td>\n",
              "      <td>4</td>\n",
              "      <td>Male</td>\n",
              "      <td>Single</td>\n",
              "      <td>...</td>\n",
              "      <td>6 years</td>\n",
              "      <td>31 to 35</td>\n",
              "      <td>Yes</td>\n",
              "      <td>No</td>\n",
              "      <td>External</td>\n",
              "      <td>none</td>\n",
              "      <td>no change</td>\n",
              "      <td>1 vehicle</td>\n",
              "      <td>1994</td>\n",
              "      <td>Collision</td>\n",
              "    </tr>\n",
              "    <tr>\n",
              "      <th>2</th>\n",
              "      <td>Oct</td>\n",
              "      <td>5</td>\n",
              "      <td>Friday</td>\n",
              "      <td>Honda</td>\n",
              "      <td>Urban</td>\n",
              "      <td>Thursday</td>\n",
              "      <td>Nov</td>\n",
              "      <td>2</td>\n",
              "      <td>Male</td>\n",
              "      <td>Married</td>\n",
              "      <td>...</td>\n",
              "      <td>7 years</td>\n",
              "      <td>41 to 50</td>\n",
              "      <td>No</td>\n",
              "      <td>No</td>\n",
              "      <td>External</td>\n",
              "      <td>none</td>\n",
              "      <td>no change</td>\n",
              "      <td>1 vehicle</td>\n",
              "      <td>1994</td>\n",
              "      <td>Collision</td>\n",
              "    </tr>\n",
              "    <tr>\n",
              "      <th>3</th>\n",
              "      <td>Jun</td>\n",
              "      <td>2</td>\n",
              "      <td>Saturday</td>\n",
              "      <td>Toyota</td>\n",
              "      <td>Rural</td>\n",
              "      <td>Friday</td>\n",
              "      <td>Jul</td>\n",
              "      <td>1</td>\n",
              "      <td>Male</td>\n",
              "      <td>Married</td>\n",
              "      <td>...</td>\n",
              "      <td>more than 7</td>\n",
              "      <td>51 to 65</td>\n",
              "      <td>Yes</td>\n",
              "      <td>No</td>\n",
              "      <td>External</td>\n",
              "      <td>more than 5</td>\n",
              "      <td>no change</td>\n",
              "      <td>1 vehicle</td>\n",
              "      <td>1994</td>\n",
              "      <td>Liability</td>\n",
              "    </tr>\n",
              "    <tr>\n",
              "      <th>4</th>\n",
              "      <td>Jan</td>\n",
              "      <td>5</td>\n",
              "      <td>Monday</td>\n",
              "      <td>Honda</td>\n",
              "      <td>Urban</td>\n",
              "      <td>Tuesday</td>\n",
              "      <td>Feb</td>\n",
              "      <td>2</td>\n",
              "      <td>Female</td>\n",
              "      <td>Single</td>\n",
              "      <td>...</td>\n",
              "      <td>5 years</td>\n",
              "      <td>31 to 35</td>\n",
              "      <td>No</td>\n",
              "      <td>No</td>\n",
              "      <td>External</td>\n",
              "      <td>none</td>\n",
              "      <td>no change</td>\n",
              "      <td>1 vehicle</td>\n",
              "      <td>1994</td>\n",
              "      <td>Collision</td>\n",
              "    </tr>\n",
              "  </tbody>\n",
              "</table>\n",
              "<p>5 rows × 33 columns</p>\n",
              "</div>\n",
              "    <div class=\"colab-df-buttons\">\n",
              "\n",
              "  <div class=\"colab-df-container\">\n",
              "    <button class=\"colab-df-convert\" onclick=\"convertToInteractive('df-b0781b75-a596-43a1-98b2-08c708f9ec18')\"\n",
              "            title=\"Convert this dataframe to an interactive table.\"\n",
              "            style=\"display:none;\">\n",
              "\n",
              "  <svg xmlns=\"http://www.w3.org/2000/svg\" height=\"24px\" viewBox=\"0 -960 960 960\">\n",
              "    <path d=\"M120-120v-720h720v720H120Zm60-500h600v-160H180v160Zm220 220h160v-160H400v160Zm0 220h160v-160H400v160ZM180-400h160v-160H180v160Zm440 0h160v-160H620v160ZM180-180h160v-160H180v160Zm440 0h160v-160H620v160Z\"/>\n",
              "  </svg>\n",
              "    </button>\n",
              "\n",
              "  <style>\n",
              "    .colab-df-container {\n",
              "      display:flex;\n",
              "      gap: 12px;\n",
              "    }\n",
              "\n",
              "    .colab-df-convert {\n",
              "      background-color: #E8F0FE;\n",
              "      border: none;\n",
              "      border-radius: 50%;\n",
              "      cursor: pointer;\n",
              "      display: none;\n",
              "      fill: #1967D2;\n",
              "      height: 32px;\n",
              "      padding: 0 0 0 0;\n",
              "      width: 32px;\n",
              "    }\n",
              "\n",
              "    .colab-df-convert:hover {\n",
              "      background-color: #E2EBFA;\n",
              "      box-shadow: 0px 1px 2px rgba(60, 64, 67, 0.3), 0px 1px 3px 1px rgba(60, 64, 67, 0.15);\n",
              "      fill: #174EA6;\n",
              "    }\n",
              "\n",
              "    .colab-df-buttons div {\n",
              "      margin-bottom: 4px;\n",
              "    }\n",
              "\n",
              "    [theme=dark] .colab-df-convert {\n",
              "      background-color: #3B4455;\n",
              "      fill: #D2E3FC;\n",
              "    }\n",
              "\n",
              "    [theme=dark] .colab-df-convert:hover {\n",
              "      background-color: #434B5C;\n",
              "      box-shadow: 0px 1px 3px 1px rgba(0, 0, 0, 0.15);\n",
              "      filter: drop-shadow(0px 1px 2px rgba(0, 0, 0, 0.3));\n",
              "      fill: #FFFFFF;\n",
              "    }\n",
              "  </style>\n",
              "\n",
              "    <script>\n",
              "      const buttonEl =\n",
              "        document.querySelector('#df-b0781b75-a596-43a1-98b2-08c708f9ec18 button.colab-df-convert');\n",
              "      buttonEl.style.display =\n",
              "        google.colab.kernel.accessAllowed ? 'block' : 'none';\n",
              "\n",
              "      async function convertToInteractive(key) {\n",
              "        const element = document.querySelector('#df-b0781b75-a596-43a1-98b2-08c708f9ec18');\n",
              "        const dataTable =\n",
              "          await google.colab.kernel.invokeFunction('convertToInteractive',\n",
              "                                                    [key], {});\n",
              "        if (!dataTable) return;\n",
              "\n",
              "        const docLinkHtml = 'Like what you see? Visit the ' +\n",
              "          '<a target=\"_blank\" href=https://colab.research.google.com/notebooks/data_table.ipynb>data table notebook</a>'\n",
              "          + ' to learn more about interactive tables.';\n",
              "        element.innerHTML = '';\n",
              "        dataTable['output_type'] = 'display_data';\n",
              "        await google.colab.output.renderOutput(dataTable, element);\n",
              "        const docLink = document.createElement('div');\n",
              "        docLink.innerHTML = docLinkHtml;\n",
              "        element.appendChild(docLink);\n",
              "      }\n",
              "    </script>\n",
              "  </div>\n",
              "\n",
              "\n",
              "<div id=\"df-b92cdc7d-4ade-4222-bc62-6226e53e5a43\">\n",
              "  <button class=\"colab-df-quickchart\" onclick=\"quickchart('df-b92cdc7d-4ade-4222-bc62-6226e53e5a43')\"\n",
              "            title=\"Suggest charts\"\n",
              "            style=\"display:none;\">\n",
              "\n",
              "<svg xmlns=\"http://www.w3.org/2000/svg\" height=\"24px\"viewBox=\"0 0 24 24\"\n",
              "     width=\"24px\">\n",
              "    <g>\n",
              "        <path d=\"M19 3H5c-1.1 0-2 .9-2 2v14c0 1.1.9 2 2 2h14c1.1 0 2-.9 2-2V5c0-1.1-.9-2-2-2zM9 17H7v-7h2v7zm4 0h-2V7h2v10zm4 0h-2v-4h2v4z\"/>\n",
              "    </g>\n",
              "</svg>\n",
              "  </button>\n",
              "\n",
              "<style>\n",
              "  .colab-df-quickchart {\n",
              "      --bg-color: #E8F0FE;\n",
              "      --fill-color: #1967D2;\n",
              "      --hover-bg-color: #E2EBFA;\n",
              "      --hover-fill-color: #174EA6;\n",
              "      --disabled-fill-color: #AAA;\n",
              "      --disabled-bg-color: #DDD;\n",
              "  }\n",
              "\n",
              "  [theme=dark] .colab-df-quickchart {\n",
              "      --bg-color: #3B4455;\n",
              "      --fill-color: #D2E3FC;\n",
              "      --hover-bg-color: #434B5C;\n",
              "      --hover-fill-color: #FFFFFF;\n",
              "      --disabled-bg-color: #3B4455;\n",
              "      --disabled-fill-color: #666;\n",
              "  }\n",
              "\n",
              "  .colab-df-quickchart {\n",
              "    background-color: var(--bg-color);\n",
              "    border: none;\n",
              "    border-radius: 50%;\n",
              "    cursor: pointer;\n",
              "    display: none;\n",
              "    fill: var(--fill-color);\n",
              "    height: 32px;\n",
              "    padding: 0;\n",
              "    width: 32px;\n",
              "  }\n",
              "\n",
              "  .colab-df-quickchart:hover {\n",
              "    background-color: var(--hover-bg-color);\n",
              "    box-shadow: 0 1px 2px rgba(60, 64, 67, 0.3), 0 1px 3px 1px rgba(60, 64, 67, 0.15);\n",
              "    fill: var(--button-hover-fill-color);\n",
              "  }\n",
              "\n",
              "  .colab-df-quickchart-complete:disabled,\n",
              "  .colab-df-quickchart-complete:disabled:hover {\n",
              "    background-color: var(--disabled-bg-color);\n",
              "    fill: var(--disabled-fill-color);\n",
              "    box-shadow: none;\n",
              "  }\n",
              "\n",
              "  .colab-df-spinner {\n",
              "    border: 2px solid var(--fill-color);\n",
              "    border-color: transparent;\n",
              "    border-bottom-color: var(--fill-color);\n",
              "    animation:\n",
              "      spin 1s steps(1) infinite;\n",
              "  }\n",
              "\n",
              "  @keyframes spin {\n",
              "    0% {\n",
              "      border-color: transparent;\n",
              "      border-bottom-color: var(--fill-color);\n",
              "      border-left-color: var(--fill-color);\n",
              "    }\n",
              "    20% {\n",
              "      border-color: transparent;\n",
              "      border-left-color: var(--fill-color);\n",
              "      border-top-color: var(--fill-color);\n",
              "    }\n",
              "    30% {\n",
              "      border-color: transparent;\n",
              "      border-left-color: var(--fill-color);\n",
              "      border-top-color: var(--fill-color);\n",
              "      border-right-color: var(--fill-color);\n",
              "    }\n",
              "    40% {\n",
              "      border-color: transparent;\n",
              "      border-right-color: var(--fill-color);\n",
              "      border-top-color: var(--fill-color);\n",
              "    }\n",
              "    60% {\n",
              "      border-color: transparent;\n",
              "      border-right-color: var(--fill-color);\n",
              "    }\n",
              "    80% {\n",
              "      border-color: transparent;\n",
              "      border-right-color: var(--fill-color);\n",
              "      border-bottom-color: var(--fill-color);\n",
              "    }\n",
              "    90% {\n",
              "      border-color: transparent;\n",
              "      border-bottom-color: var(--fill-color);\n",
              "    }\n",
              "  }\n",
              "</style>\n",
              "\n",
              "  <script>\n",
              "    async function quickchart(key) {\n",
              "      const quickchartButtonEl =\n",
              "        document.querySelector('#' + key + ' button');\n",
              "      quickchartButtonEl.disabled = true;  // To prevent multiple clicks.\n",
              "      quickchartButtonEl.classList.add('colab-df-spinner');\n",
              "      try {\n",
              "        const charts = await google.colab.kernel.invokeFunction(\n",
              "            'suggestCharts', [key], {});\n",
              "      } catch (error) {\n",
              "        console.error('Error during call to suggestCharts:', error);\n",
              "      }\n",
              "      quickchartButtonEl.classList.remove('colab-df-spinner');\n",
              "      quickchartButtonEl.classList.add('colab-df-quickchart-complete');\n",
              "    }\n",
              "    (() => {\n",
              "      let quickchartButtonEl =\n",
              "        document.querySelector('#df-b92cdc7d-4ade-4222-bc62-6226e53e5a43 button');\n",
              "      quickchartButtonEl.style.display =\n",
              "        google.colab.kernel.accessAllowed ? 'block' : 'none';\n",
              "    })();\n",
              "  </script>\n",
              "</div>\n",
              "    </div>\n",
              "  </div>\n"
            ]
          },
          "metadata": {},
          "execution_count": 30
        }
      ]
    },
    {
      "cell_type": "code",
      "source": [
        "df.shape"
      ],
      "metadata": {
        "colab": {
          "base_uri": "https://localhost:8080/"
        },
        "id": "eu7FcIugqbcg",
        "outputId": "ecccaf13-0603-44a2-b47c-036895316236"
      },
      "execution_count": null,
      "outputs": [
        {
          "output_type": "execute_result",
          "data": {
            "text/plain": [
              "(15420, 33)"
            ]
          },
          "metadata": {},
          "execution_count": 31
        }
      ]
    },
    {
      "cell_type": "code",
      "source": [
        "df.columns"
      ],
      "metadata": {
        "colab": {
          "base_uri": "https://localhost:8080/"
        },
        "id": "whqzvNC5qgN1",
        "outputId": "5a7b5df3-d7aa-47c0-9669-baeb775b633f"
      },
      "execution_count": null,
      "outputs": [
        {
          "output_type": "execute_result",
          "data": {
            "text/plain": [
              "Index(['Month', 'WeekOfMonth', 'DayOfWeek', 'Make', 'AccidentArea',\n",
              "       'DayOfWeekClaimed', 'MonthClaimed', 'WeekOfMonthClaimed', 'Sex',\n",
              "       'MaritalStatus', 'Age', 'Fault', 'PolicyType', 'VehicleCategory',\n",
              "       'VehiclePrice', 'FraudFound_P', 'PolicyNumber', 'RepNumber',\n",
              "       'Deductible', 'DriverRating', 'Days_Policy_Accident',\n",
              "       'Days_Policy_Claim', 'PastNumberOfClaims', 'AgeOfVehicle',\n",
              "       'AgeOfPolicyHolder', 'PoliceReportFiled', 'WitnessPresent', 'AgentType',\n",
              "       'NumberOfSuppliments', 'AddressChange_Claim', 'NumberOfCars', 'Year',\n",
              "       'BasePolicy'],\n",
              "      dtype='object')"
            ]
          },
          "metadata": {},
          "execution_count": 32
        }
      ]
    },
    {
      "cell_type": "code",
      "source": [
        "df['FraudFound_P'].value_counts()"
      ],
      "metadata": {
        "colab": {
          "base_uri": "https://localhost:8080/"
        },
        "id": "Xe86NdXcuBv_",
        "outputId": "db454877-fbe9-42a6-c9e2-3cc596590460"
      },
      "execution_count": null,
      "outputs": [
        {
          "output_type": "execute_result",
          "data": {
            "text/plain": [
              "0    14497\n",
              "1      923\n",
              "Name: FraudFound_P, dtype: int64"
            ]
          },
          "metadata": {},
          "execution_count": 33
        }
      ]
    },
    {
      "cell_type": "markdown",
      "source": [
        "#Preprocessing"
      ],
      "metadata": {
        "id": "L-4Belim1RH4"
      }
    },
    {
      "cell_type": "code",
      "source": [
        "from sklearn.preprocessing import LabelEncoder, OneHotEncoder, OrdinalEncoder, StandardScaler\n",
        "from sklearn.model_selection import train_test_split\n",
        "from sklearn.metrics import accuracy_score, confusion_matrix, f1_score\n",
        "from collections import Counter\n",
        "\n",
        "from imblearn.over_sampling import ADASYN, SMOTE"
      ],
      "metadata": {
        "id": "jPD4vpU21TPV"
      },
      "execution_count": null,
      "outputs": []
    },
    {
      "cell_type": "code",
      "source": [
        "df.drop(columns = 'PolicyNumber', inplace = True)"
      ],
      "metadata": {
        "id": "5AA_vXfj2TZI"
      },
      "execution_count": null,
      "outputs": []
    },
    {
      "cell_type": "code",
      "source": [
        "for column in df:\n",
        "  print(column)\n",
        "  print(sorted(df[column].unique()), '\\n')"
      ],
      "metadata": {
        "colab": {
          "base_uri": "https://localhost:8080/"
        },
        "id": "wsG5f6Iy6Rit",
        "outputId": "01b88b0a-03f7-4779-f791-f2227ce0b581"
      },
      "execution_count": null,
      "outputs": [
        {
          "output_type": "stream",
          "name": "stdout",
          "text": [
            "Month\n",
            "['Apr', 'Aug', 'Dec', 'Feb', 'Jan', 'Jul', 'Jun', 'Mar', 'May', 'Nov', 'Oct', 'Sep'] \n",
            "\n",
            "WeekOfMonth\n",
            "[1, 2, 3, 4, 5] \n",
            "\n",
            "DayOfWeek\n",
            "['Friday', 'Monday', 'Saturday', 'Sunday', 'Thursday', 'Tuesday', 'Wednesday'] \n",
            "\n",
            "Make\n",
            "['Accura', 'BMW', 'Chevrolet', 'Dodge', 'Ferrari', 'Ford', 'Honda', 'Jaguar', 'Lexus', 'Mazda', 'Mecedes', 'Mercury', 'Nisson', 'Pontiac', 'Porche', 'Saab', 'Saturn', 'Toyota', 'VW'] \n",
            "\n",
            "AccidentArea\n",
            "['Rural', 'Urban'] \n",
            "\n",
            "DayOfWeekClaimed\n",
            "['0', 'Friday', 'Monday', 'Saturday', 'Sunday', 'Thursday', 'Tuesday', 'Wednesday'] \n",
            "\n",
            "MonthClaimed\n",
            "['0', 'Apr', 'Aug', 'Dec', 'Feb', 'Jan', 'Jul', 'Jun', 'Mar', 'May', 'Nov', 'Oct', 'Sep'] \n",
            "\n",
            "WeekOfMonthClaimed\n",
            "[1, 2, 3, 4, 5] \n",
            "\n",
            "Sex\n",
            "['Female', 'Male'] \n",
            "\n",
            "MaritalStatus\n",
            "['Divorced', 'Married', 'Single', 'Widow'] \n",
            "\n",
            "Age\n",
            "[0, 16, 17, 18, 19, 20, 21, 22, 23, 24, 25, 26, 27, 28, 29, 30, 31, 32, 33, 34, 35, 36, 37, 38, 39, 40, 41, 42, 43, 44, 45, 46, 47, 48, 49, 50, 51, 52, 53, 54, 55, 56, 57, 58, 59, 60, 61, 62, 63, 64, 65, 66, 67, 68, 69, 70, 71, 72, 73, 74, 75, 76, 77, 78, 79, 80] \n",
            "\n",
            "Fault\n",
            "['Policy Holder', 'Third Party'] \n",
            "\n",
            "PolicyType\n",
            "['Sedan - All Perils', 'Sedan - Collision', 'Sedan - Liability', 'Sport - All Perils', 'Sport - Collision', 'Sport - Liability', 'Utility - All Perils', 'Utility - Collision', 'Utility - Liability'] \n",
            "\n",
            "VehicleCategory\n",
            "['Sedan', 'Sport', 'Utility'] \n",
            "\n",
            "VehiclePrice\n",
            "['20000 to 29000', '30000 to 39000', '40000 to 59000', '60000 to 69000', 'less than 20000', 'more than 69000'] \n",
            "\n",
            "FraudFound_P\n",
            "[0, 1] \n",
            "\n",
            "RepNumber\n",
            "[1, 2, 3, 4, 5, 6, 7, 8, 9, 10, 11, 12, 13, 14, 15, 16] \n",
            "\n",
            "Deductible\n",
            "[300, 400, 500, 700] \n",
            "\n",
            "DriverRating\n",
            "[1, 2, 3, 4] \n",
            "\n",
            "Days_Policy_Accident\n",
            "['1 to 7', '15 to 30', '8 to 15', 'more than 30', 'none'] \n",
            "\n",
            "Days_Policy_Claim\n",
            "['15 to 30', '8 to 15', 'more than 30', 'none'] \n",
            "\n",
            "PastNumberOfClaims\n",
            "['1', '2 to 4', 'more than 4', 'none'] \n",
            "\n",
            "AgeOfVehicle\n",
            "['2 years', '3 years', '4 years', '5 years', '6 years', '7 years', 'more than 7', 'new'] \n",
            "\n",
            "AgeOfPolicyHolder\n",
            "['16 to 17', '18 to 20', '21 to 25', '26 to 30', '31 to 35', '36 to 40', '41 to 50', '51 to 65', 'over 65'] \n",
            "\n",
            "PoliceReportFiled\n",
            "['No', 'Yes'] \n",
            "\n",
            "WitnessPresent\n",
            "['No', 'Yes'] \n",
            "\n",
            "AgentType\n",
            "['External', 'Internal'] \n",
            "\n",
            "NumberOfSuppliments\n",
            "['1 to 2', '3 to 5', 'more than 5', 'none'] \n",
            "\n",
            "AddressChange_Claim\n",
            "['1 year', '2 to 3 years', '4 to 8 years', 'no change', 'under 6 months'] \n",
            "\n",
            "NumberOfCars\n",
            "['1 vehicle', '2 vehicles', '3 to 4', '5 to 8', 'more than 8'] \n",
            "\n",
            "Year\n",
            "[1994, 1995, 1996] \n",
            "\n",
            "BasePolicy\n",
            "['All Perils', 'Collision', 'Liability'] \n",
            "\n"
          ]
        }
      ]
    },
    {
      "cell_type": "code",
      "source": [
        "df['Age'].hist()"
      ],
      "metadata": {
        "colab": {
          "base_uri": "https://localhost:8080/",
          "height": 448
        },
        "id": "43cXauDx8ARa",
        "outputId": "9bfa1ca0-ae7d-4aeb-efb9-61908c9a2c9d"
      },
      "execution_count": null,
      "outputs": [
        {
          "output_type": "execute_result",
          "data": {
            "text/plain": [
              "<Axes: >"
            ]
          },
          "metadata": {},
          "execution_count": 36
        },
        {
          "output_type": "display_data",
          "data": {
            "text/plain": [
              "<Figure size 640x480 with 1 Axes>"
            ],
            "image/png": "[encoded data removed]"
          },
          "metadata": {}
        }
      ]
    },
    {
      "cell_type": "code",
      "source": [
        "mean_age = df[df['Age'] > 0]['Age'].mean()\n",
        "\n",
        "print(mean_age)"
      ],
      "metadata": {
        "colab": {
          "base_uri": "https://localhost:8080/"
        },
        "id": "VXfAVUYz9NNI",
        "outputId": "f3fe4e92-bbd5-4cd4-bc9e-13c8e30bc55c"
      },
      "execution_count": null,
      "outputs": [
        {
          "output_type": "stream",
          "name": "stdout",
          "text": [
            "40.700331125827816\n"
          ]
        }
      ]
    },
    {
      "cell_type": "code",
      "source": [
        "# Replace age values equal to 0 with the calculated mean\n",
        "df['Age'] = df['Age'].apply(lambda x: mean_age if x == 0 else x)"
      ],
      "metadata": {
        "id": "GVG7Hwmy9aap"
      },
      "execution_count": null,
      "outputs": []
    },
    {
      "cell_type": "code",
      "source": [
        "df['Age'].hist()"
      ],
      "metadata": {
        "colab": {
          "base_uri": "https://localhost:8080/",
          "height": 448
        },
        "id": "cujyaeMw9fFB",
        "outputId": "2263a9bf-b50f-4c8f-bfaa-d87d2bc8922f"
      },
      "execution_count": null,
      "outputs": [
        {
          "output_type": "execute_result",
          "data": {
            "text/plain": [
              "<Axes: >"
            ]
          },
          "metadata": {},
          "execution_count": 39
        },
        {
          "output_type": "display_data",
          "data": {
            "text/plain": [
              "<Figure size 640x480 with 1 Axes>"
            ],
            "image/png": "[encoded data removed]"
          },
          "metadata": {}
        }
      ]
    },
    {
      "cell_type": "code",
      "source": [
        "df['AccidentArea'] = df['AccidentArea'].replace({'Urban':1, 'Rural':0})\n",
        "df['Sex'] = df['Sex'].replace({'Female':1, 'Male':0})\n",
        "df['Fault'] = df['Fault'].replace({'Policy Holder':1, 'Third Party':0})\n",
        "df['PoliceReportFiled'] = df['PoliceReportFiled'].replace({'Yes':1, 'No':0})\n",
        "df['WitnessPresent'] = df['WitnessPresent'].replace({'Yes':1, 'No':0})\n",
        "df['AgentType'] = df['AgentType'].replace({'External':1, 'Internal':0})\n",
        "df['Month'] = df['Month'].replace({'Jan':1,'Feb':2,'Mar':3,'Apr':4,'May':5,'Jun':6,'Jul':7,'Aug':8,'Sep':9,'Oct':10,'Nov':11,'Dec':12})\n",
        "df['DayOfWeek'] = df['DayOfWeek'].replace({'Monday':1,'Tuesday':2,'Wednesday':3,'Thursday':4,'Friday':5,'Saturday':6,'Sunday':7})\n",
        "df['MonthClaimed'] = df['MonthClaimed'].replace({'0':0,'Jan':1,'Feb':2,'Mar':3,'Apr':4,'May':5,'Jun':6,'Jul':7,'Aug':8,'Sep':9,'Oct':10,'Nov':11,'Dec':12})\n",
        "df['DayOfWeekClaimed'] = df['DayOfWeekClaimed'].replace({'0':0,'Monday':1,'Tuesday':2,'Wednesday':3,'Thursday':4,'Friday':5,'Saturday':6,'Sunday':7})\n",
        "df['PastNumberOfClaims'] = df['PastNumberOfClaims'].replace({'none':0 ,'1':1,'2 to 4':2,'more than 4':3})\n",
        "df['NumberOfSuppliments'] = df['NumberOfSuppliments'].replace({'none':0,'1 to 2':1,'3 to 5':2,'more than 5':4})\n",
        "df['VehiclePrice'] = df['VehiclePrice'].replace({'less than 20000':0,'20000 to 29000':1,'30000 to 39000':2,\n",
        "                                                 '40000 to 59000':3,'60000 to 69000':4,'more than 69000':5})\n",
        "df['AgeOfVehicle'] = df['AgeOfVehicle'].replace({'3 years':3,'6 years':6,'7 years':7,'more than 7':8,'5 years':5,'new':0,'4 years':4,'2 years':2})\n",
        "df['Days_Policy_Accident'] = df['Days_Policy_Accident'].replace({'none':0, '1 to 7':1, '8 to 15':2, '15 to 30':3, 'more than 30':4})\n",
        "df['Days_Policy_Claim'] = df['Days_Policy_Claim'].replace({'none':0, '8 to 15':1, '15 to 30':2, 'more than 30':3})\n",
        "df['AgeOfPolicyHolder'] = df['AgeOfPolicyHolder'].replace({'16 to 17':0, '18 to 20':1, '21 to 25':2, '26 to 30':3, '31 to 35':4, '36 to 40':5, '41 to 50':6, '51 to 65':7, 'over 65':8})\n",
        "df['AddressChange_Claim'] = df['AddressChange_Claim'].replace({'no change':0, 'under 6 months':1, '1 year':2, '2 to 3 years':3, '4 to 8 years':4})\n",
        "df['NumberOfCars'] = df['NumberOfCars'].replace({'1 vehicle':0, '2 vehicles':1, '3 to 4':2, '5 to 8':3, 'more than 8':4})"
      ],
      "metadata": {
        "id": "uHpkPdGzA9j6"
      },
      "execution_count": null,
      "outputs": []
    },
    {
      "cell_type": "code",
      "source": [
        "# Calculate the median of non-zero day-of-week values\n",
        "median_day_of_week = df[df['DayOfWeekClaimed'] != 0]['DayOfWeekClaimed'].mode()\n",
        "print(median_day_of_week)"
      ],
      "metadata": {
        "colab": {
          "base_uri": "https://localhost:8080/"
        },
        "id": "pOOYMHBPGVO4",
        "outputId": "a3d00583-8e3e-4cd3-fe59-5926b538aa53"
      },
      "execution_count": null,
      "outputs": [
        {
          "output_type": "stream",
          "name": "stdout",
          "text": [
            "0    1\n",
            "Name: DayOfWeekClaimed, dtype: int64\n"
          ]
        }
      ]
    },
    {
      "cell_type": "code",
      "source": [
        "# Replace '0' values with the calculated median\n",
        "df['DayOfWeekClaimed'] = df['DayOfWeekClaimed'].apply(lambda x: median_day_of_week if x == 0 else x)"
      ],
      "metadata": {
        "id": "rHz4YHiIGY7j"
      },
      "execution_count": null,
      "outputs": []
    },
    {
      "cell_type": "code",
      "source": [
        "mode_month_claimed = df[df['MonthClaimed'] != 0]['MonthClaimed'].mode()\n",
        "print(mode_month_claimed)"
      ],
      "metadata": {
        "colab": {
          "base_uri": "https://localhost:8080/"
        },
        "id": "HfshFcjfGlT6",
        "outputId": "52f349b3-35ac-49ef-8140-5276577cd688"
      },
      "execution_count": null,
      "outputs": [
        {
          "output_type": "stream",
          "name": "stdout",
          "text": [
            "0    1\n",
            "Name: MonthClaimed, dtype: int64\n"
          ]
        }
      ]
    },
    {
      "cell_type": "code",
      "source": [
        "# Replace '0' values with the calculated median\n",
        "df['MonthClaimed'] = df['MonthClaimed'].apply(lambda x: mode_month_claimed if x == 0 else x)"
      ],
      "metadata": {
        "id": "W8WmqxutGyIF"
      },
      "execution_count": null,
      "outputs": []
    },
    {
      "cell_type": "code",
      "source": [
        "ohe_cols = ['Make', 'MaritalStatus', 'PolicyType', 'VehicleCategory', 'BasePolicy']"
      ],
      "metadata": {
        "id": "RKRI64MpHq2Z"
      },
      "execution_count": null,
      "outputs": []
    },
    {
      "cell_type": "code",
      "source": [
        "df = pd.get_dummies(df, columns=ohe_cols)"
      ],
      "metadata": {
        "id": "oXvZhuJBIQqQ"
      },
      "execution_count": null,
      "outputs": []
    },
    {
      "cell_type": "code",
      "source": [
        "df.info()"
      ],
      "metadata": {
        "colab": {
          "base_uri": "https://localhost:8080/"
        },
        "id": "GD2pzIloIdra",
        "outputId": "ae626ba3-9435-4fcc-978d-804777ff6307"
      },
      "execution_count": null,
      "outputs": [
        {
          "output_type": "stream",
          "name": "stdout",
          "text": [
            "<class 'pandas.core.frame.DataFrame'>\n",
            "RangeIndex: 15420 entries, 0 to 15419\n",
            "Data columns (total 65 columns):\n",
            " #   Column                           Non-Null Count  Dtype  \n",
            "---  ------                           --------------  -----  \n",
            " 0   Month                            15420 non-null  int64  \n",
            " 1   WeekOfMonth                      15420 non-null  int64  \n",
            " 2   DayOfWeek                        15420 non-null  int64  \n",
            " 3   AccidentArea                     15420 non-null  int64  \n",
            " 4   DayOfWeekClaimed                 15420 non-null  object \n",
            " 5   MonthClaimed                     15420 non-null  object \n",
            " 6   WeekOfMonthClaimed               15420 non-null  int64  \n",
            " 7   Sex                              15420 non-null  int64  \n",
            " 8   Age                              15420 non-null  float64\n",
            " 9   Fault                            15420 non-null  int64  \n",
            " 10  VehiclePrice                     15420 non-null  int64  \n",
            " 11  FraudFound_P                     15420 non-null  int64  \n",
            " 12  RepNumber                        15420 non-null  int64  \n",
            " 13  Deductible                       15420 non-null  int64  \n",
            " 14  DriverRating                     15420 non-null  int64  \n",
            " 15  Days_Policy_Accident             15420 non-null  int64  \n",
            " 16  Days_Policy_Claim                15420 non-null  int64  \n",
            " 17  PastNumberOfClaims               15420 non-null  int64  \n",
            " 18  AgeOfVehicle                     15420 non-null  int64  \n",
            " 19  AgeOfPolicyHolder                15420 non-null  int64  \n",
            " 20  PoliceReportFiled                15420 non-null  int64  \n",
            " 21  WitnessPresent                   15420 non-null  int64  \n",
            " 22  AgentType                        15420 non-null  int64  \n",
            " 23  NumberOfSuppliments              15420 non-null  int64  \n",
            " 24  AddressChange_Claim              15420 non-null  int64  \n",
            " 25  NumberOfCars                     15420 non-null  int64  \n",
            " 26  Year                             15420 non-null  int64  \n",
            " 27  Make_Accura                      15420 non-null  uint8  \n",
            " 28  Make_BMW                         15420 non-null  uint8  \n",
            " 29  Make_Chevrolet                   15420 non-null  uint8  \n",
            " 30  Make_Dodge                       15420 non-null  uint8  \n",
            " 31  Make_Ferrari                     15420 non-null  uint8  \n",
            " 32  Make_Ford                        15420 non-null  uint8  \n",
            " 33  Make_Honda                       15420 non-null  uint8  \n",
            " 34  Make_Jaguar                      15420 non-null  uint8  \n",
            " 35  Make_Lexus                       15420 non-null  uint8  \n",
            " 36  Make_Mazda                       15420 non-null  uint8  \n",
            " 37  Make_Mecedes                     15420 non-null  uint8  \n",
            " 38  Make_Mercury                     15420 non-null  uint8  \n",
            " 39  Make_Nisson                      15420 non-null  uint8  \n",
            " 40  Make_Pontiac                     15420 non-null  uint8  \n",
            " 41  Make_Porche                      15420 non-null  uint8  \n",
            " 42  Make_Saab                        15420 non-null  uint8  \n",
            " 43  Make_Saturn                      15420 non-null  uint8  \n",
            " 44  Make_Toyota                      15420 non-null  uint8  \n",
            " 45  Make_VW                          15420 non-null  uint8  \n",
            " 46  MaritalStatus_Divorced           15420 non-null  uint8  \n",
            " 47  MaritalStatus_Married            15420 non-null  uint8  \n",
            " 48  MaritalStatus_Single             15420 non-null  uint8  \n",
            " 49  MaritalStatus_Widow              15420 non-null  uint8  \n",
            " 50  PolicyType_Sedan - All Perils    15420 non-null  uint8  \n",
            " 51  PolicyType_Sedan - Collision     15420 non-null  uint8  \n",
            " 52  PolicyType_Sedan - Liability     15420 non-null  uint8  \n",
            " 53  PolicyType_Sport - All Perils    15420 non-null  uint8  \n",
            " 54  PolicyType_Sport - Collision     15420 non-null  uint8  \n",
            " 55  PolicyType_Sport - Liability     15420 non-null  uint8  \n",
            " 56  PolicyType_Utility - All Perils  15420 non-null  uint8  \n",
            " 57  PolicyType_Utility - Collision   15420 non-null  uint8  \n",
            " 58  PolicyType_Utility - Liability   15420 non-null  uint8  \n",
            " 59  VehicleCategory_Sedan            15420 non-null  uint8  \n",
            " 60  VehicleCategory_Sport            15420 non-null  uint8  \n",
            " 61  VehicleCategory_Utility          15420 non-null  uint8  \n",
            " 62  BasePolicy_All Perils            15420 non-null  uint8  \n",
            " 63  BasePolicy_Collision             15420 non-null  uint8  \n",
            " 64  BasePolicy_Liability             15420 non-null  uint8  \n",
            "dtypes: float64(1), int64(24), object(2), uint8(38)\n",
            "memory usage: 3.7+ MB\n"
          ]
        }
      ]
    },
    {
      "cell_type": "code",
      "source": [
        "X = df.drop('FraudFound_P', axis = 1)\n",
        "y = df['FraudFound_P']"
      ],
      "metadata": {
        "id": "-ZdXyhquQeo0"
      },
      "execution_count": null,
      "outputs": []
    },
    {
      "cell_type": "code",
      "source": [
        "print(X.shape, y.shape)"
      ],
      "metadata": {
        "colab": {
          "base_uri": "https://localhost:8080/"
        },
        "id": "z2qXGEtnQr2j",
        "outputId": "2c4b6831-1d32-458c-ef5b-88d66f0181a3"
      },
      "execution_count": null,
      "outputs": [
        {
          "output_type": "stream",
          "name": "stdout",
          "text": [
            "(15420, 64) (15420,)\n"
          ]
        }
      ]
    },
    {
      "cell_type": "code",
      "source": [
        "counter = Counter(y)\n",
        "print(counter)"
      ],
      "metadata": {
        "colab": {
          "base_uri": "https://localhost:8080/"
        },
        "id": "Nb2pXVAkQvXs",
        "outputId": "9a0b0268-f80b-48f0-eb25-270c60b29c3f"
      },
      "execution_count": null,
      "outputs": [
        {
          "output_type": "stream",
          "name": "stdout",
          "text": [
            "Counter({0: 14497, 1: 923})\n"
          ]
        }
      ]
    },
    {
      "cell_type": "code",
      "source": [
        "# transform the dataset\n",
        "X, y = ADASYN().fit_resample(X, y)\n",
        "#X_train_re, X_test_re, y_train_re, y_test_re = train_test_split(X, y, test_size=0.2)"
      ],
      "metadata": {
        "id": "0q8NqeGJQ3pX"
      },
      "execution_count": null,
      "outputs": []
    },
    {
      "cell_type": "code",
      "source": [
        "print(X.shape)\n",
        "print(y.shape)"
      ],
      "metadata": {
        "colab": {
          "base_uri": "https://localhost:8080/"
        },
        "id": "cM72D-xlt1rB",
        "outputId": "459decb8-35d9-485c-92b3-4f0068b88bc7"
      },
      "execution_count": null,
      "outputs": [
        {
          "output_type": "stream",
          "name": "stdout",
          "text": [
            "(28929, 64)\n",
            "(28929,)\n"
          ]
        }
      ]
    },
    {
      "cell_type": "code",
      "source": [
        "counter = Counter(y)\n",
        "print(counter)"
      ],
      "metadata": {
        "colab": {
          "base_uri": "https://localhost:8080/"
        },
        "id": "idGXi2m3uAvA",
        "outputId": "c224b216-bd70-4f5d-d23a-441c412d6d47"
      },
      "execution_count": null,
      "outputs": [
        {
          "output_type": "stream",
          "name": "stdout",
          "text": [
            "Counter({0: 14497, 1: 14432})\n"
          ]
        }
      ]
    },
    {
      "cell_type": "markdown",
      "source": [
        "Train set, Validation set, Test set"
      ],
      "metadata": {
        "id": "5GBspzZjsuEF"
      }
    },
    {
      "cell_type": "code",
      "source": [
        "# Assuming X, y are your features and labels after resampling\n",
        "# First split: 85% for the combined training and validation, 15% for testing\n",
        "X_train_val, X_test, y_train_val, y_test = train_test_split(X, y, test_size=0.15, random_state=42)\n",
        "\n",
        "# Second split: From the 85% data, split into 70% training and 15% validation\n",
        "# To achieve this, we use test_size ≈ 0.1765 because 15% of the original is approximately 17.65% of the 85% data\n",
        "X_train, X_val, y_train, y_val = train_test_split(X_train_val, y_train_val, test_size=0.1765, random_state=42)\n",
        "\n",
        "# Print the shapes to verify\n",
        "print(\"Training set:\", X_train.shape, y_train.shape)\n",
        "print(\"Validation set:\", X_val.shape, y_val.shape)\n",
        "print(\"Test set:\", X_test.shape, y_test.shape)"
      ],
      "metadata": {
        "colab": {
          "base_uri": "https://localhost:8080/"
        },
        "id": "xrrsIlnCssdt",
        "outputId": "c765f448-7931-4a9d-8053-fb0d97843213"
      },
      "execution_count": null,
      "outputs": [
        {
          "output_type": "stream",
          "name": "stdout",
          "text": [
            "Training set: (20249, 64) (20249,)\n",
            "Validation set: (4340, 64) (4340,)\n",
            "Test set: (4340, 64) (4340,)\n"
          ]
        }
      ]
    },
    {
      "cell_type": "code",
      "source": [
        "#print(X_train_re.shape, y_train_re.shape)"
      ],
      "metadata": {
        "colab": {
          "base_uri": "https://localhost:8080/"
        },
        "id": "gmwh_2XUQ57S",
        "outputId": "63677685-1273-47c8-e11e-d14502875bb4"
      },
      "execution_count": null,
      "outputs": [
        {
          "output_type": "stream",
          "name": "stdout",
          "text": [
            "(23143, 64) (23143,)\n"
          ]
        }
      ]
    },
    {
      "cell_type": "code",
      "source": [
        "# summarize the new class distribution\n",
        "counter = Counter(y)\n",
        "print(counter)"
      ],
      "metadata": {
        "colab": {
          "base_uri": "https://localhost:8080/"
        },
        "id": "hdIfwvSUQ9zN",
        "outputId": "06d10e69-630e-421b-f5df-e3a9e1270ac9"
      },
      "execution_count": null,
      "outputs": [
        {
          "output_type": "stream",
          "name": "stdout",
          "text": [
            "Counter({0: 14497, 1: 14432})\n"
          ]
        }
      ]
    },
    {
      "cell_type": "code",
      "source": [
        "# Initialize the scaler\n",
        "scaler = StandardScaler()\n",
        "\n",
        "# Fit and transform the training data\n",
        "X_train_scaled = scaler.fit_transform(X_train)\n",
        "\n",
        "# Transform the validation and test data using the same scaler\n",
        "X_val_scaled = scaler.transform(X_val)\n",
        "X_test_scaled = scaler.transform(X_test)"
      ],
      "metadata": {
        "id": "b20qFlSwtjlk"
      },
      "execution_count": null,
      "outputs": []
    },
    {
      "cell_type": "code",
      "source": [
        "X_val_scaled"
      ],
      "metadata": {
        "colab": {
          "base_uri": "https://localhost:8080/"
        },
        "id": "3J6LjAV0RC9E",
        "outputId": "4c3474cc-a470-4842-ba46-0995bfbf1598"
      },
      "execution_count": null,
      "outputs": [
        {
          "output_type": "execute_result",
          "data": {
            "text/plain": [
              "array([[ 1.47896868, -0.48099003,  0.69544758, ..., -0.62974525,\n",
              "        -0.70901955, -0.46414025],\n",
              "       [-1.20662364, -1.31179845, -0.35907676, ..., -0.62974525,\n",
              "         1.41039835, -0.46414025],\n",
              "       [ 1.47896868, -0.48099003, -0.35907676, ..., -0.62974525,\n",
              "         1.41039835, -0.46414025],\n",
              "       ...,\n",
              "       [-1.50502279,  0.34981839, -1.41360109, ..., -0.62974525,\n",
              "        -0.70901955,  2.15452119],\n",
              "       [-1.20662364, -1.31179845,  0.69544758, ...,  1.58794371,\n",
              "        -0.70901955, -0.46414025],\n",
              "       [ 0.28537209, -0.48099003, -1.41360109, ...,  1.58794371,\n",
              "        -0.70901955, -0.46414025]])"
            ]
          },
          "metadata": {},
          "execution_count": 58
        }
      ]
    },
    {
      "cell_type": "code",
      "source": [
        "# Reshape the datasets for Conv1D\n",
        "X_train_re = X_train_scaled.reshape(X_train_scaled.shape[0], X_train_scaled.shape[1], 1)\n",
        "X_val_re = X_val_scaled.reshape(X_val_scaled.shape[0], X_val_scaled.shape[1], 1)\n",
        "X_test_re = X_test_scaled.reshape(X_test_scaled.shape[0], X_test_scaled.shape[1], 1)\n",
        "\n",
        "# Check the shape again\n",
        "print(\"Training set shape:\", X_train_re.shape)\n",
        "print(\"Validation set shape:\", X_val_re.shape)\n",
        "print(\"Test set shape:\", X_test_re.shape)"
      ],
      "metadata": {
        "colab": {
          "base_uri": "https://localhost:8080/"
        },
        "id": "TBzoRHolRFhx",
        "outputId": "e73c5c8a-4ad8-4e60-a84a-afdbf6a40a51"
      },
      "execution_count": null,
      "outputs": [
        {
          "output_type": "stream",
          "name": "stdout",
          "text": [
            "Training set shape: (20249, 64, 1)\n",
            "Validation set shape: (4340, 64, 1)\n",
            "Test set shape: (4340, 64, 1)\n"
          ]
        }
      ]
    },
    {
      "cell_type": "markdown",
      "source": [
        "#Create The CNN Model"
      ],
      "metadata": {
        "id": "BllBQKQORL0x"
      }
    },
    {
      "cell_type": "code",
      "source": [
        "from tensorflow.keras.models import Sequential\n",
        "from tensorflow.keras.layers import Dense,Flatten,Conv1D,BatchNormalization,Dropout, MaxPool1D\n",
        "from tensorflow.keras.optimizers import Adam"
      ],
      "metadata": {
        "id": "_JSgSLsNRJKD"
      },
      "execution_count": null,
      "outputs": []
    },
    {
      "cell_type": "code",
      "source": [
        "model = Sequential()\n",
        "\n",
        "#1st layer\n",
        "model.add(Conv1D(filters=32, kernel_size=2, activation='relu', input_shape=X_train_re[0].shape))\n",
        "model.add(BatchNormalization())\n",
        "model.add(MaxPool1D(pool_size=2))\n",
        "model.add(Dropout(rate=0.2))\n",
        "#2nd layer\n",
        "model.add(Conv1D(filters=64, kernel_size=2, activation='relu'))\n",
        "model.add(BatchNormalization())\n",
        "model.add(MaxPool1D(pool_size=2))\n",
        "model.add(Dropout(rate=0.2))\n",
        "# build DNN\n",
        "model.add(Flatten())\n",
        "model.add(Dense(64, activation='relu'))\n",
        "model.add(Dropout(0.5))\n",
        "model.add(Dense(1, activation='sigmoid'))"
      ],
      "metadata": {
        "id": "zeyME4HfRRa9"
      },
      "execution_count": null,
      "outputs": []
    },
    {
      "cell_type": "code",
      "source": [
        "model.summary()"
      ],
      "metadata": {
        "colab": {
          "base_uri": "https://localhost:8080/"
        },
        "id": "NCu4XUvbRV10",
        "outputId": "6c1acfd4-e160-4fec-d486-8b6ca7d1adaf"
      },
      "execution_count": null,
      "outputs": [
        {
          "output_type": "stream",
          "name": "stdout",
          "text": [
            "Model: \"sequential\"\n",
            "_________________________________________________________________\n",
            " Layer (type)                Output Shape              Param #   \n",
            "=================================================================\n",
            " conv1d (Conv1D)             (None, 63, 32)            96        \n",
            "                                                                 \n",
            " batch_normalization (Batch  (None, 63, 32)            128       \n",
            " Normalization)                                                  \n",
            "                                                                 \n",
            " max_pooling1d (MaxPooling1  (None, 31, 32)            0         \n",
            " D)                                                              \n",
            "                                                                 \n",
            " dropout (Dropout)           (None, 31, 32)            0         \n",
            "                                                                 \n",
            " conv1d_1 (Conv1D)           (None, 30, 64)            4160      \n",
            "                                                                 \n",
            " batch_normalization_1 (Bat  (None, 30, 64)            256       \n",
            " chNormalization)                                                \n",
            "                                                                 \n",
            " max_pooling1d_1 (MaxPoolin  (None, 15, 64)            0         \n",
            " g1D)                                                            \n",
            "                                                                 \n",
            " dropout_1 (Dropout)         (None, 15, 64)            0         \n",
            "                                                                 \n",
            " flatten (Flatten)           (None, 960)               0         \n",
            "                                                                 \n",
            " dense (Dense)               (None, 64)                61504     \n",
            "                                                                 \n",
            " dropout_2 (Dropout)         (None, 64)                0         \n",
            "                                                                 \n",
            " dense_1 (Dense)             (None, 1)                 65        \n",
            "                                                                 \n",
            "=================================================================\n",
            "Total params: 66209 (258.63 KB)\n",
            "Trainable params: 66017 (257.88 KB)\n",
            "Non-trainable params: 192 (768.00 Byte)\n",
            "_________________________________________________________________\n"
          ]
        }
      ]
    },
    {
      "cell_type": "code",
      "source": [
        "model.compile(optimizer=Adam(learning_rate=1e-4), loss='binary_crossentropy', metrics=['accuracy'])"
      ],
      "metadata": {
        "id": "gdNgPAdYRe4S"
      },
      "execution_count": null,
      "outputs": []
    },
    {
      "cell_type": "code",
      "source": [
        "history = model.fit(X_train_re, y_train, epochs=50, validation_data=(X_val_re, y_val))"
      ],
      "metadata": {
        "colab": {
          "base_uri": "https://localhost:8080/"
        },
        "id": "JWPGmBJERih7",
        "outputId": "dc0f6628-65ed-4727-e242-3cf2beaadc12"
      },
      "execution_count": null,
      "outputs": [
        {
          "output_type": "stream",
          "name": "stdout",
          "text": [
            "Epoch 1/50\n",
            "633/633 [==============================] - 24s 7ms/step - loss: 0.4250 - accuracy: 0.8269 - val_loss: 0.2191 - val_accuracy: 0.9235\n",
            "Epoch 2/50\n",
            "633/633 [==============================] - 5s 8ms/step - loss: 0.2873 - accuracy: 0.8887 - val_loss: 0.1911 - val_accuracy: 0.9313\n",
            "Epoch 3/50\n",
            "633/633 [==============================] - 4s 6ms/step - loss: 0.2479 - accuracy: 0.9026 - val_loss: 0.1802 - val_accuracy: 0.9329\n",
            "Epoch 4/50\n",
            "633/633 [==============================] - 4s 6ms/step - loss: 0.2257 - accuracy: 0.9142 - val_loss: 0.1733 - val_accuracy: 0.9343\n",
            "Epoch 5/50\n",
            "633/633 [==============================] - 5s 8ms/step - loss: 0.2139 - accuracy: 0.9165 - val_loss: 0.1679 - val_accuracy: 0.9313\n",
            "Epoch 6/50\n",
            "633/633 [==============================] - 4s 6ms/step - loss: 0.1986 - accuracy: 0.9225 - val_loss: 0.1634 - val_accuracy: 0.9329\n",
            "Epoch 7/50\n",
            "633/633 [==============================] - 4s 6ms/step - loss: 0.1932 - accuracy: 0.9236 - val_loss: 0.1598 - val_accuracy: 0.9339\n",
            "Epoch 8/50\n",
            "633/633 [==============================] - 5s 8ms/step - loss: 0.1888 - accuracy: 0.9249 - val_loss: 0.1577 - val_accuracy: 0.9348\n",
            "Epoch 9/50\n",
            "633/633 [==============================] - 4s 7ms/step - loss: 0.1824 - accuracy: 0.9289 - val_loss: 0.1581 - val_accuracy: 0.9313\n",
            "Epoch 10/50\n",
            "633/633 [==============================] - 4s 6ms/step - loss: 0.1809 - accuracy: 0.9278 - val_loss: 0.1548 - val_accuracy: 0.9346\n",
            "Epoch 11/50\n",
            "633/633 [==============================] - 5s 8ms/step - loss: 0.1777 - accuracy: 0.9302 - val_loss: 0.1521 - val_accuracy: 0.9350\n",
            "Epoch 12/50\n",
            "633/633 [==============================] - 4s 7ms/step - loss: 0.1726 - accuracy: 0.9303 - val_loss: 0.1508 - val_accuracy: 0.9373\n",
            "Epoch 13/50\n",
            "633/633 [==============================] - 4s 7ms/step - loss: 0.1711 - accuracy: 0.9318 - val_loss: 0.1493 - val_accuracy: 0.9366\n",
            "Epoch 14/50\n",
            "633/633 [==============================] - 5s 8ms/step - loss: 0.1664 - accuracy: 0.9333 - val_loss: 0.1483 - val_accuracy: 0.9380\n",
            "Epoch 15/50\n",
            "633/633 [==============================] - 4s 7ms/step - loss: 0.1683 - accuracy: 0.9314 - val_loss: 0.1478 - val_accuracy: 0.9392\n",
            "Epoch 16/50\n",
            "633/633 [==============================] - 4s 6ms/step - loss: 0.1652 - accuracy: 0.9346 - val_loss: 0.1462 - val_accuracy: 0.9380\n",
            "Epoch 17/50\n",
            "633/633 [==============================] - 5s 8ms/step - loss: 0.1631 - accuracy: 0.9339 - val_loss: 0.1461 - val_accuracy: 0.9389\n",
            "Epoch 18/50\n",
            "633/633 [==============================] - 4s 7ms/step - loss: 0.1604 - accuracy: 0.9371 - val_loss: 0.1433 - val_accuracy: 0.9396\n",
            "Epoch 19/50\n",
            "633/633 [==============================] - 4s 6ms/step - loss: 0.1588 - accuracy: 0.9369 - val_loss: 0.1437 - val_accuracy: 0.9399\n",
            "Epoch 20/50\n",
            "633/633 [==============================] - 5s 7ms/step - loss: 0.1590 - accuracy: 0.9375 - val_loss: 0.1424 - val_accuracy: 0.9403\n",
            "Epoch 21/50\n",
            "633/633 [==============================] - 5s 9ms/step - loss: 0.1572 - accuracy: 0.9380 - val_loss: 0.1411 - val_accuracy: 0.9394\n",
            "Epoch 22/50\n",
            "633/633 [==============================] - 4s 6ms/step - loss: 0.1559 - accuracy: 0.9383 - val_loss: 0.1409 - val_accuracy: 0.9412\n",
            "Epoch 23/50\n",
            "633/633 [==============================] - 5s 8ms/step - loss: 0.1561 - accuracy: 0.9382 - val_loss: 0.1409 - val_accuracy: 0.9394\n",
            "Epoch 24/50\n",
            "633/633 [==============================] - 5s 7ms/step - loss: 0.1561 - accuracy: 0.9383 - val_loss: 0.1399 - val_accuracy: 0.9410\n",
            "Epoch 25/50\n",
            "633/633 [==============================] - 4s 7ms/step - loss: 0.1519 - accuracy: 0.9387 - val_loss: 0.1389 - val_accuracy: 0.9433\n",
            "Epoch 26/50\n",
            "633/633 [==============================] - 5s 8ms/step - loss: 0.1505 - accuracy: 0.9409 - val_loss: 0.1368 - val_accuracy: 0.9429\n",
            "Epoch 27/50\n",
            "633/633 [==============================] - 5s 8ms/step - loss: 0.1502 - accuracy: 0.9410 - val_loss: 0.1365 - val_accuracy: 0.9438\n",
            "Epoch 28/50\n",
            "633/633 [==============================] - 4s 7ms/step - loss: 0.1488 - accuracy: 0.9417 - val_loss: 0.1367 - val_accuracy: 0.9433\n",
            "Epoch 29/50\n",
            "633/633 [==============================] - 5s 7ms/step - loss: 0.1484 - accuracy: 0.9415 - val_loss: 0.1364 - val_accuracy: 0.9433\n",
            "Epoch 30/50\n",
            "633/633 [==============================] - 5s 7ms/step - loss: 0.1492 - accuracy: 0.9400 - val_loss: 0.1360 - val_accuracy: 0.9449\n",
            "Epoch 31/50\n",
            "633/633 [==============================] - 4s 6ms/step - loss: 0.1481 - accuracy: 0.9422 - val_loss: 0.1349 - val_accuracy: 0.9449\n",
            "Epoch 32/50\n",
            "633/633 [==============================] - 5s 7ms/step - loss: 0.1472 - accuracy: 0.9427 - val_loss: 0.1346 - val_accuracy: 0.9454\n",
            "Epoch 33/50\n",
            "633/633 [==============================] - 5s 8ms/step - loss: 0.1430 - accuracy: 0.9437 - val_loss: 0.1345 - val_accuracy: 0.9449\n",
            "Epoch 34/50\n",
            "633/633 [==============================] - 4s 6ms/step - loss: 0.1429 - accuracy: 0.9425 - val_loss: 0.1333 - val_accuracy: 0.9449\n",
            "Epoch 35/50\n",
            "633/633 [==============================] - 4s 7ms/step - loss: 0.1438 - accuracy: 0.9431 - val_loss: 0.1323 - val_accuracy: 0.9447\n",
            "Epoch 36/50\n",
            "633/633 [==============================] - 5s 8ms/step - loss: 0.1417 - accuracy: 0.9436 - val_loss: 0.1324 - val_accuracy: 0.9454\n",
            "Epoch 37/50\n",
            "633/633 [==============================] - 4s 6ms/step - loss: 0.1428 - accuracy: 0.9436 - val_loss: 0.1323 - val_accuracy: 0.9468\n",
            "Epoch 38/50\n",
            "633/633 [==============================] - 4s 7ms/step - loss: 0.1416 - accuracy: 0.9438 - val_loss: 0.1313 - val_accuracy: 0.9459\n",
            "Epoch 39/50\n",
            "633/633 [==============================] - 5s 8ms/step - loss: 0.1409 - accuracy: 0.9438 - val_loss: 0.1311 - val_accuracy: 0.9456\n",
            "Epoch 40/50\n",
            "633/633 [==============================] - 4s 6ms/step - loss: 0.1411 - accuracy: 0.9444 - val_loss: 0.1309 - val_accuracy: 0.9454\n",
            "Epoch 41/50\n",
            "633/633 [==============================] - 4s 6ms/step - loss: 0.1397 - accuracy: 0.9442 - val_loss: 0.1312 - val_accuracy: 0.9456\n",
            "Epoch 42/50\n",
            "633/633 [==============================] - 5s 8ms/step - loss: 0.1388 - accuracy: 0.9443 - val_loss: 0.1317 - val_accuracy: 0.9447\n",
            "Epoch 43/50\n",
            "633/633 [==============================] - 4s 7ms/step - loss: 0.1406 - accuracy: 0.9450 - val_loss: 0.1309 - val_accuracy: 0.9454\n",
            "Epoch 44/50\n",
            "633/633 [==============================] - 4s 6ms/step - loss: 0.1374 - accuracy: 0.9452 - val_loss: 0.1294 - val_accuracy: 0.9452\n",
            "Epoch 45/50\n",
            "633/633 [==============================] - 5s 8ms/step - loss: 0.1357 - accuracy: 0.9467 - val_loss: 0.1293 - val_accuracy: 0.9463\n",
            "Epoch 46/50\n",
            "633/633 [==============================] - 4s 6ms/step - loss: 0.1372 - accuracy: 0.9451 - val_loss: 0.1310 - val_accuracy: 0.9479\n",
            "Epoch 47/50\n",
            "633/633 [==============================] - 4s 6ms/step - loss: 0.1361 - accuracy: 0.9446 - val_loss: 0.1308 - val_accuracy: 0.9479\n",
            "Epoch 48/50\n",
            "633/633 [==============================] - 5s 8ms/step - loss: 0.1357 - accuracy: 0.9463 - val_loss: 0.1300 - val_accuracy: 0.9470\n",
            "Epoch 49/50\n",
            "633/633 [==============================] - 4s 7ms/step - loss: 0.1359 - accuracy: 0.9460 - val_loss: 0.1290 - val_accuracy: 0.9477\n",
            "Epoch 50/50\n",
            "633/633 [==============================] - 4s 7ms/step - loss: 0.1376 - accuracy: 0.9453 - val_loss: 0.1293 - val_accuracy: 0.9479\n"
          ]
        }
      ]
    },
    {
      "cell_type": "code",
      "source": [
        "accuracy = history.history[\"accuracy\"]\n",
        "val_accuracy = history.history[\"val_accuracy\"]\n",
        "loss = history.history[\"loss\"]\n",
        "val_loss = history.history[\"val_loss\"]\n",
        "epochs = range(1, len(accuracy) + 1)\n",
        "plt.plot(epochs, accuracy, \"bo\", label=\"Training accuracy\")\n",
        "plt.plot(epochs, val_accuracy, \"b\", label=\"Validation accuracy\")\n",
        "plt.title(\"Training and validation accuracy\")\n",
        "plt.legend()\n",
        "plt.figure()\n",
        "plt.plot(epochs, loss, \"bo\", label=\"Training loss\")\n",
        "plt.plot(epochs, val_loss, \"b\", label=\"Validation loss\")\n",
        "plt.title(\"Training and validation loss\")\n",
        "plt.legend()\n",
        "plt.show()"
      ],
      "metadata": {
        "colab": {
          "base_uri": "https://localhost:8080/",
          "height": 887
        },
        "id": "1HDibJrqSvLt",
        "outputId": "3e7b664a-44ef-4d6c-8acd-cf09f33f986e"
      },
      "execution_count": null,
      "outputs": [
        {
          "output_type": "display_data",
          "data": {
            "text/plain": [
              "<Figure size 640x480 with 1 Axes>"
            ],
            "image/png": "[encoded data removed]"
          },
          "metadata": {}
        },
        {
          "output_type": "display_data",
          "data": {
            "text/plain": [
              "<Figure size 640x480 with 1 Axes>"
            ],
            "image/png": "[encoded data removed]"
          },
          "metadata": {}
        }
      ]
    },
    {
      "cell_type": "code",
      "source": [
        "score=model.evaluate(X_test_re, y_test)\n",
        "print(score)"
      ],
      "metadata": {
        "colab": {
          "base_uri": "https://localhost:8080/"
        },
        "id": "U3ob-i4TS75o",
        "outputId": "e53e5a24-a613-48f0-b882-89becd0a44a0"
      },
      "execution_count": null,
      "outputs": [
        {
          "output_type": "stream",
          "name": "stdout",
          "text": [
            "136/136 [==============================] - 2s 12ms/step - loss: 0.1281 - accuracy: 0.9528\n",
            "[0.12806738913059235, 0.9527649879455566]\n"
          ]
        }
      ]
    },
    {
      "cell_type": "code",
      "source": [
        "y_pred = model.predict(X_test_re)"
      ],
      "metadata": {
        "colab": {
          "base_uri": "https://localhost:8080/"
        },
        "id": "bSVTxi3MS91H",
        "outputId": "ec162392-0875-43ce-82ae-22ee9dab665b"
      },
      "execution_count": null,
      "outputs": [
        {
          "output_type": "stream",
          "name": "stdout",
          "text": [
            "136/136 [==============================] - 0s 2ms/step\n"
          ]
        }
      ]
    },
    {
      "cell_type": "code",
      "source": [
        "from sklearn.metrics import confusion_matrix, accuracy_score, precision_score, f1_score, recall_score, classification_report"
      ],
      "metadata": {
        "id": "oszslgNOTBEn"
      },
      "execution_count": null,
      "outputs": []
    },
    {
      "cell_type": "code",
      "source": [
        "y_expected=pd.DataFrame(y_test)"
      ],
      "metadata": {
        "id": "HIXMAQxKTDdP"
      },
      "execution_count": null,
      "outputs": []
    },
    {
      "cell_type": "code",
      "source": [
        "from sklearn.metrics import ConfusionMatrixDisplay"
      ],
      "metadata": {
        "id": "ZtEc75vlDYPC"
      },
      "execution_count": null,
      "outputs": []
    },
    {
      "cell_type": "code",
      "source": [
        "cnf = confusion_matrix(y_test, y_pred.round())"
      ],
      "metadata": {
        "id": "F1liKju4Hqio"
      },
      "execution_count": null,
      "outputs": []
    },
    {
      "cell_type": "code",
      "source": [
        "cnf"
      ],
      "metadata": {
        "colab": {
          "base_uri": "https://localhost:8080/"
        },
        "id": "OzAo3P9lIFJG",
        "outputId": "de903a49-dc49-4a4e-bfb4-d31202c367ac"
      },
      "execution_count": null,
      "outputs": [
        {
          "output_type": "execute_result",
          "data": {
            "text/plain": [
              "array([[2139,   28],\n",
              "       [ 177, 1996]])"
            ]
          },
          "metadata": {},
          "execution_count": 71
        }
      ]
    },
    {
      "cell_type": "code",
      "source": [
        "def plot_confusion_matrix(cm, classes,\n",
        "                          normalize=False,\n",
        "                          title='Confusion matrix',\n",
        "                          cmap=plt.cm.Blues,\n",
        "                          text_fontsize='medium'):  # Add a parameter for text font size\n",
        "    \"\"\"\n",
        "    This function prints and plots the confusion matrix.\n",
        "    Normalization can be applied by setting `normalize=True`.\n",
        "    \"\"\"\n",
        "    import itertools\n",
        "    if normalize:\n",
        "        cm = cm.astype('float') / cm.sum(axis=1)[:, np.newaxis]\n",
        "        print(\"Normalized confusion matrix\")\n",
        "    else:\n",
        "        print('Confusion matrix, without normalization')\n",
        "\n",
        "    print(cm)\n",
        "\n",
        "    plt.imshow(cm, interpolation='nearest', cmap=cmap)\n",
        "    plt.title(title)\n",
        "    plt.colorbar()\n",
        "    tick_marks = np.arange(len(classes))\n",
        "    plt.xticks(tick_marks, classes, rotation=45)\n",
        "    plt.yticks(tick_marks, classes)\n",
        "\n",
        "    fmt = '.2f' if normalize else 'd'\n",
        "    thresh = cm.max() / 2.\n",
        "    for i, j in itertools.product(range(cm.shape[0]), range(cm.shape[1])):\n",
        "        plt.text(j, i, format(cm[i, j], fmt),\n",
        "                 horizontalalignment=\"center\",\n",
        "                 color=\"white\" if cm[i, j] > thresh else \"black\",\n",
        "                 fontsize=text_fontsize)  # Set the font size here\n",
        "\n",
        "    plt.ylabel('True label')\n",
        "    plt.xlabel('Predicted label')\n",
        "    plt.tight_layout()"
      ],
      "metadata": {
        "id": "w09QjMfYJpRL"
      },
      "execution_count": null,
      "outputs": []
    },
    {
      "cell_type": "code",
      "source": [
        "plt.figure()\n",
        "plot_confusion_matrix(cnf, classes=['Not Fraud','Fraud'], normalize = True,\n",
        "                      title='Confusion matrix, with normalization',text_fontsize=15)"
      ],
      "metadata": {
        "colab": {
          "base_uri": "https://localhost:8080/",
          "height": 542
        },
        "id": "xWzktwF4Jt_c",
        "outputId": "f69f6573-e882-498e-8ba0-76892af09f1a"
      },
      "execution_count": null,
      "outputs": [
        {
          "output_type": "stream",
          "name": "stdout",
          "text": [
            "Normalized confusion matrix\n",
            "[[0.98707891 0.01292109]\n",
            " [0.08145421 0.91854579]]\n"
          ]
        },
        {
          "output_type": "display_data",
          "data": {
            "text/plain": [
              "<Figure size 640x480 with 2 Axes>"
            ],
            "image/png": "[encoded data removed]"
          },
          "metadata": {}
        }
      ]
    },
    {
      "cell_type": "code",
      "source": [
        "plt.figure()\n",
        "plot_confusion_matrix(cnf, classes=['Not Fraud','Fraud'], normalize = False,\n",
        "                      title='Confusion matrix, with normalization',text_fontsize=14)"
      ],
      "metadata": {
        "colab": {
          "base_uri": "https://localhost:8080/",
          "height": 542
        },
        "id": "Dw4MT5FlK0My",
        "outputId": "1b544abb-34a6-4d50-8e56-0a64016d134d"
      },
      "execution_count": null,
      "outputs": [
        {
          "output_type": "stream",
          "name": "stdout",
          "text": [
            "Confusion matrix, without normalization\n",
            "[[2139   28]\n",
            " [ 177 1996]]\n"
          ]
        },
        {
          "output_type": "display_data",
          "data": {
            "text/plain": [
              "<Figure size 640x480 with 2 Axes>"
            ],
            "image/png": "[encoded data removed]"
          },
          "metadata": {}
        }
      ]
    },
    {
      "cell_type": "code",
      "source": [
        "print(classification_report(y_test, y_pred.round()))"
      ],
      "metadata": {
        "colab": {
          "base_uri": "https://localhost:8080/"
        },
        "id": "sHossm5WHD1Z",
        "outputId": "5eb08ae2-508b-4fe9-f6dd-a09e1a9d71a5"
      },
      "execution_count": null,
      "outputs": [
        {
          "output_type": "stream",
          "name": "stdout",
          "text": [
            "              precision    recall  f1-score   support\n",
            "\n",
            "           0       0.92      0.99      0.95      2167\n",
            "           1       0.99      0.92      0.95      2173\n",
            "\n",
            "    accuracy                           0.95      4340\n",
            "   macro avg       0.95      0.95      0.95      4340\n",
            "weighted avg       0.95      0.95      0.95      4340\n",
            "\n"
          ]
        }
      ]
    },
    {
      "cell_type": "code",
      "source": [
        "print(accuracy_score(y_test, y_pred.round()))\n",
        "print(precision_score(y_test, y_pred.round()))\n",
        "print(recall_score(y_test, y_pred.round()))\n",
        "print(f1_score(y_test, y_pred.round()))"
      ],
      "metadata": {
        "colab": {
          "base_uri": "https://localhost:8080/"
        },
        "id": "B5ZGRdtgTNxo",
        "outputId": "11b51f4c-9f64-4745-945a-100b1ee2b3b5"
      },
      "execution_count": null,
      "outputs": [
        {
          "output_type": "stream",
          "name": "stdout",
          "text": [
            "0.9527649769585254\n",
            "0.9861660079051383\n",
            "0.9185457892314772\n",
            "0.9511555873242792\n"
          ]
        }
      ]
    },
    {
      "cell_type": "code",
      "source": [
        "# Calculate the metrics\n",
        "accuracy = accuracy_score(y_test, y_pred.round())\n",
        "precision = precision_score(y_test, y_pred.round())\n",
        "recall = recall_score(y_test, y_pred.round())\n",
        "f1 = f1_score(y_test, y_pred.round())\n",
        "\n",
        "# Print the metrics as percentages\n",
        "print('Accuracy: {:0.2f}%'.format(accuracy * 100))\n",
        "print('Precision: {:0.2f}%'.format(precision * 100))\n",
        "print('Recall: {:0.2f}%'.format(recall * 100))\n",
        "print('F1 Score: {:0.2f}%'.format(f1 * 100))"
      ],
      "metadata": {
        "colab": {
          "base_uri": "https://localhost:8080/"
        },
        "id": "3iCG1bI405ZL",
        "outputId": "5fee1027-54d8-4831-8929-a814f15c16b3"
      },
      "execution_count": null,
      "outputs": [
        {
          "output_type": "stream",
          "name": "stdout",
          "text": [
            "Accuracy: 95.28%\n",
            "Precision: 98.62%\n",
            "Recall: 91.85%\n",
            "F1 Score: 95.12%\n"
          ]
        }
      ]
    },
    {
      "cell_type": "markdown",
      "source": [
        "Export the data in the csv file"
      ],
      "metadata": {
        "id": "XQMKhmBy-d-a"
      }
    },
    {
      "cell_type": "code",
      "source": [
        "# Assuming X_train, X_val, X_test, y_train, y_val, y_test are your datasets\n",
        "# Convert to DataFrame for easier saving (if they are NumPy arrays)\n",
        "X_train_df = pd.DataFrame(X_train)\n",
        "X_val_df = pd.DataFrame(X_val)\n",
        "X_test_df = pd.DataFrame(X_test)\n",
        "y_train_df = pd.DataFrame(y_train)\n",
        "y_val_df = pd.DataFrame(y_val)\n",
        "y_test_df = pd.DataFrame(y_test)\n",
        "\n",
        "# Save to CSV\n",
        "X_train_df.to_csv('X_train.csv', index=False)\n",
        "X_val_df.to_csv('X_val.csv', index=False)\n",
        "X_test_df.to_csv('X_test.csv', index=False)\n",
        "y_train_df.to_csv('y_train.csv', index=False)\n",
        "y_val_df.to_csv('y_val.csv', index=False)\n",
        "y_test_df.to_csv('y_test.csv', index=False)"
      ],
      "metadata": {
        "id": "RCOSvArz-cd7"
      },
      "execution_count": null,
      "outputs": []
    },
    {
      "cell_type": "markdown",
      "source": [
        "Save the training model"
      ],
      "metadata": {
        "id": "NU2st-nY-pg7"
      }
    },
    {
      "cell_type": "code",
      "source": [
        "model.save('CNN_ADASYN.h5')  # Creates a HDF5 file 'my_model.h5'"
      ],
      "metadata": {
        "colab": {
          "base_uri": "https://localhost:8080/"
        },
        "id": "28wGWPTQ-l-q",
        "outputId": "a2ed2492-4059-40f2-d084-0efca9cd9582"
      },
      "execution_count": null,
      "outputs": [
        {
          "output_type": "stream",
          "name": "stderr",
          "text": [
            "/usr/local/lib/python3.10/dist-packages/keras/src/engine/training.py:3079: UserWarning: You are saving your model as an HDF5 file via `model.save()`. This file format is considered legacy. We recommend using instead the native Keras format, e.g. `model.save('my_model.keras')`.\n",
            "  saving_api.save_model(\n"
          ]
        }
      ]
    },
    {
      "cell_type": "markdown",
      "source": [
        "Load the model later"
      ],
      "metadata": {
        "id": "NpJ7plFc-yZ0"
      }
    },
    {
      "cell_type": "code",
      "source": [
        "# from tensorflow.keras.models import load_model\n",
        "\n",
        "# # Load the model\n",
        "# loaded_model = load_model('my_model.h5')"
      ],
      "metadata": {
        "id": "O_xA-2QU-tsK"
      },
      "execution_count": null,
      "outputs": []
    }
  ]
}