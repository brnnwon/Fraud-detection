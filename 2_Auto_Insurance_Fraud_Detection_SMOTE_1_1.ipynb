{
  "nbformat": 4,
  "nbformat_minor": 0,
  "metadata": {
    "colab": {
      "provenance": [],
      "gpuType": "T4",
      "toc_visible": true,
      "authorship_tag": "ABX9TyM0vi2jUYMfJXqF8hVeJoyI",
      "include_colab_link": true
    },
    "kernelspec": {
      "name": "python3",
      "display_name": "Python 3"
    },
    "language_info": {
      "name": "python"
    },
    "accelerator": "GPU"
  },
  "cells": [
    {
      "cell_type": "markdown",
      "metadata": {
        "id": "view-in-github",
        "colab_type": "text"
      },
      "source": [
        "<a href=\"https://colab.research.google.com/github/brnnwon/Fraud-detection/blob/main/2_Auto_Insurance_Fraud_Detection_SMOTE_1_1.ipynb\" target=\"_parent\"><img src=\"https://colab.research.google.com/assets/colab-badge.svg\" alt=\"Open In Colab\"/></a>"
      ]
    },
    {
      "cell_type": "code",
      "source": [
        "import numpy as np\n",
        "import pandas as pd\n",
        "import matplotlib.pyplot as plt\n",
        "import seaborn as sns"
      ],
      "metadata": {
        "id": "9vJ35EuGpuzv"
      },
      "execution_count": null,
      "outputs": []
    },
    {
      "cell_type": "markdown",
      "source": [
        "Import dataset"
      ],
      "metadata": {
        "id": "K2HpmGKsqlpR"
      }
    },
    {
      "cell_type": "code",
      "execution_count": null,
      "metadata": {
        "id": "m9jH0t9RphQe"
      },
      "outputs": [],
      "source": [
        "url = 'https://raw.githubusercontent.com/brnnwon/Fraud-detection/main/fraud_oracle.csv'\n",
        "\n",
        "df = pd.read_csv(url)"
      ]
    },
    {
      "cell_type": "code",
      "source": [
        "df.head()"
      ],
      "metadata": {
        "colab": {
          "base_uri": "https://localhost:8080/",
          "height": 255
        },
        "id": "hJhDgc_1qV-V",
        "outputId": "ab3cd2a6-2a36-44d9-e853-5846eb1a0857"
      },
      "execution_count": null,
      "outputs": [
        {
          "output_type": "execute_result",
          "data": {
            "text/plain": [
              "  Month  WeekOfMonth  DayOfWeek    Make AccidentArea DayOfWeekClaimed  \\\n",
              "0   Dec            5  Wednesday   Honda        Urban          Tuesday   \n",
              "1   Jan            3  Wednesday   Honda        Urban           Monday   \n",
              "2   Oct            5     Friday   Honda        Urban         Thursday   \n",
              "3   Jun            2   Saturday  Toyota        Rural           Friday   \n",
              "4   Jan            5     Monday   Honda        Urban          Tuesday   \n",
              "\n",
              "  MonthClaimed  WeekOfMonthClaimed     Sex MaritalStatus  ...  AgeOfVehicle  \\\n",
              "0          Jan                   1  Female        Single  ...       3 years   \n",
              "1          Jan                   4    Male        Single  ...       6 years   \n",
              "2          Nov                   2    Male       Married  ...       7 years   \n",
              "3          Jul                   1    Male       Married  ...   more than 7   \n",
              "4          Feb                   2  Female        Single  ...       5 years   \n",
              "\n",
              "  AgeOfPolicyHolder PoliceReportFiled WitnessPresent AgentType  \\\n",
              "0          26 to 30                No             No  External   \n",
              "1          31 to 35               Yes             No  External   \n",
              "2          41 to 50                No             No  External   \n",
              "3          51 to 65               Yes             No  External   \n",
              "4          31 to 35                No             No  External   \n",
              "\n",
              "   NumberOfSuppliments  AddressChange_Claim  NumberOfCars  Year  BasePolicy  \n",
              "0                 none               1 year        3 to 4  1994   Liability  \n",
              "1                 none            no change     1 vehicle  1994   Collision  \n",
              "2                 none            no change     1 vehicle  1994   Collision  \n",
              "3          more than 5            no change     1 vehicle  1994   Liability  \n",
              "4                 none            no change     1 vehicle  1994   Collision  \n",
              "\n",
              "[5 rows x 33 columns]"
            ],
            "text/html": [
              "\n",
              "  <div id=\"df-2d4f1884-261e-449b-b07e-f2cdd86ee99b\" class=\"colab-df-container\">\n",
              "    <div>\n",
              "<style scoped>\n",
              "    .dataframe tbody tr th:only-of-type {\n",
              "        vertical-align: middle;\n",
              "    }\n",
              "\n",
              "    .dataframe tbody tr th {\n",
              "        vertical-align: top;\n",
              "    }\n",
              "\n",
              "    .dataframe thead th {\n",
              "        text-align: right;\n",
              "    }\n",
              "</style>\n",
              "<table border=\"1\" class=\"dataframe\">\n",
              "  <thead>\n",
              "    <tr style=\"text-align: right;\">\n",
              "      <th></th>\n",
              "      <th>Month</th>\n",
              "      <th>WeekOfMonth</th>\n",
              "      <th>DayOfWeek</th>\n",
              "      <th>Make</th>\n",
              "      <th>AccidentArea</th>\n",
              "      <th>DayOfWeekClaimed</th>\n",
              "      <th>MonthClaimed</th>\n",
              "      <th>WeekOfMonthClaimed</th>\n",
              "      <th>Sex</th>\n",
              "      <th>MaritalStatus</th>\n",
              "      <th>...</th>\n",
              "      <th>AgeOfVehicle</th>\n",
              "      <th>AgeOfPolicyHolder</th>\n",
              "      <th>PoliceReportFiled</th>\n",
              "      <th>WitnessPresent</th>\n",
              "      <th>AgentType</th>\n",
              "      <th>NumberOfSuppliments</th>\n",
              "      <th>AddressChange_Claim</th>\n",
              "      <th>NumberOfCars</th>\n",
              "      <th>Year</th>\n",
              "      <th>BasePolicy</th>\n",
              "    </tr>\n",
              "  </thead>\n",
              "  <tbody>\n",
              "    <tr>\n",
              "      <th>0</th>\n",
              "      <td>Dec</td>\n",
              "      <td>5</td>\n",
              "      <td>Wednesday</td>\n",
              "      <td>Honda</td>\n",
              "      <td>Urban</td>\n",
              "      <td>Tuesday</td>\n",
              "      <td>Jan</td>\n",
              "      <td>1</td>\n",
              "      <td>Female</td>\n",
              "      <td>Single</td>\n",
              "      <td>...</td>\n",
              "      <td>3 years</td>\n",
              "      <td>26 to 30</td>\n",
              "      <td>No</td>\n",
              "      <td>No</td>\n",
              "      <td>External</td>\n",
              "      <td>none</td>\n",
              "      <td>1 year</td>\n",
              "      <td>3 to 4</td>\n",
              "      <td>1994</td>\n",
              "      <td>Liability</td>\n",
              "    </tr>\n",
              "    <tr>\n",
              "      <th>1</th>\n",
              "      <td>Jan</td>\n",
              "      <td>3</td>\n",
              "      <td>Wednesday</td>\n",
              "      <td>Honda</td>\n",
              "      <td>Urban</td>\n",
              "      <td>Monday</td>\n",
              "      <td>Jan</td>\n",
              "      <td>4</td>\n",
              "      <td>Male</td>\n",
              "      <td>Single</td>\n",
              "      <td>...</td>\n",
              "      <td>6 years</td>\n",
              "      <td>31 to 35</td>\n",
              "      <td>Yes</td>\n",
              "      <td>No</td>\n",
              "      <td>External</td>\n",
              "      <td>none</td>\n",
              "      <td>no change</td>\n",
              "      <td>1 vehicle</td>\n",
              "      <td>1994</td>\n",
              "      <td>Collision</td>\n",
              "    </tr>\n",
              "    <tr>\n",
              "      <th>2</th>\n",
              "      <td>Oct</td>\n",
              "      <td>5</td>\n",
              "      <td>Friday</td>\n",
              "      <td>Honda</td>\n",
              "      <td>Urban</td>\n",
              "      <td>Thursday</td>\n",
              "      <td>Nov</td>\n",
              "      <td>2</td>\n",
              "      <td>Male</td>\n",
              "      <td>Married</td>\n",
              "      <td>...</td>\n",
              "      <td>7 years</td>\n",
              "      <td>41 to 50</td>\n",
              "      <td>No</td>\n",
              "      <td>No</td>\n",
              "      <td>External</td>\n",
              "      <td>none</td>\n",
              "      <td>no change</td>\n",
              "      <td>1 vehicle</td>\n",
              "      <td>1994</td>\n",
              "      <td>Collision</td>\n",
              "    </tr>\n",
              "    <tr>\n",
              "      <th>3</th>\n",
              "      <td>Jun</td>\n",
              "      <td>2</td>\n",
              "      <td>Saturday</td>\n",
              "      <td>Toyota</td>\n",
              "      <td>Rural</td>\n",
              "      <td>Friday</td>\n",
              "      <td>Jul</td>\n",
              "      <td>1</td>\n",
              "      <td>Male</td>\n",
              "      <td>Married</td>\n",
              "      <td>...</td>\n",
              "      <td>more than 7</td>\n",
              "      <td>51 to 65</td>\n",
              "      <td>Yes</td>\n",
              "      <td>No</td>\n",
              "      <td>External</td>\n",
              "      <td>more than 5</td>\n",
              "      <td>no change</td>\n",
              "      <td>1 vehicle</td>\n",
              "      <td>1994</td>\n",
              "      <td>Liability</td>\n",
              "    </tr>\n",
              "    <tr>\n",
              "      <th>4</th>\n",
              "      <td>Jan</td>\n",
              "      <td>5</td>\n",
              "      <td>Monday</td>\n",
              "      <td>Honda</td>\n",
              "      <td>Urban</td>\n",
              "      <td>Tuesday</td>\n",
              "      <td>Feb</td>\n",
              "      <td>2</td>\n",
              "      <td>Female</td>\n",
              "      <td>Single</td>\n",
              "      <td>...</td>\n",
              "      <td>5 years</td>\n",
              "      <td>31 to 35</td>\n",
              "      <td>No</td>\n",
              "      <td>No</td>\n",
              "      <td>External</td>\n",
              "      <td>none</td>\n",
              "      <td>no change</td>\n",
              "      <td>1 vehicle</td>\n",
              "      <td>1994</td>\n",
              "      <td>Collision</td>\n",
              "    </tr>\n",
              "  </tbody>\n",
              "</table>\n",
              "<p>5 rows × 33 columns</p>\n",
              "</div>\n",
              "    <div class=\"colab-df-buttons\">\n",
              "\n",
              "  <div class=\"colab-df-container\">\n",
              "    <button class=\"colab-df-convert\" onclick=\"convertToInteractive('df-2d4f1884-261e-449b-b07e-f2cdd86ee99b')\"\n",
              "            title=\"Convert this dataframe to an interactive table.\"\n",
              "            style=\"display:none;\">\n",
              "\n",
              "  <svg xmlns=\"http://www.w3.org/2000/svg\" height=\"24px\" viewBox=\"0 -960 960 960\">\n",
              "    <path d=\"M120-120v-720h720v720H120Zm60-500h600v-160H180v160Zm220 220h160v-160H400v160Zm0 220h160v-160H400v160ZM180-400h160v-160H180v160Zm440 0h160v-160H620v160ZM180-180h160v-160H180v160Zm440 0h160v-160H620v160Z\"/>\n",
              "  </svg>\n",
              "    </button>\n",
              "\n",
              "  <style>\n",
              "    .colab-df-container {\n",
              "      display:flex;\n",
              "      gap: 12px;\n",
              "    }\n",
              "\n",
              "    .colab-df-convert {\n",
              "      background-color: #E8F0FE;\n",
              "      border: none;\n",
              "      border-radius: 50%;\n",
              "      cursor: pointer;\n",
              "      display: none;\n",
              "      fill: #1967D2;\n",
              "      height: 32px;\n",
              "      padding: 0 0 0 0;\n",
              "      width: 32px;\n",
              "    }\n",
              "\n",
              "    .colab-df-convert:hover {\n",
              "      background-color: #E2EBFA;\n",
              "      box-shadow: 0px 1px 2px rgba(60, 64, 67, 0.3), 0px 1px 3px 1px rgba(60, 64, 67, 0.15);\n",
              "      fill: #174EA6;\n",
              "    }\n",
              "\n",
              "    .colab-df-buttons div {\n",
              "      margin-bottom: 4px;\n",
              "    }\n",
              "\n",
              "    [theme=dark] .colab-df-convert {\n",
              "      background-color: #3B4455;\n",
              "      fill: #D2E3FC;\n",
              "    }\n",
              "\n",
              "    [theme=dark] .colab-df-convert:hover {\n",
              "      background-color: #434B5C;\n",
              "      box-shadow: 0px 1px 3px 1px rgba(0, 0, 0, 0.15);\n",
              "      filter: drop-shadow(0px 1px 2px rgba(0, 0, 0, 0.3));\n",
              "      fill: #FFFFFF;\n",
              "    }\n",
              "  </style>\n",
              "\n",
              "    <script>\n",
              "      const buttonEl =\n",
              "        document.querySelector('#df-2d4f1884-261e-449b-b07e-f2cdd86ee99b button.colab-df-convert');\n",
              "      buttonEl.style.display =\n",
              "        google.colab.kernel.accessAllowed ? 'block' : 'none';\n",
              "\n",
              "      async function convertToInteractive(key) {\n",
              "        const element = document.querySelector('#df-2d4f1884-261e-449b-b07e-f2cdd86ee99b');\n",
              "        const dataTable =\n",
              "          await google.colab.kernel.invokeFunction('convertToInteractive',\n",
              "                                                    [key], {});\n",
              "        if (!dataTable) return;\n",
              "\n",
              "        const docLinkHtml = 'Like what you see? Visit the ' +\n",
              "          '<a target=\"_blank\" href=https://colab.research.google.com/notebooks/data_table.ipynb>data table notebook</a>'\n",
              "          + ' to learn more about interactive tables.';\n",
              "        element.innerHTML = '';\n",
              "        dataTable['output_type'] = 'display_data';\n",
              "        await google.colab.output.renderOutput(dataTable, element);\n",
              "        const docLink = document.createElement('div');\n",
              "        docLink.innerHTML = docLinkHtml;\n",
              "        element.appendChild(docLink);\n",
              "      }\n",
              "    </script>\n",
              "  </div>\n",
              "\n",
              "\n",
              "<div id=\"df-a7d9ce2a-09c6-461e-92bd-101b79a688c9\">\n",
              "  <button class=\"colab-df-quickchart\" onclick=\"quickchart('df-a7d9ce2a-09c6-461e-92bd-101b79a688c9')\"\n",
              "            title=\"Suggest charts\"\n",
              "            style=\"display:none;\">\n",
              "\n",
              "<svg xmlns=\"http://www.w3.org/2000/svg\" height=\"24px\"viewBox=\"0 0 24 24\"\n",
              "     width=\"24px\">\n",
              "    <g>\n",
              "        <path d=\"M19 3H5c-1.1 0-2 .9-2 2v14c0 1.1.9 2 2 2h14c1.1 0 2-.9 2-2V5c0-1.1-.9-2-2-2zM9 17H7v-7h2v7zm4 0h-2V7h2v10zm4 0h-2v-4h2v4z\"/>\n",
              "    </g>\n",
              "</svg>\n",
              "  </button>\n",
              "\n",
              "<style>\n",
              "  .colab-df-quickchart {\n",
              "      --bg-color: #E8F0FE;\n",
              "      --fill-color: #1967D2;\n",
              "      --hover-bg-color: #E2EBFA;\n",
              "      --hover-fill-color: #174EA6;\n",
              "      --disabled-fill-color: #AAA;\n",
              "      --disabled-bg-color: #DDD;\n",
              "  }\n",
              "\n",
              "  [theme=dark] .colab-df-quickchart {\n",
              "      --bg-color: #3B4455;\n",
              "      --fill-color: #D2E3FC;\n",
              "      --hover-bg-color: #434B5C;\n",
              "      --hover-fill-color: #FFFFFF;\n",
              "      --disabled-bg-color: #3B4455;\n",
              "      --disabled-fill-color: #666;\n",
              "  }\n",
              "\n",
              "  .colab-df-quickchart {\n",
              "    background-color: var(--bg-color);\n",
              "    border: none;\n",
              "    border-radius: 50%;\n",
              "    cursor: pointer;\n",
              "    display: none;\n",
              "    fill: var(--fill-color);\n",
              "    height: 32px;\n",
              "    padding: 0;\n",
              "    width: 32px;\n",
              "  }\n",
              "\n",
              "  .colab-df-quickchart:hover {\n",
              "    background-color: var(--hover-bg-color);\n",
              "    box-shadow: 0 1px 2px rgba(60, 64, 67, 0.3), 0 1px 3px 1px rgba(60, 64, 67, 0.15);\n",
              "    fill: var(--button-hover-fill-color);\n",
              "  }\n",
              "\n",
              "  .colab-df-quickchart-complete:disabled,\n",
              "  .colab-df-quickchart-complete:disabled:hover {\n",
              "    background-color: var(--disabled-bg-color);\n",
              "    fill: var(--disabled-fill-color);\n",
              "    box-shadow: none;\n",
              "  }\n",
              "\n",
              "  .colab-df-spinner {\n",
              "    border: 2px solid var(--fill-color);\n",
              "    border-color: transparent;\n",
              "    border-bottom-color: var(--fill-color);\n",
              "    animation:\n",
              "      spin 1s steps(1) infinite;\n",
              "  }\n",
              "\n",
              "  @keyframes spin {\n",
              "    0% {\n",
              "      border-color: transparent;\n",
              "      border-bottom-color: var(--fill-color);\n",
              "      border-left-color: var(--fill-color);\n",
              "    }\n",
              "    20% {\n",
              "      border-color: transparent;\n",
              "      border-left-color: var(--fill-color);\n",
              "      border-top-color: var(--fill-color);\n",
              "    }\n",
              "    30% {\n",
              "      border-color: transparent;\n",
              "      border-left-color: var(--fill-color);\n",
              "      border-top-color: var(--fill-color);\n",
              "      border-right-color: var(--fill-color);\n",
              "    }\n",
              "    40% {\n",
              "      border-color: transparent;\n",
              "      border-right-color: var(--fill-color);\n",
              "      border-top-color: var(--fill-color);\n",
              "    }\n",
              "    60% {\n",
              "      border-color: transparent;\n",
              "      border-right-color: var(--fill-color);\n",
              "    }\n",
              "    80% {\n",
              "      border-color: transparent;\n",
              "      border-right-color: var(--fill-color);\n",
              "      border-bottom-color: var(--fill-color);\n",
              "    }\n",
              "    90% {\n",
              "      border-color: transparent;\n",
              "      border-bottom-color: var(--fill-color);\n",
              "    }\n",
              "  }\n",
              "</style>\n",
              "\n",
              "  <script>\n",
              "    async function quickchart(key) {\n",
              "      const quickchartButtonEl =\n",
              "        document.querySelector('#' + key + ' button');\n",
              "      quickchartButtonEl.disabled = true;  // To prevent multiple clicks.\n",
              "      quickchartButtonEl.classList.add('colab-df-spinner');\n",
              "      try {\n",
              "        const charts = await google.colab.kernel.invokeFunction(\n",
              "            'suggestCharts', [key], {});\n",
              "      } catch (error) {\n",
              "        console.error('Error during call to suggestCharts:', error);\n",
              "      }\n",
              "      quickchartButtonEl.classList.remove('colab-df-spinner');\n",
              "      quickchartButtonEl.classList.add('colab-df-quickchart-complete');\n",
              "    }\n",
              "    (() => {\n",
              "      let quickchartButtonEl =\n",
              "        document.querySelector('#df-a7d9ce2a-09c6-461e-92bd-101b79a688c9 button');\n",
              "      quickchartButtonEl.style.display =\n",
              "        google.colab.kernel.accessAllowed ? 'block' : 'none';\n",
              "    })();\n",
              "  </script>\n",
              "</div>\n",
              "    </div>\n",
              "  </div>\n"
            ]
          },
          "metadata": {},
          "execution_count": 55
        }
      ]
    },
    {
      "cell_type": "code",
      "source": [
        "df.shape"
      ],
      "metadata": {
        "colab": {
          "base_uri": "https://localhost:8080/"
        },
        "id": "eu7FcIugqbcg",
        "outputId": "44035b4f-e5e9-4ff8-ef85-e4cee54c3406"
      },
      "execution_count": null,
      "outputs": [
        {
          "output_type": "execute_result",
          "data": {
            "text/plain": [
              "(15420, 33)"
            ]
          },
          "metadata": {},
          "execution_count": 56
        }
      ]
    },
    {
      "cell_type": "code",
      "source": [
        "df.columns"
      ],
      "metadata": {
        "colab": {
          "base_uri": "https://localhost:8080/"
        },
        "id": "whqzvNC5qgN1",
        "outputId": "f11f46b3-7bf7-4270-8051-268fec871c83"
      },
      "execution_count": null,
      "outputs": [
        {
          "output_type": "execute_result",
          "data": {
            "text/plain": [
              "Index(['Month', 'WeekOfMonth', 'DayOfWeek', 'Make', 'AccidentArea',\n",
              "       'DayOfWeekClaimed', 'MonthClaimed', 'WeekOfMonthClaimed', 'Sex',\n",
              "       'MaritalStatus', 'Age', 'Fault', 'PolicyType', 'VehicleCategory',\n",
              "       'VehiclePrice', 'FraudFound_P', 'PolicyNumber', 'RepNumber',\n",
              "       'Deductible', 'DriverRating', 'Days_Policy_Accident',\n",
              "       'Days_Policy_Claim', 'PastNumberOfClaims', 'AgeOfVehicle',\n",
              "       'AgeOfPolicyHolder', 'PoliceReportFiled', 'WitnessPresent', 'AgentType',\n",
              "       'NumberOfSuppliments', 'AddressChange_Claim', 'NumberOfCars', 'Year',\n",
              "       'BasePolicy'],\n",
              "      dtype='object')"
            ]
          },
          "metadata": {},
          "execution_count": 57
        }
      ]
    },
    {
      "cell_type": "code",
      "source": [
        "df['FraudFound_P'].value_counts()"
      ],
      "metadata": {
        "colab": {
          "base_uri": "https://localhost:8080/"
        },
        "id": "Xe86NdXcuBv_",
        "outputId": "42157a13-a834-47f2-bf11-3607de141629"
      },
      "execution_count": null,
      "outputs": [
        {
          "output_type": "execute_result",
          "data": {
            "text/plain": [
              "0    14497\n",
              "1      923\n",
              "Name: FraudFound_P, dtype: int64"
            ]
          },
          "metadata": {},
          "execution_count": 58
        }
      ]
    },
    {
      "cell_type": "markdown",
      "source": [
        "#Preprocessing"
      ],
      "metadata": {
        "id": "L-4Belim1RH4"
      }
    },
    {
      "cell_type": "code",
      "source": [
        "from sklearn.preprocessing import LabelEncoder, OneHotEncoder, OrdinalEncoder, StandardScaler\n",
        "from sklearn.model_selection import train_test_split\n",
        "from sklearn.metrics import accuracy_score, confusion_matrix, f1_score\n",
        "from collections import Counter\n",
        "\n",
        "from imblearn.over_sampling import ADASYN, SMOTE"
      ],
      "metadata": {
        "id": "jPD4vpU21TPV"
      },
      "execution_count": null,
      "outputs": []
    },
    {
      "cell_type": "code",
      "source": [
        "df.drop(columns = 'PolicyNumber', inplace = True)"
      ],
      "metadata": {
        "id": "5AA_vXfj2TZI"
      },
      "execution_count": null,
      "outputs": []
    },
    {
      "cell_type": "code",
      "source": [
        "for column in df:\n",
        "  print(column)\n",
        "  print(sorted(df[column].unique()), '\\n')"
      ],
      "metadata": {
        "colab": {
          "base_uri": "https://localhost:8080/"
        },
        "id": "wsG5f6Iy6Rit",
        "outputId": "52279ea4-fdd3-459f-f97a-a375665fb6a1"
      },
      "execution_count": null,
      "outputs": [
        {
          "output_type": "stream",
          "name": "stdout",
          "text": [
            "Month\n",
            "['Apr', 'Aug', 'Dec', 'Feb', 'Jan', 'Jul', 'Jun', 'Mar', 'May', 'Nov', 'Oct', 'Sep'] \n",
            "\n",
            "WeekOfMonth\n",
            "[1, 2, 3, 4, 5] \n",
            "\n",
            "DayOfWeek\n",
            "['Friday', 'Monday', 'Saturday', 'Sunday', 'Thursday', 'Tuesday', 'Wednesday'] \n",
            "\n",
            "Make\n",
            "['Accura', 'BMW', 'Chevrolet', 'Dodge', 'Ferrari', 'Ford', 'Honda', 'Jaguar', 'Lexus', 'Mazda', 'Mecedes', 'Mercury', 'Nisson', 'Pontiac', 'Porche', 'Saab', 'Saturn', 'Toyota', 'VW'] \n",
            "\n",
            "AccidentArea\n",
            "['Rural', 'Urban'] \n",
            "\n",
            "DayOfWeekClaimed\n",
            "['0', 'Friday', 'Monday', 'Saturday', 'Sunday', 'Thursday', 'Tuesday', 'Wednesday'] \n",
            "\n",
            "MonthClaimed\n",
            "['0', 'Apr', 'Aug', 'Dec', 'Feb', 'Jan', 'Jul', 'Jun', 'Mar', 'May', 'Nov', 'Oct', 'Sep'] \n",
            "\n",
            "WeekOfMonthClaimed\n",
            "[1, 2, 3, 4, 5] \n",
            "\n",
            "Sex\n",
            "['Female', 'Male'] \n",
            "\n",
            "MaritalStatus\n",
            "['Divorced', 'Married', 'Single', 'Widow'] \n",
            "\n",
            "Age\n",
            "[0, 16, 17, 18, 19, 20, 21, 22, 23, 24, 25, 26, 27, 28, 29, 30, 31, 32, 33, 34, 35, 36, 37, 38, 39, 40, 41, 42, 43, 44, 45, 46, 47, 48, 49, 50, 51, 52, 53, 54, 55, 56, 57, 58, 59, 60, 61, 62, 63, 64, 65, 66, 67, 68, 69, 70, 71, 72, 73, 74, 75, 76, 77, 78, 79, 80] \n",
            "\n",
            "Fault\n",
            "['Policy Holder', 'Third Party'] \n",
            "\n",
            "PolicyType\n",
            "['Sedan - All Perils', 'Sedan - Collision', 'Sedan - Liability', 'Sport - All Perils', 'Sport - Collision', 'Sport - Liability', 'Utility - All Perils', 'Utility - Collision', 'Utility - Liability'] \n",
            "\n",
            "VehicleCategory\n",
            "['Sedan', 'Sport', 'Utility'] \n",
            "\n",
            "VehiclePrice\n",
            "['20000 to 29000', '30000 to 39000', '40000 to 59000', '60000 to 69000', 'less than 20000', 'more than 69000'] \n",
            "\n",
            "FraudFound_P\n",
            "[0, 1] \n",
            "\n",
            "RepNumber\n",
            "[1, 2, 3, 4, 5, 6, 7, 8, 9, 10, 11, 12, 13, 14, 15, 16] \n",
            "\n",
            "Deductible\n",
            "[300, 400, 500, 700] \n",
            "\n",
            "DriverRating\n",
            "[1, 2, 3, 4] \n",
            "\n",
            "Days_Policy_Accident\n",
            "['1 to 7', '15 to 30', '8 to 15', 'more than 30', 'none'] \n",
            "\n",
            "Days_Policy_Claim\n",
            "['15 to 30', '8 to 15', 'more than 30', 'none'] \n",
            "\n",
            "PastNumberOfClaims\n",
            "['1', '2 to 4', 'more than 4', 'none'] \n",
            "\n",
            "AgeOfVehicle\n",
            "['2 years', '3 years', '4 years', '5 years', '6 years', '7 years', 'more than 7', 'new'] \n",
            "\n",
            "AgeOfPolicyHolder\n",
            "['16 to 17', '18 to 20', '21 to 25', '26 to 30', '31 to 35', '36 to 40', '41 to 50', '51 to 65', 'over 65'] \n",
            "\n",
            "PoliceReportFiled\n",
            "['No', 'Yes'] \n",
            "\n",
            "WitnessPresent\n",
            "['No', 'Yes'] \n",
            "\n",
            "AgentType\n",
            "['External', 'Internal'] \n",
            "\n",
            "NumberOfSuppliments\n",
            "['1 to 2', '3 to 5', 'more than 5', 'none'] \n",
            "\n",
            "AddressChange_Claim\n",
            "['1 year', '2 to 3 years', '4 to 8 years', 'no change', 'under 6 months'] \n",
            "\n",
            "NumberOfCars\n",
            "['1 vehicle', '2 vehicles', '3 to 4', '5 to 8', 'more than 8'] \n",
            "\n",
            "Year\n",
            "[1994, 1995, 1996] \n",
            "\n",
            "BasePolicy\n",
            "['All Perils', 'Collision', 'Liability'] \n",
            "\n"
          ]
        }
      ]
    },
    {
      "cell_type": "code",
      "source": [
        "df['Age'].hist()"
      ],
      "metadata": {
        "colab": {
          "base_uri": "https://localhost:8080/",
          "height": 448
        },
        "id": "43cXauDx8ARa",
        "outputId": "6f92b281-9dc4-4a94-9675-65eac799487f"
      },
      "execution_count": null,
      "outputs": [
        {
          "output_type": "execute_result",
          "data": {
            "text/plain": [
              "<Axes: >"
            ]
          },
          "metadata": {},
          "execution_count": 7
        },
        {
          "output_type": "display_data",
          "data": {
            "text/plain": [
              "<Figure size 640x480 with 1 Axes>"
            ],
            "image/png": "[encoded data removed]"
          },
          "metadata": {}
        }
      ]
    },
    {
      "cell_type": "code",
      "source": [
        "mean_age = df[df['Age'] > 0]['Age'].mean()\n",
        "\n",
        "print(mean_age)"
      ],
      "metadata": {
        "colab": {
          "base_uri": "https://localhost:8080/"
        },
        "id": "VXfAVUYz9NNI",
        "outputId": "2398f0e5-1e5b-4d87-8c89-8cd0320c004d"
      },
      "execution_count": null,
      "outputs": [
        {
          "output_type": "stream",
          "name": "stdout",
          "text": [
            "40.700331125827816\n"
          ]
        }
      ]
    },
    {
      "cell_type": "code",
      "source": [
        "# Replace age values equal to 0 with the calculated mean\n",
        "df['Age'] = df['Age'].apply(lambda x: mean_age if x == 0 else x)"
      ],
      "metadata": {
        "id": "GVG7Hwmy9aap"
      },
      "execution_count": null,
      "outputs": []
    },
    {
      "cell_type": "code",
      "source": [
        "df['Age'].hist()"
      ],
      "metadata": {
        "colab": {
          "base_uri": "https://localhost:8080/",
          "height": 448
        },
        "id": "cujyaeMw9fFB",
        "outputId": "c3dfdb44-53f5-40a7-d4c2-045a499411d9"
      },
      "execution_count": null,
      "outputs": [
        {
          "output_type": "execute_result",
          "data": {
            "text/plain": [
              "<Axes: >"
            ]
          },
          "metadata": {},
          "execution_count": 39
        },
        {
          "output_type": "display_data",
          "data": {
            "text/plain": [
              "<Figure size 640x480 with 1 Axes>"
            ],
            "image/png": "[encoded data removed]"
          },
          "metadata": {}
        }
      ]
    },
    {
      "cell_type": "code",
      "source": [
        "df['AccidentArea'] = df['AccidentArea'].replace({'Urban':1, 'Rural':0})\n",
        "df['Sex'] = df['Sex'].replace({'Female':1, 'Male':0})\n",
        "df['Fault'] = df['Fault'].replace({'Policy Holder':1, 'Third Party':0})\n",
        "df['PoliceReportFiled'] = df['PoliceReportFiled'].replace({'Yes':1, 'No':0})\n",
        "df['WitnessPresent'] = df['WitnessPresent'].replace({'Yes':1, 'No':0})\n",
        "df['AgentType'] = df['AgentType'].replace({'External':1, 'Internal':0})\n",
        "df['Month'] = df['Month'].replace({'Jan':1,'Feb':2,'Mar':3,'Apr':4,'May':5,'Jun':6,'Jul':7,'Aug':8,'Sep':9,'Oct':10,'Nov':11,'Dec':12})\n",
        "df['DayOfWeek'] = df['DayOfWeek'].replace({'Monday':1,'Tuesday':2,'Wednesday':3,'Thursday':4,'Friday':5,'Saturday':6,'Sunday':7})\n",
        "df['MonthClaimed'] = df['MonthClaimed'].replace({'0':0,'Jan':1,'Feb':2,'Mar':3,'Apr':4,'May':5,'Jun':6,'Jul':7,'Aug':8,'Sep':9,'Oct':10,'Nov':11,'Dec':12})\n",
        "df['DayOfWeekClaimed'] = df['DayOfWeekClaimed'].replace({'0':0,'Monday':1,'Tuesday':2,'Wednesday':3,'Thursday':4,'Friday':5,'Saturday':6,'Sunday':7})\n",
        "df['PastNumberOfClaims'] = df['PastNumberOfClaims'].replace({'none':0 ,'1':1,'2 to 4':2,'more than 4':3})\n",
        "df['NumberOfSuppliments'] = df['NumberOfSuppliments'].replace({'none':0,'1 to 2':1,'3 to 5':2,'more than 5':4})\n",
        "df['VehiclePrice'] = df['VehiclePrice'].replace({'less than 20000':0,'20000 to 29000':1,'30000 to 39000':2,\n",
        "                                                 '40000 to 59000':3,'60000 to 69000':4,'more than 69000':5})\n",
        "df['AgeOfVehicle'] = df['AgeOfVehicle'].replace({'3 years':3,'6 years':6,'7 years':7,'more than 7':8,'5 years':5,'new':0,'4 years':4,'2 years':2})\n",
        "df['Days_Policy_Accident'] = df['Days_Policy_Accident'].replace({'none':0, '1 to 7':1, '8 to 15':2, '15 to 30':3, 'more than 30':4})\n",
        "df['Days_Policy_Claim'] = df['Days_Policy_Claim'].replace({'none':0, '8 to 15':1, '15 to 30':2, 'more than 30':3})\n",
        "df['AgeOfPolicyHolder'] = df['AgeOfPolicyHolder'].replace({'16 to 17':0, '18 to 20':1, '21 to 25':2, '26 to 30':3, '31 to 35':4, '36 to 40':5, '41 to 50':6, '51 to 65':7, 'over 65':8})\n",
        "df['AddressChange_Claim'] = df['AddressChange_Claim'].replace({'no change':0, 'under 6 months':1, '1 year':2, '2 to 3 years':3, '4 to 8 years':4})\n",
        "df['NumberOfCars'] = df['NumberOfCars'].replace({'1 vehicle':0, '2 vehicles':1, '3 to 4':2, '5 to 8':3, 'more than 8':4})"
      ],
      "metadata": {
        "id": "uHpkPdGzA9j6"
      },
      "execution_count": null,
      "outputs": []
    },
    {
      "cell_type": "code",
      "source": [
        "# Calculate the median of non-zero day-of-week values\n",
        "median_day_of_week = df[df['DayOfWeekClaimed'] != 0]['DayOfWeekClaimed'].mode()\n",
        "print(median_day_of_week)"
      ],
      "metadata": {
        "colab": {
          "base_uri": "https://localhost:8080/"
        },
        "id": "pOOYMHBPGVO4",
        "outputId": "e0e89ca1-91f9-41d7-d18a-5d218f6c4ab1"
      },
      "execution_count": null,
      "outputs": [
        {
          "output_type": "stream",
          "name": "stdout",
          "text": [
            "0    1\n",
            "Name: DayOfWeekClaimed, dtype: int64\n"
          ]
        }
      ]
    },
    {
      "cell_type": "code",
      "source": [
        "# Replace '0' values with the calculated median\n",
        "df['MonthClaimed'] = df['MonthClaimed'].apply(lambda x: mode_month_claimed if x == 0 else x)"
      ],
      "metadata": {
        "id": "rXn_jI6HTBXc"
      },
      "execution_count": null,
      "outputs": []
    },
    {
      "cell_type": "code",
      "source": [
        "df['DayOfWeekClaimed'] = df['DayOfWeekClaimed'].astype('int')\n",
        "df['MonthClaimed'] = df['MonthClaimed'].astype('int')"
      ],
      "metadata": {
        "id": "2iPgceHM89DH"
      },
      "execution_count": null,
      "outputs": []
    },
    {
      "cell_type": "code",
      "source": [
        "mode_month_claimed = df[df['MonthClaimed'] != 0]['MonthClaimed'].mode()\n",
        "print(mode_month_claimed)"
      ],
      "metadata": {
        "colab": {
          "base_uri": "https://localhost:8080/"
        },
        "id": "HfshFcjfGlT6",
        "outputId": "18ecf978-a830-477c-9e70-ec2218edf936"
      },
      "execution_count": null,
      "outputs": [
        {
          "output_type": "stream",
          "name": "stdout",
          "text": [
            "0    1\n",
            "Name: MonthClaimed, dtype: int64\n"
          ]
        }
      ]
    },
    {
      "cell_type": "code",
      "source": [
        "ohe_cols = ['Make', 'MaritalStatus', 'PolicyType', 'VehicleCategory', 'BasePolicy']"
      ],
      "metadata": {
        "id": "RKRI64MpHq2Z"
      },
      "execution_count": null,
      "outputs": []
    },
    {
      "cell_type": "code",
      "source": [
        "df = pd.get_dummies(df, columns=ohe_cols)"
      ],
      "metadata": {
        "id": "oXvZhuJBIQqQ"
      },
      "execution_count": null,
      "outputs": []
    },
    {
      "cell_type": "code",
      "source": [
        "df.info()"
      ],
      "metadata": {
        "colab": {
          "base_uri": "https://localhost:8080/"
        },
        "id": "GD2pzIloIdra",
        "outputId": "2f4e54c5-5e83-4b70-b21f-9657032bbeb7"
      },
      "execution_count": null,
      "outputs": [
        {
          "output_type": "stream",
          "name": "stdout",
          "text": [
            "<class 'pandas.core.frame.DataFrame'>\n",
            "RangeIndex: 15420 entries, 0 to 15419\n",
            "Data columns (total 65 columns):\n",
            " #   Column                           Non-Null Count  Dtype  \n",
            "---  ------                           --------------  -----  \n",
            " 0   Month                            15420 non-null  int64  \n",
            " 1   WeekOfMonth                      15420 non-null  int64  \n",
            " 2   DayOfWeek                        15420 non-null  int64  \n",
            " 3   AccidentArea                     15420 non-null  int64  \n",
            " 4   DayOfWeekClaimed                 15420 non-null  int64  \n",
            " 5   MonthClaimed                     15420 non-null  int64  \n",
            " 6   WeekOfMonthClaimed               15420 non-null  int64  \n",
            " 7   Sex                              15420 non-null  int64  \n",
            " 8   Age                              15420 non-null  float64\n",
            " 9   Fault                            15420 non-null  int64  \n",
            " 10  VehiclePrice                     15420 non-null  int64  \n",
            " 11  FraudFound_P                     15420 non-null  int64  \n",
            " 12  RepNumber                        15420 non-null  int64  \n",
            " 13  Deductible                       15420 non-null  int64  \n",
            " 14  DriverRating                     15420 non-null  int64  \n",
            " 15  Days_Policy_Accident             15420 non-null  int64  \n",
            " 16  Days_Policy_Claim                15420 non-null  int64  \n",
            " 17  PastNumberOfClaims               15420 non-null  int64  \n",
            " 18  AgeOfVehicle                     15420 non-null  int64  \n",
            " 19  AgeOfPolicyHolder                15420 non-null  int64  \n",
            " 20  PoliceReportFiled                15420 non-null  int64  \n",
            " 21  WitnessPresent                   15420 non-null  int64  \n",
            " 22  AgentType                        15420 non-null  int64  \n",
            " 23  NumberOfSuppliments              15420 non-null  int64  \n",
            " 24  AddressChange_Claim              15420 non-null  int64  \n",
            " 25  NumberOfCars                     15420 non-null  int64  \n",
            " 26  Year                             15420 non-null  int64  \n",
            " 27  Make_Accura                      15420 non-null  uint8  \n",
            " 28  Make_BMW                         15420 non-null  uint8  \n",
            " 29  Make_Chevrolet                   15420 non-null  uint8  \n",
            " 30  Make_Dodge                       15420 non-null  uint8  \n",
            " 31  Make_Ferrari                     15420 non-null  uint8  \n",
            " 32  Make_Ford                        15420 non-null  uint8  \n",
            " 33  Make_Honda                       15420 non-null  uint8  \n",
            " 34  Make_Jaguar                      15420 non-null  uint8  \n",
            " 35  Make_Lexus                       15420 non-null  uint8  \n",
            " 36  Make_Mazda                       15420 non-null  uint8  \n",
            " 37  Make_Mecedes                     15420 non-null  uint8  \n",
            " 38  Make_Mercury                     15420 non-null  uint8  \n",
            " 39  Make_Nisson                      15420 non-null  uint8  \n",
            " 40  Make_Pontiac                     15420 non-null  uint8  \n",
            " 41  Make_Porche                      15420 non-null  uint8  \n",
            " 42  Make_Saab                        15420 non-null  uint8  \n",
            " 43  Make_Saturn                      15420 non-null  uint8  \n",
            " 44  Make_Toyota                      15420 non-null  uint8  \n",
            " 45  Make_VW                          15420 non-null  uint8  \n",
            " 46  MaritalStatus_Divorced           15420 non-null  uint8  \n",
            " 47  MaritalStatus_Married            15420 non-null  uint8  \n",
            " 48  MaritalStatus_Single             15420 non-null  uint8  \n",
            " 49  MaritalStatus_Widow              15420 non-null  uint8  \n",
            " 50  PolicyType_Sedan - All Perils    15420 non-null  uint8  \n",
            " 51  PolicyType_Sedan - Collision     15420 non-null  uint8  \n",
            " 52  PolicyType_Sedan - Liability     15420 non-null  uint8  \n",
            " 53  PolicyType_Sport - All Perils    15420 non-null  uint8  \n",
            " 54  PolicyType_Sport - Collision     15420 non-null  uint8  \n",
            " 55  PolicyType_Sport - Liability     15420 non-null  uint8  \n",
            " 56  PolicyType_Utility - All Perils  15420 non-null  uint8  \n",
            " 57  PolicyType_Utility - Collision   15420 non-null  uint8  \n",
            " 58  PolicyType_Utility - Liability   15420 non-null  uint8  \n",
            " 59  VehicleCategory_Sedan            15420 non-null  uint8  \n",
            " 60  VehicleCategory_Sport            15420 non-null  uint8  \n",
            " 61  VehicleCategory_Utility          15420 non-null  uint8  \n",
            " 62  BasePolicy_All Perils            15420 non-null  uint8  \n",
            " 63  BasePolicy_Collision             15420 non-null  uint8  \n",
            " 64  BasePolicy_Liability             15420 non-null  uint8  \n",
            "dtypes: float64(1), int64(26), uint8(38)\n",
            "memory usage: 3.7 MB\n"
          ]
        }
      ]
    },
    {
      "cell_type": "code",
      "source": [
        "X = df.drop('FraudFound_P', axis = 1)\n",
        "y = df['FraudFound_P']"
      ],
      "metadata": {
        "id": "-ZdXyhquQeo0"
      },
      "execution_count": null,
      "outputs": []
    },
    {
      "cell_type": "code",
      "source": [
        "X.to_csv('insurance_train.csv', index=False)\n",
        "y.to_csv('insurance_test.csv', index=False)"
      ],
      "metadata": {
        "id": "8dwOCcszT4_m"
      },
      "execution_count": null,
      "outputs": []
    },
    {
      "cell_type": "code",
      "source": [
        "print(X.shape, y.shape)"
      ],
      "metadata": {
        "colab": {
          "base_uri": "https://localhost:8080/"
        },
        "id": "z2qXGEtnQr2j",
        "outputId": "1e9fd5ff-cceb-43d7-953a-e2093720f946"
      },
      "execution_count": null,
      "outputs": [
        {
          "output_type": "stream",
          "name": "stdout",
          "text": [
            "(15420, 64) (15420,)\n"
          ]
        }
      ]
    },
    {
      "cell_type": "code",
      "source": [
        "counter = Counter(y)\n",
        "print(counter)"
      ],
      "metadata": {
        "colab": {
          "base_uri": "https://localhost:8080/"
        },
        "id": "Nb2pXVAkQvXs",
        "outputId": "a8a99c0c-9f23-4c1e-e6f0-853afedfc24b"
      },
      "execution_count": null,
      "outputs": [
        {
          "output_type": "stream",
          "name": "stdout",
          "text": [
            "Counter({0: 14497, 1: 923})\n"
          ]
        }
      ]
    },
    {
      "cell_type": "code",
      "source": [
        "# transform the dataset\n",
        "X, y = SMOTE().fit_resample(X, y)"
      ],
      "metadata": {
        "id": "0q8NqeGJQ3pX"
      },
      "execution_count": null,
      "outputs": []
    },
    {
      "cell_type": "code",
      "source": [
        "counter = Counter(y)\n",
        "print(counter)"
      ],
      "metadata": {
        "colab": {
          "base_uri": "https://localhost:8080/"
        },
        "id": "sTxLQFtgYaZd",
        "outputId": "3bb83a79-e816-4e73-f0b1-ee2155f11c2a"
      },
      "execution_count": null,
      "outputs": [
        {
          "output_type": "stream",
          "name": "stdout",
          "text": [
            "Counter({0: 14497, 1: 14497})\n"
          ]
        }
      ]
    },
    {
      "cell_type": "code",
      "source": [
        "# Assuming X, y are your features and labels after resampling\n",
        "# First split: 85% for the combined training and validation, 15% for testing\n",
        "X_train_val, X_test, y_train_val, y_test = train_test_split(X, y, test_size=0.15, random_state=42)\n",
        "\n",
        "# Second split: From the 85% data, split into 70% training and 15% validation\n",
        "# To achieve this, we use test_size ≈ 0.1765 because 15% of the original is approximately 17.65% of the 85% data\n",
        "X_train, X_val, y_train, y_val = train_test_split(X_train_val, y_train_val, test_size=0.1765, random_state=42)\n",
        "\n",
        "# Print the shapes to verify\n",
        "print(\"Training set:\", X_train.shape, y_train.shape)\n",
        "print(\"Validation set:\", X_val.shape, y_val.shape)\n",
        "print(\"Test set:\", X_test.shape, y_test.shape)"
      ],
      "metadata": {
        "colab": {
          "base_uri": "https://localhost:8080/"
        },
        "id": "hUCH4tVjYf3H",
        "outputId": "f2a0ba95-03c2-4411-b382-be0faeaf47af"
      },
      "execution_count": null,
      "outputs": [
        {
          "output_type": "stream",
          "name": "stdout",
          "text": [
            "Training set: (20294, 64) (20294,)\n",
            "Validation set: (4350, 64) (4350,)\n",
            "Test set: (4350, 64) (4350,)\n"
          ]
        }
      ]
    },
    {
      "cell_type": "code",
      "source": [
        "# Initialize the scaler\n",
        "scaler = StandardScaler()\n",
        "\n",
        "# Fit and transform the training data\n",
        "X_train_scaled = scaler.fit_transform(X_train)\n",
        "\n",
        "# Transform the validation and test data using the same scaler\n",
        "X_val_scaled = scaler.transform(X_val)\n",
        "X_test_scaled = scaler.transform(X_test)"
      ],
      "metadata": {
        "id": "9AqJrwRXYljv"
      },
      "execution_count": null,
      "outputs": []
    },
    {
      "cell_type": "code",
      "source": [
        "# Reshape the datasets for Conv1D\n",
        "X_train_re = X_train_scaled.reshape(X_train_scaled.shape[0], X_train_scaled.shape[1], 1)\n",
        "X_val_re = X_val_scaled.reshape(X_val_scaled.shape[0], X_val_scaled.shape[1], 1)\n",
        "X_test_re = X_test_scaled.reshape(X_test_scaled.shape[0], X_test_scaled.shape[1], 1)\n",
        "\n",
        "# Check the shape again\n",
        "print(\"Training set shape:\", X_train_re.shape)\n",
        "print(\"Validation set shape:\", X_val_re.shape)\n",
        "print(\"Test set shape:\", X_test_re.shape)"
      ],
      "metadata": {
        "colab": {
          "base_uri": "https://localhost:8080/"
        },
        "id": "_xB4iCLsYrTn",
        "outputId": "156ce07a-3502-4834-f714-e3cf61f04b87"
      },
      "execution_count": null,
      "outputs": [
        {
          "output_type": "stream",
          "name": "stdout",
          "text": [
            "Training set shape: (20294, 64, 1)\n",
            "Validation set shape: (4350, 64, 1)\n",
            "Test set shape: (4350, 64, 1)\n"
          ]
        }
      ]
    },
    {
      "cell_type": "markdown",
      "source": [
        "#CNN Model"
      ],
      "metadata": {
        "id": "BllBQKQORL0x"
      }
    },
    {
      "cell_type": "code",
      "source": [
        "from tensorflow.keras.models import Sequential\n",
        "from tensorflow.keras.layers import Dense,Flatten,Conv1D,BatchNormalization,Dropout, MaxPool1D\n",
        "from tensorflow.keras.optimizers import Adam"
      ],
      "metadata": {
        "id": "_JSgSLsNRJKD"
      },
      "execution_count": null,
      "outputs": []
    },
    {
      "cell_type": "code",
      "source": [
        "model = Sequential()\n",
        "\n",
        "#1st layer\n",
        "model.add(Conv1D(filters=32, kernel_size=2, activation='relu', input_shape=X_train_re[0].shape))\n",
        "model.add(BatchNormalization())\n",
        "model.add(MaxPool1D(pool_size=2))\n",
        "model.add(Dropout(rate=0.2))\n",
        "#2nd layer\n",
        "model.add(Conv1D(filters=64, kernel_size=2, activation='relu'))\n",
        "model.add(BatchNormalization())\n",
        "model.add(MaxPool1D(pool_size=2))\n",
        "model.add(Dropout(rate=0.2))\n",
        "# build DNN\n",
        "model.add(Flatten())\n",
        "model.add(Dense(64, activation='relu'))\n",
        "model.add(Dropout(0.5))\n",
        "model.add(Dense(1, activation='sigmoid'))"
      ],
      "metadata": {
        "id": "zeyME4HfRRa9"
      },
      "execution_count": null,
      "outputs": []
    },
    {
      "cell_type": "code",
      "source": [
        "model.summary()"
      ],
      "metadata": {
        "colab": {
          "base_uri": "https://localhost:8080/"
        },
        "id": "NCu4XUvbRV10",
        "outputId": "6f4b298e-541c-42e4-b818-ac052101b726"
      },
      "execution_count": null,
      "outputs": [
        {
          "output_type": "stream",
          "name": "stdout",
          "text": [
            "Model: \"sequential\"\n",
            "_________________________________________________________________\n",
            " Layer (type)                Output Shape              Param #   \n",
            "=================================================================\n",
            " conv1d (Conv1D)             (None, 63, 32)            96        \n",
            "                                                                 \n",
            " batch_normalization (Batch  (None, 63, 32)            128       \n",
            " Normalization)                                                  \n",
            "                                                                 \n",
            " max_pooling1d (MaxPooling1  (None, 31, 32)            0         \n",
            " D)                                                              \n",
            "                                                                 \n",
            " dropout (Dropout)           (None, 31, 32)            0         \n",
            "                                                                 \n",
            " conv1d_1 (Conv1D)           (None, 30, 64)            4160      \n",
            "                                                                 \n",
            " batch_normalization_1 (Bat  (None, 30, 64)            256       \n",
            " chNormalization)                                                \n",
            "                                                                 \n",
            " max_pooling1d_1 (MaxPoolin  (None, 15, 64)            0         \n",
            " g1D)                                                            \n",
            "                                                                 \n",
            " dropout_1 (Dropout)         (None, 15, 64)            0         \n",
            "                                                                 \n",
            " flatten (Flatten)           (None, 960)               0         \n",
            "                                                                 \n",
            " dense (Dense)               (None, 64)                61504     \n",
            "                                                                 \n",
            " dropout_2 (Dropout)         (None, 64)                0         \n",
            "                                                                 \n",
            " dense_1 (Dense)             (None, 1)                 65        \n",
            "                                                                 \n",
            "=================================================================\n",
            "Total params: 66209 (258.63 KB)\n",
            "Trainable params: 66017 (257.88 KB)\n",
            "Non-trainable params: 192 (768.00 Byte)\n",
            "_________________________________________________________________\n"
          ]
        }
      ]
    },
    {
      "cell_type": "code",
      "source": [
        "model.compile(optimizer=Adam(learning_rate=1e-4), loss='binary_crossentropy', metrics=['accuracy'])"
      ],
      "metadata": {
        "id": "gdNgPAdYRe4S"
      },
      "execution_count": null,
      "outputs": []
    },
    {
      "cell_type": "code",
      "source": [
        "history = model.fit(X_train_re, y_train, epochs=50, validation_data=(X_val_re, y_val))"
      ],
      "metadata": {
        "colab": {
          "base_uri": "https://localhost:8080/"
        },
        "id": "JWPGmBJERih7",
        "outputId": "1d4e6e19-083c-441e-8376-de5b4264d020"
      },
      "execution_count": null,
      "outputs": [
        {
          "output_type": "stream",
          "name": "stdout",
          "text": [
            "Epoch 1/50\n",
            "635/635 [==============================] - 17s 8ms/step - loss: 0.4642 - accuracy: 0.8088 - val_loss: 0.2227 - val_accuracy: 0.9283\n",
            "Epoch 2/50\n",
            "635/635 [==============================] - 5s 8ms/step - loss: 0.2779 - accuracy: 0.8913 - val_loss: 0.1877 - val_accuracy: 0.9372\n",
            "Epoch 3/50\n",
            "635/635 [==============================] - 4s 7ms/step - loss: 0.2426 - accuracy: 0.9066 - val_loss: 0.1763 - val_accuracy: 0.9405\n",
            "Epoch 4/50\n",
            "635/635 [==============================] - 4s 7ms/step - loss: 0.2187 - accuracy: 0.9138 - val_loss: 0.1683 - val_accuracy: 0.9405\n",
            "Epoch 5/50\n",
            "635/635 [==============================] - 5s 7ms/step - loss: 0.2064 - accuracy: 0.9175 - val_loss: 0.1595 - val_accuracy: 0.9453\n",
            "Epoch 6/50\n",
            "635/635 [==============================] - 4s 6ms/step - loss: 0.1997 - accuracy: 0.9222 - val_loss: 0.1566 - val_accuracy: 0.9444\n",
            "Epoch 7/50\n",
            "635/635 [==============================] - 4s 6ms/step - loss: 0.1895 - accuracy: 0.9262 - val_loss: 0.1516 - val_accuracy: 0.9441\n",
            "Epoch 8/50\n",
            "635/635 [==============================] - 5s 8ms/step - loss: 0.1880 - accuracy: 0.9260 - val_loss: 0.1484 - val_accuracy: 0.9457\n",
            "Epoch 9/50\n",
            "635/635 [==============================] - 4s 6ms/step - loss: 0.1786 - accuracy: 0.9291 - val_loss: 0.1463 - val_accuracy: 0.9474\n",
            "Epoch 10/50\n",
            "635/635 [==============================] - 4s 6ms/step - loss: 0.1800 - accuracy: 0.9266 - val_loss: 0.1450 - val_accuracy: 0.9471\n",
            "Epoch 11/50\n",
            "635/635 [==============================] - 5s 8ms/step - loss: 0.1765 - accuracy: 0.9305 - val_loss: 0.1430 - val_accuracy: 0.9478\n",
            "Epoch 12/50\n",
            "635/635 [==============================] - 4s 6ms/step - loss: 0.1716 - accuracy: 0.9328 - val_loss: 0.1447 - val_accuracy: 0.9478\n",
            "Epoch 13/50\n",
            "635/635 [==============================] - 4s 6ms/step - loss: 0.1708 - accuracy: 0.9322 - val_loss: 0.1411 - val_accuracy: 0.9478\n",
            "Epoch 14/50\n",
            "635/635 [==============================] - 5s 8ms/step - loss: 0.1672 - accuracy: 0.9333 - val_loss: 0.1397 - val_accuracy: 0.9483\n",
            "Epoch 15/50\n",
            "635/635 [==============================] - 4s 6ms/step - loss: 0.1662 - accuracy: 0.9342 - val_loss: 0.1384 - val_accuracy: 0.9474\n",
            "Epoch 16/50\n",
            "635/635 [==============================] - 4s 6ms/step - loss: 0.1655 - accuracy: 0.9351 - val_loss: 0.1391 - val_accuracy: 0.9457\n",
            "Epoch 17/50\n",
            "635/635 [==============================] - 5s 8ms/step - loss: 0.1643 - accuracy: 0.9341 - val_loss: 0.1384 - val_accuracy: 0.9476\n",
            "Epoch 18/50\n",
            "635/635 [==============================] - 4s 6ms/step - loss: 0.1597 - accuracy: 0.9372 - val_loss: 0.1351 - val_accuracy: 0.9492\n",
            "Epoch 19/50\n",
            "635/635 [==============================] - 4s 6ms/step - loss: 0.1599 - accuracy: 0.9381 - val_loss: 0.1351 - val_accuracy: 0.9485\n",
            "Epoch 20/50\n",
            "635/635 [==============================] - 5s 7ms/step - loss: 0.1584 - accuracy: 0.9366 - val_loss: 0.1369 - val_accuracy: 0.9453\n",
            "Epoch 21/50\n",
            "635/635 [==============================] - 5s 7ms/step - loss: 0.1570 - accuracy: 0.9381 - val_loss: 0.1349 - val_accuracy: 0.9474\n",
            "Epoch 22/50\n",
            "635/635 [==============================] - 4s 7ms/step - loss: 0.1552 - accuracy: 0.9393 - val_loss: 0.1340 - val_accuracy: 0.9485\n",
            "Epoch 23/50\n",
            "635/635 [==============================] - 5s 8ms/step - loss: 0.1550 - accuracy: 0.9380 - val_loss: 0.1355 - val_accuracy: 0.9467\n",
            "Epoch 24/50\n",
            "635/635 [==============================] - 4s 7ms/step - loss: 0.1535 - accuracy: 0.9392 - val_loss: 0.1356 - val_accuracy: 0.9471\n",
            "Epoch 25/50\n",
            "635/635 [==============================] - 4s 6ms/step - loss: 0.1513 - accuracy: 0.9403 - val_loss: 0.1353 - val_accuracy: 0.9469\n",
            "Epoch 26/50\n",
            "635/635 [==============================] - 4s 7ms/step - loss: 0.1521 - accuracy: 0.9404 - val_loss: 0.1323 - val_accuracy: 0.9483\n",
            "Epoch 27/50\n",
            "635/635 [==============================] - 5s 9ms/step - loss: 0.1530 - accuracy: 0.9406 - val_loss: 0.1329 - val_accuracy: 0.9478\n",
            "Epoch 28/50\n",
            "635/635 [==============================] - 4s 6ms/step - loss: 0.1504 - accuracy: 0.9412 - val_loss: 0.1330 - val_accuracy: 0.9494\n",
            "Epoch 29/50\n",
            "635/635 [==============================] - 4s 7ms/step - loss: 0.1499 - accuracy: 0.9409 - val_loss: 0.1312 - val_accuracy: 0.9503\n",
            "Epoch 30/50\n",
            "635/635 [==============================] - 5s 7ms/step - loss: 0.1471 - accuracy: 0.9427 - val_loss: 0.1334 - val_accuracy: 0.9478\n",
            "Epoch 31/50\n",
            "635/635 [==============================] - 4s 6ms/step - loss: 0.1451 - accuracy: 0.9415 - val_loss: 0.1329 - val_accuracy: 0.9487\n",
            "Epoch 32/50\n",
            "635/635 [==============================] - 4s 7ms/step - loss: 0.1463 - accuracy: 0.9430 - val_loss: 0.1309 - val_accuracy: 0.9499\n",
            "Epoch 33/50\n",
            "635/635 [==============================] - 5s 7ms/step - loss: 0.1464 - accuracy: 0.9427 - val_loss: 0.1316 - val_accuracy: 0.9492\n",
            "Epoch 34/50\n",
            "635/635 [==============================] - 4s 6ms/step - loss: 0.1456 - accuracy: 0.9425 - val_loss: 0.1306 - val_accuracy: 0.9490\n",
            "Epoch 35/50\n",
            "635/635 [==============================] - 4s 6ms/step - loss: 0.1445 - accuracy: 0.9434 - val_loss: 0.1284 - val_accuracy: 0.9513\n",
            "Epoch 36/50\n",
            "635/635 [==============================] - 5s 8ms/step - loss: 0.1416 - accuracy: 0.9451 - val_loss: 0.1287 - val_accuracy: 0.9501\n",
            "Epoch 37/50\n",
            "635/635 [==============================] - 4s 6ms/step - loss: 0.1436 - accuracy: 0.9429 - val_loss: 0.1289 - val_accuracy: 0.9501\n",
            "Epoch 38/50\n",
            "635/635 [==============================] - 4s 6ms/step - loss: 0.1423 - accuracy: 0.9444 - val_loss: 0.1301 - val_accuracy: 0.9494\n",
            "Epoch 39/50\n",
            "635/635 [==============================] - 5s 8ms/step - loss: 0.1400 - accuracy: 0.9454 - val_loss: 0.1288 - val_accuracy: 0.9508\n",
            "Epoch 40/50\n",
            "635/635 [==============================] - 4s 6ms/step - loss: 0.1391 - accuracy: 0.9447 - val_loss: 0.1287 - val_accuracy: 0.9499\n",
            "Epoch 41/50\n",
            "635/635 [==============================] - 4s 6ms/step - loss: 0.1370 - accuracy: 0.9465 - val_loss: 0.1279 - val_accuracy: 0.9501\n",
            "Epoch 42/50\n",
            "635/635 [==============================] - 5s 7ms/step - loss: 0.1368 - accuracy: 0.9462 - val_loss: 0.1274 - val_accuracy: 0.9515\n",
            "Epoch 43/50\n",
            "635/635 [==============================] - 4s 7ms/step - loss: 0.1383 - accuracy: 0.9452 - val_loss: 0.1268 - val_accuracy: 0.9524\n",
            "Epoch 44/50\n",
            "635/635 [==============================] - 4s 6ms/step - loss: 0.1392 - accuracy: 0.9461 - val_loss: 0.1271 - val_accuracy: 0.9510\n",
            "Epoch 45/50\n",
            "635/635 [==============================] - 5s 7ms/step - loss: 0.1383 - accuracy: 0.9458 - val_loss: 0.1267 - val_accuracy: 0.9515\n",
            "Epoch 46/50\n",
            "635/635 [==============================] - 5s 7ms/step - loss: 0.1363 - accuracy: 0.9462 - val_loss: 0.1271 - val_accuracy: 0.9515\n",
            "Epoch 47/50\n",
            "635/635 [==============================] - 4s 6ms/step - loss: 0.1372 - accuracy: 0.9464 - val_loss: 0.1283 - val_accuracy: 0.9508\n",
            "Epoch 48/50\n",
            "635/635 [==============================] - 4s 7ms/step - loss: 0.1357 - accuracy: 0.9472 - val_loss: 0.1271 - val_accuracy: 0.9529\n",
            "Epoch 49/50\n",
            "635/635 [==============================] - 5s 7ms/step - loss: 0.1350 - accuracy: 0.9472 - val_loss: 0.1270 - val_accuracy: 0.9517\n",
            "Epoch 50/50\n",
            "635/635 [==============================] - 4s 6ms/step - loss: 0.1373 - accuracy: 0.9467 - val_loss: 0.1257 - val_accuracy: 0.9522\n"
          ]
        }
      ]
    },
    {
      "cell_type": "markdown",
      "source": [
        "##Training and Validation plot"
      ],
      "metadata": {
        "id": "r8VHyu9KeB2D"
      }
    },
    {
      "cell_type": "code",
      "source": [
        "accuracy = history.history[\"accuracy\"]\n",
        "val_accuracy = history.history[\"val_accuracy\"]\n",
        "loss = history.history[\"loss\"]\n",
        "val_loss = history.history[\"val_loss\"]\n",
        "epochs = range(1, len(accuracy) + 1)\n",
        "plt.plot(epochs, accuracy, \"bo\", label=\"Training accuracy\")\n",
        "plt.plot(epochs, val_accuracy, \"b\", label=\"Validation accuracy\")\n",
        "plt.title(\"Training and validation accuracy\")\n",
        "plt.legend()\n",
        "plt.figure()\n",
        "plt.plot(epochs, loss, \"bo\", label=\"Training loss\")\n",
        "plt.plot(epochs, val_loss, \"b\", label=\"Validation loss\")\n",
        "plt.title(\"Training and validation loss\")\n",
        "plt.legend()\n",
        "plt.show()"
      ],
      "metadata": {
        "colab": {
          "base_uri": "https://localhost:8080/",
          "height": 887
        },
        "id": "1HDibJrqSvLt",
        "outputId": "408965bd-a69d-4096-9ae2-eb528dbc8549"
      },
      "execution_count": null,
      "outputs": [
        {
          "output_type": "display_data",
          "data": {
            "text/plain": [
              "<Figure size 640x480 with 1 Axes>"
            ],
            "image/png": "[encoded data removed]"
          },
          "metadata": {}
        },
        {
          "output_type": "display_data",
          "data": {
            "text/plain": [
              "<Figure size 640x480 with 1 Axes>"
            ],
            "image/png": "[encoded data removed]"
          },
          "metadata": {}
        }
      ]
    },
    {
      "cell_type": "code",
      "source": [
        "score=model.evaluate(X_test_re, y_test)\n",
        "print(score)"
      ],
      "metadata": {
        "colab": {
          "base_uri": "https://localhost:8080/"
        },
        "id": "U3ob-i4TS75o",
        "outputId": "2c7b36ba-917f-4494-c065-89e27929a957"
      },
      "execution_count": null,
      "outputs": [
        {
          "output_type": "stream",
          "name": "stdout",
          "text": [
            "136/136 [==============================] - 1s 8ms/step - loss: 0.1241 - accuracy: 0.9543\n",
            "[0.12406931817531586, 0.9542528986930847]\n"
          ]
        }
      ]
    },
    {
      "cell_type": "code",
      "source": [
        "y_pred = model.predict(X_test_re)"
      ],
      "metadata": {
        "colab": {
          "base_uri": "https://localhost:8080/"
        },
        "id": "bSVTxi3MS91H",
        "outputId": "fc9bf1fb-d798-44a5-c8c9-f03f8f071900"
      },
      "execution_count": null,
      "outputs": [
        {
          "output_type": "stream",
          "name": "stdout",
          "text": [
            "136/136 [==============================] - 0s 2ms/step\n"
          ]
        }
      ]
    },
    {
      "cell_type": "code",
      "source": [
        "from sklearn.metrics import confusion_matrix, accuracy_score, precision_score, f1_score, recall_score, classification_report"
      ],
      "metadata": {
        "id": "oszslgNOTBEn"
      },
      "execution_count": null,
      "outputs": []
    },
    {
      "cell_type": "code",
      "source": [
        "y_expected=pd.DataFrame(y_test)"
      ],
      "metadata": {
        "id": "HIXMAQxKTDdP"
      },
      "execution_count": null,
      "outputs": []
    },
    {
      "cell_type": "code",
      "source": [
        "# cnf_matrix=confusion_matrix(y_expected,y_pred.round())\n",
        "\n",
        "# plt.figure(figsize=(5, 5))\n",
        "# sns.heatmap(cnf_matrix.T, square=True, annot=True, fmt='d', cbar=False)\n",
        "# plt.xlabel('true label')\n",
        "# plt.ylabel('predicted label')\n",
        "# plt.show()"
      ],
      "metadata": {
        "id": "wFkFHk6tTGWd"
      },
      "execution_count": null,
      "outputs": []
    },
    {
      "cell_type": "code",
      "source": [
        "from sklearn.metrics import ConfusionMatrixDisplay"
      ],
      "metadata": {
        "id": "ZtEc75vlDYPC"
      },
      "execution_count": null,
      "outputs": []
    },
    {
      "cell_type": "code",
      "source": [
        "cnf = confusion_matrix(y_test, y_pred.round())"
      ],
      "metadata": {
        "id": "F1liKju4Hqio"
      },
      "execution_count": null,
      "outputs": []
    },
    {
      "cell_type": "code",
      "source": [
        "def plot_confusion_matrix(cm, classes,\n",
        "                          normalize=False,\n",
        "                          title='Confusion matrix',\n",
        "                          cmap=plt.cm.Blues,\n",
        "                          text_fontsize='medium'):  # Add a parameter for text font size\n",
        "    \"\"\"\n",
        "    This function prints and plots the confusion matrix.\n",
        "    Normalization can be applied by setting `normalize=True`.\n",
        "    \"\"\"\n",
        "    import itertools\n",
        "    if normalize:\n",
        "        cm = cm.astype('float') / cm.sum(axis=1)[:, np.newaxis]\n",
        "        print(\"Normalized confusion matrix\")\n",
        "    else:\n",
        "        print('Confusion matrix, without normalization')\n",
        "\n",
        "    print(cm)\n",
        "\n",
        "    plt.imshow(cm, interpolation='nearest', cmap=cmap)\n",
        "    plt.title(title)\n",
        "    plt.colorbar()\n",
        "    tick_marks = np.arange(len(classes))\n",
        "    plt.xticks(tick_marks, classes, rotation=45)\n",
        "    plt.yticks(tick_marks, classes)\n",
        "\n",
        "    fmt = '.2f' if normalize else 'd'\n",
        "    thresh = cm.max() / 2.\n",
        "    for i, j in itertools.product(range(cm.shape[0]), range(cm.shape[1])):\n",
        "        plt.text(j, i, format(cm[i, j], fmt),\n",
        "                 horizontalalignment=\"center\",\n",
        "                 color=\"white\" if cm[i, j] > thresh else \"black\",\n",
        "                 fontsize=text_fontsize)  # Set the font size here\n",
        "\n",
        "    plt.ylabel('True label')\n",
        "    plt.xlabel('Predicted label')\n",
        "    plt.tight_layout()\n"
      ],
      "metadata": {
        "id": "w09QjMfYJpRL"
      },
      "execution_count": null,
      "outputs": []
    },
    {
      "cell_type": "markdown",
      "source": [
        "##Confusion Matrix"
      ],
      "metadata": {
        "id": "fYFtq7iJeGwO"
      }
    },
    {
      "cell_type": "code",
      "source": [
        "plt.figure()\n",
        "plot_confusion_matrix(cnf, classes=['Not Fraud','Fraud'], normalize = True,\n",
        "                      title='Confusion matrix, with normalization',text_fontsize=15)"
      ],
      "metadata": {
        "colab": {
          "base_uri": "https://localhost:8080/",
          "height": 542
        },
        "id": "xWzktwF4Jt_c",
        "outputId": "6b021105-b575-45da-ebc7-cbb305ebbe4a"
      },
      "execution_count": null,
      "outputs": [
        {
          "output_type": "stream",
          "name": "stdout",
          "text": [
            "Normalized confusion matrix\n",
            "[[0.98154982 0.01845018]\n",
            " [0.07286893 0.92713107]]\n"
          ]
        },
        {
          "output_type": "display_data",
          "data": {
            "text/plain": [
              "<Figure size 640x480 with 2 Axes>"
            ],
            "image/png": "[encoded data removed]"
          },
          "metadata": {}
        }
      ]
    },
    {
      "cell_type": "code",
      "source": [
        "plt.figure()\n",
        "plot_confusion_matrix(cnf, classes=['Not Fraud','Fraud'], normalize = False,\n",
        "                      title='Confusion matrix, with normalization',text_fontsize=12)\n",
        "plt.show()"
      ],
      "metadata": {
        "colab": {
          "base_uri": "https://localhost:8080/",
          "height": 542
        },
        "id": "Dw4MT5FlK0My",
        "outputId": "7544814b-9544-4210-b904-bebe3d5055d4"
      },
      "execution_count": null,
      "outputs": [
        {
          "output_type": "stream",
          "name": "stdout",
          "text": [
            "Confusion matrix, without normalization\n",
            "[[2128   40]\n",
            " [ 159 2023]]\n"
          ]
        },
        {
          "output_type": "display_data",
          "data": {
            "text/plain": [
              "<Figure size 640x480 with 2 Axes>"
            ],
            "image/png": "[encoded data removed]"
          },
          "metadata": {}
        }
      ]
    },
    {
      "cell_type": "markdown",
      "source": [
        "##CNN Classification"
      ],
      "metadata": {
        "id": "XrabWBZReJeQ"
      }
    },
    {
      "cell_type": "code",
      "source": [
        "print(classification_report(y_test, y_pred.round()))"
      ],
      "metadata": {
        "colab": {
          "base_uri": "https://localhost:8080/"
        },
        "id": "sHossm5WHD1Z",
        "outputId": "feb097bb-8f96-44ea-f2a9-b2a0a462576c"
      },
      "execution_count": null,
      "outputs": [
        {
          "output_type": "stream",
          "name": "stdout",
          "text": [
            "              precision    recall  f1-score   support\n",
            "\n",
            "           0       0.93      0.98      0.96      2168\n",
            "           1       0.98      0.93      0.95      2182\n",
            "\n",
            "    accuracy                           0.95      4350\n",
            "   macro avg       0.96      0.95      0.95      4350\n",
            "weighted avg       0.96      0.95      0.95      4350\n",
            "\n"
          ]
        }
      ]
    },
    {
      "cell_type": "code",
      "source": [
        "# Calculate the metrics\n",
        "accuracy = accuracy_score(y_test, y_pred.round())\n",
        "precision = precision_score(y_test, y_pred.round())\n",
        "recall = recall_score(y_test, y_pred.round())\n",
        "f1 = f1_score(y_test, y_pred.round())\n",
        "\n",
        "# Print the metrics as percentages\n",
        "print('Accuracy: {:0.2f}%'.format(accuracy * 100))\n",
        "print('Precision: {:0.2f}%'.format(precision * 100))\n",
        "print('Recall: {:0.2f}%'.format(recall * 100))\n",
        "print('F1 Score: {:0.2f}%'.format(f1 * 100))"
      ],
      "metadata": {
        "colab": {
          "base_uri": "https://localhost:8080/"
        },
        "id": "64h8yEhXaxYl",
        "outputId": "f9e15016-4af4-4591-b04d-ddabb5e8706c"
      },
      "execution_count": null,
      "outputs": [
        {
          "output_type": "stream",
          "name": "stdout",
          "text": [
            "Accuracy: 95.43%\n",
            "Precision: 98.06%\n",
            "Recall: 92.71%\n",
            "F1 Score: 95.31%\n"
          ]
        }
      ]
    },
    {
      "cell_type": "code",
      "source": [
        "# Assuming X_train, X_val, X_test, y_train, y_val, y_test are your datasets\n",
        "# Convert to DataFrame for easier saving (if they are NumPy arrays)\n",
        "X_train_df = pd.DataFrame(X_train)\n",
        "X_val_df = pd.DataFrame(X_val)\n",
        "X_test_df = pd.DataFrame(X_test)\n",
        "y_train_df = pd.DataFrame(y_train)\n",
        "y_val_df = pd.DataFrame(y_val)\n",
        "y_test_df = pd.DataFrame(y_test)\n",
        "\n",
        "# Save to CSV\n",
        "X_train_df.to_csv('X_train_SMOTE.csv', index=False)\n",
        "X_val_df.to_csv('X_val_SMOTE.csv', index=False)\n",
        "X_test_df.to_csv('X_test_SMOTE.csv', index=False)\n",
        "y_train_df.to_csv('y_train_SMOTE.csv', index=False)\n",
        "y_val_df.to_csv('y_val_SMOTE.csv', index=False)\n",
        "y_test_df.to_csv('y_test_SMOTE.csv', index=False)"
      ],
      "metadata": {
        "id": "sD89FGrJa4-d"
      },
      "execution_count": null,
      "outputs": []
    },
    {
      "cell_type": "code",
      "source": [
        "model.save('CNN_SMOTE.keras')"
      ],
      "metadata": {
        "id": "-wWcfV8EbCIU"
      },
      "execution_count": null,
      "outputs": []
    },
    {
      "cell_type": "markdown",
      "source": [
        "#CNN-LSTM"
      ],
      "metadata": {
        "id": "3dE7-BZgdjkl"
      }
    },
    {
      "cell_type": "code",
      "source": [
        "from tensorflow.keras.models import Sequential\n",
        "from tensorflow.keras.layers import Dense,Flatten,Conv1D,BatchNormalization,Dropout, MaxPool1D, LSTM\n",
        "from tensorflow.keras.optimizers import Adam"
      ],
      "metadata": {
        "id": "DAbgpcbqdUGa"
      },
      "execution_count": null,
      "outputs": []
    },
    {
      "cell_type": "code",
      "source": [
        "model_lstm = Sequential()\n",
        "\n",
        "#1st layer\n",
        "model_lstm.add(Conv1D(filters=128, kernel_size=3, activation='relu', input_shape=X_train_re[0].shape))\n",
        "\n",
        "#2nd layer\n",
        "model_lstm.add(Conv1D(filters=64, kernel_size=3, activation='relu', input_shape=X_train_re[0].shape))\n",
        "\n",
        "#3rd layer\n",
        "model_lstm.add(LSTM(20, return_sequences=True, input_shape=X_train_re[0].shape))\n",
        "\n",
        "#4th layer\n",
        "#model.add(LSTM(256, return_sequences=True, input_shape=X_train_re[0].shape))\n",
        "\n",
        "# build DNN\n",
        "model_lstm.add(Flatten())\n",
        "model_lstm.add(Dense(1, activation='sigmoid'))"
      ],
      "metadata": {
        "id": "oVvRmRY_dn56"
      },
      "execution_count": null,
      "outputs": []
    },
    {
      "cell_type": "code",
      "source": [
        "model_lstm.summary()"
      ],
      "metadata": {
        "colab": {
          "base_uri": "https://localhost:8080/"
        },
        "id": "goHRPYgldp8u",
        "outputId": "1d5ac9ee-c929-4eaf-d42a-12b501027e28"
      },
      "execution_count": null,
      "outputs": [
        {
          "output_type": "stream",
          "name": "stdout",
          "text": [
            "Model: \"sequential_2\"\n",
            "_________________________________________________________________\n",
            " Layer (type)                Output Shape              Param #   \n",
            "=================================================================\n",
            " conv1d_4 (Conv1D)           (None, 62, 128)           512       \n",
            "                                                                 \n",
            " conv1d_5 (Conv1D)           (None, 60, 64)            24640     \n",
            "                                                                 \n",
            " lstm_1 (LSTM)               (None, 60, 20)            6800      \n",
            "                                                                 \n",
            " flatten_2 (Flatten)         (None, 1200)              0         \n",
            "                                                                 \n",
            " dense_3 (Dense)             (None, 1)                 1201      \n",
            "                                                                 \n",
            "=================================================================\n",
            "Total params: 33153 (129.50 KB)\n",
            "Trainable params: 33153 (129.50 KB)\n",
            "Non-trainable params: 0 (0.00 Byte)\n",
            "_________________________________________________________________\n"
          ]
        }
      ]
    },
    {
      "cell_type": "code",
      "source": [
        "model_lstm.compile(optimizer=Adam(learning_rate=1e-4), loss='binary_crossentropy', metrics=['accuracy'])"
      ],
      "metadata": {
        "id": "-Z4MuqBld1fd"
      },
      "execution_count": null,
      "outputs": []
    },
    {
      "cell_type": "code",
      "source": [
        "history = model_lstm.fit(X_train_re, y_train, epochs=50, validation_data=(X_val_re, y_val))"
      ],
      "metadata": {
        "colab": {
          "base_uri": "https://localhost:8080/"
        },
        "id": "j25ByFQWd5qv",
        "outputId": "35de76a0-4b15-4e18-a459-b2904c93cd0a"
      },
      "execution_count": null,
      "outputs": [
        {
          "output_type": "stream",
          "name": "stdout",
          "text": [
            "Epoch 1/50\n",
            "635/635 [==============================] - 9s 10ms/step - loss: 0.3519 - accuracy: 0.8723 - val_loss: 0.2118 - val_accuracy: 0.9271\n",
            "Epoch 2/50\n",
            "635/635 [==============================] - 5s 7ms/step - loss: 0.2083 - accuracy: 0.9256 - val_loss: 0.1938 - val_accuracy: 0.9297\n",
            "Epoch 3/50\n",
            "635/635 [==============================] - 5s 8ms/step - loss: 0.1951 - accuracy: 0.9286 - val_loss: 0.1952 - val_accuracy: 0.9264\n",
            "Epoch 4/50\n",
            "635/635 [==============================] - 5s 8ms/step - loss: 0.1873 - accuracy: 0.9300 - val_loss: 0.1788 - val_accuracy: 0.9303\n",
            "Epoch 5/50\n",
            "635/635 [==============================] - 5s 7ms/step - loss: 0.1811 - accuracy: 0.9308 - val_loss: 0.1717 - val_accuracy: 0.9382\n",
            "Epoch 6/50\n",
            "635/635 [==============================] - 8s 12ms/step - loss: 0.1780 - accuracy: 0.9317 - val_loss: 0.1651 - val_accuracy: 0.9370\n",
            "Epoch 7/50\n",
            "635/635 [==============================] - 5s 7ms/step - loss: 0.1742 - accuracy: 0.9332 - val_loss: 0.1628 - val_accuracy: 0.9359\n",
            "Epoch 8/50\n",
            "635/635 [==============================] - 5s 7ms/step - loss: 0.1719 - accuracy: 0.9332 - val_loss: 0.1588 - val_accuracy: 0.9409\n",
            "Epoch 9/50\n",
            "635/635 [==============================] - 6s 9ms/step - loss: 0.1693 - accuracy: 0.9347 - val_loss: 0.1616 - val_accuracy: 0.9402\n",
            "Epoch 10/50\n",
            "635/635 [==============================] - 4s 7ms/step - loss: 0.1670 - accuracy: 0.9349 - val_loss: 0.1554 - val_accuracy: 0.9398\n",
            "Epoch 11/50\n",
            "635/635 [==============================] - 5s 8ms/step - loss: 0.1651 - accuracy: 0.9348 - val_loss: 0.1528 - val_accuracy: 0.9409\n",
            "Epoch 12/50\n",
            "635/635 [==============================] - 5s 9ms/step - loss: 0.1639 - accuracy: 0.9354 - val_loss: 0.1531 - val_accuracy: 0.9389\n",
            "Epoch 13/50\n",
            "635/635 [==============================] - 5s 7ms/step - loss: 0.1627 - accuracy: 0.9356 - val_loss: 0.1527 - val_accuracy: 0.9405\n",
            "Epoch 14/50\n",
            "635/635 [==============================] - 6s 9ms/step - loss: 0.1607 - accuracy: 0.9373 - val_loss: 0.1527 - val_accuracy: 0.9398\n",
            "Epoch 15/50\n",
            "635/635 [==============================] - 5s 8ms/step - loss: 0.1601 - accuracy: 0.9381 - val_loss: 0.1499 - val_accuracy: 0.9418\n",
            "Epoch 16/50\n",
            "635/635 [==============================] - 5s 7ms/step - loss: 0.1582 - accuracy: 0.9374 - val_loss: 0.1479 - val_accuracy: 0.9421\n",
            "Epoch 17/50\n",
            "635/635 [==============================] - 6s 10ms/step - loss: 0.1572 - accuracy: 0.9369 - val_loss: 0.1476 - val_accuracy: 0.9428\n",
            "Epoch 18/50\n",
            "635/635 [==============================] - 5s 7ms/step - loss: 0.1571 - accuracy: 0.9376 - val_loss: 0.1487 - val_accuracy: 0.9411\n",
            "Epoch 19/50\n",
            "635/635 [==============================] - 6s 10ms/step - loss: 0.1555 - accuracy: 0.9382 - val_loss: 0.1511 - val_accuracy: 0.9405\n",
            "Epoch 20/50\n",
            "635/635 [==============================] - 5s 8ms/step - loss: 0.1537 - accuracy: 0.9388 - val_loss: 0.1502 - val_accuracy: 0.9416\n",
            "Epoch 21/50\n",
            "635/635 [==============================] - 5s 7ms/step - loss: 0.1530 - accuracy: 0.9392 - val_loss: 0.1463 - val_accuracy: 0.9416\n",
            "Epoch 22/50\n",
            "635/635 [==============================] - 6s 9ms/step - loss: 0.1521 - accuracy: 0.9384 - val_loss: 0.1487 - val_accuracy: 0.9386\n",
            "Epoch 23/50\n",
            "635/635 [==============================] - 5s 8ms/step - loss: 0.1521 - accuracy: 0.9394 - val_loss: 0.1440 - val_accuracy: 0.9444\n",
            "Epoch 24/50\n",
            "635/635 [==============================] - 5s 8ms/step - loss: 0.1506 - accuracy: 0.9390 - val_loss: 0.1519 - val_accuracy: 0.9372\n",
            "Epoch 25/50\n",
            "635/635 [==============================] - 6s 9ms/step - loss: 0.1500 - accuracy: 0.9407 - val_loss: 0.1434 - val_accuracy: 0.9455\n",
            "Epoch 26/50\n",
            "635/635 [==============================] - 5s 8ms/step - loss: 0.1499 - accuracy: 0.9394 - val_loss: 0.1443 - val_accuracy: 0.9437\n",
            "Epoch 27/50\n",
            "635/635 [==============================] - 6s 10ms/step - loss: 0.1489 - accuracy: 0.9412 - val_loss: 0.1491 - val_accuracy: 0.9407\n",
            "Epoch 28/50\n",
            "635/635 [==============================] - 5s 8ms/step - loss: 0.1476 - accuracy: 0.9412 - val_loss: 0.1433 - val_accuracy: 0.9418\n",
            "Epoch 29/50\n",
            "635/635 [==============================] - 5s 8ms/step - loss: 0.1473 - accuracy: 0.9414 - val_loss: 0.1428 - val_accuracy: 0.9425\n",
            "Epoch 30/50\n",
            "635/635 [==============================] - 6s 10ms/step - loss: 0.1464 - accuracy: 0.9418 - val_loss: 0.1437 - val_accuracy: 0.9428\n",
            "Epoch 31/50\n",
            "635/635 [==============================] - 5s 8ms/step - loss: 0.1460 - accuracy: 0.9413 - val_loss: 0.1432 - val_accuracy: 0.9441\n",
            "Epoch 32/50\n",
            "635/635 [==============================] - 6s 9ms/step - loss: 0.1452 - accuracy: 0.9421 - val_loss: 0.1465 - val_accuracy: 0.9405\n",
            "Epoch 33/50\n",
            "635/635 [==============================] - 5s 9ms/step - loss: 0.1453 - accuracy: 0.9411 - val_loss: 0.1411 - val_accuracy: 0.9444\n",
            "Epoch 34/50\n",
            "635/635 [==============================] - 5s 8ms/step - loss: 0.1440 - accuracy: 0.9425 - val_loss: 0.1516 - val_accuracy: 0.9395\n",
            "Epoch 35/50\n",
            "635/635 [==============================] - 6s 10ms/step - loss: 0.1434 - accuracy: 0.9423 - val_loss: 0.1427 - val_accuracy: 0.9430\n",
            "Epoch 36/50\n",
            "635/635 [==============================] - 5s 7ms/step - loss: 0.1424 - accuracy: 0.9424 - val_loss: 0.1436 - val_accuracy: 0.9421\n",
            "Epoch 37/50\n",
            "635/635 [==============================] - 5s 8ms/step - loss: 0.1420 - accuracy: 0.9425 - val_loss: 0.1426 - val_accuracy: 0.9428\n",
            "Epoch 38/50\n",
            "635/635 [==============================] - 5s 8ms/step - loss: 0.1420 - accuracy: 0.9430 - val_loss: 0.1405 - val_accuracy: 0.9457\n",
            "Epoch 39/50\n",
            "635/635 [==============================] - 5s 8ms/step - loss: 0.1410 - accuracy: 0.9442 - val_loss: 0.1405 - val_accuracy: 0.9448\n",
            "Epoch 40/50\n",
            "635/635 [==============================] - 6s 9ms/step - loss: 0.1409 - accuracy: 0.9443 - val_loss: 0.1428 - val_accuracy: 0.9437\n",
            "Epoch 41/50\n",
            "635/635 [==============================] - 5s 8ms/step - loss: 0.1409 - accuracy: 0.9425 - val_loss: 0.1432 - val_accuracy: 0.9430\n",
            "Epoch 42/50\n",
            "635/635 [==============================] - 5s 8ms/step - loss: 0.1399 - accuracy: 0.9439 - val_loss: 0.1416 - val_accuracy: 0.9434\n",
            "Epoch 43/50\n",
            "635/635 [==============================] - 6s 9ms/step - loss: 0.1392 - accuracy: 0.9443 - val_loss: 0.1417 - val_accuracy: 0.9451\n",
            "Epoch 44/50\n",
            "635/635 [==============================] - 5s 8ms/step - loss: 0.1388 - accuracy: 0.9439 - val_loss: 0.1422 - val_accuracy: 0.9439\n",
            "Epoch 45/50\n",
            "635/635 [==============================] - 5s 8ms/step - loss: 0.1378 - accuracy: 0.9445 - val_loss: 0.1395 - val_accuracy: 0.9455\n",
            "Epoch 46/50\n",
            "635/635 [==============================] - 5s 8ms/step - loss: 0.1382 - accuracy: 0.9451 - val_loss: 0.1398 - val_accuracy: 0.9451\n",
            "Epoch 47/50\n",
            "635/635 [==============================] - 5s 7ms/step - loss: 0.1372 - accuracy: 0.9449 - val_loss: 0.1394 - val_accuracy: 0.9455\n",
            "Epoch 48/50\n",
            "635/635 [==============================] - 5s 9ms/step - loss: 0.1373 - accuracy: 0.9446 - val_loss: 0.1380 - val_accuracy: 0.9446\n",
            "Epoch 49/50\n",
            "635/635 [==============================] - 5s 7ms/step - loss: 0.1362 - accuracy: 0.9462 - val_loss: 0.1405 - val_accuracy: 0.9430\n",
            "Epoch 50/50\n",
            "635/635 [==============================] - 5s 7ms/step - loss: 0.1356 - accuracy: 0.9464 - val_loss: 0.1382 - val_accuracy: 0.9464\n"
          ]
        }
      ]
    },
    {
      "cell_type": "markdown",
      "source": [
        "##Training and Validation plot"
      ],
      "metadata": {
        "id": "VhEFNwkulE_r"
      }
    },
    {
      "cell_type": "code",
      "source": [
        "accuracy = history.history[\"accuracy\"]\n",
        "val_accuracy = history.history[\"val_accuracy\"]\n",
        "loss = history.history[\"loss\"]\n",
        "val_loss = history.history[\"val_loss\"]\n",
        "epochs = range(1, len(accuracy) + 1)\n",
        "plt.plot(epochs, accuracy, \"bo\", label=\"Training accuracy\")\n",
        "plt.plot(epochs, val_accuracy, \"b\", label=\"Validation accuracy\")\n",
        "plt.title(\"Training and validation accuracy\")\n",
        "plt.legend()\n",
        "plt.figure()\n",
        "plt.plot(epochs, loss, \"bo\", label=\"Training loss\")\n",
        "plt.plot(epochs, val_loss, \"b\", label=\"Validation loss\")\n",
        "plt.title(\"Training and validation loss\")\n",
        "plt.legend()\n",
        "plt.show()"
      ],
      "metadata": {
        "colab": {
          "base_uri": "https://localhost:8080/",
          "height": 887
        },
        "id": "apqK4-swfdRF",
        "outputId": "77aec45f-7e35-4e30-fbae-bd11b49b8d1c"
      },
      "execution_count": null,
      "outputs": [
        {
          "output_type": "display_data",
          "data": {
            "text/plain": [
              "<Figure size 640x480 with 1 Axes>"
            ],
            "image/png": "[encoded data removed]"
          },
          "metadata": {}
        },
        {
          "output_type": "display_data",
          "data": {
            "text/plain": [
              "<Figure size 640x480 with 1 Axes>"
            ],
            "image/png": "[encoded data removed]"
          },
          "metadata": {}
        }
      ]
    },
    {
      "cell_type": "code",
      "source": [
        "score_lstm=model_lstm.evaluate(X_test_re, y_test)\n",
        "print(score_lstm)"
      ],
      "metadata": {
        "colab": {
          "base_uri": "https://localhost:8080/"
        },
        "id": "Yn3m5GU6flH8",
        "outputId": "122ea368-85b9-407f-dcb0-a0ade87da944"
      },
      "execution_count": null,
      "outputs": [
        {
          "output_type": "stream",
          "name": "stdout",
          "text": [
            "136/136 [==============================] - 1s 6ms/step - loss: 0.1363 - accuracy: 0.9457\n",
            "[0.136332705616951, 0.9457471370697021]\n"
          ]
        }
      ]
    },
    {
      "cell_type": "code",
      "source": [
        "y_pred_lstm = model_lstm.predict(X_test_re)"
      ],
      "metadata": {
        "colab": {
          "base_uri": "https://localhost:8080/"
        },
        "id": "wvxhlaofjwYk",
        "outputId": "25656ee2-c625-409e-a5b4-66a685bfc27f"
      },
      "execution_count": null,
      "outputs": [
        {
          "output_type": "stream",
          "name": "stdout",
          "text": [
            "136/136 [==============================] - 1s 5ms/step\n"
          ]
        }
      ]
    },
    {
      "cell_type": "code",
      "source": [
        "y_expected_lstm=pd.DataFrame(y_test)"
      ],
      "metadata": {
        "id": "7mw6QXRIfoNO"
      },
      "execution_count": null,
      "outputs": []
    },
    {
      "cell_type": "code",
      "source": [
        "cnf_lstm = confusion_matrix(y_test, y_pred_lstm.round())"
      ],
      "metadata": {
        "id": "N0y1_fbVkM62"
      },
      "execution_count": null,
      "outputs": []
    },
    {
      "cell_type": "markdown",
      "source": [
        "##Confusion Matrix"
      ],
      "metadata": {
        "id": "GM0slKiWk-51"
      }
    },
    {
      "cell_type": "code",
      "source": [
        "plt.figure()\n",
        "plot_confusion_matrix(cnf_lstm, classes=['Not Fraud','Fraud'], normalize = True,\n",
        "                      title='Confusion matrix, with normalization',text_fontsize=15)"
      ],
      "metadata": {
        "colab": {
          "base_uri": "https://localhost:8080/",
          "height": 542
        },
        "id": "lAJVpUxLkWxW",
        "outputId": "a482f23e-31d3-4752-c872-5336e555e3c1"
      },
      "execution_count": null,
      "outputs": [
        {
          "output_type": "stream",
          "name": "stdout",
          "text": [
            "Normalized confusion matrix\n",
            "[[0.98293358 0.01706642]\n",
            " [0.09120073 0.90879927]]\n"
          ]
        },
        {
          "output_type": "display_data",
          "data": {
            "text/plain": [
              "<Figure size 640x480 with 2 Axes>"
            ],
            "image/png": "[encoded data removed]"
          },
          "metadata": {}
        }
      ]
    },
    {
      "cell_type": "code",
      "source": [
        "plt.figure()\n",
        "plot_confusion_matrix(cnf_lstm, classes=['Not Fraud','Fraud'], normalize = False,\n",
        "                      title='Confusion matrix, with normalization',text_fontsize=15)"
      ],
      "metadata": {
        "colab": {
          "base_uri": "https://localhost:8080/",
          "height": 542
        },
        "id": "h-KgTct8kenX",
        "outputId": "e5e8d6f1-f487-49f2-d111-0ac469bb66ca"
      },
      "execution_count": null,
      "outputs": [
        {
          "output_type": "stream",
          "name": "stdout",
          "text": [
            "Confusion matrix, without normalization\n",
            "[[2131   37]\n",
            " [ 199 1983]]\n"
          ]
        },
        {
          "output_type": "display_data",
          "data": {
            "text/plain": [
              "<Figure size 640x480 with 2 Axes>"
            ],
            "image/png": "[encoded data removed]"
          },
          "metadata": {}
        }
      ]
    },
    {
      "cell_type": "markdown",
      "source": [
        "##CNN-LSTM Classification"
      ],
      "metadata": {
        "id": "ekYM06lZk57Y"
      }
    },
    {
      "cell_type": "code",
      "source": [
        "print(classification_report(y_test, y_pred_lstm.round()))"
      ],
      "metadata": {
        "colab": {
          "base_uri": "https://localhost:8080/"
        },
        "id": "KPdayu_vk3Sz",
        "outputId": "7efaaff5-928c-400c-b8af-863c1bd68185"
      },
      "execution_count": null,
      "outputs": [
        {
          "output_type": "stream",
          "name": "stdout",
          "text": [
            "              precision    recall  f1-score   support\n",
            "\n",
            "           0       0.91      0.98      0.95      2168\n",
            "           1       0.98      0.91      0.94      2182\n",
            "\n",
            "    accuracy                           0.95      4350\n",
            "   macro avg       0.95      0.95      0.95      4350\n",
            "weighted avg       0.95      0.95      0.95      4350\n",
            "\n"
          ]
        }
      ]
    },
    {
      "cell_type": "code",
      "source": [
        "# Calculate the metrics\n",
        "accuracy_lstm = accuracy_score(y_test, y_pred_lstm.round())\n",
        "precision_lstm = precision_score(y_test, y_pred_lstm.round())\n",
        "recall_lstm = recall_score(y_test, y_pred_lstm.round())\n",
        "f1_lstm = f1_score(y_test, y_pred_lstm.round())\n",
        "\n",
        "# Print the metrics as percentages\n",
        "print('Accuracy: {:0.2f}%'.format(accuracy_lstm * 100))\n",
        "print('Precision: {:0.2f}%'.format(precision_lstm * 100))\n",
        "print('Recall: {:0.2f}%'.format(recall_lstm * 100))\n",
        "print('F1 Score: {:0.2f}%'.format(f1_lstm * 100))"
      ],
      "metadata": {
        "colab": {
          "base_uri": "https://localhost:8080/"
        },
        "id": "o7AaYsXHkhbX",
        "outputId": "210967b7-30bd-4de5-81d9-f96792ad07e4"
      },
      "execution_count": null,
      "outputs": [
        {
          "output_type": "stream",
          "name": "stdout",
          "text": [
            "Accuracy: 94.57%\n",
            "Precision: 98.17%\n",
            "Recall: 90.88%\n",
            "F1 Score: 94.38%\n"
          ]
        }
      ]
    },
    {
      "cell_type": "code",
      "source": [
        "model_lstm.save('CNN-LSTM_SMOTE.keras')"
      ],
      "metadata": {
        "id": "qJykDS5WlXGG"
      },
      "execution_count": null,
      "outputs": []
    }
  ]
}