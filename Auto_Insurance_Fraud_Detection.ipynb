{
  "nbformat": 4,
  "nbformat_minor": 0,
  "metadata": {
    "colab": {
      "provenance": [],
      "gpuType": "T4",
      "authorship_tag": "ABX9TyPErLjPyzRUpr58UYZVyczg",
      "include_colab_link": true
    },
    "kernelspec": {
      "name": "python3",
      "display_name": "Python 3"
    },
    "language_info": {
      "name": "python"
    },
    "accelerator": "GPU"
  },
  "cells": [
    {
      "cell_type": "markdown",
      "metadata": {
        "id": "view-in-github",
        "colab_type": "text"
      },
      "source": [
        "<a href=\"https://colab.research.google.com/github/brnnwon/Fraud-detection/blob/V_2/Auto_Insurance_Fraud_Detection.ipynb\" target=\"_parent\"><img src=\"https://colab.research.google.com/assets/colab-badge.svg\" alt=\"Open In Colab\"/></a>"
      ]
    },
    {
      "cell_type": "code",
      "source": [
        "import numpy as np\n",
        "import pandas as pd\n",
        "import matplotlib.pyplot as plt\n",
        "import seaborn as sns"
      ],
      "metadata": {
        "id": "9vJ35EuGpuzv"
      },
      "execution_count": null,
      "outputs": []
    },
    {
      "cell_type": "markdown",
      "source": [
        "Import dataset"
      ],
      "metadata": {
        "id": "K2HpmGKsqlpR"
      }
    },
    {
      "cell_type": "code",
      "execution_count": null,
      "metadata": {
        "id": "m9jH0t9RphQe"
      },
      "outputs": [],
      "source": [
        "url = 'https://raw.githubusercontent.com/brnnwon/Fraud-detection/main/fraud_oracle.csv'\n",
        "\n",
        "df = pd.read_csv(url)"
      ]
    },
    {
      "cell_type": "code",
      "source": [
        "df.head()"
      ],
      "metadata": {
        "colab": {
          "base_uri": "https://localhost:8080/",
          "height": 255
        },
        "id": "hJhDgc_1qV-V",
        "outputId": "bf2233fe-4d87-4ef6-bced-325076c73c00"
      },
      "execution_count": null,
      "outputs": [
        {
          "output_type": "execute_result",
          "data": {
            "text/plain": [
              "  Month  WeekOfMonth  DayOfWeek    Make AccidentArea DayOfWeekClaimed  \\\n",
              "0   Dec            5  Wednesday   Honda        Urban          Tuesday   \n",
              "1   Jan            3  Wednesday   Honda        Urban           Monday   \n",
              "2   Oct            5     Friday   Honda        Urban         Thursday   \n",
              "3   Jun            2   Saturday  Toyota        Rural           Friday   \n",
              "4   Jan            5     Monday   Honda        Urban          Tuesday   \n",
              "\n",
              "  MonthClaimed  WeekOfMonthClaimed     Sex MaritalStatus  ...  AgeOfVehicle  \\\n",
              "0          Jan                   1  Female        Single  ...       3 years   \n",
              "1          Jan                   4    Male        Single  ...       6 years   \n",
              "2          Nov                   2    Male       Married  ...       7 years   \n",
              "3          Jul                   1    Male       Married  ...   more than 7   \n",
              "4          Feb                   2  Female        Single  ...       5 years   \n",
              "\n",
              "  AgeOfPolicyHolder PoliceReportFiled WitnessPresent AgentType  \\\n",
              "0          26 to 30                No             No  External   \n",
              "1          31 to 35               Yes             No  External   \n",
              "2          41 to 50                No             No  External   \n",
              "3          51 to 65               Yes             No  External   \n",
              "4          31 to 35                No             No  External   \n",
              "\n",
              "   NumberOfSuppliments  AddressChange_Claim  NumberOfCars  Year  BasePolicy  \n",
              "0                 none               1 year        3 to 4  1994   Liability  \n",
              "1                 none            no change     1 vehicle  1994   Collision  \n",
              "2                 none            no change     1 vehicle  1994   Collision  \n",
              "3          more than 5            no change     1 vehicle  1994   Liability  \n",
              "4                 none            no change     1 vehicle  1994   Collision  \n",
              "\n",
              "[5 rows x 33 columns]"
            ],
            "text/html": [
              "\n",
              "  <div id=\"df-0b06c105-02cf-4b7e-93fb-0cb23261e4c4\" class=\"colab-df-container\">\n",
              "    <div>\n",
              "<style scoped>\n",
              "    .dataframe tbody tr th:only-of-type {\n",
              "        vertical-align: middle;\n",
              "    }\n",
              "\n",
              "    .dataframe tbody tr th {\n",
              "        vertical-align: top;\n",
              "    }\n",
              "\n",
              "    .dataframe thead th {\n",
              "        text-align: right;\n",
              "    }\n",
              "</style>\n",
              "<table border=\"1\" class=\"dataframe\">\n",
              "  <thead>\n",
              "    <tr style=\"text-align: right;\">\n",
              "      <th></th>\n",
              "      <th>Month</th>\n",
              "      <th>WeekOfMonth</th>\n",
              "      <th>DayOfWeek</th>\n",
              "      <th>Make</th>\n",
              "      <th>AccidentArea</th>\n",
              "      <th>DayOfWeekClaimed</th>\n",
              "      <th>MonthClaimed</th>\n",
              "      <th>WeekOfMonthClaimed</th>\n",
              "      <th>Sex</th>\n",
              "      <th>MaritalStatus</th>\n",
              "      <th>...</th>\n",
              "      <th>AgeOfVehicle</th>\n",
              "      <th>AgeOfPolicyHolder</th>\n",
              "      <th>PoliceReportFiled</th>\n",
              "      <th>WitnessPresent</th>\n",
              "      <th>AgentType</th>\n",
              "      <th>NumberOfSuppliments</th>\n",
              "      <th>AddressChange_Claim</th>\n",
              "      <th>NumberOfCars</th>\n",
              "      <th>Year</th>\n",
              "      <th>BasePolicy</th>\n",
              "    </tr>\n",
              "  </thead>\n",
              "  <tbody>\n",
              "    <tr>\n",
              "      <th>0</th>\n",
              "      <td>Dec</td>\n",
              "      <td>5</td>\n",
              "      <td>Wednesday</td>\n",
              "      <td>Honda</td>\n",
              "      <td>Urban</td>\n",
              "      <td>Tuesday</td>\n",
              "      <td>Jan</td>\n",
              "      <td>1</td>\n",
              "      <td>Female</td>\n",
              "      <td>Single</td>\n",
              "      <td>...</td>\n",
              "      <td>3 years</td>\n",
              "      <td>26 to 30</td>\n",
              "      <td>No</td>\n",
              "      <td>No</td>\n",
              "      <td>External</td>\n",
              "      <td>none</td>\n",
              "      <td>1 year</td>\n",
              "      <td>3 to 4</td>\n",
              "      <td>1994</td>\n",
              "      <td>Liability</td>\n",
              "    </tr>\n",
              "    <tr>\n",
              "      <th>1</th>\n",
              "      <td>Jan</td>\n",
              "      <td>3</td>\n",
              "      <td>Wednesday</td>\n",
              "      <td>Honda</td>\n",
              "      <td>Urban</td>\n",
              "      <td>Monday</td>\n",
              "      <td>Jan</td>\n",
              "      <td>4</td>\n",
              "      <td>Male</td>\n",
              "      <td>Single</td>\n",
              "      <td>...</td>\n",
              "      <td>6 years</td>\n",
              "      <td>31 to 35</td>\n",
              "      <td>Yes</td>\n",
              "      <td>No</td>\n",
              "      <td>External</td>\n",
              "      <td>none</td>\n",
              "      <td>no change</td>\n",
              "      <td>1 vehicle</td>\n",
              "      <td>1994</td>\n",
              "      <td>Collision</td>\n",
              "    </tr>\n",
              "    <tr>\n",
              "      <th>2</th>\n",
              "      <td>Oct</td>\n",
              "      <td>5</td>\n",
              "      <td>Friday</td>\n",
              "      <td>Honda</td>\n",
              "      <td>Urban</td>\n",
              "      <td>Thursday</td>\n",
              "      <td>Nov</td>\n",
              "      <td>2</td>\n",
              "      <td>Male</td>\n",
              "      <td>Married</td>\n",
              "      <td>...</td>\n",
              "      <td>7 years</td>\n",
              "      <td>41 to 50</td>\n",
              "      <td>No</td>\n",
              "      <td>No</td>\n",
              "      <td>External</td>\n",
              "      <td>none</td>\n",
              "      <td>no change</td>\n",
              "      <td>1 vehicle</td>\n",
              "      <td>1994</td>\n",
              "      <td>Collision</td>\n",
              "    </tr>\n",
              "    <tr>\n",
              "      <th>3</th>\n",
              "      <td>Jun</td>\n",
              "      <td>2</td>\n",
              "      <td>Saturday</td>\n",
              "      <td>Toyota</td>\n",
              "      <td>Rural</td>\n",
              "      <td>Friday</td>\n",
              "      <td>Jul</td>\n",
              "      <td>1</td>\n",
              "      <td>Male</td>\n",
              "      <td>Married</td>\n",
              "      <td>...</td>\n",
              "      <td>more than 7</td>\n",
              "      <td>51 to 65</td>\n",
              "      <td>Yes</td>\n",
              "      <td>No</td>\n",
              "      <td>External</td>\n",
              "      <td>more than 5</td>\n",
              "      <td>no change</td>\n",
              "      <td>1 vehicle</td>\n",
              "      <td>1994</td>\n",
              "      <td>Liability</td>\n",
              "    </tr>\n",
              "    <tr>\n",
              "      <th>4</th>\n",
              "      <td>Jan</td>\n",
              "      <td>5</td>\n",
              "      <td>Monday</td>\n",
              "      <td>Honda</td>\n",
              "      <td>Urban</td>\n",
              "      <td>Tuesday</td>\n",
              "      <td>Feb</td>\n",
              "      <td>2</td>\n",
              "      <td>Female</td>\n",
              "      <td>Single</td>\n",
              "      <td>...</td>\n",
              "      <td>5 years</td>\n",
              "      <td>31 to 35</td>\n",
              "      <td>No</td>\n",
              "      <td>No</td>\n",
              "      <td>External</td>\n",
              "      <td>none</td>\n",
              "      <td>no change</td>\n",
              "      <td>1 vehicle</td>\n",
              "      <td>1994</td>\n",
              "      <td>Collision</td>\n",
              "    </tr>\n",
              "  </tbody>\n",
              "</table>\n",
              "<p>5 rows × 33 columns</p>\n",
              "</div>\n",
              "    <div class=\"colab-df-buttons\">\n",
              "\n",
              "  <div class=\"colab-df-container\">\n",
              "    <button class=\"colab-df-convert\" onclick=\"convertToInteractive('df-0b06c105-02cf-4b7e-93fb-0cb23261e4c4')\"\n",
              "            title=\"Convert this dataframe to an interactive table.\"\n",
              "            style=\"display:none;\">\n",
              "\n",
              "  <svg xmlns=\"http://www.w3.org/2000/svg\" height=\"24px\" viewBox=\"0 -960 960 960\">\n",
              "    <path d=\"M120-120v-720h720v720H120Zm60-500h600v-160H180v160Zm220 220h160v-160H400v160Zm0 220h160v-160H400v160ZM180-400h160v-160H180v160Zm440 0h160v-160H620v160ZM180-180h160v-160H180v160Zm440 0h160v-160H620v160Z\"/>\n",
              "  </svg>\n",
              "    </button>\n",
              "\n",
              "  <style>\n",
              "    .colab-df-container {\n",
              "      display:flex;\n",
              "      gap: 12px;\n",
              "    }\n",
              "\n",
              "    .colab-df-convert {\n",
              "      background-color: #E8F0FE;\n",
              "      border: none;\n",
              "      border-radius: 50%;\n",
              "      cursor: pointer;\n",
              "      display: none;\n",
              "      fill: #1967D2;\n",
              "      height: 32px;\n",
              "      padding: 0 0 0 0;\n",
              "      width: 32px;\n",
              "    }\n",
              "\n",
              "    .colab-df-convert:hover {\n",
              "      background-color: #E2EBFA;\n",
              "      box-shadow: 0px 1px 2px rgba(60, 64, 67, 0.3), 0px 1px 3px 1px rgba(60, 64, 67, 0.15);\n",
              "      fill: #174EA6;\n",
              "    }\n",
              "\n",
              "    .colab-df-buttons div {\n",
              "      margin-bottom: 4px;\n",
              "    }\n",
              "\n",
              "    [theme=dark] .colab-df-convert {\n",
              "      background-color: #3B4455;\n",
              "      fill: #D2E3FC;\n",
              "    }\n",
              "\n",
              "    [theme=dark] .colab-df-convert:hover {\n",
              "      background-color: #434B5C;\n",
              "      box-shadow: 0px 1px 3px 1px rgba(0, 0, 0, 0.15);\n",
              "      filter: drop-shadow(0px 1px 2px rgba(0, 0, 0, 0.3));\n",
              "      fill: #FFFFFF;\n",
              "    }\n",
              "  </style>\n",
              "\n",
              "    <script>\n",
              "      const buttonEl =\n",
              "        document.querySelector('#df-0b06c105-02cf-4b7e-93fb-0cb23261e4c4 button.colab-df-convert');\n",
              "      buttonEl.style.display =\n",
              "        google.colab.kernel.accessAllowed ? 'block' : 'none';\n",
              "\n",
              "      async function convertToInteractive(key) {\n",
              "        const element = document.querySelector('#df-0b06c105-02cf-4b7e-93fb-0cb23261e4c4');\n",
              "        const dataTable =\n",
              "          await google.colab.kernel.invokeFunction('convertToInteractive',\n",
              "                                                    [key], {});\n",
              "        if (!dataTable) return;\n",
              "\n",
              "        const docLinkHtml = 'Like what you see? Visit the ' +\n",
              "          '<a target=\"_blank\" href=https://colab.research.google.com/notebooks/data_table.ipynb>data table notebook</a>'\n",
              "          + ' to learn more about interactive tables.';\n",
              "        element.innerHTML = '';\n",
              "        dataTable['output_type'] = 'display_data';\n",
              "        await google.colab.output.renderOutput(dataTable, element);\n",
              "        const docLink = document.createElement('div');\n",
              "        docLink.innerHTML = docLinkHtml;\n",
              "        element.appendChild(docLink);\n",
              "      }\n",
              "    </script>\n",
              "  </div>\n",
              "\n",
              "\n",
              "<div id=\"df-15d8e4aa-dbfa-44ac-b7a0-bf9b0619289f\">\n",
              "  <button class=\"colab-df-quickchart\" onclick=\"quickchart('df-15d8e4aa-dbfa-44ac-b7a0-bf9b0619289f')\"\n",
              "            title=\"Suggest charts.\"\n",
              "            style=\"display:none;\">\n",
              "\n",
              "<svg xmlns=\"http://www.w3.org/2000/svg\" height=\"24px\"viewBox=\"0 0 24 24\"\n",
              "     width=\"24px\">\n",
              "    <g>\n",
              "        <path d=\"M19 3H5c-1.1 0-2 .9-2 2v14c0 1.1.9 2 2 2h14c1.1 0 2-.9 2-2V5c0-1.1-.9-2-2-2zM9 17H7v-7h2v7zm4 0h-2V7h2v10zm4 0h-2v-4h2v4z\"/>\n",
              "    </g>\n",
              "</svg>\n",
              "  </button>\n",
              "\n",
              "<style>\n",
              "  .colab-df-quickchart {\n",
              "    background-color: #E8F0FE;\n",
              "    border: none;\n",
              "    border-radius: 50%;\n",
              "    cursor: pointer;\n",
              "    display: none;\n",
              "    fill: #1967D2;\n",
              "    height: 32px;\n",
              "    padding: 0 0 0 0;\n",
              "    width: 32px;\n",
              "  }\n",
              "\n",
              "  .colab-df-quickchart:hover {\n",
              "    background-color: #E2EBFA;\n",
              "    box-shadow: 0px 1px 2px rgba(60, 64, 67, 0.3), 0px 1px 3px 1px rgba(60, 64, 67, 0.15);\n",
              "    fill: #174EA6;\n",
              "  }\n",
              "\n",
              "  [theme=dark] .colab-df-quickchart {\n",
              "    background-color: #3B4455;\n",
              "    fill: #D2E3FC;\n",
              "  }\n",
              "\n",
              "  [theme=dark] .colab-df-quickchart:hover {\n",
              "    background-color: #434B5C;\n",
              "    box-shadow: 0px 1px 3px 1px rgba(0, 0, 0, 0.15);\n",
              "    filter: drop-shadow(0px 1px 2px rgba(0, 0, 0, 0.3));\n",
              "    fill: #FFFFFF;\n",
              "  }\n",
              "</style>\n",
              "\n",
              "  <script>\n",
              "    async function quickchart(key) {\n",
              "      const charts = await google.colab.kernel.invokeFunction(\n",
              "          'suggestCharts', [key], {});\n",
              "    }\n",
              "    (() => {\n",
              "      let quickchartButtonEl =\n",
              "        document.querySelector('#df-15d8e4aa-dbfa-44ac-b7a0-bf9b0619289f button');\n",
              "      quickchartButtonEl.style.display =\n",
              "        google.colab.kernel.accessAllowed ? 'block' : 'none';\n",
              "    })();\n",
              "  </script>\n",
              "</div>\n",
              "    </div>\n",
              "  </div>\n"
            ]
          },
          "metadata": {},
          "execution_count": 3
        }
      ]
    },
    {
      "cell_type": "code",
      "source": [
        "df.shape"
      ],
      "metadata": {
        "colab": {
          "base_uri": "https://localhost:8080/"
        },
        "id": "eu7FcIugqbcg",
        "outputId": "cc6b7a5b-2730-4974-8ccc-3f82f882e770"
      },
      "execution_count": null,
      "outputs": [
        {
          "output_type": "execute_result",
          "data": {
            "text/plain": [
              "(15420, 33)"
            ]
          },
          "metadata": {},
          "execution_count": 4
        }
      ]
    },
    {
      "cell_type": "code",
      "source": [
        "df.columns"
      ],
      "metadata": {
        "colab": {
          "base_uri": "https://localhost:8080/"
        },
        "id": "whqzvNC5qgN1",
        "outputId": "b2ec0352-5c9a-41f5-c22f-5ea45f28a574"
      },
      "execution_count": null,
      "outputs": [
        {
          "output_type": "execute_result",
          "data": {
            "text/plain": [
              "Index(['Month', 'WeekOfMonth', 'DayOfWeek', 'Make', 'AccidentArea',\n",
              "       'DayOfWeekClaimed', 'MonthClaimed', 'WeekOfMonthClaimed', 'Sex',\n",
              "       'MaritalStatus', 'Age', 'Fault', 'PolicyType', 'VehicleCategory',\n",
              "       'VehiclePrice', 'FraudFound_P', 'PolicyNumber', 'RepNumber',\n",
              "       'Deductible', 'DriverRating', 'Days_Policy_Accident',\n",
              "       'Days_Policy_Claim', 'PastNumberOfClaims', 'AgeOfVehicle',\n",
              "       'AgeOfPolicyHolder', 'PoliceReportFiled', 'WitnessPresent', 'AgentType',\n",
              "       'NumberOfSuppliments', 'AddressChange_Claim', 'NumberOfCars', 'Year',\n",
              "       'BasePolicy'],\n",
              "      dtype='object')"
            ]
          },
          "metadata": {},
          "execution_count": 5
        }
      ]
    },
    {
      "cell_type": "code",
      "source": [
        "df['FraudFound_P'].value_counts()"
      ],
      "metadata": {
        "colab": {
          "base_uri": "https://localhost:8080/"
        },
        "id": "Xe86NdXcuBv_",
        "outputId": "12070c08-b4b3-412e-91eb-211a4b448853"
      },
      "execution_count": null,
      "outputs": [
        {
          "output_type": "execute_result",
          "data": {
            "text/plain": [
              "0    14497\n",
              "1      923\n",
              "Name: FraudFound_P, dtype: int64"
            ]
          },
          "metadata": {},
          "execution_count": 6
        }
      ]
    },
    {
      "cell_type": "markdown",
      "source": [
        "#Preprocessing"
      ],
      "metadata": {
        "id": "L-4Belim1RH4"
      }
    },
    {
      "cell_type": "code",
      "source": [
        "from sklearn.preprocessing import LabelEncoder, OneHotEncoder, OrdinalEncoder, StandardScaler\n",
        "from sklearn.model_selection import train_test_split\n",
        "from sklearn.metrics import accuracy_score, confusion_matrix, f1_score\n",
        "from collections import Counter\n",
        "\n",
        "from imblearn.over_sampling import ADASYN, SMOTE"
      ],
      "metadata": {
        "id": "jPD4vpU21TPV"
      },
      "execution_count": null,
      "outputs": []
    },
    {
      "cell_type": "code",
      "source": [
        "df.drop(columns = 'PolicyNumber', inplace = True)"
      ],
      "metadata": {
        "id": "5AA_vXfj2TZI"
      },
      "execution_count": null,
      "outputs": []
    },
    {
      "cell_type": "code",
      "source": [
        "for column in df:\n",
        "  print(column)\n",
        "  print(sorted(df[column].unique()), '\\n')"
      ],
      "metadata": {
        "colab": {
          "base_uri": "https://localhost:8080/"
        },
        "id": "wsG5f6Iy6Rit",
        "outputId": "01b88b0a-03f7-4779-f791-f2227ce0b581"
      },
      "execution_count": null,
      "outputs": [
        {
          "output_type": "stream",
          "name": "stdout",
          "text": [
            "Month\n",
            "['Apr', 'Aug', 'Dec', 'Feb', 'Jan', 'Jul', 'Jun', 'Mar', 'May', 'Nov', 'Oct', 'Sep'] \n",
            "\n",
            "WeekOfMonth\n",
            "[1, 2, 3, 4, 5] \n",
            "\n",
            "DayOfWeek\n",
            "['Friday', 'Monday', 'Saturday', 'Sunday', 'Thursday', 'Tuesday', 'Wednesday'] \n",
            "\n",
            "Make\n",
            "['Accura', 'BMW', 'Chevrolet', 'Dodge', 'Ferrari', 'Ford', 'Honda', 'Jaguar', 'Lexus', 'Mazda', 'Mecedes', 'Mercury', 'Nisson', 'Pontiac', 'Porche', 'Saab', 'Saturn', 'Toyota', 'VW'] \n",
            "\n",
            "AccidentArea\n",
            "['Rural', 'Urban'] \n",
            "\n",
            "DayOfWeekClaimed\n",
            "['0', 'Friday', 'Monday', 'Saturday', 'Sunday', 'Thursday', 'Tuesday', 'Wednesday'] \n",
            "\n",
            "MonthClaimed\n",
            "['0', 'Apr', 'Aug', 'Dec', 'Feb', 'Jan', 'Jul', 'Jun', 'Mar', 'May', 'Nov', 'Oct', 'Sep'] \n",
            "\n",
            "WeekOfMonthClaimed\n",
            "[1, 2, 3, 4, 5] \n",
            "\n",
            "Sex\n",
            "['Female', 'Male'] \n",
            "\n",
            "MaritalStatus\n",
            "['Divorced', 'Married', 'Single', 'Widow'] \n",
            "\n",
            "Age\n",
            "[0, 16, 17, 18, 19, 20, 21, 22, 23, 24, 25, 26, 27, 28, 29, 30, 31, 32, 33, 34, 35, 36, 37, 38, 39, 40, 41, 42, 43, 44, 45, 46, 47, 48, 49, 50, 51, 52, 53, 54, 55, 56, 57, 58, 59, 60, 61, 62, 63, 64, 65, 66, 67, 68, 69, 70, 71, 72, 73, 74, 75, 76, 77, 78, 79, 80] \n",
            "\n",
            "Fault\n",
            "['Policy Holder', 'Third Party'] \n",
            "\n",
            "PolicyType\n",
            "['Sedan - All Perils', 'Sedan - Collision', 'Sedan - Liability', 'Sport - All Perils', 'Sport - Collision', 'Sport - Liability', 'Utility - All Perils', 'Utility - Collision', 'Utility - Liability'] \n",
            "\n",
            "VehicleCategory\n",
            "['Sedan', 'Sport', 'Utility'] \n",
            "\n",
            "VehiclePrice\n",
            "['20000 to 29000', '30000 to 39000', '40000 to 59000', '60000 to 69000', 'less than 20000', 'more than 69000'] \n",
            "\n",
            "FraudFound_P\n",
            "[0, 1] \n",
            "\n",
            "RepNumber\n",
            "[1, 2, 3, 4, 5, 6, 7, 8, 9, 10, 11, 12, 13, 14, 15, 16] \n",
            "\n",
            "Deductible\n",
            "[300, 400, 500, 700] \n",
            "\n",
            "DriverRating\n",
            "[1, 2, 3, 4] \n",
            "\n",
            "Days_Policy_Accident\n",
            "['1 to 7', '15 to 30', '8 to 15', 'more than 30', 'none'] \n",
            "\n",
            "Days_Policy_Claim\n",
            "['15 to 30', '8 to 15', 'more than 30', 'none'] \n",
            "\n",
            "PastNumberOfClaims\n",
            "['1', '2 to 4', 'more than 4', 'none'] \n",
            "\n",
            "AgeOfVehicle\n",
            "['2 years', '3 years', '4 years', '5 years', '6 years', '7 years', 'more than 7', 'new'] \n",
            "\n",
            "AgeOfPolicyHolder\n",
            "['16 to 17', '18 to 20', '21 to 25', '26 to 30', '31 to 35', '36 to 40', '41 to 50', '51 to 65', 'over 65'] \n",
            "\n",
            "PoliceReportFiled\n",
            "['No', 'Yes'] \n",
            "\n",
            "WitnessPresent\n",
            "['No', 'Yes'] \n",
            "\n",
            "AgentType\n",
            "['External', 'Internal'] \n",
            "\n",
            "NumberOfSuppliments\n",
            "['1 to 2', '3 to 5', 'more than 5', 'none'] \n",
            "\n",
            "AddressChange_Claim\n",
            "['1 year', '2 to 3 years', '4 to 8 years', 'no change', 'under 6 months'] \n",
            "\n",
            "NumberOfCars\n",
            "['1 vehicle', '2 vehicles', '3 to 4', '5 to 8', 'more than 8'] \n",
            "\n",
            "Year\n",
            "[1994, 1995, 1996] \n",
            "\n",
            "BasePolicy\n",
            "['All Perils', 'Collision', 'Liability'] \n",
            "\n"
          ]
        }
      ]
    },
    {
      "cell_type": "code",
      "source": [
        "df['Age'].hist()"
      ],
      "metadata": {
        "colab": {
          "base_uri": "https://localhost:8080/",
          "height": 448
        },
        "id": "43cXauDx8ARa",
        "outputId": "f8532c96-bcac-4de1-f73b-20755fe0aed0"
      },
      "execution_count": null,
      "outputs": [
        {
          "output_type": "execute_result",
          "data": {
            "text/plain": [
              "<Axes: >"
            ]
          },
          "metadata": {},
          "execution_count": 10
        },
        {
          "output_type": "display_data",
          "data": {
            "text/plain": [
              "<Figure size 640x480 with 1 Axes>"
            ],
            "image/png": "[encoded data removed]"
          },
          "metadata": {}
        }
      ]
    },
    {
      "cell_type": "code",
      "source": [
        "mean_age = df[df['Age'] > 0]['Age'].mean()\n",
        "\n",
        "print(mean_age)"
      ],
      "metadata": {
        "colab": {
          "base_uri": "https://localhost:8080/"
        },
        "id": "VXfAVUYz9NNI",
        "outputId": "d4950c35-7b06-4f23-fcdd-f6a75758b5c0"
      },
      "execution_count": null,
      "outputs": [
        {
          "output_type": "stream",
          "name": "stdout",
          "text": [
            "40.700331125827816\n"
          ]
        }
      ]
    },
    {
      "cell_type": "code",
      "source": [
        "# Replace age values equal to 0 with the calculated mean\n",
        "df['Age'] = df['Age'].apply(lambda x: mean_age if x == 0 else x)"
      ],
      "metadata": {
        "id": "GVG7Hwmy9aap"
      },
      "execution_count": null,
      "outputs": []
    },
    {
      "cell_type": "code",
      "source": [
        "df['Age'].hist()"
      ],
      "metadata": {
        "colab": {
          "base_uri": "https://localhost:8080/",
          "height": 448
        },
        "id": "cujyaeMw9fFB",
        "outputId": "fdbd589d-ae10-42cc-f51a-a64d4088705d"
      },
      "execution_count": null,
      "outputs": [
        {
          "output_type": "execute_result",
          "data": {
            "text/plain": [
              "<Axes: >"
            ]
          },
          "metadata": {},
          "execution_count": 13
        },
        {
          "output_type": "display_data",
          "data": {
            "text/plain": [
              "<Figure size 640x480 with 1 Axes>"
            ],
            "image/png": "[encoded data removed]"
          },
          "metadata": {}
        }
      ]
    },
    {
      "cell_type": "code",
      "source": [
        "df['AccidentArea'] = df['AccidentArea'].replace({'Urban':1, 'Rural':0})\n",
        "df['Sex'] = df['Sex'].replace({'Female':1, 'Male':0})\n",
        "df['Fault'] = df['Fault'].replace({'Policy Holder':1, 'Third Party':0})\n",
        "df['PoliceReportFiled'] = df['PoliceReportFiled'].replace({'Yes':1, 'No':0})\n",
        "df['WitnessPresent'] = df['WitnessPresent'].replace({'Yes':1, 'No':0})\n",
        "df['AgentType'] = df['AgentType'].replace({'External':1, 'Internal':0})\n",
        "df['Month'] = df['Month'].replace({'Jan':1,'Feb':2,'Mar':3,'Apr':4,'May':5,'Jun':6,'Jul':7,'Aug':8,'Sep':9,'Oct':10,'Nov':11,'Dec':12})\n",
        "df['DayOfWeek'] = df['DayOfWeek'].replace({'Monday':1,'Tuesday':2,'Wednesday':3,'Thursday':4,'Friday':5,'Saturday':6,'Sunday':7})\n",
        "df['MonthClaimed'] = df['MonthClaimed'].replace({'0':0,'Jan':1,'Feb':2,'Mar':3,'Apr':4,'May':5,'Jun':6,'Jul':7,'Aug':8,'Sep':9,'Oct':10,'Nov':11,'Dec':12})\n",
        "df['DayOfWeekClaimed'] = df['DayOfWeekClaimed'].replace({'0':0,'Monday':1,'Tuesday':2,'Wednesday':3,'Thursday':4,'Friday':5,'Saturday':6,'Sunday':7})\n",
        "df['PastNumberOfClaims'] = df['PastNumberOfClaims'].replace({'none':0 ,'1':1,'2 to 4':2,'more than 4':3})\n",
        "df['NumberOfSuppliments'] = df['NumberOfSuppliments'].replace({'none':0,'1 to 2':1,'3 to 5':2,'more than 5':4})\n",
        "df['VehiclePrice'] = df['VehiclePrice'].replace({'less than 20000':0,'20000 to 29000':1,'30000 to 39000':2,\n",
        "                                                 '40000 to 59000':3,'60000 to 69000':4,'more than 69000':5})\n",
        "df['AgeOfVehicle'] = df['AgeOfVehicle'].replace({'3 years':3,'6 years':6,'7 years':7,'more than 7':8,'5 years':5,'new':0,'4 years':4,'2 years':2})\n",
        "df['Days_Policy_Accident'] = df['Days_Policy_Accident'].replace({'none':0, '1 to 7':1, '8 to 15':2, '15 to 30':3, 'more than 30':4})\n",
        "df['Days_Policy_Claim'] = df['Days_Policy_Claim'].replace({'none':0, '8 to 15':1, '15 to 30':2, 'more than 30':3})\n",
        "df['AgeOfPolicyHolder'] = df['AgeOfPolicyHolder'].replace({'16 to 17':0, '18 to 20':1, '21 to 25':2, '26 to 30':3, '31 to 35':4, '36 to 40':5, '41 to 50':6, '51 to 65':7, 'over 65':8})\n",
        "df['AddressChange_Claim'] = df['AddressChange_Claim'].replace({'no change':0, 'under 6 months':1, '1 year':2, '2 to 3 years':3, '4 to 8 years':4})\n",
        "df['NumberOfCars'] = df['NumberOfCars'].replace({'1 vehicle':0, '2 vehicles':1, '3 to 4':2, '5 to 8':3, 'more than 8':4})"
      ],
      "metadata": {
        "id": "uHpkPdGzA9j6"
      },
      "execution_count": null,
      "outputs": []
    },
    {
      "cell_type": "code",
      "source": [
        "# Calculate the median of non-zero day-of-week values\n",
        "median_day_of_week = df[df['DayOfWeekClaimed'] != 0]['DayOfWeekClaimed'].mode()\n",
        "print(median_day_of_week)"
      ],
      "metadata": {
        "colab": {
          "base_uri": "https://localhost:8080/"
        },
        "id": "pOOYMHBPGVO4",
        "outputId": "b9a2e768-7d55-499a-a6a6-096b1f606ba8"
      },
      "execution_count": null,
      "outputs": [
        {
          "output_type": "stream",
          "name": "stdout",
          "text": [
            "0    1\n",
            "Name: DayOfWeekClaimed, dtype: int64\n"
          ]
        }
      ]
    },
    {
      "cell_type": "code",
      "source": [
        "# Replace '0' values with the calculated median\n",
        "df['DayOfWeekClaimed'] = df['DayOfWeekClaimed'].apply(lambda x: median_day_of_week if x == 0 else x)"
      ],
      "metadata": {
        "id": "rHz4YHiIGY7j"
      },
      "execution_count": null,
      "outputs": []
    },
    {
      "cell_type": "code",
      "source": [
        "mode_month_claimed = df[df['MonthClaimed'] != 0]['MonthClaimed'].mode()\n",
        "print(mode_month_claimed)"
      ],
      "metadata": {
        "colab": {
          "base_uri": "https://localhost:8080/"
        },
        "id": "HfshFcjfGlT6",
        "outputId": "c0075e9d-8536-4429-85d5-675c048bff47"
      },
      "execution_count": null,
      "outputs": [
        {
          "output_type": "stream",
          "name": "stdout",
          "text": [
            "0    1\n",
            "Name: MonthClaimed, dtype: int64\n"
          ]
        }
      ]
    },
    {
      "cell_type": "code",
      "source": [
        "# Replace '0' values with the calculated median\n",
        "df['MonthClaimed'] = df['MonthClaimed'].apply(lambda x: mode_month_claimed if x == 0 else x)"
      ],
      "metadata": {
        "id": "W8WmqxutGyIF"
      },
      "execution_count": null,
      "outputs": []
    },
    {
      "cell_type": "code",
      "source": [
        "ohe_cols = ['Make', 'MaritalStatus', 'PolicyType', 'VehicleCategory', 'BasePolicy']"
      ],
      "metadata": {
        "id": "RKRI64MpHq2Z"
      },
      "execution_count": null,
      "outputs": []
    },
    {
      "cell_type": "code",
      "source": [
        "df = pd.get_dummies(df, columns=ohe_cols)"
      ],
      "metadata": {
        "id": "oXvZhuJBIQqQ"
      },
      "execution_count": null,
      "outputs": []
    },
    {
      "cell_type": "code",
      "source": [
        "df.info()"
      ],
      "metadata": {
        "colab": {
          "base_uri": "https://localhost:8080/"
        },
        "id": "GD2pzIloIdra",
        "outputId": "867df2bc-448d-4849-890a-261ef5c94fa0"
      },
      "execution_count": null,
      "outputs": [
        {
          "output_type": "stream",
          "name": "stdout",
          "text": [
            "<class 'pandas.core.frame.DataFrame'>\n",
            "RangeIndex: 15420 entries, 0 to 15419\n",
            "Data columns (total 65 columns):\n",
            " #   Column                           Non-Null Count  Dtype  \n",
            "---  ------                           --------------  -----  \n",
            " 0   Month                            15420 non-null  int64  \n",
            " 1   WeekOfMonth                      15420 non-null  int64  \n",
            " 2   DayOfWeek                        15420 non-null  int64  \n",
            " 3   AccidentArea                     15420 non-null  int64  \n",
            " 4   DayOfWeekClaimed                 15420 non-null  object \n",
            " 5   MonthClaimed                     15420 non-null  object \n",
            " 6   WeekOfMonthClaimed               15420 non-null  int64  \n",
            " 7   Sex                              15420 non-null  int64  \n",
            " 8   Age                              15420 non-null  float64\n",
            " 9   Fault                            15420 non-null  int64  \n",
            " 10  VehiclePrice                     15420 non-null  int64  \n",
            " 11  FraudFound_P                     15420 non-null  int64  \n",
            " 12  RepNumber                        15420 non-null  int64  \n",
            " 13  Deductible                       15420 non-null  int64  \n",
            " 14  DriverRating                     15420 non-null  int64  \n",
            " 15  Days_Policy_Accident             15420 non-null  int64  \n",
            " 16  Days_Policy_Claim                15420 non-null  int64  \n",
            " 17  PastNumberOfClaims               15420 non-null  int64  \n",
            " 18  AgeOfVehicle                     15420 non-null  int64  \n",
            " 19  AgeOfPolicyHolder                15420 non-null  int64  \n",
            " 20  PoliceReportFiled                15420 non-null  int64  \n",
            " 21  WitnessPresent                   15420 non-null  int64  \n",
            " 22  AgentType                        15420 non-null  int64  \n",
            " 23  NumberOfSuppliments              15420 non-null  int64  \n",
            " 24  AddressChange_Claim              15420 non-null  int64  \n",
            " 25  NumberOfCars                     15420 non-null  int64  \n",
            " 26  Year                             15420 non-null  int64  \n",
            " 27  Make_Accura                      15420 non-null  uint8  \n",
            " 28  Make_BMW                         15420 non-null  uint8  \n",
            " 29  Make_Chevrolet                   15420 non-null  uint8  \n",
            " 30  Make_Dodge                       15420 non-null  uint8  \n",
            " 31  Make_Ferrari                     15420 non-null  uint8  \n",
            " 32  Make_Ford                        15420 non-null  uint8  \n",
            " 33  Make_Honda                       15420 non-null  uint8  \n",
            " 34  Make_Jaguar                      15420 non-null  uint8  \n",
            " 35  Make_Lexus                       15420 non-null  uint8  \n",
            " 36  Make_Mazda                       15420 non-null  uint8  \n",
            " 37  Make_Mecedes                     15420 non-null  uint8  \n",
            " 38  Make_Mercury                     15420 non-null  uint8  \n",
            " 39  Make_Nisson                      15420 non-null  uint8  \n",
            " 40  Make_Pontiac                     15420 non-null  uint8  \n",
            " 41  Make_Porche                      15420 non-null  uint8  \n",
            " 42  Make_Saab                        15420 non-null  uint8  \n",
            " 43  Make_Saturn                      15420 non-null  uint8  \n",
            " 44  Make_Toyota                      15420 non-null  uint8  \n",
            " 45  Make_VW                          15420 non-null  uint8  \n",
            " 46  MaritalStatus_Divorced           15420 non-null  uint8  \n",
            " 47  MaritalStatus_Married            15420 non-null  uint8  \n",
            " 48  MaritalStatus_Single             15420 non-null  uint8  \n",
            " 49  MaritalStatus_Widow              15420 non-null  uint8  \n",
            " 50  PolicyType_Sedan - All Perils    15420 non-null  uint8  \n",
            " 51  PolicyType_Sedan - Collision     15420 non-null  uint8  \n",
            " 52  PolicyType_Sedan - Liability     15420 non-null  uint8  \n",
            " 53  PolicyType_Sport - All Perils    15420 non-null  uint8  \n",
            " 54  PolicyType_Sport - Collision     15420 non-null  uint8  \n",
            " 55  PolicyType_Sport - Liability     15420 non-null  uint8  \n",
            " 56  PolicyType_Utility - All Perils  15420 non-null  uint8  \n",
            " 57  PolicyType_Utility - Collision   15420 non-null  uint8  \n",
            " 58  PolicyType_Utility - Liability   15420 non-null  uint8  \n",
            " 59  VehicleCategory_Sedan            15420 non-null  uint8  \n",
            " 60  VehicleCategory_Sport            15420 non-null  uint8  \n",
            " 61  VehicleCategory_Utility          15420 non-null  uint8  \n",
            " 62  BasePolicy_All Perils            15420 non-null  uint8  \n",
            " 63  BasePolicy_Collision             15420 non-null  uint8  \n",
            " 64  BasePolicy_Liability             15420 non-null  uint8  \n",
            "dtypes: float64(1), int64(24), object(2), uint8(38)\n",
            "memory usage: 3.7+ MB\n"
          ]
        }
      ]
    },
    {
      "cell_type": "code",
      "source": [
        "X = df.drop('FraudFound_P', axis = 1)\n",
        "y = df['FraudFound_P']"
      ],
      "metadata": {
        "id": "-ZdXyhquQeo0"
      },
      "execution_count": null,
      "outputs": []
    },
    {
      "cell_type": "code",
      "source": [
        "print(X.shape, y.shape)"
      ],
      "metadata": {
        "colab": {
          "base_uri": "https://localhost:8080/"
        },
        "id": "z2qXGEtnQr2j",
        "outputId": "65742b45-d394-4ceb-e09e-e56ce1bc60ec"
      },
      "execution_count": null,
      "outputs": [
        {
          "output_type": "stream",
          "name": "stdout",
          "text": [
            "(15420, 64) (15420,)\n"
          ]
        }
      ]
    },
    {
      "cell_type": "code",
      "source": [
        "counter = Counter(y)\n",
        "print(counter)"
      ],
      "metadata": {
        "colab": {
          "base_uri": "https://localhost:8080/"
        },
        "id": "Nb2pXVAkQvXs",
        "outputId": "12293ef5-e546-4e6f-90a0-733b6efa3b9a"
      },
      "execution_count": null,
      "outputs": [
        {
          "output_type": "stream",
          "name": "stdout",
          "text": [
            "Counter({0: 14497, 1: 923})\n"
          ]
        }
      ]
    },
    {
      "cell_type": "code",
      "source": [
        "ada = ADASYN()"
      ],
      "metadata": {
        "id": "1dGgeQpzQ1hQ"
      },
      "execution_count": null,
      "outputs": []
    },
    {
      "cell_type": "code",
      "source": [
        "# transform the dataset\n",
        "X, y = ADASYN().fit_resample(X, y)\n",
        "X_train_re, X_test_re, y_train_re, y_test_re = train_test_split(X, y, test_size=0.2)"
      ],
      "metadata": {
        "id": "0q8NqeGJQ3pX"
      },
      "execution_count": null,
      "outputs": []
    },
    {
      "cell_type": "code",
      "source": [
        "print(X_train_re.shape, y_train_re.shape)"
      ],
      "metadata": {
        "colab": {
          "base_uri": "https://localhost:8080/"
        },
        "id": "gmwh_2XUQ57S",
        "outputId": "9ccb1ec8-4fa3-45c8-aec5-225ec95b96ca"
      },
      "execution_count": null,
      "outputs": [
        {
          "output_type": "stream",
          "name": "stdout",
          "text": [
            "(23143, 64) (23143,)\n"
          ]
        }
      ]
    },
    {
      "cell_type": "code",
      "source": [
        "# summarize the new class distribution\n",
        "counter = Counter(y)\n",
        "print(counter)"
      ],
      "metadata": {
        "colab": {
          "base_uri": "https://localhost:8080/"
        },
        "id": "hdIfwvSUQ9zN",
        "outputId": "c8998f23-4c61-4721-b95c-96ac2309adac"
      },
      "execution_count": null,
      "outputs": [
        {
          "output_type": "stream",
          "name": "stdout",
          "text": [
            "Counter({0: 14497, 1: 14432})\n"
          ]
        }
      ]
    },
    {
      "cell_type": "code",
      "source": [
        "scaler = StandardScaler()\n",
        "X_train_re = scaler.fit_transform(X_train_re)\n",
        "X_test_re = scaler.fit_transform(X_test_re)"
      ],
      "metadata": {
        "id": "BrTTcWiwRALF"
      },
      "execution_count": null,
      "outputs": []
    },
    {
      "cell_type": "code",
      "source": [
        "X_train_re"
      ],
      "metadata": {
        "colab": {
          "base_uri": "https://localhost:8080/"
        },
        "id": "3J6LjAV0RC9E",
        "outputId": "9951f7e4-694a-4222-95dd-2abb942fa566"
      },
      "execution_count": null,
      "outputs": [
        {
          "output_type": "execute_result",
          "data": {
            "text/plain": [
              "array([[ 0.28300105,  1.99564382, -0.36900423, ...,  1.57651247,\n",
              "        -0.71004199, -0.45787417],\n",
              "       [ 0.58000329,  0.34115036,  0.68503981, ..., -0.63431151,\n",
              "        -0.71004199, -0.45787417],\n",
              "       [-0.31100342, -0.48609637,  1.73908385, ..., -0.63431151,\n",
              "         1.40836741, -0.45787417],\n",
              "       ...,\n",
              "       [ 0.58000329,  0.34115036,  0.15801779, ..., -0.63431151,\n",
              "         1.40836741, -0.45787417],\n",
              "       [-1.49901236, -1.3133431 , -0.36900423, ...,  1.57651247,\n",
              "        -0.71004199, -0.45787417],\n",
              "       [-1.49901236,  1.16839709, -0.36900423, ..., -0.63431151,\n",
              "        -0.71004199, -0.45787417]])"
            ]
          },
          "metadata": {},
          "execution_count": 31
        }
      ]
    },
    {
      "cell_type": "code",
      "source": [
        "#Change the shape so that our model can process the data\n",
        "X_train_re=X_train_re.reshape(X_train_re.shape[0],X_train_re.shape[1],1)\n",
        "X_test_re=X_test_re.reshape(X_test_re.shape[0],X_test_re.shape[1],1)\n",
        "\n",
        "# check the shape again\n",
        "X_train_re.shape, X_test_re.shape"
      ],
      "metadata": {
        "colab": {
          "base_uri": "https://localhost:8080/"
        },
        "id": "TBzoRHolRFhx",
        "outputId": "4a5646ed-73db-46b7-cb00-237516dc4540"
      },
      "execution_count": null,
      "outputs": [
        {
          "output_type": "execute_result",
          "data": {
            "text/plain": [
              "((23143, 64, 1), (5786, 64, 1))"
            ]
          },
          "metadata": {},
          "execution_count": 32
        }
      ]
    },
    {
      "cell_type": "markdown",
      "source": [
        "#Create The CNN Model"
      ],
      "metadata": {
        "id": "BllBQKQORL0x"
      }
    },
    {
      "cell_type": "code",
      "source": [
        "from tensorflow.keras.models import Sequential\n",
        "from tensorflow.keras.layers import Dense,Flatten,Conv1D,BatchNormalization,Dropout, MaxPool1D\n",
        "from tensorflow.keras.optimizers import Adam"
      ],
      "metadata": {
        "id": "_JSgSLsNRJKD"
      },
      "execution_count": null,
      "outputs": []
    },
    {
      "cell_type": "code",
      "source": [
        "model = Sequential()\n",
        "\n",
        "#1st layer\n",
        "model.add(Conv1D(filters=32, kernel_size=2, activation='relu', input_shape=X_train_re[0].shape))\n",
        "model.add(BatchNormalization())\n",
        "model.add(MaxPool1D(pool_size=2))\n",
        "model.add(Dropout(rate=0.2))\n",
        "#2nd layer\n",
        "model.add(Conv1D(filters=64, kernel_size=2, activation='relu'))\n",
        "model.add(BatchNormalization())\n",
        "model.add(MaxPool1D(pool_size=2))\n",
        "model.add(Dropout(rate=0.2))\n",
        "# build ANN\n",
        "model.add(Flatten())\n",
        "model.add(Dense(64, activation='relu'))\n",
        "model.add(Dropout(0.5))\n",
        "model.add(Dense(1, activation='sigmoid'))"
      ],
      "metadata": {
        "id": "zeyME4HfRRa9"
      },
      "execution_count": null,
      "outputs": []
    },
    {
      "cell_type": "code",
      "source": [
        "model.summary()"
      ],
      "metadata": {
        "colab": {
          "base_uri": "https://localhost:8080/"
        },
        "id": "NCu4XUvbRV10",
        "outputId": "67a44c0f-d87e-4680-edd6-a68e6d166eb2"
      },
      "execution_count": null,
      "outputs": [
        {
          "output_type": "stream",
          "name": "stdout",
          "text": [
            "Model: \"sequential\"\n",
            "_________________________________________________________________\n",
            " Layer (type)                Output Shape              Param #   \n",
            "=================================================================\n",
            " conv1d (Conv1D)             (None, 63, 32)            96        \n",
            "                                                                 \n",
            " batch_normalization (BatchN  (None, 63, 32)           128       \n",
            " ormalization)                                                   \n",
            "                                                                 \n",
            " max_pooling1d (MaxPooling1D  (None, 31, 32)           0         \n",
            " )                                                               \n",
            "                                                                 \n",
            " dropout (Dropout)           (None, 31, 32)            0         \n",
            "                                                                 \n",
            " conv1d_1 (Conv1D)           (None, 30, 64)            4160      \n",
            "                                                                 \n",
            " batch_normalization_1 (Batc  (None, 30, 64)           256       \n",
            " hNormalization)                                                 \n",
            "                                                                 \n",
            " max_pooling1d_1 (MaxPooling  (None, 15, 64)           0         \n",
            " 1D)                                                             \n",
            "                                                                 \n",
            " dropout_1 (Dropout)         (None, 15, 64)            0         \n",
            "                                                                 \n",
            " flatten (Flatten)           (None, 960)               0         \n",
            "                                                                 \n",
            " dense (Dense)               (None, 64)                61504     \n",
            "                                                                 \n",
            " dropout_2 (Dropout)         (None, 64)                0         \n",
            "                                                                 \n",
            " dense_1 (Dense)             (None, 1)                 65        \n",
            "                                                                 \n",
            "=================================================================\n",
            "Total params: 66,209\n",
            "Trainable params: 66,017\n",
            "Non-trainable params: 192\n",
            "_________________________________________________________________\n"
          ]
        }
      ]
    },
    {
      "cell_type": "code",
      "source": [
        "model.compile(optimizer=Adam(learning_rate=1e-4), loss='binary_crossentropy', metrics=['accuracy'])"
      ],
      "metadata": {
        "id": "gdNgPAdYRe4S"
      },
      "execution_count": null,
      "outputs": []
    },
    {
      "cell_type": "code",
      "source": [
        "history = model.fit(X_train_re, y_train_re, epochs=10, validation_data=(X_test_re,y_test_re))"
      ],
      "metadata": {
        "colab": {
          "base_uri": "https://localhost:8080/"
        },
        "id": "JWPGmBJERih7",
        "outputId": "6712877b-ba60-4b84-8837-957be0268d10"
      },
      "execution_count": null,
      "outputs": [
        {
          "output_type": "stream",
          "name": "stdout",
          "text": [
            "Epoch 1/10\n",
            "724/724 [==============================] - 18s 7ms/step - loss: 0.4391 - accuracy: 0.8231 - val_loss: 0.2232 - val_accuracy: 0.9257\n",
            "Epoch 2/10\n",
            "724/724 [==============================] - 4s 6ms/step - loss: 0.2784 - accuracy: 0.8922 - val_loss: 0.1894 - val_accuracy: 0.9350\n",
            "Epoch 3/10\n",
            "724/724 [==============================] - 4s 6ms/step - loss: 0.2405 - accuracy: 0.9037 - val_loss: 0.1760 - val_accuracy: 0.9383\n",
            "Epoch 4/10\n",
            "724/724 [==============================] - 5s 7ms/step - loss: 0.2210 - accuracy: 0.9128 - val_loss: 0.1676 - val_accuracy: 0.9381\n",
            "Epoch 5/10\n",
            "724/724 [==============================] - 5s 6ms/step - loss: 0.2073 - accuracy: 0.9187 - val_loss: 0.1638 - val_accuracy: 0.9390\n",
            "Epoch 6/10\n",
            "724/724 [==============================] - 4s 6ms/step - loss: 0.1968 - accuracy: 0.9205 - val_loss: 0.1576 - val_accuracy: 0.9399\n",
            "Epoch 7/10\n",
            "724/724 [==============================] - 5s 7ms/step - loss: 0.1912 - accuracy: 0.9222 - val_loss: 0.1557 - val_accuracy: 0.9407\n",
            "Epoch 8/10\n",
            "724/724 [==============================] - 5s 6ms/step - loss: 0.1843 - accuracy: 0.9268 - val_loss: 0.1530 - val_accuracy: 0.9411\n",
            "Epoch 9/10\n",
            "724/724 [==============================] - 5s 7ms/step - loss: 0.1848 - accuracy: 0.9251 - val_loss: 0.1526 - val_accuracy: 0.9404\n",
            "Epoch 10/10\n",
            "724/724 [==============================] - 4s 6ms/step - loss: 0.1747 - accuracy: 0.9295 - val_loss: 0.1497 - val_accuracy: 0.9411\n"
          ]
        }
      ]
    },
    {
      "cell_type": "code",
      "source": [
        "accuracy = history.history[\"accuracy\"]\n",
        "val_accuracy = history.history[\"val_accuracy\"]\n",
        "loss = history.history[\"loss\"]\n",
        "val_loss = history.history[\"val_loss\"]\n",
        "epochs = range(1, len(accuracy) + 1)\n",
        "plt.plot(epochs, accuracy, \"bo\", label=\"Training accuracy\")\n",
        "plt.plot(epochs, val_accuracy, \"b\", label=\"Validation accuracy\")\n",
        "plt.title(\"Training and validation accuracy\")\n",
        "plt.legend()\n",
        "plt.figure()\n",
        "plt.plot(epochs, loss, \"bo\", label=\"Training loss\")\n",
        "plt.plot(epochs, val_loss, \"b\", label=\"Validation loss\")\n",
        "plt.title(\"Training and validation loss\")\n",
        "plt.legend()\n",
        "plt.show()"
      ],
      "metadata": {
        "colab": {
          "base_uri": "https://localhost:8080/",
          "height": 887
        },
        "id": "1HDibJrqSvLt",
        "outputId": "689fbbf2-aee7-4178-d2ab-827b53a181dc"
      },
      "execution_count": null,
      "outputs": [
        {
          "output_type": "display_data",
          "data": {
            "text/plain": [
              "<Figure size 640x480 with 1 Axes>"
            ],
            "image/png": "[encoded data removed]"
          },
          "metadata": {}
        },
        {
          "output_type": "display_data",
          "data": {
            "text/plain": [
              "<Figure size 640x480 with 1 Axes>"
            ],
            "image/png": "[encoded data removed]"
          },
          "metadata": {}
        }
      ]
    },
    {
      "cell_type": "code",
      "source": [
        "score=model.evaluate(X_test_re,y_test_re)\n",
        "print(score)"
      ],
      "metadata": {
        "colab": {
          "base_uri": "https://localhost:8080/"
        },
        "id": "U3ob-i4TS75o",
        "outputId": "6322eb15-a192-41d3-e6da-4a8ecf812c2b"
      },
      "execution_count": null,
      "outputs": [
        {
          "output_type": "stream",
          "name": "stdout",
          "text": [
            "181/181 [==============================] - 0s 2ms/step - loss: 0.1497 - accuracy: 0.9411\n",
            "[0.1497298777103424, 0.9410646557807922]\n"
          ]
        }
      ]
    },
    {
      "cell_type": "code",
      "source": [
        "y_pred = model.predict(X_test_re)"
      ],
      "metadata": {
        "colab": {
          "base_uri": "https://localhost:8080/"
        },
        "id": "bSVTxi3MS91H",
        "outputId": "2a6684dc-ef17-48ae-ffe0-8c961e451c07"
      },
      "execution_count": null,
      "outputs": [
        {
          "output_type": "stream",
          "name": "stdout",
          "text": [
            "181/181 [==============================] - 0s 2ms/step\n"
          ]
        }
      ]
    },
    {
      "cell_type": "code",
      "source": [
        "from sklearn.metrics import confusion_matrix, accuracy_score, precision_score, f1_score, recall_score, classification_report"
      ],
      "metadata": {
        "id": "oszslgNOTBEn"
      },
      "execution_count": null,
      "outputs": []
    },
    {
      "cell_type": "code",
      "source": [
        "y_expected=pd.DataFrame(y_test_re)"
      ],
      "metadata": {
        "id": "HIXMAQxKTDdP"
      },
      "execution_count": null,
      "outputs": []
    },
    {
      "cell_type": "code",
      "source": [
        "cnf_matrix=confusion_matrix(y_expected,y_pred.round())\n",
        "\n",
        "plt.figure(figsize=(5, 5))\n",
        "sns.heatmap(cnf_matrix.T, square=True, annot=True, fmt='d', cbar=False)\n",
        "plt.xlabel('true label')\n",
        "plt.ylabel('predicted label')\n",
        "plt.show()"
      ],
      "metadata": {
        "colab": {
          "base_uri": "https://localhost:8080/",
          "height": 465
        },
        "id": "wFkFHk6tTGWd",
        "outputId": "1ad5f811-fc1e-4b3a-e26b-b7ee135913e7"
      },
      "execution_count": null,
      "outputs": [
        {
          "output_type": "display_data",
          "data": {
            "text/plain": [
              "<Figure size 500x500 with 1 Axes>"
            ],
            "image/png": "[encoded data removed]"
          },
          "metadata": {}
        }
      ]
    },
    {
      "cell_type": "code",
      "source": [
        "from sklearn.metrics import ConfusionMatrixDisplay"
      ],
      "metadata": {
        "id": "ZtEc75vlDYPC"
      },
      "execution_count": null,
      "outputs": []
    },
    {
      "cell_type": "code",
      "source": [
        "cnf = confusion_matrix(y_test_re, y_pred.round())"
      ],
      "metadata": {
        "id": "F1liKju4Hqio"
      },
      "execution_count": null,
      "outputs": []
    },
    {
      "cell_type": "code",
      "source": [
        "cnf"
      ],
      "metadata": {
        "colab": {
          "base_uri": "https://localhost:8080/"
        },
        "id": "OzAo3P9lIFJG",
        "outputId": "b828d27b-d0aa-4b3e-e336-bd8c192f4c29"
      },
      "execution_count": null,
      "outputs": [
        {
          "output_type": "execute_result",
          "data": {
            "text/plain": [
              "array([[2802,   61],\n",
              "       [ 280, 2643]])"
            ]
          },
          "metadata": {},
          "execution_count": 59
        }
      ]
    },
    {
      "cell_type": "code",
      "source": [
        "def plot_confusion_matrix(cm, classes,\n",
        "                          normalize=False,\n",
        "                          title='Confusion matrix',\n",
        "                          cmap=plt.cm.Blues):\n",
        "    \"\"\"\n",
        "    This function prints and plots the confusion matrix.\n",
        "    Normalization can be applied by setting `normalize=True`.\n",
        "    \"\"\"\n",
        "    import itertools\n",
        "    if normalize:\n",
        "        cm = cm.astype('float') / cm.sum(axis=1)[:, np.newaxis]\n",
        "        print(\"Normalized confusion matrix\")\n",
        "    else:\n",
        "        print('Confusion matrix, without normalization')\n",
        "\n",
        "    print(cm)\n",
        "\n",
        "    plt.imshow(cm, interpolation='nearest', cmap=cmap)\n",
        "    plt.title(title)\n",
        "    plt.colorbar()\n",
        "    tick_marks = np.arange(len(classes))\n",
        "    plt.xticks(tick_marks, classes, rotation=45)\n",
        "    plt.yticks(tick_marks, classes)\n",
        "\n",
        "    fmt = '.2f' if normalize else 'd'\n",
        "    thresh = cm.max() / 2.\n",
        "    for i, j in itertools.product(range(cm.shape[0]), range(cm.shape[1])):\n",
        "        plt.text(j, i, format(cm[i, j], fmt),\n",
        "                 horizontalalignment=\"center\",\n",
        "                 color=\"white\" if cm[i, j] > thresh else \"black\")\n",
        "\n",
        "    plt.ylabel('True label')\n",
        "    plt.xlabel('Predicted label')\n",
        "    plt.tight_layout()\n"
      ],
      "metadata": {
        "id": "w09QjMfYJpRL"
      },
      "execution_count": null,
      "outputs": []
    },
    {
      "cell_type": "code",
      "source": [
        "plt.figure()\n",
        "plot_confusion_matrix(cnf, classes=['Not Fraud','Fraud'], normalize = True,\n",
        "                      title='Confusion matrix, with normalization')"
      ],
      "metadata": {
        "colab": {
          "base_uri": "https://localhost:8080/",
          "height": 542
        },
        "id": "xWzktwF4Jt_c",
        "outputId": "aed3a889-12bc-473c-bc6d-12fa2394c273"
      },
      "execution_count": null,
      "outputs": [
        {
          "output_type": "stream",
          "name": "stdout",
          "text": [
            "Normalized confusion matrix\n",
            "[[0.97869368 0.02130632]\n",
            " [0.09579199 0.90420801]]\n"
          ]
        },
        {
          "output_type": "display_data",
          "data": {
            "text/plain": [
              "<Figure size 640x480 with 2 Axes>"
            ],
            "image/png": "[encoded data removed]"
          },
          "metadata": {}
        }
      ]
    },
    {
      "cell_type": "code",
      "source": [
        "plt.figure()\n",
        "plot_confusion_matrix(cnf, classes=['Not Fraud','Fraud'], normalize = False,\n",
        "                      title='Confusion matrix, without normalization')\n",
        "plt.show()"
      ],
      "metadata": {
        "colab": {
          "base_uri": "https://localhost:8080/",
          "height": 542
        },
        "id": "Dw4MT5FlK0My",
        "outputId": "1c255eb4-bef2-418f-e117-343e7ce6a538"
      },
      "execution_count": null,
      "outputs": [
        {
          "output_type": "stream",
          "name": "stdout",
          "text": [
            "Confusion matrix, without normalization\n",
            "[[2802   61]\n",
            " [ 280 2643]]\n"
          ]
        },
        {
          "output_type": "display_data",
          "data": {
            "text/plain": [
              "<Figure size 640x480 with 2 Axes>"
            ],
            "image/png": "[encoded data removed]"
          },
          "metadata": {}
        }
      ]
    },
    {
      "cell_type": "code",
      "source": [
        "print(classification_report(y_test_re, y_pred.round()))"
      ],
      "metadata": {
        "colab": {
          "base_uri": "https://localhost:8080/"
        },
        "id": "sHossm5WHD1Z",
        "outputId": "c26c111a-ea34-456a-891d-32a0f5081fa5"
      },
      "execution_count": null,
      "outputs": [
        {
          "output_type": "stream",
          "name": "stdout",
          "text": [
            "              precision    recall  f1-score   support\n",
            "\n",
            "           0       0.91      0.98      0.94      2863\n",
            "           1       0.98      0.90      0.94      2923\n",
            "\n",
            "    accuracy                           0.94      5786\n",
            "   macro avg       0.94      0.94      0.94      5786\n",
            "weighted avg       0.94      0.94      0.94      5786\n",
            "\n"
          ]
        }
      ]
    },
    {
      "cell_type": "code",
      "source": [
        "print(accuracy_score(y_test_re, y_pred.round()))\n",
        "print(precision_score(y_test_re, y_pred.round()))\n",
        "print(recall_score(y_test_re, y_pred.round()))\n",
        "print(f1_score(y_test_re, y_pred.round()))"
      ],
      "metadata": {
        "colab": {
          "base_uri": "https://localhost:8080/"
        },
        "id": "B5ZGRdtgTNxo",
        "outputId": "ea783207-9249-46d0-cc1b-734cd6615a37"
      },
      "execution_count": null,
      "outputs": [
        {
          "output_type": "stream",
          "name": "stdout",
          "text": [
            "0.9367438645005185\n",
            "0.9814253222137983\n",
            "0.890915347556779\n",
            "0.933982683982684\n"
          ]
        }
      ]
    },
    {
      "cell_type": "code",
      "source": [
        "accuracy = accuracy_score(y_test_re, y_pred.round())\n",
        "precision = precision_score(y_test_re, y_pred.round())\n",
        "recall = recall_score(y_test_re, y_pred.round())\n",
        "f1 = f1_score(y_test_re, y_pred.round())"
      ],
      "metadata": {
        "id": "QtWIXZ1TE5Qb"
      },
      "execution_count": null,
      "outputs": []
    },
    {
      "cell_type": "code",
      "source": [
        "print('Accuracy {:0.2f} %:'.format(accuracy * 100))\n",
        "print('Precision {:0.2f} %:'.format(precision * 100))\n",
        "print('Recall {:0.2f} %:'.format(recall * 100))\n",
        "print('f1 score {:0.2f} %:'.format(f1 * 100))"
      ],
      "metadata": {
        "colab": {
          "base_uri": "https://localhost:8080/"
        },
        "id": "Cl72V2E_Eses",
        "outputId": "366ff009-f585-4fed-c431-fc830c8b9261"
      },
      "execution_count": null,
      "outputs": [
        {
          "output_type": "stream",
          "name": "stdout",
          "text": [
            "Accuracy 94.11 %:\n",
            "Precision 97.74 %:\n",
            "Recall 90.42 %:\n",
            "f1 score 93.94 %:\n"
          ]
        }
      ]
    }
  ]
}