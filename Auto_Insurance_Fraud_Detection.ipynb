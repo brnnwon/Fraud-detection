{
  "nbformat": 4,
  "nbformat_minor": 0,
  "metadata": {
    "colab": {
      "provenance": [],
      "gpuType": "T4",
      "authorship_tag": "ABX9TyM4qYBlpz0/NJQXjFSE//ts",
      "include_colab_link": true
    },
    "kernelspec": {
      "name": "python3",
      "display_name": "Python 3"
    },
    "language_info": {
      "name": "python"
    },
    "accelerator": "GPU"
  },
  "cells": [
    {
      "cell_type": "markdown",
      "metadata": {
        "id": "view-in-github",
        "colab_type": "text"
      },
      "source": [
        "<a href=\"https://colab.research.google.com/github/brnnwon/Fraud-detection/blob/main/Auto_Insurance_Fraud_Detection.ipynb\" target=\"_parent\"><img src=\"https://colab.research.google.com/assets/colab-badge.svg\" alt=\"Open In Colab\"/></a>"
      ]
    },
    {
      "cell_type": "code",
      "source": [
        "import numpy as np\n",
        "import pandas as pd\n",
        "import matplotlib.pyplot as plt\n",
        "import seaborn as sns"
      ],
      "metadata": {
        "id": "9vJ35EuGpuzv"
      },
      "execution_count": 1,
      "outputs": []
    },
    {
      "cell_type": "markdown",
      "source": [
        "Import dataset"
      ],
      "metadata": {
        "id": "K2HpmGKsqlpR"
      }
    },
    {
      "cell_type": "code",
      "execution_count": 83,
      "metadata": {
        "id": "m9jH0t9RphQe"
      },
      "outputs": [],
      "source": [
        "url = 'https://raw.githubusercontent.com/brnnwon/Fraud-detection/main/fraud_oracle.csv'\n",
        "\n",
        "df = pd.read_csv(url)"
      ]
    },
    {
      "cell_type": "code",
      "source": [
        "df.head()"
      ],
      "metadata": {
        "colab": {
          "base_uri": "https://localhost:8080/",
          "height": 299
        },
        "id": "hJhDgc_1qV-V",
        "outputId": "ceaa9d3f-fde3-48a2-f343-8cdf53ac2abb"
      },
      "execution_count": 84,
      "outputs": [
        {
          "output_type": "execute_result",
          "data": {
            "text/plain": [
              "  Month  WeekOfMonth  DayOfWeek    Make AccidentArea DayOfWeekClaimed  \\\n",
              "0   Dec            5  Wednesday   Honda        Urban          Tuesday   \n",
              "1   Jan            3  Wednesday   Honda        Urban           Monday   \n",
              "2   Oct            5     Friday   Honda        Urban         Thursday   \n",
              "3   Jun            2   Saturday  Toyota        Rural           Friday   \n",
              "4   Jan            5     Monday   Honda        Urban          Tuesday   \n",
              "\n",
              "  MonthClaimed  WeekOfMonthClaimed     Sex MaritalStatus  ...  AgeOfVehicle  \\\n",
              "0          Jan                   1  Female        Single  ...       3 years   \n",
              "1          Jan                   4    Male        Single  ...       6 years   \n",
              "2          Nov                   2    Male       Married  ...       7 years   \n",
              "3          Jul                   1    Male       Married  ...   more than 7   \n",
              "4          Feb                   2  Female        Single  ...       5 years   \n",
              "\n",
              "  AgeOfPolicyHolder PoliceReportFiled WitnessPresent AgentType  \\\n",
              "0          26 to 30                No             No  External   \n",
              "1          31 to 35               Yes             No  External   \n",
              "2          41 to 50                No             No  External   \n",
              "3          51 to 65               Yes             No  External   \n",
              "4          31 to 35                No             No  External   \n",
              "\n",
              "   NumberOfSuppliments  AddressChange_Claim  NumberOfCars  Year  BasePolicy  \n",
              "0                 none               1 year        3 to 4  1994   Liability  \n",
              "1                 none            no change     1 vehicle  1994   Collision  \n",
              "2                 none            no change     1 vehicle  1994   Collision  \n",
              "3          more than 5            no change     1 vehicle  1994   Liability  \n",
              "4                 none            no change     1 vehicle  1994   Collision  \n",
              "\n",
              "[5 rows x 33 columns]"
            ],
            "text/html": [
              "\n",
              "\n",
              "  <div id=\"df-a21a222d-1b59-423b-972f-3f79f3cea958\">\n",
              "    <div class=\"colab-df-container\">\n",
              "      <div>\n",
              "<style scoped>\n",
              "    .dataframe tbody tr th:only-of-type {\n",
              "        vertical-align: middle;\n",
              "    }\n",
              "\n",
              "    .dataframe tbody tr th {\n",
              "        vertical-align: top;\n",
              "    }\n",
              "\n",
              "    .dataframe thead th {\n",
              "        text-align: right;\n",
              "    }\n",
              "</style>\n",
              "<table border=\"1\" class=\"dataframe\">\n",
              "  <thead>\n",
              "    <tr style=\"text-align: right;\">\n",
              "      <th></th>\n",
              "      <th>Month</th>\n",
              "      <th>WeekOfMonth</th>\n",
              "      <th>DayOfWeek</th>\n",
              "      <th>Make</th>\n",
              "      <th>AccidentArea</th>\n",
              "      <th>DayOfWeekClaimed</th>\n",
              "      <th>MonthClaimed</th>\n",
              "      <th>WeekOfMonthClaimed</th>\n",
              "      <th>Sex</th>\n",
              "      <th>MaritalStatus</th>\n",
              "      <th>...</th>\n",
              "      <th>AgeOfVehicle</th>\n",
              "      <th>AgeOfPolicyHolder</th>\n",
              "      <th>PoliceReportFiled</th>\n",
              "      <th>WitnessPresent</th>\n",
              "      <th>AgentType</th>\n",
              "      <th>NumberOfSuppliments</th>\n",
              "      <th>AddressChange_Claim</th>\n",
              "      <th>NumberOfCars</th>\n",
              "      <th>Year</th>\n",
              "      <th>BasePolicy</th>\n",
              "    </tr>\n",
              "  </thead>\n",
              "  <tbody>\n",
              "    <tr>\n",
              "      <th>0</th>\n",
              "      <td>Dec</td>\n",
              "      <td>5</td>\n",
              "      <td>Wednesday</td>\n",
              "      <td>Honda</td>\n",
              "      <td>Urban</td>\n",
              "      <td>Tuesday</td>\n",
              "      <td>Jan</td>\n",
              "      <td>1</td>\n",
              "      <td>Female</td>\n",
              "      <td>Single</td>\n",
              "      <td>...</td>\n",
              "      <td>3 years</td>\n",
              "      <td>26 to 30</td>\n",
              "      <td>No</td>\n",
              "      <td>No</td>\n",
              "      <td>External</td>\n",
              "      <td>none</td>\n",
              "      <td>1 year</td>\n",
              "      <td>3 to 4</td>\n",
              "      <td>1994</td>\n",
              "      <td>Liability</td>\n",
              "    </tr>\n",
              "    <tr>\n",
              "      <th>1</th>\n",
              "      <td>Jan</td>\n",
              "      <td>3</td>\n",
              "      <td>Wednesday</td>\n",
              "      <td>Honda</td>\n",
              "      <td>Urban</td>\n",
              "      <td>Monday</td>\n",
              "      <td>Jan</td>\n",
              "      <td>4</td>\n",
              "      <td>Male</td>\n",
              "      <td>Single</td>\n",
              "      <td>...</td>\n",
              "      <td>6 years</td>\n",
              "      <td>31 to 35</td>\n",
              "      <td>Yes</td>\n",
              "      <td>No</td>\n",
              "      <td>External</td>\n",
              "      <td>none</td>\n",
              "      <td>no change</td>\n",
              "      <td>1 vehicle</td>\n",
              "      <td>1994</td>\n",
              "      <td>Collision</td>\n",
              "    </tr>\n",
              "    <tr>\n",
              "      <th>2</th>\n",
              "      <td>Oct</td>\n",
              "      <td>5</td>\n",
              "      <td>Friday</td>\n",
              "      <td>Honda</td>\n",
              "      <td>Urban</td>\n",
              "      <td>Thursday</td>\n",
              "      <td>Nov</td>\n",
              "      <td>2</td>\n",
              "      <td>Male</td>\n",
              "      <td>Married</td>\n",
              "      <td>...</td>\n",
              "      <td>7 years</td>\n",
              "      <td>41 to 50</td>\n",
              "      <td>No</td>\n",
              "      <td>No</td>\n",
              "      <td>External</td>\n",
              "      <td>none</td>\n",
              "      <td>no change</td>\n",
              "      <td>1 vehicle</td>\n",
              "      <td>1994</td>\n",
              "      <td>Collision</td>\n",
              "    </tr>\n",
              "    <tr>\n",
              "      <th>3</th>\n",
              "      <td>Jun</td>\n",
              "      <td>2</td>\n",
              "      <td>Saturday</td>\n",
              "      <td>Toyota</td>\n",
              "      <td>Rural</td>\n",
              "      <td>Friday</td>\n",
              "      <td>Jul</td>\n",
              "      <td>1</td>\n",
              "      <td>Male</td>\n",
              "      <td>Married</td>\n",
              "      <td>...</td>\n",
              "      <td>more than 7</td>\n",
              "      <td>51 to 65</td>\n",
              "      <td>Yes</td>\n",
              "      <td>No</td>\n",
              "      <td>External</td>\n",
              "      <td>more than 5</td>\n",
              "      <td>no change</td>\n",
              "      <td>1 vehicle</td>\n",
              "      <td>1994</td>\n",
              "      <td>Liability</td>\n",
              "    </tr>\n",
              "    <tr>\n",
              "      <th>4</th>\n",
              "      <td>Jan</td>\n",
              "      <td>5</td>\n",
              "      <td>Monday</td>\n",
              "      <td>Honda</td>\n",
              "      <td>Urban</td>\n",
              "      <td>Tuesday</td>\n",
              "      <td>Feb</td>\n",
              "      <td>2</td>\n",
              "      <td>Female</td>\n",
              "      <td>Single</td>\n",
              "      <td>...</td>\n",
              "      <td>5 years</td>\n",
              "      <td>31 to 35</td>\n",
              "      <td>No</td>\n",
              "      <td>No</td>\n",
              "      <td>External</td>\n",
              "      <td>none</td>\n",
              "      <td>no change</td>\n",
              "      <td>1 vehicle</td>\n",
              "      <td>1994</td>\n",
              "      <td>Collision</td>\n",
              "    </tr>\n",
              "  </tbody>\n",
              "</table>\n",
              "<p>5 rows × 33 columns</p>\n",
              "</div>\n",
              "      <button class=\"colab-df-convert\" onclick=\"convertToInteractive('df-a21a222d-1b59-423b-972f-3f79f3cea958')\"\n",
              "              title=\"Convert this dataframe to an interactive table.\"\n",
              "              style=\"display:none;\">\n",
              "\n",
              "  <svg xmlns=\"http://www.w3.org/2000/svg\" height=\"24px\"viewBox=\"0 0 24 24\"\n",
              "       width=\"24px\">\n",
              "    <path d=\"M0 0h24v24H0V0z\" fill=\"none\"/>\n",
              "    <path d=\"M18.56 5.44l.94 2.06.94-2.06 2.06-.94-2.06-.94-.94-2.06-.94 2.06-2.06.94zm-11 1L8.5 8.5l.94-2.06 2.06-.94-2.06-.94L8.5 2.5l-.94 2.06-2.06.94zm10 10l.94 2.06.94-2.06 2.06-.94-2.06-.94-.94-2.06-.94 2.06-2.06.94z\"/><path d=\"M17.41 7.96l-1.37-1.37c-.4-.4-.92-.59-1.43-.59-.52 0-1.04.2-1.43.59L10.3 9.45l-7.72 7.72c-.78.78-.78 2.05 0 2.83L4 21.41c.39.39.9.59 1.41.59.51 0 1.02-.2 1.41-.59l7.78-7.78 2.81-2.81c.8-.78.8-2.07 0-2.86zM5.41 20L4 18.59l7.72-7.72 1.47 1.35L5.41 20z\"/>\n",
              "  </svg>\n",
              "      </button>\n",
              "\n",
              "\n",
              "\n",
              "    <div id=\"df-c4f7e783-eaae-4a85-9b50-524ead1aeed0\">\n",
              "      <button class=\"colab-df-quickchart\" onclick=\"quickchart('df-c4f7e783-eaae-4a85-9b50-524ead1aeed0')\"\n",
              "              title=\"Suggest charts.\"\n",
              "              style=\"display:none;\">\n",
              "\n",
              "<svg xmlns=\"http://www.w3.org/2000/svg\" height=\"24px\"viewBox=\"0 0 24 24\"\n",
              "     width=\"24px\">\n",
              "    <g>\n",
              "        <path d=\"M19 3H5c-1.1 0-2 .9-2 2v14c0 1.1.9 2 2 2h14c1.1 0 2-.9 2-2V5c0-1.1-.9-2-2-2zM9 17H7v-7h2v7zm4 0h-2V7h2v10zm4 0h-2v-4h2v4z\"/>\n",
              "    </g>\n",
              "</svg>\n",
              "      </button>\n",
              "    </div>\n",
              "\n",
              "<style>\n",
              "  .colab-df-quickchart {\n",
              "    background-color: #E8F0FE;\n",
              "    border: none;\n",
              "    border-radius: 50%;\n",
              "    cursor: pointer;\n",
              "    display: none;\n",
              "    fill: #1967D2;\n",
              "    height: 32px;\n",
              "    padding: 0 0 0 0;\n",
              "    width: 32px;\n",
              "  }\n",
              "\n",
              "  .colab-df-quickchart:hover {\n",
              "    background-color: #E2EBFA;\n",
              "    box-shadow: 0px 1px 2px rgba(60, 64, 67, 0.3), 0px 1px 3px 1px rgba(60, 64, 67, 0.15);\n",
              "    fill: #174EA6;\n",
              "  }\n",
              "\n",
              "  [theme=dark] .colab-df-quickchart {\n",
              "    background-color: #3B4455;\n",
              "    fill: #D2E3FC;\n",
              "  }\n",
              "\n",
              "  [theme=dark] .colab-df-quickchart:hover {\n",
              "    background-color: #434B5C;\n",
              "    box-shadow: 0px 1px 3px 1px rgba(0, 0, 0, 0.15);\n",
              "    filter: drop-shadow(0px 1px 2px rgba(0, 0, 0, 0.3));\n",
              "    fill: #FFFFFF;\n",
              "  }\n",
              "</style>\n",
              "\n",
              "    <script>\n",
              "      async function quickchart(key) {\n",
              "        const containerElement = document.querySelector('#' + key);\n",
              "        const charts = await google.colab.kernel.invokeFunction(\n",
              "            'suggestCharts', [key], {});\n",
              "      }\n",
              "    </script>\n",
              "\n",
              "\n",
              "      <script>\n",
              "\n",
              "function displayQuickchartButton(domScope) {\n",
              "  let quickchartButtonEl =\n",
              "    domScope.querySelector('#df-c4f7e783-eaae-4a85-9b50-524ead1aeed0 button.colab-df-quickchart');\n",
              "  quickchartButtonEl.style.display =\n",
              "    google.colab.kernel.accessAllowed ? 'block' : 'none';\n",
              "}\n",
              "\n",
              "        displayQuickchartButton(document);\n",
              "      </script>\n",
              "      <style>\n",
              "    .colab-df-container {\n",
              "      display:flex;\n",
              "      flex-wrap:wrap;\n",
              "      gap: 12px;\n",
              "    }\n",
              "\n",
              "    .colab-df-convert {\n",
              "      background-color: #E8F0FE;\n",
              "      border: none;\n",
              "      border-radius: 50%;\n",
              "      cursor: pointer;\n",
              "      display: none;\n",
              "      fill: #1967D2;\n",
              "      height: 32px;\n",
              "      padding: 0 0 0 0;\n",
              "      width: 32px;\n",
              "    }\n",
              "\n",
              "    .colab-df-convert:hover {\n",
              "      background-color: #E2EBFA;\n",
              "      box-shadow: 0px 1px 2px rgba(60, 64, 67, 0.3), 0px 1px 3px 1px rgba(60, 64, 67, 0.15);\n",
              "      fill: #174EA6;\n",
              "    }\n",
              "\n",
              "    [theme=dark] .colab-df-convert {\n",
              "      background-color: #3B4455;\n",
              "      fill: #D2E3FC;\n",
              "    }\n",
              "\n",
              "    [theme=dark] .colab-df-convert:hover {\n",
              "      background-color: #434B5C;\n",
              "      box-shadow: 0px 1px 3px 1px rgba(0, 0, 0, 0.15);\n",
              "      filter: drop-shadow(0px 1px 2px rgba(0, 0, 0, 0.3));\n",
              "      fill: #FFFFFF;\n",
              "    }\n",
              "  </style>\n",
              "\n",
              "      <script>\n",
              "        const buttonEl =\n",
              "          document.querySelector('#df-a21a222d-1b59-423b-972f-3f79f3cea958 button.colab-df-convert');\n",
              "        buttonEl.style.display =\n",
              "          google.colab.kernel.accessAllowed ? 'block' : 'none';\n",
              "\n",
              "        async function convertToInteractive(key) {\n",
              "          const element = document.querySelector('#df-a21a222d-1b59-423b-972f-3f79f3cea958');\n",
              "          const dataTable =\n",
              "            await google.colab.kernel.invokeFunction('convertToInteractive',\n",
              "                                                     [key], {});\n",
              "          if (!dataTable) return;\n",
              "\n",
              "          const docLinkHtml = 'Like what you see? Visit the ' +\n",
              "            '<a target=\"_blank\" href=https://colab.research.google.com/notebooks/data_table.ipynb>data table notebook</a>'\n",
              "            + ' to learn more about interactive tables.';\n",
              "          element.innerHTML = '';\n",
              "          dataTable['output_type'] = 'display_data';\n",
              "          await google.colab.output.renderOutput(dataTable, element);\n",
              "          const docLink = document.createElement('div');\n",
              "          docLink.innerHTML = docLinkHtml;\n",
              "          element.appendChild(docLink);\n",
              "        }\n",
              "      </script>\n",
              "    </div>\n",
              "  </div>\n"
            ]
          },
          "metadata": {},
          "execution_count": 84
        }
      ]
    },
    {
      "cell_type": "code",
      "source": [
        "df.shape"
      ],
      "metadata": {
        "colab": {
          "base_uri": "https://localhost:8080/"
        },
        "id": "eu7FcIugqbcg",
        "outputId": "95f0b2c3-e33d-4d7f-e166-1b2dc07ced09"
      },
      "execution_count": 85,
      "outputs": [
        {
          "output_type": "execute_result",
          "data": {
            "text/plain": [
              "(15420, 33)"
            ]
          },
          "metadata": {},
          "execution_count": 85
        }
      ]
    },
    {
      "cell_type": "code",
      "source": [
        "df.columns"
      ],
      "metadata": {
        "colab": {
          "base_uri": "https://localhost:8080/"
        },
        "id": "whqzvNC5qgN1",
        "outputId": "b17c09b6-5ae9-4a5a-c58c-f5ca8f6ef65c"
      },
      "execution_count": 66,
      "outputs": [
        {
          "output_type": "execute_result",
          "data": {
            "text/plain": [
              "Index(['Month', 'WeekOfMonth', 'DayOfWeek', 'Make', 'AccidentArea',\n",
              "       'DayOfWeekClaimed', 'MonthClaimed', 'WeekOfMonthClaimed', 'Sex',\n",
              "       'MaritalStatus', 'Age', 'Fault', 'PolicyType', 'VehicleCategory',\n",
              "       'VehiclePrice', 'FraudFound_P', 'PolicyNumber', 'RepNumber',\n",
              "       'Deductible', 'DriverRating', 'Days_Policy_Accident',\n",
              "       'Days_Policy_Claim', 'PastNumberOfClaims', 'AgeOfVehicle',\n",
              "       'AgeOfPolicyHolder', 'PoliceReportFiled', 'WitnessPresent', 'AgentType',\n",
              "       'NumberOfSuppliments', 'AddressChange_Claim', 'NumberOfCars', 'Year',\n",
              "       'BasePolicy'],\n",
              "      dtype='object')"
            ]
          },
          "metadata": {},
          "execution_count": 66
        }
      ]
    },
    {
      "cell_type": "code",
      "source": [
        "df['FraudFound_P'].value_counts()"
      ],
      "metadata": {
        "colab": {
          "base_uri": "https://localhost:8080/"
        },
        "id": "Xe86NdXcuBv_",
        "outputId": "6b9dcb12-7f0d-4e38-f0de-012c8c55aff0"
      },
      "execution_count": 76,
      "outputs": [
        {
          "output_type": "execute_result",
          "data": {
            "text/plain": [
              "0    14497\n",
              "1      923\n",
              "Name: FraudFound_P, dtype: int64"
            ]
          },
          "metadata": {},
          "execution_count": 76
        }
      ]
    },
    {
      "cell_type": "markdown",
      "source": [
        "#Preprocessing"
      ],
      "metadata": {
        "id": "L-4Belim1RH4"
      }
    },
    {
      "cell_type": "code",
      "source": [
        "from sklearn.preprocessing import LabelEncoder, OneHotEncoder, OrdinalEncoder, StandardScaler\n",
        "from sklearn.model_selection import train_test_split\n",
        "from sklearn.metrics import accuracy_score, confusion_matrix, f1_score\n",
        "from collections import Counter\n",
        "\n",
        "from imblearn.over_sampling import ADASYN, SMOTE"
      ],
      "metadata": {
        "id": "jPD4vpU21TPV"
      },
      "execution_count": 35,
      "outputs": []
    },
    {
      "cell_type": "code",
      "source": [
        "df.drop(columns = 'PolicyNumber', inplace = True)"
      ],
      "metadata": {
        "id": "5AA_vXfj2TZI"
      },
      "execution_count": 86,
      "outputs": []
    },
    {
      "cell_type": "code",
      "source": [
        "for column in df:\n",
        "  print(column)\n",
        "  print(sorted(df[column].unique()), '\\n')"
      ],
      "metadata": {
        "colab": {
          "base_uri": "https://localhost:8080/"
        },
        "id": "wsG5f6Iy6Rit",
        "outputId": "bf472c25-b4cf-4d09-9204-dcc859188d66"
      },
      "execution_count": 68,
      "outputs": [
        {
          "output_type": "stream",
          "name": "stdout",
          "text": [
            "Month\n",
            "['Apr', 'Aug', 'Dec', 'Feb', 'Jan', 'Jul', 'Jun', 'Mar', 'May', 'Nov', 'Oct', 'Sep'] \n",
            "\n",
            "WeekOfMonth\n",
            "[1, 2, 3, 4, 5] \n",
            "\n",
            "DayOfWeek\n",
            "['Friday', 'Monday', 'Saturday', 'Sunday', 'Thursday', 'Tuesday', 'Wednesday'] \n",
            "\n",
            "Make\n",
            "['Accura', 'BMW', 'Chevrolet', 'Dodge', 'Ferrari', 'Ford', 'Honda', 'Jaguar', 'Lexus', 'Mazda', 'Mecedes', 'Mercury', 'Nisson', 'Pontiac', 'Porche', 'Saab', 'Saturn', 'Toyota', 'VW'] \n",
            "\n",
            "AccidentArea\n",
            "['Rural', 'Urban'] \n",
            "\n",
            "DayOfWeekClaimed\n",
            "['0', 'Friday', 'Monday', 'Saturday', 'Sunday', 'Thursday', 'Tuesday', 'Wednesday'] \n",
            "\n",
            "MonthClaimed\n",
            "['0', 'Apr', 'Aug', 'Dec', 'Feb', 'Jan', 'Jul', 'Jun', 'Mar', 'May', 'Nov', 'Oct', 'Sep'] \n",
            "\n",
            "WeekOfMonthClaimed\n",
            "[1, 2, 3, 4, 5] \n",
            "\n",
            "Sex\n",
            "['Female', 'Male'] \n",
            "\n",
            "MaritalStatus\n",
            "['Divorced', 'Married', 'Single', 'Widow'] \n",
            "\n",
            "Age\n",
            "[0, 16, 17, 18, 19, 20, 21, 22, 23, 24, 25, 26, 27, 28, 29, 30, 31, 32, 33, 34, 35, 36, 37, 38, 39, 40, 41, 42, 43, 44, 45, 46, 47, 48, 49, 50, 51, 52, 53, 54, 55, 56, 57, 58, 59, 60, 61, 62, 63, 64, 65, 66, 67, 68, 69, 70, 71, 72, 73, 74, 75, 76, 77, 78, 79, 80] \n",
            "\n",
            "Fault\n",
            "['Policy Holder', 'Third Party'] \n",
            "\n",
            "PolicyType\n",
            "['Sedan - All Perils', 'Sedan - Collision', 'Sedan - Liability', 'Sport - All Perils', 'Sport - Collision', 'Sport - Liability', 'Utility - All Perils', 'Utility - Collision', 'Utility - Liability'] \n",
            "\n",
            "VehicleCategory\n",
            "['Sedan', 'Sport', 'Utility'] \n",
            "\n",
            "VehiclePrice\n",
            "['20000 to 29000', '30000 to 39000', '40000 to 59000', '60000 to 69000', 'less than 20000', 'more than 69000'] \n",
            "\n",
            "FraudFound_P\n",
            "[0, 1] \n",
            "\n",
            "RepNumber\n",
            "[1, 2, 3, 4, 5, 6, 7, 8, 9, 10, 11, 12, 13, 14, 15, 16] \n",
            "\n",
            "Deductible\n",
            "[300, 400, 500, 700] \n",
            "\n",
            "DriverRating\n",
            "[1, 2, 3, 4] \n",
            "\n",
            "Days_Policy_Accident\n",
            "['1 to 7', '15 to 30', '8 to 15', 'more than 30', 'none'] \n",
            "\n",
            "Days_Policy_Claim\n",
            "['15 to 30', '8 to 15', 'more than 30', 'none'] \n",
            "\n",
            "PastNumberOfClaims\n",
            "['1', '2 to 4', 'more than 4', 'none'] \n",
            "\n",
            "AgeOfVehicle\n",
            "['2 years', '3 years', '4 years', '5 years', '6 years', '7 years', 'more than 7', 'new'] \n",
            "\n",
            "AgeOfPolicyHolder\n",
            "['16 to 17', '18 to 20', '21 to 25', '26 to 30', '31 to 35', '36 to 40', '41 to 50', '51 to 65', 'over 65'] \n",
            "\n",
            "PoliceReportFiled\n",
            "['No', 'Yes'] \n",
            "\n",
            "WitnessPresent\n",
            "['No', 'Yes'] \n",
            "\n",
            "AgentType\n",
            "['External', 'Internal'] \n",
            "\n",
            "NumberOfSuppliments\n",
            "['1 to 2', '3 to 5', 'more than 5', 'none'] \n",
            "\n",
            "AddressChange_Claim\n",
            "['1 year', '2 to 3 years', '4 to 8 years', 'no change', 'under 6 months'] \n",
            "\n",
            "NumberOfCars\n",
            "['1 vehicle', '2 vehicles', '3 to 4', '5 to 8', 'more than 8'] \n",
            "\n",
            "Year\n",
            "[1994, 1995, 1996] \n",
            "\n",
            "BasePolicy\n",
            "['All Perils', 'Collision', 'Liability'] \n",
            "\n"
          ]
        }
      ]
    },
    {
      "cell_type": "code",
      "source": [
        "df['Age'].hist()"
      ],
      "metadata": {
        "colab": {
          "base_uri": "https://localhost:8080/",
          "height": 448
        },
        "id": "43cXauDx8ARa",
        "outputId": "1c4009c5-55d9-4607-b566-acfabe11db2e"
      },
      "execution_count": 69,
      "outputs": [
        {
          "output_type": "execute_result",
          "data": {
            "text/plain": [
              "<Axes: >"
            ]
          },
          "metadata": {},
          "execution_count": 69
        },
        {
          "output_type": "display_data",
          "data": {
            "text/plain": [
              "<Figure size 640x480 with 1 Axes>"
            ],
            "image/png": "[encoded data removed]"
          },
          "metadata": {}
        }
      ]
    },
    {
      "cell_type": "code",
      "source": [
        "mean_age = df[df['Age'] > 0]['Age'].mean()\n",
        "\n",
        "print(mean_age)"
      ],
      "metadata": {
        "colab": {
          "base_uri": "https://localhost:8080/"
        },
        "id": "VXfAVUYz9NNI",
        "outputId": "6684eb7b-2278-4478-efd0-f373fa363a9c"
      },
      "execution_count": 87,
      "outputs": [
        {
          "output_type": "stream",
          "name": "stdout",
          "text": [
            "40.700331125827816\n"
          ]
        }
      ]
    },
    {
      "cell_type": "code",
      "source": [
        "# Replace age values equal to 0 with the calculated mean\n",
        "df['Age'] = df['Age'].apply(lambda x: mean_age if x == 0 else x)"
      ],
      "metadata": {
        "id": "GVG7Hwmy9aap"
      },
      "execution_count": 88,
      "outputs": []
    },
    {
      "cell_type": "code",
      "source": [
        "df['Age'].hist()"
      ],
      "metadata": {
        "colab": {
          "base_uri": "https://localhost:8080/",
          "height": 448
        },
        "id": "cujyaeMw9fFB",
        "outputId": "0470af11-8019-4153-f885-8af4055e1931"
      },
      "execution_count": 89,
      "outputs": [
        {
          "output_type": "execute_result",
          "data": {
            "text/plain": [
              "<Axes: >"
            ]
          },
          "metadata": {},
          "execution_count": 89
        },
        {
          "output_type": "display_data",
          "data": {
            "text/plain": [
              "<Figure size 640x480 with 1 Axes>"
            ],
            "image/png": "[encoded data removed]"
          },
          "metadata": {}
        }
      ]
    },
    {
      "cell_type": "code",
      "source": [
        "df['AccidentArea'] = df['AccidentArea'].replace({'Urban':1, 'Rural':0})\n",
        "df['Sex'] = df['Sex'].replace({'Female':1, 'Male':0})\n",
        "df['Fault'] = df['Fault'].replace({'Policy Holder':1, 'Third Party':0})\n",
        "df['PoliceReportFiled'] = df['PoliceReportFiled'].replace({'Yes':1, 'No':0})\n",
        "df['WitnessPresent'] = df['WitnessPresent'].replace({'Yes':1, 'No':0})\n",
        "df['AgentType'] = df['AgentType'].replace({'External':1, 'Internal':0})\n",
        "df['Month'] = df['Month'].replace({'Jan':1,'Feb':2,'Mar':3,'Apr':4,'May':5,'Jun':6,'Jul':7,'Aug':8,'Sep':9,'Oct':10,'Nov':11,'Dec':12})\n",
        "df['DayOfWeek'] = df['DayOfWeek'].replace({'Monday':1,'Tuesday':2,'Wednesday':3,'Thursday':4,'Friday':5,'Saturday':6,'Sunday':7})\n",
        "df['MonthClaimed'] = df['MonthClaimed'].replace({'0':0,'Jan':1,'Feb':2,'Mar':3,'Apr':4,'May':5,'Jun':6,'Jul':7,'Aug':8,'Sep':9,'Oct':10,'Nov':11,'Dec':12})\n",
        "df['DayOfWeekClaimed'] = df['DayOfWeekClaimed'].replace({'0':0,'Monday':1,'Tuesday':2,'Wednesday':3,'Thursday':4,'Friday':5,'Saturday':6,'Sunday':7})\n",
        "df['PastNumberOfClaims'] = df['PastNumberOfClaims'].replace({'none':0 ,'1':1,'2 to 4':2,'more than 4':3})\n",
        "df['NumberOfSuppliments'] = df['NumberOfSuppliments'].replace({'none':0,'1 to 2':1,'3 to 5':2,'more than 5':4})\n",
        "df['VehiclePrice'] = df['VehiclePrice'].replace({'less than 20000':0,'20000 to 29000':1,'30000 to 39000':2,\n",
        "                                                 '40000 to 59000':3,'60000 to 69000':4,'more than 69000':5})\n",
        "df['AgeOfVehicle'] = df['AgeOfVehicle'].replace({'3 years':3,'6 years':6,'7 years':7,'more than 7':8,'5 years':5,'new':0,'4 years':4,'2 years':2})\n",
        "df['Days_Policy_Accident'] = df['Days_Policy_Accident'].replace({'none':0, '1 to 7':1, '8 to 15':2, '15 to 30':3, 'more than 30':4})\n",
        "df['Days_Policy_Claim'] = df['Days_Policy_Claim'].replace({'none':0, '8 to 15':1, '15 to 30':2, 'more than 30':3})\n",
        "df['AgeOfPolicyHolder'] = df['AgeOfPolicyHolder'].replace({'16 to 17':0, '18 to 20':1, '21 to 25':2, '26 to 30':3, '31 to 35':4, '36 to 40':5, '41 to 50':6, '51 to 65':7, 'over 65':8})\n",
        "df['AddressChange_Claim'] = df['AddressChange_Claim'].replace({'no change':0, 'under 6 months':1, '1 year':2, '2 to 3 years':3, '4 to 8 years':4})\n",
        "df['NumberOfCars'] = df['NumberOfCars'].replace({'1 vehicle':0, '2 vehicles':1, '3 to 4':2, '5 to 8':3, 'more than 8':4})"
      ],
      "metadata": {
        "id": "uHpkPdGzA9j6"
      },
      "execution_count": 101,
      "outputs": []
    },
    {
      "cell_type": "code",
      "source": [
        "# Calculate the median of non-zero day-of-week values\n",
        "median_day_of_week = df[df['DayOfWeekClaimed'] != 0]['DayOfWeekClaimed'].median()\n",
        "print(median_day_of_week)"
      ],
      "metadata": {
        "colab": {
          "base_uri": "https://localhost:8080/"
        },
        "id": "pOOYMHBPGVO4",
        "outputId": "39ba33a2-f857-4d89-e2a1-756521dce7d0"
      },
      "execution_count": 102,
      "outputs": [
        {
          "output_type": "stream",
          "name": "stdout",
          "text": [
            "3.0\n"
          ]
        }
      ]
    },
    {
      "cell_type": "code",
      "source": [
        "# Replace '0' values with the calculated median\n",
        "df['DayOfWeekClaimed'] = df['DayOfWeekClaimed'].apply(lambda x: median_day_of_week if x == 0 else x)"
      ],
      "metadata": {
        "id": "rHz4YHiIGY7j"
      },
      "execution_count": 103,
      "outputs": []
    },
    {
      "cell_type": "code",
      "source": [
        "median_month_claimed = df[df['MonthClaimed'] != 0]['MonthClaimed'].median()\n",
        "print(median_month_claimed)"
      ],
      "metadata": {
        "colab": {
          "base_uri": "https://localhost:8080/"
        },
        "id": "HfshFcjfGlT6",
        "outputId": "868d4687-8d55-4e40-b745-ca1709910790"
      },
      "execution_count": 104,
      "outputs": [
        {
          "output_type": "stream",
          "name": "stdout",
          "text": [
            "6.0\n"
          ]
        }
      ]
    },
    {
      "cell_type": "code",
      "source": [
        "# Replace '0' values with the calculated median\n",
        "df['MonthClaimed'] = df['MonthClaimed'].apply(lambda x: median_month_claimed if x == 0 else x)"
      ],
      "metadata": {
        "id": "W8WmqxutGyIF"
      },
      "execution_count": 105,
      "outputs": []
    },
    {
      "cell_type": "code",
      "source": [
        "ohe_cols = ['Make', 'MaritalStatus', 'PolicyType', 'VehicleCategory', 'BasePolicy']"
      ],
      "metadata": {
        "id": "RKRI64MpHq2Z"
      },
      "execution_count": 107,
      "outputs": []
    },
    {
      "cell_type": "code",
      "source": [
        "df = pd.get_dummies(df, columns=ohe_cols)"
      ],
      "metadata": {
        "id": "oXvZhuJBIQqQ"
      },
      "execution_count": 108,
      "outputs": []
    },
    {
      "cell_type": "code",
      "source": [
        "df.info()"
      ],
      "metadata": {
        "colab": {
          "base_uri": "https://localhost:8080/"
        },
        "id": "GD2pzIloIdra",
        "outputId": "4532cfe1-69e0-430f-96bc-b24174617719"
      },
      "execution_count": 109,
      "outputs": [
        {
          "output_type": "stream",
          "name": "stdout",
          "text": [
            "<class 'pandas.core.frame.DataFrame'>\n",
            "RangeIndex: 15420 entries, 0 to 15419\n",
            "Data columns (total 65 columns):\n",
            " #   Column                           Non-Null Count  Dtype  \n",
            "---  ------                           --------------  -----  \n",
            " 0   Month                            15420 non-null  int64  \n",
            " 1   WeekOfMonth                      15420 non-null  int64  \n",
            " 2   DayOfWeek                        15420 non-null  int64  \n",
            " 3   AccidentArea                     15420 non-null  int64  \n",
            " 4   DayOfWeekClaimed                 15420 non-null  float64\n",
            " 5   MonthClaimed                     15420 non-null  float64\n",
            " 6   WeekOfMonthClaimed               15420 non-null  int64  \n",
            " 7   Sex                              15420 non-null  int64  \n",
            " 8   Age                              15420 non-null  float64\n",
            " 9   Fault                            15420 non-null  int64  \n",
            " 10  VehiclePrice                     15420 non-null  int64  \n",
            " 11  FraudFound_P                     15420 non-null  int64  \n",
            " 12  RepNumber                        15420 non-null  int64  \n",
            " 13  Deductible                       15420 non-null  int64  \n",
            " 14  DriverRating                     15420 non-null  int64  \n",
            " 15  Days_Policy_Accident             15420 non-null  int64  \n",
            " 16  Days_Policy_Claim                15420 non-null  int64  \n",
            " 17  PastNumberOfClaims               15420 non-null  int64  \n",
            " 18  AgeOfVehicle                     15420 non-null  int64  \n",
            " 19  AgeOfPolicyHolder                15420 non-null  int64  \n",
            " 20  PoliceReportFiled                15420 non-null  int64  \n",
            " 21  WitnessPresent                   15420 non-null  int64  \n",
            " 22  AgentType                        15420 non-null  int64  \n",
            " 23  NumberOfSuppliments              15420 non-null  int64  \n",
            " 24  AddressChange_Claim              15420 non-null  int64  \n",
            " 25  NumberOfCars                     15420 non-null  int64  \n",
            " 26  Year                             15420 non-null  int64  \n",
            " 27  Make_Accura                      15420 non-null  uint8  \n",
            " 28  Make_BMW                         15420 non-null  uint8  \n",
            " 29  Make_Chevrolet                   15420 non-null  uint8  \n",
            " 30  Make_Dodge                       15420 non-null  uint8  \n",
            " 31  Make_Ferrari                     15420 non-null  uint8  \n",
            " 32  Make_Ford                        15420 non-null  uint8  \n",
            " 33  Make_Honda                       15420 non-null  uint8  \n",
            " 34  Make_Jaguar                      15420 non-null  uint8  \n",
            " 35  Make_Lexus                       15420 non-null  uint8  \n",
            " 36  Make_Mazda                       15420 non-null  uint8  \n",
            " 37  Make_Mecedes                     15420 non-null  uint8  \n",
            " 38  Make_Mercury                     15420 non-null  uint8  \n",
            " 39  Make_Nisson                      15420 non-null  uint8  \n",
            " 40  Make_Pontiac                     15420 non-null  uint8  \n",
            " 41  Make_Porche                      15420 non-null  uint8  \n",
            " 42  Make_Saab                        15420 non-null  uint8  \n",
            " 43  Make_Saturn                      15420 non-null  uint8  \n",
            " 44  Make_Toyota                      15420 non-null  uint8  \n",
            " 45  Make_VW                          15420 non-null  uint8  \n",
            " 46  MaritalStatus_Divorced           15420 non-null  uint8  \n",
            " 47  MaritalStatus_Married            15420 non-null  uint8  \n",
            " 48  MaritalStatus_Single             15420 non-null  uint8  \n",
            " 49  MaritalStatus_Widow              15420 non-null  uint8  \n",
            " 50  PolicyType_Sedan - All Perils    15420 non-null  uint8  \n",
            " 51  PolicyType_Sedan - Collision     15420 non-null  uint8  \n",
            " 52  PolicyType_Sedan - Liability     15420 non-null  uint8  \n",
            " 53  PolicyType_Sport - All Perils    15420 non-null  uint8  \n",
            " 54  PolicyType_Sport - Collision     15420 non-null  uint8  \n",
            " 55  PolicyType_Sport - Liability     15420 non-null  uint8  \n",
            " 56  PolicyType_Utility - All Perils  15420 non-null  uint8  \n",
            " 57  PolicyType_Utility - Collision   15420 non-null  uint8  \n",
            " 58  PolicyType_Utility - Liability   15420 non-null  uint8  \n",
            " 59  VehicleCategory_Sedan            15420 non-null  uint8  \n",
            " 60  VehicleCategory_Sport            15420 non-null  uint8  \n",
            " 61  VehicleCategory_Utility          15420 non-null  uint8  \n",
            " 62  BasePolicy_All Perils            15420 non-null  uint8  \n",
            " 63  BasePolicy_Collision             15420 non-null  uint8  \n",
            " 64  BasePolicy_Liability             15420 non-null  uint8  \n",
            "dtypes: float64(3), int64(24), uint8(38)\n",
            "memory usage: 3.7 MB\n"
          ]
        }
      ]
    },
    {
      "cell_type": "code",
      "source": [
        "X = df.drop('FraudFound_P', axis = 1)\n",
        "y = df['FraudFound_P']"
      ],
      "metadata": {
        "id": "-ZdXyhquQeo0"
      },
      "execution_count": 110,
      "outputs": []
    },
    {
      "cell_type": "code",
      "source": [
        "print(X.shape, y.shape)"
      ],
      "metadata": {
        "colab": {
          "base_uri": "https://localhost:8080/"
        },
        "id": "z2qXGEtnQr2j",
        "outputId": "8b1bafc9-8f67-46d1-fd09-0878c32b0ca0"
      },
      "execution_count": 111,
      "outputs": [
        {
          "output_type": "stream",
          "name": "stdout",
          "text": [
            "(15420, 64) (15420,)\n"
          ]
        }
      ]
    },
    {
      "cell_type": "code",
      "source": [
        "counter = Counter(y)\n",
        "print(counter)"
      ],
      "metadata": {
        "colab": {
          "base_uri": "https://localhost:8080/"
        },
        "id": "Nb2pXVAkQvXs",
        "outputId": "f44c1907-5513-4d10-9657-4d912265b5e4"
      },
      "execution_count": 112,
      "outputs": [
        {
          "output_type": "stream",
          "name": "stdout",
          "text": [
            "Counter({0: 14497, 1: 923})\n"
          ]
        }
      ]
    },
    {
      "cell_type": "code",
      "source": [
        "ada = ADASYN()"
      ],
      "metadata": {
        "id": "1dGgeQpzQ1hQ"
      },
      "execution_count": 113,
      "outputs": []
    },
    {
      "cell_type": "code",
      "source": [
        "# transform the dataset\n",
        "X, y = ADASYN().fit_resample(X, y)\n",
        "X_train_re, X_test_re, y_train_re, y_test_re = train_test_split(X, y, test_size=0.2)"
      ],
      "metadata": {
        "id": "0q8NqeGJQ3pX"
      },
      "execution_count": 114,
      "outputs": []
    },
    {
      "cell_type": "code",
      "source": [
        "print(X_train_re.shape, y_train_re.shape)"
      ],
      "metadata": {
        "colab": {
          "base_uri": "https://localhost:8080/"
        },
        "id": "gmwh_2XUQ57S",
        "outputId": "332d64f5-926f-442b-ad3b-cda01206adee"
      },
      "execution_count": 115,
      "outputs": [
        {
          "output_type": "stream",
          "name": "stdout",
          "text": [
            "(23143, 64) (23143,)\n"
          ]
        }
      ]
    },
    {
      "cell_type": "code",
      "source": [
        "# summarize the new class distribution\n",
        "counter = Counter(y)\n",
        "print(counter)"
      ],
      "metadata": {
        "colab": {
          "base_uri": "https://localhost:8080/"
        },
        "id": "hdIfwvSUQ9zN",
        "outputId": "ea3ad5b9-59b8-450f-b3c8-3d84740da21b"
      },
      "execution_count": 116,
      "outputs": [
        {
          "output_type": "stream",
          "name": "stdout",
          "text": [
            "Counter({0: 14497, 1: 14432})\n"
          ]
        }
      ]
    },
    {
      "cell_type": "code",
      "source": [
        "scaler = StandardScaler()\n",
        "X_train_re = scaler.fit_transform(X_train_re)\n",
        "X_test_re = scaler.fit_transform(X_test_re)"
      ],
      "metadata": {
        "id": "BrTTcWiwRALF"
      },
      "execution_count": 117,
      "outputs": []
    },
    {
      "cell_type": "code",
      "source": [
        "X_train_re"
      ],
      "metadata": {
        "colab": {
          "base_uri": "https://localhost:8080/"
        },
        "id": "3J6LjAV0RC9E",
        "outputId": "86d110ad-4299-40cd-d836-20cef029625f"
      },
      "execution_count": 118,
      "outputs": [
        {
          "output_type": "execute_result",
          "data": {
            "text/plain": [
              "array([[ 0.27751318,  1.16966328, -1.42236387, ..., -0.63196775,\n",
              "        -0.70625908,  2.18006242],\n",
              "       [ 0.57443818,  1.99714829, -0.89603329, ..., -0.63196775,\n",
              "        -0.70625908,  2.18006242],\n",
              "       [-1.50403678, -0.48530675,  0.15662787, ..., -0.63196775,\n",
              "         1.415911  , -0.45870246],\n",
              "       ...,\n",
              "       [ 0.27751318,  0.34217826, -0.36970271, ...,  1.58235922,\n",
              "        -0.70625908, -0.45870246],\n",
              "       [-0.6132618 ,  0.34217826, -1.42236387, ..., -0.63196775,\n",
              "        -0.70625908, -0.45870246],\n",
              "       [-0.01941181, -1.31279176,  0.68295844, ..., -0.63196775,\n",
              "         1.415911  , -0.45870246]])"
            ]
          },
          "metadata": {},
          "execution_count": 118
        }
      ]
    },
    {
      "cell_type": "code",
      "source": [
        "#Change the shape so that our model can process the data\n",
        "X_train_re=X_train_re.reshape(X_train_re.shape[0],X_train_re.shape[1],1)\n",
        "X_test_re=X_test_re.reshape(X_test_re.shape[0],X_test_re.shape[1],1)\n",
        "\n",
        "# check the shape again\n",
        "X_train_re.shape, X_test_re.shape"
      ],
      "metadata": {
        "colab": {
          "base_uri": "https://localhost:8080/"
        },
        "id": "TBzoRHolRFhx",
        "outputId": "b0dc6f1b-6dce-435c-ef79-f62ea0f38b35"
      },
      "execution_count": 119,
      "outputs": [
        {
          "output_type": "execute_result",
          "data": {
            "text/plain": [
              "((23143, 64, 1), (5786, 64, 1))"
            ]
          },
          "metadata": {},
          "execution_count": 119
        }
      ]
    },
    {
      "cell_type": "markdown",
      "source": [
        "#Create The CNN Model"
      ],
      "metadata": {
        "id": "BllBQKQORL0x"
      }
    },
    {
      "cell_type": "code",
      "source": [
        "from tensorflow.keras.models import Sequential\n",
        "from tensorflow.keras.layers import Dense,Flatten,Conv1D,BatchNormalization,Dropout, MaxPool1D\n",
        "from tensorflow.keras.optimizers import Adam"
      ],
      "metadata": {
        "id": "_JSgSLsNRJKD"
      },
      "execution_count": 120,
      "outputs": []
    },
    {
      "cell_type": "code",
      "source": [
        "model = Sequential()\n",
        "\n",
        "#1st layer\n",
        "model.add(Conv1D(filters=32, kernel_size=2, activation='relu', input_shape=X_train_re[0].shape))\n",
        "model.add(BatchNormalization())\n",
        "model.add(MaxPool1D(pool_size=2))\n",
        "model.add(Dropout(rate=0.2))\n",
        "#2nd layer\n",
        "model.add(Conv1D(filters=64, kernel_size=2, activation='relu'))\n",
        "model.add(BatchNormalization())\n",
        "model.add(MaxPool1D(pool_size=2))\n",
        "model.add(Dropout(rate=0.2))\n",
        "# build ANN\n",
        "model.add(Flatten())\n",
        "model.add(Dense(64, activation='relu'))\n",
        "model.add(Dropout(0.5))\n",
        "model.add(Dense(1, activation='sigmoid'))"
      ],
      "metadata": {
        "id": "zeyME4HfRRa9"
      },
      "execution_count": 121,
      "outputs": []
    },
    {
      "cell_type": "code",
      "source": [
        "model.summary()"
      ],
      "metadata": {
        "colab": {
          "base_uri": "https://localhost:8080/"
        },
        "id": "NCu4XUvbRV10",
        "outputId": "cccfebc0-fbea-4d2c-c176-4658eebb6eb1"
      },
      "execution_count": 122,
      "outputs": [
        {
          "output_type": "stream",
          "name": "stdout",
          "text": [
            "Model: \"sequential\"\n",
            "_________________________________________________________________\n",
            " Layer (type)                Output Shape              Param #   \n",
            "=================================================================\n",
            " conv1d (Conv1D)             (None, 63, 32)            96        \n",
            "                                                                 \n",
            " batch_normalization (BatchN  (None, 63, 32)           128       \n",
            " ormalization)                                                   \n",
            "                                                                 \n",
            " max_pooling1d (MaxPooling1D  (None, 31, 32)           0         \n",
            " )                                                               \n",
            "                                                                 \n",
            " dropout (Dropout)           (None, 31, 32)            0         \n",
            "                                                                 \n",
            " conv1d_1 (Conv1D)           (None, 30, 64)            4160      \n",
            "                                                                 \n",
            " batch_normalization_1 (Batc  (None, 30, 64)           256       \n",
            " hNormalization)                                                 \n",
            "                                                                 \n",
            " max_pooling1d_1 (MaxPooling  (None, 15, 64)           0         \n",
            " 1D)                                                             \n",
            "                                                                 \n",
            " dropout_1 (Dropout)         (None, 15, 64)            0         \n",
            "                                                                 \n",
            " flatten (Flatten)           (None, 960)               0         \n",
            "                                                                 \n",
            " dense (Dense)               (None, 64)                61504     \n",
            "                                                                 \n",
            " dropout_2 (Dropout)         (None, 64)                0         \n",
            "                                                                 \n",
            " dense_1 (Dense)             (None, 1)                 65        \n",
            "                                                                 \n",
            "=================================================================\n",
            "Total params: 66,209\n",
            "Trainable params: 66,017\n",
            "Non-trainable params: 192\n",
            "_________________________________________________________________\n"
          ]
        }
      ]
    },
    {
      "cell_type": "code",
      "source": [
        "model.compile(optimizer=Adam(learning_rate=1e-4), loss='binary_crossentropy', metrics=['accuracy'])"
      ],
      "metadata": {
        "id": "gdNgPAdYRe4S"
      },
      "execution_count": 123,
      "outputs": []
    },
    {
      "cell_type": "code",
      "source": [
        "history = model.fit(X_train_re, y_train_re, epochs=10, validation_data=(X_test_re,y_test_re))"
      ],
      "metadata": {
        "colab": {
          "base_uri": "https://localhost:8080/"
        },
        "id": "JWPGmBJERih7",
        "outputId": "0dcfc43b-aae9-47fc-fa03-fc09152f2c07"
      },
      "execution_count": 124,
      "outputs": [
        {
          "output_type": "stream",
          "name": "stdout",
          "text": [
            "Epoch 1/10\n",
            "724/724 [==============================] - 19s 7ms/step - loss: 0.4583 - accuracy: 0.8169 - val_loss: 0.2428 - val_accuracy: 0.9186\n",
            "Epoch 2/10\n",
            "724/724 [==============================] - 4s 6ms/step - loss: 0.2787 - accuracy: 0.8936 - val_loss: 0.2081 - val_accuracy: 0.9276\n",
            "Epoch 3/10\n",
            "724/724 [==============================] - 5s 6ms/step - loss: 0.2391 - accuracy: 0.9082 - val_loss: 0.1893 - val_accuracy: 0.9317\n",
            "Epoch 4/10\n",
            "724/724 [==============================] - 5s 7ms/step - loss: 0.2155 - accuracy: 0.9149 - val_loss: 0.1785 - val_accuracy: 0.9326\n",
            "Epoch 5/10\n",
            "724/724 [==============================] - 4s 6ms/step - loss: 0.2062 - accuracy: 0.9198 - val_loss: 0.1768 - val_accuracy: 0.9352\n",
            "Epoch 6/10\n",
            "724/724 [==============================] - 5s 7ms/step - loss: 0.1980 - accuracy: 0.9205 - val_loss: 0.1728 - val_accuracy: 0.9381\n",
            "Epoch 7/10\n",
            "724/724 [==============================] - 4s 6ms/step - loss: 0.1859 - accuracy: 0.9270 - val_loss: 0.1680 - val_accuracy: 0.9371\n",
            "Epoch 8/10\n",
            "724/724 [==============================] - 4s 6ms/step - loss: 0.1851 - accuracy: 0.9257 - val_loss: 0.1678 - val_accuracy: 0.9369\n",
            "Epoch 9/10\n",
            "724/724 [==============================] - 5s 7ms/step - loss: 0.1807 - accuracy: 0.9290 - val_loss: 0.1661 - val_accuracy: 0.9378\n",
            "Epoch 10/10\n",
            "724/724 [==============================] - 4s 6ms/step - loss: 0.1784 - accuracy: 0.9283 - val_loss: 0.1630 - val_accuracy: 0.9367\n"
          ]
        }
      ]
    },
    {
      "cell_type": "code",
      "source": [
        "accuracy = history.history[\"accuracy\"]\n",
        "val_accuracy = history.history[\"val_accuracy\"]\n",
        "loss = history.history[\"loss\"]\n",
        "val_loss = history.history[\"val_loss\"]\n",
        "epochs = range(1, len(accuracy) + 1)\n",
        "plt.plot(epochs, accuracy, \"bo\", label=\"Training accuracy\")\n",
        "plt.plot(epochs, val_accuracy, \"b\", label=\"Validation accuracy\")\n",
        "plt.title(\"Training and validation accuracy\")\n",
        "plt.legend()\n",
        "plt.figure()\n",
        "plt.plot(epochs, loss, \"bo\", label=\"Training loss\")\n",
        "plt.plot(epochs, val_loss, \"b\", label=\"Validation loss\")\n",
        "plt.title(\"Training and validation loss\")\n",
        "plt.legend()\n",
        "plt.show()"
      ],
      "metadata": {
        "colab": {
          "base_uri": "https://localhost:8080/",
          "height": 887
        },
        "id": "1HDibJrqSvLt",
        "outputId": "3f778745-a8b9-4d90-ca05-f11571e78848"
      },
      "execution_count": 125,
      "outputs": [
        {
          "output_type": "display_data",
          "data": {
            "text/plain": [
              "<Figure size 640x480 with 1 Axes>"
            ],
            "image/png": "[encoded data removed]"
          },
          "metadata": {}
        },
        {
          "output_type": "display_data",
          "data": {
            "text/plain": [
              "<Figure size 640x480 with 1 Axes>"
            ],
            "image/png": "[encoded data removed]"
          },
          "metadata": {}
        }
      ]
    },
    {
      "cell_type": "code",
      "source": [
        "score=model.evaluate(X_test_re,y_test_re)\n",
        "print(score)"
      ],
      "metadata": {
        "colab": {
          "base_uri": "https://localhost:8080/"
        },
        "id": "U3ob-i4TS75o",
        "outputId": "8261a273-f278-4dca-f915-7d0851e8eb8d"
      },
      "execution_count": 126,
      "outputs": [
        {
          "output_type": "stream",
          "name": "stdout",
          "text": [
            "181/181 [==============================] - 1s 3ms/step - loss: 0.1630 - accuracy: 0.9367\n",
            "[0.16303357481956482, 0.9367438554763794]\n"
          ]
        }
      ]
    },
    {
      "cell_type": "code",
      "source": [
        "y_pred = model.predict(X_test_re)"
      ],
      "metadata": {
        "colab": {
          "base_uri": "https://localhost:8080/"
        },
        "id": "bSVTxi3MS91H",
        "outputId": "638c3391-6958-4212-9789-4856545da75d"
      },
      "execution_count": 127,
      "outputs": [
        {
          "output_type": "stream",
          "name": "stdout",
          "text": [
            "181/181 [==============================] - 2s 5ms/step\n"
          ]
        }
      ]
    },
    {
      "cell_type": "code",
      "source": [
        "from sklearn.metrics import confusion_matrix, accuracy_score, precision_score, f1_score, recall_score"
      ],
      "metadata": {
        "id": "oszslgNOTBEn"
      },
      "execution_count": 128,
      "outputs": []
    },
    {
      "cell_type": "code",
      "source": [
        "y_expected=pd.DataFrame(y_test_re)"
      ],
      "metadata": {
        "id": "HIXMAQxKTDdP"
      },
      "execution_count": 129,
      "outputs": []
    },
    {
      "cell_type": "code",
      "source": [
        "cnf_matrix=confusion_matrix(y_expected,y_pred.round())\n",
        "\n",
        "plt.figure(figsize=(5, 5))\n",
        "sns.heatmap(cnf_matrix.T, square=True, annot=True, fmt='d', cbar=False)\n",
        "plt.xlabel('true label')\n",
        "plt.ylabel('predicted label')\n",
        "plt.show()"
      ],
      "metadata": {
        "colab": {
          "base_uri": "https://localhost:8080/",
          "height": 465
        },
        "id": "wFkFHk6tTGWd",
        "outputId": "2042b8fe-d368-4491-f8ea-b8a4a526ccf0"
      },
      "execution_count": 130,
      "outputs": [
        {
          "output_type": "display_data",
          "data": {
            "text/plain": [
              "<Figure size 500x500 with 1 Axes>"
            ],
            "image/png": "[encoded data removed]"
          },
          "metadata": {}
        }
      ]
    },
    {
      "cell_type": "code",
      "source": [
        "print(accuracy_score(y_test_re, y_pred.round()))\n",
        "print(precision_score(y_test_re, y_pred.round()))\n",
        "print(recall_score(y_test_re, y_pred.round()))\n",
        "print(f1_score(y_test_re, y_pred.round()))"
      ],
      "metadata": {
        "colab": {
          "base_uri": "https://localhost:8080/"
        },
        "id": "B5ZGRdtgTNxo",
        "outputId": "ea783207-9249-46d0-cc1b-734cd6615a37"
      },
      "execution_count": 131,
      "outputs": [
        {
          "output_type": "stream",
          "name": "stdout",
          "text": [
            "0.9367438645005185\n",
            "0.9814253222137983\n",
            "0.890915347556779\n",
            "0.933982683982684\n"
          ]
        }
      ]
    }
  ]
}