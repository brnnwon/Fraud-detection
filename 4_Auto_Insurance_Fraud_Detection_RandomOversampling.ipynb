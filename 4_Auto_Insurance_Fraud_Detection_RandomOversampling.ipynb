{
  "nbformat": 4,
  "nbformat_minor": 0,
  "metadata": {
    "colab": {
      "provenance": [],
      "gpuType": "T4",
      "authorship_tag": "ABX9TyPh3BhuVv2PAGJCkAE6gxxl",
      "include_colab_link": true
    },
    "kernelspec": {
      "name": "python3",
      "display_name": "Python 3"
    },
    "language_info": {
      "name": "python"
    },
    "accelerator": "GPU"
  },
  "cells": [
    {
      "cell_type": "markdown",
      "metadata": {
        "id": "view-in-github",
        "colab_type": "text"
      },
      "source": [
        "<a href=\"https://colab.research.google.com/github/brnnwon/Fraud-detection/blob/main/4_Auto_Insurance_Fraud_Detection_RandomOversampling.ipynb\" target=\"_parent\"><img src=\"https://colab.research.google.com/assets/colab-badge.svg\" alt=\"Open In Colab\"/></a>"
      ]
    },
    {
      "cell_type": "code",
      "source": [
        "import numpy as np\n",
        "import pandas as pd\n",
        "import matplotlib.pyplot as plt\n",
        "import seaborn as sns"
      ],
      "metadata": {
        "id": "9vJ35EuGpuzv"
      },
      "execution_count": 1,
      "outputs": []
    },
    {
      "cell_type": "markdown",
      "source": [
        "Import dataset"
      ],
      "metadata": {
        "id": "K2HpmGKsqlpR"
      }
    },
    {
      "cell_type": "code",
      "execution_count": 2,
      "metadata": {
        "id": "m9jH0t9RphQe"
      },
      "outputs": [],
      "source": [
        "url = 'https://raw.githubusercontent.com/brnnwon/Fraud-detection/main/fraud_oracle.csv'\n",
        "\n",
        "df = pd.read_csv(url)"
      ]
    },
    {
      "cell_type": "code",
      "source": [
        "df.head()"
      ],
      "metadata": {
        "colab": {
          "base_uri": "https://localhost:8080/",
          "height": 255
        },
        "id": "hJhDgc_1qV-V",
        "outputId": "c896da77-9c37-4813-d076-2d6c4ad1c06d"
      },
      "execution_count": 3,
      "outputs": [
        {
          "output_type": "execute_result",
          "data": {
            "text/plain": [
              "  Month  WeekOfMonth  DayOfWeek    Make AccidentArea DayOfWeekClaimed  \\\n",
              "0   Dec            5  Wednesday   Honda        Urban          Tuesday   \n",
              "1   Jan            3  Wednesday   Honda        Urban           Monday   \n",
              "2   Oct            5     Friday   Honda        Urban         Thursday   \n",
              "3   Jun            2   Saturday  Toyota        Rural           Friday   \n",
              "4   Jan            5     Monday   Honda        Urban          Tuesday   \n",
              "\n",
              "  MonthClaimed  WeekOfMonthClaimed     Sex MaritalStatus  ...  AgeOfVehicle  \\\n",
              "0          Jan                   1  Female        Single  ...       3 years   \n",
              "1          Jan                   4    Male        Single  ...       6 years   \n",
              "2          Nov                   2    Male       Married  ...       7 years   \n",
              "3          Jul                   1    Male       Married  ...   more than 7   \n",
              "4          Feb                   2  Female        Single  ...       5 years   \n",
              "\n",
              "  AgeOfPolicyHolder PoliceReportFiled WitnessPresent AgentType  \\\n",
              "0          26 to 30                No             No  External   \n",
              "1          31 to 35               Yes             No  External   \n",
              "2          41 to 50                No             No  External   \n",
              "3          51 to 65               Yes             No  External   \n",
              "4          31 to 35                No             No  External   \n",
              "\n",
              "   NumberOfSuppliments  AddressChange_Claim  NumberOfCars  Year  BasePolicy  \n",
              "0                 none               1 year        3 to 4  1994   Liability  \n",
              "1                 none            no change     1 vehicle  1994   Collision  \n",
              "2                 none            no change     1 vehicle  1994   Collision  \n",
              "3          more than 5            no change     1 vehicle  1994   Liability  \n",
              "4                 none            no change     1 vehicle  1994   Collision  \n",
              "\n",
              "[5 rows x 33 columns]"
            ],
            "text/html": [
              "\n",
              "  <div id=\"df-7dfca524-f98f-4409-b328-7703f91b9993\" class=\"colab-df-container\">\n",
              "    <div>\n",
              "<style scoped>\n",
              "    .dataframe tbody tr th:only-of-type {\n",
              "        vertical-align: middle;\n",
              "    }\n",
              "\n",
              "    .dataframe tbody tr th {\n",
              "        vertical-align: top;\n",
              "    }\n",
              "\n",
              "    .dataframe thead th {\n",
              "        text-align: right;\n",
              "    }\n",
              "</style>\n",
              "<table border=\"1\" class=\"dataframe\">\n",
              "  <thead>\n",
              "    <tr style=\"text-align: right;\">\n",
              "      <th></th>\n",
              "      <th>Month</th>\n",
              "      <th>WeekOfMonth</th>\n",
              "      <th>DayOfWeek</th>\n",
              "      <th>Make</th>\n",
              "      <th>AccidentArea</th>\n",
              "      <th>DayOfWeekClaimed</th>\n",
              "      <th>MonthClaimed</th>\n",
              "      <th>WeekOfMonthClaimed</th>\n",
              "      <th>Sex</th>\n",
              "      <th>MaritalStatus</th>\n",
              "      <th>...</th>\n",
              "      <th>AgeOfVehicle</th>\n",
              "      <th>AgeOfPolicyHolder</th>\n",
              "      <th>PoliceReportFiled</th>\n",
              "      <th>WitnessPresent</th>\n",
              "      <th>AgentType</th>\n",
              "      <th>NumberOfSuppliments</th>\n",
              "      <th>AddressChange_Claim</th>\n",
              "      <th>NumberOfCars</th>\n",
              "      <th>Year</th>\n",
              "      <th>BasePolicy</th>\n",
              "    </tr>\n",
              "  </thead>\n",
              "  <tbody>\n",
              "    <tr>\n",
              "      <th>0</th>\n",
              "      <td>Dec</td>\n",
              "      <td>5</td>\n",
              "      <td>Wednesday</td>\n",
              "      <td>Honda</td>\n",
              "      <td>Urban</td>\n",
              "      <td>Tuesday</td>\n",
              "      <td>Jan</td>\n",
              "      <td>1</td>\n",
              "      <td>Female</td>\n",
              "      <td>Single</td>\n",
              "      <td>...</td>\n",
              "      <td>3 years</td>\n",
              "      <td>26 to 30</td>\n",
              "      <td>No</td>\n",
              "      <td>No</td>\n",
              "      <td>External</td>\n",
              "      <td>none</td>\n",
              "      <td>1 year</td>\n",
              "      <td>3 to 4</td>\n",
              "      <td>1994</td>\n",
              "      <td>Liability</td>\n",
              "    </tr>\n",
              "    <tr>\n",
              "      <th>1</th>\n",
              "      <td>Jan</td>\n",
              "      <td>3</td>\n",
              "      <td>Wednesday</td>\n",
              "      <td>Honda</td>\n",
              "      <td>Urban</td>\n",
              "      <td>Monday</td>\n",
              "      <td>Jan</td>\n",
              "      <td>4</td>\n",
              "      <td>Male</td>\n",
              "      <td>Single</td>\n",
              "      <td>...</td>\n",
              "      <td>6 years</td>\n",
              "      <td>31 to 35</td>\n",
              "      <td>Yes</td>\n",
              "      <td>No</td>\n",
              "      <td>External</td>\n",
              "      <td>none</td>\n",
              "      <td>no change</td>\n",
              "      <td>1 vehicle</td>\n",
              "      <td>1994</td>\n",
              "      <td>Collision</td>\n",
              "    </tr>\n",
              "    <tr>\n",
              "      <th>2</th>\n",
              "      <td>Oct</td>\n",
              "      <td>5</td>\n",
              "      <td>Friday</td>\n",
              "      <td>Honda</td>\n",
              "      <td>Urban</td>\n",
              "      <td>Thursday</td>\n",
              "      <td>Nov</td>\n",
              "      <td>2</td>\n",
              "      <td>Male</td>\n",
              "      <td>Married</td>\n",
              "      <td>...</td>\n",
              "      <td>7 years</td>\n",
              "      <td>41 to 50</td>\n",
              "      <td>No</td>\n",
              "      <td>No</td>\n",
              "      <td>External</td>\n",
              "      <td>none</td>\n",
              "      <td>no change</td>\n",
              "      <td>1 vehicle</td>\n",
              "      <td>1994</td>\n",
              "      <td>Collision</td>\n",
              "    </tr>\n",
              "    <tr>\n",
              "      <th>3</th>\n",
              "      <td>Jun</td>\n",
              "      <td>2</td>\n",
              "      <td>Saturday</td>\n",
              "      <td>Toyota</td>\n",
              "      <td>Rural</td>\n",
              "      <td>Friday</td>\n",
              "      <td>Jul</td>\n",
              "      <td>1</td>\n",
              "      <td>Male</td>\n",
              "      <td>Married</td>\n",
              "      <td>...</td>\n",
              "      <td>more than 7</td>\n",
              "      <td>51 to 65</td>\n",
              "      <td>Yes</td>\n",
              "      <td>No</td>\n",
              "      <td>External</td>\n",
              "      <td>more than 5</td>\n",
              "      <td>no change</td>\n",
              "      <td>1 vehicle</td>\n",
              "      <td>1994</td>\n",
              "      <td>Liability</td>\n",
              "    </tr>\n",
              "    <tr>\n",
              "      <th>4</th>\n",
              "      <td>Jan</td>\n",
              "      <td>5</td>\n",
              "      <td>Monday</td>\n",
              "      <td>Honda</td>\n",
              "      <td>Urban</td>\n",
              "      <td>Tuesday</td>\n",
              "      <td>Feb</td>\n",
              "      <td>2</td>\n",
              "      <td>Female</td>\n",
              "      <td>Single</td>\n",
              "      <td>...</td>\n",
              "      <td>5 years</td>\n",
              "      <td>31 to 35</td>\n",
              "      <td>No</td>\n",
              "      <td>No</td>\n",
              "      <td>External</td>\n",
              "      <td>none</td>\n",
              "      <td>no change</td>\n",
              "      <td>1 vehicle</td>\n",
              "      <td>1994</td>\n",
              "      <td>Collision</td>\n",
              "    </tr>\n",
              "  </tbody>\n",
              "</table>\n",
              "<p>5 rows × 33 columns</p>\n",
              "</div>\n",
              "    <div class=\"colab-df-buttons\">\n",
              "\n",
              "  <div class=\"colab-df-container\">\n",
              "    <button class=\"colab-df-convert\" onclick=\"convertToInteractive('df-7dfca524-f98f-4409-b328-7703f91b9993')\"\n",
              "            title=\"Convert this dataframe to an interactive table.\"\n",
              "            style=\"display:none;\">\n",
              "\n",
              "  <svg xmlns=\"http://www.w3.org/2000/svg\" height=\"24px\" viewBox=\"0 -960 960 960\">\n",
              "    <path d=\"M120-120v-720h720v720H120Zm60-500h600v-160H180v160Zm220 220h160v-160H400v160Zm0 220h160v-160H400v160ZM180-400h160v-160H180v160Zm440 0h160v-160H620v160ZM180-180h160v-160H180v160Zm440 0h160v-160H620v160Z\"/>\n",
              "  </svg>\n",
              "    </button>\n",
              "\n",
              "  <style>\n",
              "    .colab-df-container {\n",
              "      display:flex;\n",
              "      gap: 12px;\n",
              "    }\n",
              "\n",
              "    .colab-df-convert {\n",
              "      background-color: #E8F0FE;\n",
              "      border: none;\n",
              "      border-radius: 50%;\n",
              "      cursor: pointer;\n",
              "      display: none;\n",
              "      fill: #1967D2;\n",
              "      height: 32px;\n",
              "      padding: 0 0 0 0;\n",
              "      width: 32px;\n",
              "    }\n",
              "\n",
              "    .colab-df-convert:hover {\n",
              "      background-color: #E2EBFA;\n",
              "      box-shadow: 0px 1px 2px rgba(60, 64, 67, 0.3), 0px 1px 3px 1px rgba(60, 64, 67, 0.15);\n",
              "      fill: #174EA6;\n",
              "    }\n",
              "\n",
              "    .colab-df-buttons div {\n",
              "      margin-bottom: 4px;\n",
              "    }\n",
              "\n",
              "    [theme=dark] .colab-df-convert {\n",
              "      background-color: #3B4455;\n",
              "      fill: #D2E3FC;\n",
              "    }\n",
              "\n",
              "    [theme=dark] .colab-df-convert:hover {\n",
              "      background-color: #434B5C;\n",
              "      box-shadow: 0px 1px 3px 1px rgba(0, 0, 0, 0.15);\n",
              "      filter: drop-shadow(0px 1px 2px rgba(0, 0, 0, 0.3));\n",
              "      fill: #FFFFFF;\n",
              "    }\n",
              "  </style>\n",
              "\n",
              "    <script>\n",
              "      const buttonEl =\n",
              "        document.querySelector('#df-7dfca524-f98f-4409-b328-7703f91b9993 button.colab-df-convert');\n",
              "      buttonEl.style.display =\n",
              "        google.colab.kernel.accessAllowed ? 'block' : 'none';\n",
              "\n",
              "      async function convertToInteractive(key) {\n",
              "        const element = document.querySelector('#df-7dfca524-f98f-4409-b328-7703f91b9993');\n",
              "        const dataTable =\n",
              "          await google.colab.kernel.invokeFunction('convertToInteractive',\n",
              "                                                    [key], {});\n",
              "        if (!dataTable) return;\n",
              "\n",
              "        const docLinkHtml = 'Like what you see? Visit the ' +\n",
              "          '<a target=\"_blank\" href=https://colab.research.google.com/notebooks/data_table.ipynb>data table notebook</a>'\n",
              "          + ' to learn more about interactive tables.';\n",
              "        element.innerHTML = '';\n",
              "        dataTable['output_type'] = 'display_data';\n",
              "        await google.colab.output.renderOutput(dataTable, element);\n",
              "        const docLink = document.createElement('div');\n",
              "        docLink.innerHTML = docLinkHtml;\n",
              "        element.appendChild(docLink);\n",
              "      }\n",
              "    </script>\n",
              "  </div>\n",
              "\n",
              "\n",
              "<div id=\"df-3a0e8151-0882-416d-be67-549a092afa77\">\n",
              "  <button class=\"colab-df-quickchart\" onclick=\"quickchart('df-3a0e8151-0882-416d-be67-549a092afa77')\"\n",
              "            title=\"Suggest charts\"\n",
              "            style=\"display:none;\">\n",
              "\n",
              "<svg xmlns=\"http://www.w3.org/2000/svg\" height=\"24px\"viewBox=\"0 0 24 24\"\n",
              "     width=\"24px\">\n",
              "    <g>\n",
              "        <path d=\"M19 3H5c-1.1 0-2 .9-2 2v14c0 1.1.9 2 2 2h14c1.1 0 2-.9 2-2V5c0-1.1-.9-2-2-2zM9 17H7v-7h2v7zm4 0h-2V7h2v10zm4 0h-2v-4h2v4z\"/>\n",
              "    </g>\n",
              "</svg>\n",
              "  </button>\n",
              "\n",
              "<style>\n",
              "  .colab-df-quickchart {\n",
              "      --bg-color: #E8F0FE;\n",
              "      --fill-color: #1967D2;\n",
              "      --hover-bg-color: #E2EBFA;\n",
              "      --hover-fill-color: #174EA6;\n",
              "      --disabled-fill-color: #AAA;\n",
              "      --disabled-bg-color: #DDD;\n",
              "  }\n",
              "\n",
              "  [theme=dark] .colab-df-quickchart {\n",
              "      --bg-color: #3B4455;\n",
              "      --fill-color: #D2E3FC;\n",
              "      --hover-bg-color: #434B5C;\n",
              "      --hover-fill-color: #FFFFFF;\n",
              "      --disabled-bg-color: #3B4455;\n",
              "      --disabled-fill-color: #666;\n",
              "  }\n",
              "\n",
              "  .colab-df-quickchart {\n",
              "    background-color: var(--bg-color);\n",
              "    border: none;\n",
              "    border-radius: 50%;\n",
              "    cursor: pointer;\n",
              "    display: none;\n",
              "    fill: var(--fill-color);\n",
              "    height: 32px;\n",
              "    padding: 0;\n",
              "    width: 32px;\n",
              "  }\n",
              "\n",
              "  .colab-df-quickchart:hover {\n",
              "    background-color: var(--hover-bg-color);\n",
              "    box-shadow: 0 1px 2px rgba(60, 64, 67, 0.3), 0 1px 3px 1px rgba(60, 64, 67, 0.15);\n",
              "    fill: var(--button-hover-fill-color);\n",
              "  }\n",
              "\n",
              "  .colab-df-quickchart-complete:disabled,\n",
              "  .colab-df-quickchart-complete:disabled:hover {\n",
              "    background-color: var(--disabled-bg-color);\n",
              "    fill: var(--disabled-fill-color);\n",
              "    box-shadow: none;\n",
              "  }\n",
              "\n",
              "  .colab-df-spinner {\n",
              "    border: 2px solid var(--fill-color);\n",
              "    border-color: transparent;\n",
              "    border-bottom-color: var(--fill-color);\n",
              "    animation:\n",
              "      spin 1s steps(1) infinite;\n",
              "  }\n",
              "\n",
              "  @keyframes spin {\n",
              "    0% {\n",
              "      border-color: transparent;\n",
              "      border-bottom-color: var(--fill-color);\n",
              "      border-left-color: var(--fill-color);\n",
              "    }\n",
              "    20% {\n",
              "      border-color: transparent;\n",
              "      border-left-color: var(--fill-color);\n",
              "      border-top-color: var(--fill-color);\n",
              "    }\n",
              "    30% {\n",
              "      border-color: transparent;\n",
              "      border-left-color: var(--fill-color);\n",
              "      border-top-color: var(--fill-color);\n",
              "      border-right-color: var(--fill-color);\n",
              "    }\n",
              "    40% {\n",
              "      border-color: transparent;\n",
              "      border-right-color: var(--fill-color);\n",
              "      border-top-color: var(--fill-color);\n",
              "    }\n",
              "    60% {\n",
              "      border-color: transparent;\n",
              "      border-right-color: var(--fill-color);\n",
              "    }\n",
              "    80% {\n",
              "      border-color: transparent;\n",
              "      border-right-color: var(--fill-color);\n",
              "      border-bottom-color: var(--fill-color);\n",
              "    }\n",
              "    90% {\n",
              "      border-color: transparent;\n",
              "      border-bottom-color: var(--fill-color);\n",
              "    }\n",
              "  }\n",
              "</style>\n",
              "\n",
              "  <script>\n",
              "    async function quickchart(key) {\n",
              "      const quickchartButtonEl =\n",
              "        document.querySelector('#' + key + ' button');\n",
              "      quickchartButtonEl.disabled = true;  // To prevent multiple clicks.\n",
              "      quickchartButtonEl.classList.add('colab-df-spinner');\n",
              "      try {\n",
              "        const charts = await google.colab.kernel.invokeFunction(\n",
              "            'suggestCharts', [key], {});\n",
              "      } catch (error) {\n",
              "        console.error('Error during call to suggestCharts:', error);\n",
              "      }\n",
              "      quickchartButtonEl.classList.remove('colab-df-spinner');\n",
              "      quickchartButtonEl.classList.add('colab-df-quickchart-complete');\n",
              "    }\n",
              "    (() => {\n",
              "      let quickchartButtonEl =\n",
              "        document.querySelector('#df-3a0e8151-0882-416d-be67-549a092afa77 button');\n",
              "      quickchartButtonEl.style.display =\n",
              "        google.colab.kernel.accessAllowed ? 'block' : 'none';\n",
              "    })();\n",
              "  </script>\n",
              "</div>\n",
              "    </div>\n",
              "  </div>\n"
            ]
          },
          "metadata": {},
          "execution_count": 3
        }
      ]
    },
    {
      "cell_type": "code",
      "source": [
        "df.shape"
      ],
      "metadata": {
        "colab": {
          "base_uri": "https://localhost:8080/"
        },
        "id": "eu7FcIugqbcg",
        "outputId": "e8951c29-7196-4069-9cdc-f101c4bd3147"
      },
      "execution_count": null,
      "outputs": [
        {
          "output_type": "execute_result",
          "data": {
            "text/plain": [
              "(15420, 33)"
            ]
          },
          "metadata": {},
          "execution_count": 4
        }
      ]
    },
    {
      "cell_type": "code",
      "source": [
        "df.columns"
      ],
      "metadata": {
        "colab": {
          "base_uri": "https://localhost:8080/"
        },
        "id": "whqzvNC5qgN1",
        "outputId": "5a7b5df3-d7aa-47c0-9669-baeb775b633f"
      },
      "execution_count": null,
      "outputs": [
        {
          "output_type": "execute_result",
          "data": {
            "text/plain": [
              "Index(['Month', 'WeekOfMonth', 'DayOfWeek', 'Make', 'AccidentArea',\n",
              "       'DayOfWeekClaimed', 'MonthClaimed', 'WeekOfMonthClaimed', 'Sex',\n",
              "       'MaritalStatus', 'Age', 'Fault', 'PolicyType', 'VehicleCategory',\n",
              "       'VehiclePrice', 'FraudFound_P', 'PolicyNumber', 'RepNumber',\n",
              "       'Deductible', 'DriverRating', 'Days_Policy_Accident',\n",
              "       'Days_Policy_Claim', 'PastNumberOfClaims', 'AgeOfVehicle',\n",
              "       'AgeOfPolicyHolder', 'PoliceReportFiled', 'WitnessPresent', 'AgentType',\n",
              "       'NumberOfSuppliments', 'AddressChange_Claim', 'NumberOfCars', 'Year',\n",
              "       'BasePolicy'],\n",
              "      dtype='object')"
            ]
          },
          "metadata": {},
          "execution_count": 32
        }
      ]
    },
    {
      "cell_type": "code",
      "source": [
        "df['FraudFound_P'].value_counts()"
      ],
      "metadata": {
        "colab": {
          "base_uri": "https://localhost:8080/"
        },
        "id": "Xe86NdXcuBv_",
        "outputId": "bcc37ccc-95b8-41d7-f4fe-8183fe859b2c"
      },
      "execution_count": 4,
      "outputs": [
        {
          "output_type": "execute_result",
          "data": {
            "text/plain": [
              "0    14497\n",
              "1      923\n",
              "Name: FraudFound_P, dtype: int64"
            ]
          },
          "metadata": {},
          "execution_count": 4
        }
      ]
    },
    {
      "cell_type": "markdown",
      "source": [
        "#Preprocessing"
      ],
      "metadata": {
        "id": "L-4Belim1RH4"
      }
    },
    {
      "cell_type": "code",
      "source": [
        "from sklearn.preprocessing import LabelEncoder, OneHotEncoder, OrdinalEncoder, StandardScaler\n",
        "from sklearn.model_selection import train_test_split\n",
        "from sklearn.metrics import accuracy_score, confusion_matrix, f1_score\n",
        "from collections import Counter\n",
        "\n",
        "from imblearn.over_sampling import ADASYN, SMOTE, RandomOverSampler"
      ],
      "metadata": {
        "id": "jPD4vpU21TPV"
      },
      "execution_count": 6,
      "outputs": []
    },
    {
      "cell_type": "code",
      "source": [
        "df.drop(columns = 'PolicyNumber', inplace = True)"
      ],
      "metadata": {
        "id": "5AA_vXfj2TZI"
      },
      "execution_count": 7,
      "outputs": []
    },
    {
      "cell_type": "code",
      "source": [
        "for column in df:\n",
        "  print(column)\n",
        "  print(sorted(df[column].unique()), '\\n')"
      ],
      "metadata": {
        "colab": {
          "base_uri": "https://localhost:8080/"
        },
        "id": "wsG5f6Iy6Rit",
        "outputId": "72a40245-5874-440e-8e48-f885e5abdc2c"
      },
      "execution_count": 8,
      "outputs": [
        {
          "output_type": "stream",
          "name": "stdout",
          "text": [
            "Month\n",
            "['Apr', 'Aug', 'Dec', 'Feb', 'Jan', 'Jul', 'Jun', 'Mar', 'May', 'Nov', 'Oct', 'Sep'] \n",
            "\n",
            "WeekOfMonth\n",
            "[1, 2, 3, 4, 5] \n",
            "\n",
            "DayOfWeek\n",
            "['Friday', 'Monday', 'Saturday', 'Sunday', 'Thursday', 'Tuesday', 'Wednesday'] \n",
            "\n",
            "Make\n",
            "['Accura', 'BMW', 'Chevrolet', 'Dodge', 'Ferrari', 'Ford', 'Honda', 'Jaguar', 'Lexus', 'Mazda', 'Mecedes', 'Mercury', 'Nisson', 'Pontiac', 'Porche', 'Saab', 'Saturn', 'Toyota', 'VW'] \n",
            "\n",
            "AccidentArea\n",
            "['Rural', 'Urban'] \n",
            "\n",
            "DayOfWeekClaimed\n",
            "['0', 'Friday', 'Monday', 'Saturday', 'Sunday', 'Thursday', 'Tuesday', 'Wednesday'] \n",
            "\n",
            "MonthClaimed\n",
            "['0', 'Apr', 'Aug', 'Dec', 'Feb', 'Jan', 'Jul', 'Jun', 'Mar', 'May', 'Nov', 'Oct', 'Sep'] \n",
            "\n",
            "WeekOfMonthClaimed\n",
            "[1, 2, 3, 4, 5] \n",
            "\n",
            "Sex\n",
            "['Female', 'Male'] \n",
            "\n",
            "MaritalStatus\n",
            "['Divorced', 'Married', 'Single', 'Widow'] \n",
            "\n",
            "Age\n",
            "[0, 16, 17, 18, 19, 20, 21, 22, 23, 24, 25, 26, 27, 28, 29, 30, 31, 32, 33, 34, 35, 36, 37, 38, 39, 40, 41, 42, 43, 44, 45, 46, 47, 48, 49, 50, 51, 52, 53, 54, 55, 56, 57, 58, 59, 60, 61, 62, 63, 64, 65, 66, 67, 68, 69, 70, 71, 72, 73, 74, 75, 76, 77, 78, 79, 80] \n",
            "\n",
            "Fault\n",
            "['Policy Holder', 'Third Party'] \n",
            "\n",
            "PolicyType\n",
            "['Sedan - All Perils', 'Sedan - Collision', 'Sedan - Liability', 'Sport - All Perils', 'Sport - Collision', 'Sport - Liability', 'Utility - All Perils', 'Utility - Collision', 'Utility - Liability'] \n",
            "\n",
            "VehicleCategory\n",
            "['Sedan', 'Sport', 'Utility'] \n",
            "\n",
            "VehiclePrice\n",
            "['20000 to 29000', '30000 to 39000', '40000 to 59000', '60000 to 69000', 'less than 20000', 'more than 69000'] \n",
            "\n",
            "FraudFound_P\n",
            "[0, 1] \n",
            "\n",
            "RepNumber\n",
            "[1, 2, 3, 4, 5, 6, 7, 8, 9, 10, 11, 12, 13, 14, 15, 16] \n",
            "\n",
            "Deductible\n",
            "[300, 400, 500, 700] \n",
            "\n",
            "DriverRating\n",
            "[1, 2, 3, 4] \n",
            "\n",
            "Days_Policy_Accident\n",
            "['1 to 7', '15 to 30', '8 to 15', 'more than 30', 'none'] \n",
            "\n",
            "Days_Policy_Claim\n",
            "['15 to 30', '8 to 15', 'more than 30', 'none'] \n",
            "\n",
            "PastNumberOfClaims\n",
            "['1', '2 to 4', 'more than 4', 'none'] \n",
            "\n",
            "AgeOfVehicle\n",
            "['2 years', '3 years', '4 years', '5 years', '6 years', '7 years', 'more than 7', 'new'] \n",
            "\n",
            "AgeOfPolicyHolder\n",
            "['16 to 17', '18 to 20', '21 to 25', '26 to 30', '31 to 35', '36 to 40', '41 to 50', '51 to 65', 'over 65'] \n",
            "\n",
            "PoliceReportFiled\n",
            "['No', 'Yes'] \n",
            "\n",
            "WitnessPresent\n",
            "['No', 'Yes'] \n",
            "\n",
            "AgentType\n",
            "['External', 'Internal'] \n",
            "\n",
            "NumberOfSuppliments\n",
            "['1 to 2', '3 to 5', 'more than 5', 'none'] \n",
            "\n",
            "AddressChange_Claim\n",
            "['1 year', '2 to 3 years', '4 to 8 years', 'no change', 'under 6 months'] \n",
            "\n",
            "NumberOfCars\n",
            "['1 vehicle', '2 vehicles', '3 to 4', '5 to 8', 'more than 8'] \n",
            "\n",
            "Year\n",
            "[1994, 1995, 1996] \n",
            "\n",
            "BasePolicy\n",
            "['All Perils', 'Collision', 'Liability'] \n",
            "\n"
          ]
        }
      ]
    },
    {
      "cell_type": "code",
      "source": [
        "df['Age'].hist()"
      ],
      "metadata": {
        "colab": {
          "base_uri": "https://localhost:8080/",
          "height": 448
        },
        "id": "43cXauDx8ARa",
        "outputId": "9bfa1ca0-ae7d-4aeb-efb9-61908c9a2c9d"
      },
      "execution_count": null,
      "outputs": [
        {
          "output_type": "execute_result",
          "data": {
            "text/plain": [
              "<Axes: >"
            ]
          },
          "metadata": {},
          "execution_count": 36
        },
        {
          "output_type": "display_data",
          "data": {
            "text/plain": [
              "<Figure size 640x480 with 1 Axes>"
            ],
            "image/png": "[encoded data removed]"
          },
          "metadata": {}
        }
      ]
    },
    {
      "cell_type": "code",
      "source": [
        "mean_age = df[df['Age'] > 0]['Age'].mean()\n",
        "\n",
        "print(mean_age)"
      ],
      "metadata": {
        "colab": {
          "base_uri": "https://localhost:8080/"
        },
        "id": "VXfAVUYz9NNI",
        "outputId": "9f271386-449f-4efd-d3fc-16e1880396d0"
      },
      "execution_count": 10,
      "outputs": [
        {
          "output_type": "stream",
          "name": "stdout",
          "text": [
            "40.700331125827816\n"
          ]
        }
      ]
    },
    {
      "cell_type": "code",
      "source": [
        "# Replace age values equal to 0 with the calculated mean\n",
        "df['Age'] = df['Age'].apply(lambda x: mean_age if x == 0 else x)"
      ],
      "metadata": {
        "id": "GVG7Hwmy9aap"
      },
      "execution_count": 11,
      "outputs": []
    },
    {
      "cell_type": "code",
      "source": [
        "df['Age'].hist()"
      ],
      "metadata": {
        "colab": {
          "base_uri": "https://localhost:8080/",
          "height": 448
        },
        "id": "cujyaeMw9fFB",
        "outputId": "ede04b08-efd1-41e4-f22f-f1439ab60f78"
      },
      "execution_count": 12,
      "outputs": [
        {
          "output_type": "execute_result",
          "data": {
            "text/plain": [
              "<Axes: >"
            ]
          },
          "metadata": {},
          "execution_count": 12
        },
        {
          "output_type": "display_data",
          "data": {
            "text/plain": [
              "<Figure size 640x480 with 1 Axes>"
            ],
            "image/png": "[encoded data removed]"
          },
          "metadata": {}
        }
      ]
    },
    {
      "cell_type": "code",
      "source": [
        "df['AccidentArea'] = df['AccidentArea'].replace({'Urban':1, 'Rural':0})\n",
        "df['Sex'] = df['Sex'].replace({'Female':1, 'Male':0})\n",
        "df['Fault'] = df['Fault'].replace({'Policy Holder':1, 'Third Party':0})\n",
        "df['PoliceReportFiled'] = df['PoliceReportFiled'].replace({'Yes':1, 'No':0})\n",
        "df['WitnessPresent'] = df['WitnessPresent'].replace({'Yes':1, 'No':0})\n",
        "df['AgentType'] = df['AgentType'].replace({'External':1, 'Internal':0})\n",
        "df['Month'] = df['Month'].replace({'Jan':1,'Feb':2,'Mar':3,'Apr':4,'May':5,'Jun':6,'Jul':7,'Aug':8,'Sep':9,'Oct':10,'Nov':11,'Dec':12})\n",
        "df['DayOfWeek'] = df['DayOfWeek'].replace({'Monday':1,'Tuesday':2,'Wednesday':3,'Thursday':4,'Friday':5,'Saturday':6,'Sunday':7})\n",
        "df['MonthClaimed'] = df['MonthClaimed'].replace({'0':0,'Jan':1,'Feb':2,'Mar':3,'Apr':4,'May':5,'Jun':6,'Jul':7,'Aug':8,'Sep':9,'Oct':10,'Nov':11,'Dec':12})\n",
        "df['DayOfWeekClaimed'] = df['DayOfWeekClaimed'].replace({'0':0,'Monday':1,'Tuesday':2,'Wednesday':3,'Thursday':4,'Friday':5,'Saturday':6,'Sunday':7})\n",
        "df['PastNumberOfClaims'] = df['PastNumberOfClaims'].replace({'none':0 ,'1':1,'2 to 4':2,'more than 4':3})\n",
        "df['NumberOfSuppliments'] = df['NumberOfSuppliments'].replace({'none':0,'1 to 2':1,'3 to 5':2,'more than 5':4})\n",
        "df['VehiclePrice'] = df['VehiclePrice'].replace({'less than 20000':0,'20000 to 29000':1,'30000 to 39000':2,\n",
        "                                                 '40000 to 59000':3,'60000 to 69000':4,'more than 69000':5})\n",
        "df['AgeOfVehicle'] = df['AgeOfVehicle'].replace({'3 years':3,'6 years':6,'7 years':7,'more than 7':8,'5 years':5,'new':0,'4 years':4,'2 years':2})\n",
        "df['Days_Policy_Accident'] = df['Days_Policy_Accident'].replace({'none':0, '1 to 7':1, '8 to 15':2, '15 to 30':3, 'more than 30':4})\n",
        "df['Days_Policy_Claim'] = df['Days_Policy_Claim'].replace({'none':0, '8 to 15':1, '15 to 30':2, 'more than 30':3})\n",
        "df['AgeOfPolicyHolder'] = df['AgeOfPolicyHolder'].replace({'16 to 17':0, '18 to 20':1, '21 to 25':2, '26 to 30':3, '31 to 35':4, '36 to 40':5, '41 to 50':6, '51 to 65':7, 'over 65':8})\n",
        "df['AddressChange_Claim'] = df['AddressChange_Claim'].replace({'no change':0, 'under 6 months':1, '1 year':2, '2 to 3 years':3, '4 to 8 years':4})\n",
        "df['NumberOfCars'] = df['NumberOfCars'].replace({'1 vehicle':0, '2 vehicles':1, '3 to 4':2, '5 to 8':3, 'more than 8':4})"
      ],
      "metadata": {
        "id": "uHpkPdGzA9j6"
      },
      "execution_count": 13,
      "outputs": []
    },
    {
      "cell_type": "code",
      "source": [
        "# Calculate the median of non-zero day-of-week values\n",
        "median_day_of_week = df[df['DayOfWeekClaimed'] != 0]['DayOfWeekClaimed'].mode()\n",
        "print(median_day_of_week)"
      ],
      "metadata": {
        "colab": {
          "base_uri": "https://localhost:8080/"
        },
        "id": "pOOYMHBPGVO4",
        "outputId": "78251ecf-0cd7-4699-923f-8a1760508812"
      },
      "execution_count": 14,
      "outputs": [
        {
          "output_type": "stream",
          "name": "stdout",
          "text": [
            "0    1\n",
            "Name: DayOfWeekClaimed, dtype: int64\n"
          ]
        }
      ]
    },
    {
      "cell_type": "code",
      "source": [
        "# Replace '0' values with the calculated median\n",
        "df['DayOfWeekClaimed'] = df['DayOfWeekClaimed'].apply(lambda x: median_day_of_week if x == 0 else x)"
      ],
      "metadata": {
        "id": "rHz4YHiIGY7j"
      },
      "execution_count": 15,
      "outputs": []
    },
    {
      "cell_type": "code",
      "source": [
        "mode_month_claimed = df[df['MonthClaimed'] != 0]['MonthClaimed'].mode()\n",
        "print(mode_month_claimed)"
      ],
      "metadata": {
        "colab": {
          "base_uri": "https://localhost:8080/"
        },
        "id": "HfshFcjfGlT6",
        "outputId": "710e74a2-c576-4a5c-90a9-e3ab822f9bff"
      },
      "execution_count": 16,
      "outputs": [
        {
          "output_type": "stream",
          "name": "stdout",
          "text": [
            "0    1\n",
            "Name: MonthClaimed, dtype: int64\n"
          ]
        }
      ]
    },
    {
      "cell_type": "code",
      "source": [
        "# Replace '0' values with the calculated median\n",
        "df['MonthClaimed'] = df['MonthClaimed'].apply(lambda x: mode_month_claimed if x == 0 else x)"
      ],
      "metadata": {
        "id": "W8WmqxutGyIF"
      },
      "execution_count": 17,
      "outputs": []
    },
    {
      "cell_type": "code",
      "source": [
        "df['DayOfWeekClaimed'] = df['DayOfWeekClaimed'].astype('int')\n",
        "df['MonthClaimed'] = df['MonthClaimed'].astype('int')"
      ],
      "metadata": {
        "id": "HZ45qUoKnDJ5"
      },
      "execution_count": 18,
      "outputs": []
    },
    {
      "cell_type": "code",
      "source": [
        "ohe_cols = ['Make', 'MaritalStatus', 'PolicyType', 'VehicleCategory', 'BasePolicy']"
      ],
      "metadata": {
        "id": "RKRI64MpHq2Z"
      },
      "execution_count": 19,
      "outputs": []
    },
    {
      "cell_type": "code",
      "source": [
        "df = pd.get_dummies(df, columns=ohe_cols)"
      ],
      "metadata": {
        "id": "oXvZhuJBIQqQ"
      },
      "execution_count": 20,
      "outputs": []
    },
    {
      "cell_type": "code",
      "source": [
        "df.info()"
      ],
      "metadata": {
        "colab": {
          "base_uri": "https://localhost:8080/"
        },
        "id": "GD2pzIloIdra",
        "outputId": "205b9905-7442-47d5-8437-ac5adf054aab"
      },
      "execution_count": 21,
      "outputs": [
        {
          "output_type": "stream",
          "name": "stdout",
          "text": [
            "<class 'pandas.core.frame.DataFrame'>\n",
            "RangeIndex: 15420 entries, 0 to 15419\n",
            "Data columns (total 65 columns):\n",
            " #   Column                           Non-Null Count  Dtype  \n",
            "---  ------                           --------------  -----  \n",
            " 0   Month                            15420 non-null  int64  \n",
            " 1   WeekOfMonth                      15420 non-null  int64  \n",
            " 2   DayOfWeek                        15420 non-null  int64  \n",
            " 3   AccidentArea                     15420 non-null  int64  \n",
            " 4   DayOfWeekClaimed                 15420 non-null  int64  \n",
            " 5   MonthClaimed                     15420 non-null  int64  \n",
            " 6   WeekOfMonthClaimed               15420 non-null  int64  \n",
            " 7   Sex                              15420 non-null  int64  \n",
            " 8   Age                              15420 non-null  float64\n",
            " 9   Fault                            15420 non-null  int64  \n",
            " 10  VehiclePrice                     15420 non-null  int64  \n",
            " 11  FraudFound_P                     15420 non-null  int64  \n",
            " 12  RepNumber                        15420 non-null  int64  \n",
            " 13  Deductible                       15420 non-null  int64  \n",
            " 14  DriverRating                     15420 non-null  int64  \n",
            " 15  Days_Policy_Accident             15420 non-null  int64  \n",
            " 16  Days_Policy_Claim                15420 non-null  int64  \n",
            " 17  PastNumberOfClaims               15420 non-null  int64  \n",
            " 18  AgeOfVehicle                     15420 non-null  int64  \n",
            " 19  AgeOfPolicyHolder                15420 non-null  int64  \n",
            " 20  PoliceReportFiled                15420 non-null  int64  \n",
            " 21  WitnessPresent                   15420 non-null  int64  \n",
            " 22  AgentType                        15420 non-null  int64  \n",
            " 23  NumberOfSuppliments              15420 non-null  int64  \n",
            " 24  AddressChange_Claim              15420 non-null  int64  \n",
            " 25  NumberOfCars                     15420 non-null  int64  \n",
            " 26  Year                             15420 non-null  int64  \n",
            " 27  Make_Accura                      15420 non-null  uint8  \n",
            " 28  Make_BMW                         15420 non-null  uint8  \n",
            " 29  Make_Chevrolet                   15420 non-null  uint8  \n",
            " 30  Make_Dodge                       15420 non-null  uint8  \n",
            " 31  Make_Ferrari                     15420 non-null  uint8  \n",
            " 32  Make_Ford                        15420 non-null  uint8  \n",
            " 33  Make_Honda                       15420 non-null  uint8  \n",
            " 34  Make_Jaguar                      15420 non-null  uint8  \n",
            " 35  Make_Lexus                       15420 non-null  uint8  \n",
            " 36  Make_Mazda                       15420 non-null  uint8  \n",
            " 37  Make_Mecedes                     15420 non-null  uint8  \n",
            " 38  Make_Mercury                     15420 non-null  uint8  \n",
            " 39  Make_Nisson                      15420 non-null  uint8  \n",
            " 40  Make_Pontiac                     15420 non-null  uint8  \n",
            " 41  Make_Porche                      15420 non-null  uint8  \n",
            " 42  Make_Saab                        15420 non-null  uint8  \n",
            " 43  Make_Saturn                      15420 non-null  uint8  \n",
            " 44  Make_Toyota                      15420 non-null  uint8  \n",
            " 45  Make_VW                          15420 non-null  uint8  \n",
            " 46  MaritalStatus_Divorced           15420 non-null  uint8  \n",
            " 47  MaritalStatus_Married            15420 non-null  uint8  \n",
            " 48  MaritalStatus_Single             15420 non-null  uint8  \n",
            " 49  MaritalStatus_Widow              15420 non-null  uint8  \n",
            " 50  PolicyType_Sedan - All Perils    15420 non-null  uint8  \n",
            " 51  PolicyType_Sedan - Collision     15420 non-null  uint8  \n",
            " 52  PolicyType_Sedan - Liability     15420 non-null  uint8  \n",
            " 53  PolicyType_Sport - All Perils    15420 non-null  uint8  \n",
            " 54  PolicyType_Sport - Collision     15420 non-null  uint8  \n",
            " 55  PolicyType_Sport - Liability     15420 non-null  uint8  \n",
            " 56  PolicyType_Utility - All Perils  15420 non-null  uint8  \n",
            " 57  PolicyType_Utility - Collision   15420 non-null  uint8  \n",
            " 58  PolicyType_Utility - Liability   15420 non-null  uint8  \n",
            " 59  VehicleCategory_Sedan            15420 non-null  uint8  \n",
            " 60  VehicleCategory_Sport            15420 non-null  uint8  \n",
            " 61  VehicleCategory_Utility          15420 non-null  uint8  \n",
            " 62  BasePolicy_All Perils            15420 non-null  uint8  \n",
            " 63  BasePolicy_Collision             15420 non-null  uint8  \n",
            " 64  BasePolicy_Liability             15420 non-null  uint8  \n",
            "dtypes: float64(1), int64(26), uint8(38)\n",
            "memory usage: 3.7 MB\n"
          ]
        }
      ]
    },
    {
      "cell_type": "code",
      "source": [
        "X = df.drop('FraudFound_P', axis = 1)\n",
        "y = df['FraudFound_P']"
      ],
      "metadata": {
        "id": "-ZdXyhquQeo0"
      },
      "execution_count": 22,
      "outputs": []
    },
    {
      "cell_type": "code",
      "source": [
        "print(X.shape, y.shape)"
      ],
      "metadata": {
        "colab": {
          "base_uri": "https://localhost:8080/"
        },
        "id": "z2qXGEtnQr2j",
        "outputId": "dfe12cd6-625a-4244-f188-e71f2388c219"
      },
      "execution_count": 23,
      "outputs": [
        {
          "output_type": "stream",
          "name": "stdout",
          "text": [
            "(15420, 64) (15420,)\n"
          ]
        }
      ]
    },
    {
      "cell_type": "code",
      "source": [
        "counter = Counter(y)\n",
        "print(counter)"
      ],
      "metadata": {
        "colab": {
          "base_uri": "https://localhost:8080/"
        },
        "id": "Nb2pXVAkQvXs",
        "outputId": "b0808f0a-027c-4c8b-f821-ba3ebfdbdb7d"
      },
      "execution_count": 24,
      "outputs": [
        {
          "output_type": "stream",
          "name": "stdout",
          "text": [
            "Counter({0: 14497, 1: 923})\n"
          ]
        }
      ]
    },
    {
      "cell_type": "code",
      "source": [
        "# transform the dataset\n",
        "X, y = RandomOverSampler(sampling_strategy='minority').fit_resample(X, y)\n",
        "#X_train_re, X_test_re, y_train_re, y_test_re = train_test_split(X, y, test_size=0.2)"
      ],
      "metadata": {
        "id": "0q8NqeGJQ3pX"
      },
      "execution_count": 25,
      "outputs": []
    },
    {
      "cell_type": "code",
      "source": [
        "print(X.shape)\n",
        "print(y.shape)"
      ],
      "metadata": {
        "colab": {
          "base_uri": "https://localhost:8080/"
        },
        "id": "cM72D-xlt1rB",
        "outputId": "ccdcafb0-9238-47b2-94e4-f012db914d37"
      },
      "execution_count": 26,
      "outputs": [
        {
          "output_type": "stream",
          "name": "stdout",
          "text": [
            "(28994, 64)\n",
            "(28994,)\n"
          ]
        }
      ]
    },
    {
      "cell_type": "code",
      "source": [
        "counter = Counter(y)\n",
        "print(counter)"
      ],
      "metadata": {
        "colab": {
          "base_uri": "https://localhost:8080/"
        },
        "id": "idGXi2m3uAvA",
        "outputId": "e69a10aa-27ae-4d93-c42d-b7b004c7d7ab"
      },
      "execution_count": 27,
      "outputs": [
        {
          "output_type": "stream",
          "name": "stdout",
          "text": [
            "Counter({0: 14497, 1: 14497})\n"
          ]
        }
      ]
    },
    {
      "cell_type": "markdown",
      "source": [
        "Train set, Validation set, Test set"
      ],
      "metadata": {
        "id": "5GBspzZjsuEF"
      }
    },
    {
      "cell_type": "code",
      "source": [
        "# Assuming X, y are your features and labels after resampling\n",
        "# First split: 85% for the combined training and validation, 15% for testing\n",
        "X_train_val, X_test, y_train_val, y_test = train_test_split(X, y, test_size=0.15, random_state=42)\n",
        "\n",
        "# Second split: From the 85% data, split into 70% training and 15% validation\n",
        "# To achieve this, we use test_size ≈ 0.1765 because 15% of the original is approximately 17.65% of the 85% data\n",
        "X_train, X_val, y_train, y_val = train_test_split(X_train_val, y_train_val, test_size=0.1765, random_state=42)\n",
        "\n",
        "# Print the shapes to verify\n",
        "print(\"Training set:\", X_train.shape, y_train.shape)\n",
        "print(\"Validation set:\", X_val.shape, y_val.shape)\n",
        "print(\"Test set:\", X_test.shape, y_test.shape)"
      ],
      "metadata": {
        "colab": {
          "base_uri": "https://localhost:8080/"
        },
        "id": "xrrsIlnCssdt",
        "outputId": "29922ea3-7361-4775-acfd-696f956fa1cc"
      },
      "execution_count": 28,
      "outputs": [
        {
          "output_type": "stream",
          "name": "stdout",
          "text": [
            "Training set: (20294, 64) (20294,)\n",
            "Validation set: (4350, 64) (4350,)\n",
            "Test set: (4350, 64) (4350,)\n"
          ]
        }
      ]
    },
    {
      "cell_type": "code",
      "source": [
        "# summarize the new class distribution\n",
        "counter = Counter(y)\n",
        "print(counter)"
      ],
      "metadata": {
        "colab": {
          "base_uri": "https://localhost:8080/"
        },
        "id": "hdIfwvSUQ9zN",
        "outputId": "8e53b540-82a8-4aa8-8708-c2c2f0990a34"
      },
      "execution_count": 29,
      "outputs": [
        {
          "output_type": "stream",
          "name": "stdout",
          "text": [
            "Counter({0: 14497, 1: 14497})\n"
          ]
        }
      ]
    },
    {
      "cell_type": "code",
      "source": [
        "# Initialize the scaler\n",
        "scaler = StandardScaler()\n",
        "\n",
        "# Fit and transform the training data\n",
        "X_train_scaled = scaler.fit_transform(X_train)\n",
        "\n",
        "# Transform the validation and test data using the same scaler\n",
        "X_val_scaled = scaler.transform(X_val)\n",
        "X_test_scaled = scaler.transform(X_test)"
      ],
      "metadata": {
        "id": "b20qFlSwtjlk"
      },
      "execution_count": 30,
      "outputs": []
    },
    {
      "cell_type": "code",
      "source": [
        "X_val_scaled"
      ],
      "metadata": {
        "colab": {
          "base_uri": "https://localhost:8080/"
        },
        "id": "3J6LjAV0RC9E",
        "outputId": "8a44d57a-b4c4-45a9-9e8b-f864c436b966"
      },
      "execution_count": 31,
      "outputs": [
        {
          "output_type": "execute_result",
          "data": {
            "text/plain": [
              "array([[-0.06015025,  0.97116566, -1.42562491, ..., -0.78249499,\n",
              "         1.15754285, -0.48882506],\n",
              "       [-0.06015025, -1.37335663,  0.06262776, ...,  1.27796346,\n",
              "        -0.8638989 , -0.48882506],\n",
              "       [ 0.8178328 , -1.37335663, -0.92954069, ...,  1.27796346,\n",
              "        -0.8638989 , -0.48882506],\n",
              "       ...,\n",
              "       [-0.06015025,  0.97116566,  1.05479621, ...,  1.27796346,\n",
              "        -0.8638989 , -0.48882506],\n",
              "       [ 0.8178328 ,  1.75267308,  0.55871198, ..., -0.78249499,\n",
              "         1.15754285, -0.48882506],\n",
              "       [ 1.40315483, -0.5918492 , -0.92954069, ...,  1.27796346,\n",
              "        -0.8638989 , -0.48882506]])"
            ]
          },
          "metadata": {},
          "execution_count": 31
        }
      ]
    },
    {
      "cell_type": "code",
      "source": [
        "# Reshape the datasets for Conv1D\n",
        "X_train_re = X_train_scaled.reshape(X_train_scaled.shape[0], X_train_scaled.shape[1], 1)\n",
        "X_val_re = X_val_scaled.reshape(X_val_scaled.shape[0], X_val_scaled.shape[1], 1)\n",
        "X_test_re = X_test_scaled.reshape(X_test_scaled.shape[0], X_test_scaled.shape[1], 1)\n",
        "\n",
        "# Check the shape again\n",
        "print(\"Training set shape:\", X_train_re.shape)\n",
        "print(\"Validation set shape:\", X_val_re.shape)\n",
        "print(\"Test set shape:\", X_test_re.shape)"
      ],
      "metadata": {
        "colab": {
          "base_uri": "https://localhost:8080/"
        },
        "id": "TBzoRHolRFhx",
        "outputId": "f0974289-1c46-4111-8db5-5b5fcf9b3501"
      },
      "execution_count": 32,
      "outputs": [
        {
          "output_type": "stream",
          "name": "stdout",
          "text": [
            "Training set shape: (20294, 64, 1)\n",
            "Validation set shape: (4350, 64, 1)\n",
            "Test set shape: (4350, 64, 1)\n"
          ]
        }
      ]
    },
    {
      "cell_type": "markdown",
      "source": [
        "#CNN"
      ],
      "metadata": {
        "id": "BllBQKQORL0x"
      }
    },
    {
      "cell_type": "code",
      "source": [
        "from tensorflow.keras.models import Sequential\n",
        "from tensorflow.keras.layers import Dense,Flatten,Conv1D,BatchNormalization,Dropout, MaxPool1D\n",
        "from tensorflow.keras.optimizers import Adam"
      ],
      "metadata": {
        "id": "_JSgSLsNRJKD"
      },
      "execution_count": 33,
      "outputs": []
    },
    {
      "cell_type": "code",
      "source": [
        "model = Sequential()\n",
        "\n",
        "#1st layer\n",
        "model.add(Conv1D(filters=32, kernel_size=2, activation='relu', input_shape=X_train_re[0].shape))\n",
        "model.add(BatchNormalization())\n",
        "model.add(MaxPool1D(pool_size=2))\n",
        "model.add(Dropout(rate=0.2))\n",
        "#2nd layer\n",
        "model.add(Conv1D(filters=64, kernel_size=2, activation='relu'))\n",
        "model.add(BatchNormalization())\n",
        "model.add(MaxPool1D(pool_size=2))\n",
        "model.add(Dropout(rate=0.2))\n",
        "# build DNN\n",
        "model.add(Flatten())\n",
        "model.add(Dense(64, activation='relu'))\n",
        "model.add(Dropout(0.5))\n",
        "model.add(Dense(1, activation='sigmoid'))"
      ],
      "metadata": {
        "id": "zeyME4HfRRa9"
      },
      "execution_count": 34,
      "outputs": []
    },
    {
      "cell_type": "code",
      "source": [
        "model.summary()"
      ],
      "metadata": {
        "colab": {
          "base_uri": "https://localhost:8080/"
        },
        "id": "NCu4XUvbRV10",
        "outputId": "c684254c-ab31-409d-a1dc-da8f2a087932"
      },
      "execution_count": 35,
      "outputs": [
        {
          "output_type": "stream",
          "name": "stdout",
          "text": [
            "Model: \"sequential\"\n",
            "_________________________________________________________________\n",
            " Layer (type)                Output Shape              Param #   \n",
            "=================================================================\n",
            " conv1d (Conv1D)             (None, 63, 32)            96        \n",
            "                                                                 \n",
            " batch_normalization (Batch  (None, 63, 32)            128       \n",
            " Normalization)                                                  \n",
            "                                                                 \n",
            " max_pooling1d (MaxPooling1  (None, 31, 32)            0         \n",
            " D)                                                              \n",
            "                                                                 \n",
            " dropout (Dropout)           (None, 31, 32)            0         \n",
            "                                                                 \n",
            " conv1d_1 (Conv1D)           (None, 30, 64)            4160      \n",
            "                                                                 \n",
            " batch_normalization_1 (Bat  (None, 30, 64)            256       \n",
            " chNormalization)                                                \n",
            "                                                                 \n",
            " max_pooling1d_1 (MaxPoolin  (None, 15, 64)            0         \n",
            " g1D)                                                            \n",
            "                                                                 \n",
            " dropout_1 (Dropout)         (None, 15, 64)            0         \n",
            "                                                                 \n",
            " flatten (Flatten)           (None, 960)               0         \n",
            "                                                                 \n",
            " dense (Dense)               (None, 64)                61504     \n",
            "                                                                 \n",
            " dropout_2 (Dropout)         (None, 64)                0         \n",
            "                                                                 \n",
            " dense_1 (Dense)             (None, 1)                 65        \n",
            "                                                                 \n",
            "=================================================================\n",
            "Total params: 66209 (258.63 KB)\n",
            "Trainable params: 66017 (257.88 KB)\n",
            "Non-trainable params: 192 (768.00 Byte)\n",
            "_________________________________________________________________\n"
          ]
        }
      ]
    },
    {
      "cell_type": "code",
      "source": [
        "model.compile(optimizer=Adam(learning_rate=1e-4), loss='binary_crossentropy', metrics=['accuracy'])"
      ],
      "metadata": {
        "id": "gdNgPAdYRe4S"
      },
      "execution_count": 36,
      "outputs": []
    },
    {
      "cell_type": "code",
      "source": [
        "history = model.fit(X_train_re, y_train, epochs=50, validation_data=(X_val_re, y_val))"
      ],
      "metadata": {
        "colab": {
          "base_uri": "https://localhost:8080/"
        },
        "id": "JWPGmBJERih7",
        "outputId": "50115958-8d5a-4e95-c947-d677170f7e82"
      },
      "execution_count": 37,
      "outputs": [
        {
          "output_type": "stream",
          "name": "stdout",
          "text": [
            "Epoch 1/50\n",
            "635/635 [==============================] - 20s 8ms/step - loss: 0.7733 - accuracy: 0.6220 - val_loss: 0.5470 - val_accuracy: 0.7453\n",
            "Epoch 2/50\n",
            "635/635 [==============================] - 5s 8ms/step - loss: 0.5994 - accuracy: 0.6985 - val_loss: 0.5220 - val_accuracy: 0.7492\n",
            "Epoch 3/50\n",
            "635/635 [==============================] - 5s 8ms/step - loss: 0.5642 - accuracy: 0.7187 - val_loss: 0.5073 - val_accuracy: 0.7552\n",
            "Epoch 4/50\n",
            "635/635 [==============================] - 4s 7ms/step - loss: 0.5447 - accuracy: 0.7343 - val_loss: 0.4939 - val_accuracy: 0.7637\n",
            "Epoch 5/50\n",
            "635/635 [==============================] - 5s 8ms/step - loss: 0.5320 - accuracy: 0.7376 - val_loss: 0.4861 - val_accuracy: 0.7692\n",
            "Epoch 6/50\n",
            "635/635 [==============================] - 5s 7ms/step - loss: 0.5220 - accuracy: 0.7422 - val_loss: 0.4740 - val_accuracy: 0.7733\n",
            "Epoch 7/50\n",
            "635/635 [==============================] - 4s 7ms/step - loss: 0.5115 - accuracy: 0.7485 - val_loss: 0.4702 - val_accuracy: 0.7736\n",
            "Epoch 8/50\n",
            "635/635 [==============================] - 5s 9ms/step - loss: 0.5034 - accuracy: 0.7542 - val_loss: 0.4657 - val_accuracy: 0.7736\n",
            "Epoch 9/50\n",
            "635/635 [==============================] - 5s 8ms/step - loss: 0.5021 - accuracy: 0.7553 - val_loss: 0.4599 - val_accuracy: 0.7761\n",
            "Epoch 10/50\n",
            "635/635 [==============================] - 4s 7ms/step - loss: 0.4947 - accuracy: 0.7587 - val_loss: 0.4558 - val_accuracy: 0.7782\n",
            "Epoch 11/50\n",
            "635/635 [==============================] - 6s 9ms/step - loss: 0.4883 - accuracy: 0.7602 - val_loss: 0.4505 - val_accuracy: 0.7821\n",
            "Epoch 12/50\n",
            "635/635 [==============================] - 4s 7ms/step - loss: 0.4824 - accuracy: 0.7620 - val_loss: 0.4473 - val_accuracy: 0.7821\n",
            "Epoch 13/50\n",
            "635/635 [==============================] - 4s 7ms/step - loss: 0.4819 - accuracy: 0.7656 - val_loss: 0.4423 - val_accuracy: 0.7848\n",
            "Epoch 14/50\n",
            "635/635 [==============================] - 6s 9ms/step - loss: 0.4751 - accuracy: 0.7709 - val_loss: 0.4369 - val_accuracy: 0.7917\n",
            "Epoch 15/50\n",
            "635/635 [==============================] - 5s 8ms/step - loss: 0.4697 - accuracy: 0.7702 - val_loss: 0.4343 - val_accuracy: 0.7887\n",
            "Epoch 16/50\n",
            "635/635 [==============================] - 5s 8ms/step - loss: 0.4670 - accuracy: 0.7732 - val_loss: 0.4322 - val_accuracy: 0.7920\n",
            "Epoch 17/50\n",
            "635/635 [==============================] - 6s 9ms/step - loss: 0.4620 - accuracy: 0.7750 - val_loss: 0.4242 - val_accuracy: 0.7926\n",
            "Epoch 18/50\n",
            "635/635 [==============================] - 4s 7ms/step - loss: 0.4593 - accuracy: 0.7727 - val_loss: 0.4213 - val_accuracy: 0.7961\n",
            "Epoch 19/50\n",
            "635/635 [==============================] - 5s 8ms/step - loss: 0.4526 - accuracy: 0.7794 - val_loss: 0.4188 - val_accuracy: 0.7970\n",
            "Epoch 20/50\n",
            "635/635 [==============================] - 5s 8ms/step - loss: 0.4517 - accuracy: 0.7797 - val_loss: 0.4154 - val_accuracy: 0.8030\n",
            "Epoch 21/50\n",
            "635/635 [==============================] - 4s 7ms/step - loss: 0.4508 - accuracy: 0.7795 - val_loss: 0.4151 - val_accuracy: 0.7956\n",
            "Epoch 22/50\n",
            "635/635 [==============================] - 5s 8ms/step - loss: 0.4476 - accuracy: 0.7824 - val_loss: 0.4065 - val_accuracy: 0.8060\n",
            "Epoch 23/50\n",
            "635/635 [==============================] - 6s 10ms/step - loss: 0.4421 - accuracy: 0.7856 - val_loss: 0.4019 - val_accuracy: 0.8108\n",
            "Epoch 24/50\n",
            "635/635 [==============================] - 4s 7ms/step - loss: 0.4374 - accuracy: 0.7868 - val_loss: 0.3998 - val_accuracy: 0.8152\n",
            "Epoch 25/50\n",
            "635/635 [==============================] - 5s 7ms/step - loss: 0.4357 - accuracy: 0.7914 - val_loss: 0.3970 - val_accuracy: 0.8092\n",
            "Epoch 26/50\n",
            "635/635 [==============================] - 6s 9ms/step - loss: 0.4343 - accuracy: 0.7907 - val_loss: 0.3930 - val_accuracy: 0.8129\n",
            "Epoch 27/50\n",
            "635/635 [==============================] - 4s 7ms/step - loss: 0.4291 - accuracy: 0.7946 - val_loss: 0.3875 - val_accuracy: 0.8172\n",
            "Epoch 28/50\n",
            "635/635 [==============================] - 5s 8ms/step - loss: 0.4252 - accuracy: 0.7960 - val_loss: 0.3852 - val_accuracy: 0.8159\n",
            "Epoch 29/50\n",
            "635/635 [==============================] - 5s 8ms/step - loss: 0.4212 - accuracy: 0.7969 - val_loss: 0.3778 - val_accuracy: 0.8221\n",
            "Epoch 30/50\n",
            "635/635 [==============================] - 4s 7ms/step - loss: 0.4209 - accuracy: 0.7998 - val_loss: 0.3748 - val_accuracy: 0.8191\n",
            "Epoch 31/50\n",
            "635/635 [==============================] - 5s 8ms/step - loss: 0.4167 - accuracy: 0.7993 - val_loss: 0.3770 - val_accuracy: 0.8202\n",
            "Epoch 32/50\n",
            "635/635 [==============================] - 5s 8ms/step - loss: 0.4110 - accuracy: 0.8045 - val_loss: 0.3743 - val_accuracy: 0.8246\n",
            "Epoch 33/50\n",
            "635/635 [==============================] - 4s 7ms/step - loss: 0.4126 - accuracy: 0.8034 - val_loss: 0.3716 - val_accuracy: 0.8267\n",
            "Epoch 34/50\n",
            "635/635 [==============================] - 6s 9ms/step - loss: 0.4107 - accuracy: 0.8050 - val_loss: 0.3668 - val_accuracy: 0.8315\n",
            "Epoch 35/50\n",
            "635/635 [==============================] - 5s 8ms/step - loss: 0.4027 - accuracy: 0.8104 - val_loss: 0.3646 - val_accuracy: 0.8306\n",
            "Epoch 36/50\n",
            "635/635 [==============================] - 4s 7ms/step - loss: 0.4006 - accuracy: 0.8095 - val_loss: 0.3624 - val_accuracy: 0.8310\n",
            "Epoch 37/50\n",
            "635/635 [==============================] - 6s 9ms/step - loss: 0.4002 - accuracy: 0.8117 - val_loss: 0.3584 - val_accuracy: 0.8356\n",
            "Epoch 38/50\n",
            "635/635 [==============================] - 4s 7ms/step - loss: 0.3995 - accuracy: 0.8113 - val_loss: 0.3543 - val_accuracy: 0.8425\n",
            "Epoch 39/50\n",
            "635/635 [==============================] - 5s 8ms/step - loss: 0.3981 - accuracy: 0.8132 - val_loss: 0.3521 - val_accuracy: 0.8384\n",
            "Epoch 40/50\n",
            "635/635 [==============================] - 6s 9ms/step - loss: 0.3933 - accuracy: 0.8165 - val_loss: 0.3464 - val_accuracy: 0.8448\n",
            "Epoch 41/50\n",
            "635/635 [==============================] - 4s 7ms/step - loss: 0.3935 - accuracy: 0.8148 - val_loss: 0.3487 - val_accuracy: 0.8434\n",
            "Epoch 42/50\n",
            "635/635 [==============================] - 5s 8ms/step - loss: 0.3893 - accuracy: 0.8159 - val_loss: 0.3429 - val_accuracy: 0.8492\n",
            "Epoch 43/50\n",
            "635/635 [==============================] - 6s 9ms/step - loss: 0.3894 - accuracy: 0.8202 - val_loss: 0.3395 - val_accuracy: 0.8494\n",
            "Epoch 44/50\n",
            "635/635 [==============================] - 5s 7ms/step - loss: 0.3849 - accuracy: 0.8213 - val_loss: 0.3393 - val_accuracy: 0.8503\n",
            "Epoch 45/50\n",
            "635/635 [==============================] - 5s 9ms/step - loss: 0.3826 - accuracy: 0.8227 - val_loss: 0.3343 - val_accuracy: 0.8508\n",
            "Epoch 46/50\n",
            "635/635 [==============================] - 5s 8ms/step - loss: 0.3807 - accuracy: 0.8231 - val_loss: 0.3325 - val_accuracy: 0.8517\n",
            "Epoch 47/50\n",
            "635/635 [==============================] - 4s 7ms/step - loss: 0.3779 - accuracy: 0.8245 - val_loss: 0.3277 - val_accuracy: 0.8547\n",
            "Epoch 48/50\n",
            "635/635 [==============================] - 5s 9ms/step - loss: 0.3741 - accuracy: 0.8290 - val_loss: 0.3291 - val_accuracy: 0.8520\n",
            "Epoch 49/50\n",
            "635/635 [==============================] - 5s 7ms/step - loss: 0.3720 - accuracy: 0.8288 - val_loss: 0.3300 - val_accuracy: 0.8501\n",
            "Epoch 50/50\n",
            "635/635 [==============================] - 4s 7ms/step - loss: 0.3713 - accuracy: 0.8328 - val_loss: 0.3209 - val_accuracy: 0.8600\n"
          ]
        }
      ]
    },
    {
      "cell_type": "markdown",
      "source": [
        "##Accuracy Validation"
      ],
      "metadata": {
        "id": "FBOHf9-_ndUX"
      }
    },
    {
      "cell_type": "code",
      "source": [
        "accuracy = history.history[\"accuracy\"]\n",
        "val_accuracy = history.history[\"val_accuracy\"]\n",
        "loss = history.history[\"loss\"]\n",
        "val_loss = history.history[\"val_loss\"]\n",
        "epochs = range(1, len(accuracy) + 1)\n",
        "plt.plot(epochs, accuracy, \"bo\", label=\"Training accuracy\")\n",
        "plt.plot(epochs, val_accuracy, \"b\", label=\"Validation accuracy\")\n",
        "plt.title(\"Training and validation accuracy\")\n",
        "plt.legend()\n",
        "plt.figure()\n",
        "plt.plot(epochs, loss, \"bo\", label=\"Training loss\")\n",
        "plt.plot(epochs, val_loss, \"b\", label=\"Validation loss\")\n",
        "plt.title(\"Training and validation loss\")\n",
        "plt.legend()\n",
        "plt.show()"
      ],
      "metadata": {
        "colab": {
          "base_uri": "https://localhost:8080/",
          "height": 887
        },
        "id": "1HDibJrqSvLt",
        "outputId": "1b46ef55-8c83-4f65-e39f-748983dc6e4e"
      },
      "execution_count": 38,
      "outputs": [
        {
          "output_type": "display_data",
          "data": {
            "text/plain": [
              "<Figure size 640x480 with 1 Axes>"
            ],
            "image/png": "[encoded data removed]"
          },
          "metadata": {}
        },
        {
          "output_type": "display_data",
          "data": {
            "text/plain": [
              "<Figure size 640x480 with 1 Axes>"
            ],
            "image/png": "[encoded data removed]"
          },
          "metadata": {}
        }
      ]
    },
    {
      "cell_type": "code",
      "source": [
        "score=model.evaluate(X_test_re, y_test)\n",
        "print(score)"
      ],
      "metadata": {
        "colab": {
          "base_uri": "https://localhost:8080/"
        },
        "id": "U3ob-i4TS75o",
        "outputId": "788284f3-ace2-4d84-cdbf-729f32cafe2f"
      },
      "execution_count": 39,
      "outputs": [
        {
          "output_type": "stream",
          "name": "stdout",
          "text": [
            "136/136 [==============================] - 0s 3ms/step - loss: 0.3081 - accuracy: 0.8655\n",
            "[0.3081206977367401, 0.865517258644104]\n"
          ]
        }
      ]
    },
    {
      "cell_type": "code",
      "source": [
        "y_pred = model.predict(X_test_re)"
      ],
      "metadata": {
        "colab": {
          "base_uri": "https://localhost:8080/"
        },
        "id": "bSVTxi3MS91H",
        "outputId": "0d19479b-17ce-4c5c-8265-791e103ecbb0"
      },
      "execution_count": 40,
      "outputs": [
        {
          "output_type": "stream",
          "name": "stdout",
          "text": [
            "136/136 [==============================] - 0s 2ms/step\n"
          ]
        }
      ]
    },
    {
      "cell_type": "code",
      "source": [
        "from sklearn.metrics import confusion_matrix, accuracy_score, precision_score, f1_score, recall_score, classification_report"
      ],
      "metadata": {
        "id": "oszslgNOTBEn"
      },
      "execution_count": 41,
      "outputs": []
    },
    {
      "cell_type": "code",
      "source": [
        "y_expected=pd.DataFrame(y_test)"
      ],
      "metadata": {
        "id": "HIXMAQxKTDdP"
      },
      "execution_count": 42,
      "outputs": []
    },
    {
      "cell_type": "code",
      "source": [
        "from sklearn.metrics import ConfusionMatrixDisplay"
      ],
      "metadata": {
        "id": "ZtEc75vlDYPC"
      },
      "execution_count": 43,
      "outputs": []
    },
    {
      "cell_type": "code",
      "source": [
        "cnf = confusion_matrix(y_test, y_pred.round())"
      ],
      "metadata": {
        "id": "F1liKju4Hqio"
      },
      "execution_count": 44,
      "outputs": []
    },
    {
      "cell_type": "code",
      "source": [
        "def plot_confusion_matrix(cm, classes,\n",
        "                          normalize=False,\n",
        "                          title='Confusion matrix',\n",
        "                          cmap=plt.cm.Blues,\n",
        "                          text_fontsize='medium'):  # Add a parameter for text font size\n",
        "    \"\"\"\n",
        "    This function prints and plots the confusion matrix.\n",
        "    Normalization can be applied by setting `normalize=True`.\n",
        "    \"\"\"\n",
        "    import itertools\n",
        "    if normalize:\n",
        "        cm = cm.astype('float') / cm.sum(axis=1)[:, np.newaxis]\n",
        "        print(\"Normalized confusion matrix\")\n",
        "    else:\n",
        "        print('Confusion matrix, without normalization')\n",
        "\n",
        "    print(cm)\n",
        "\n",
        "    plt.imshow(cm, interpolation='nearest', cmap=cmap)\n",
        "    plt.title(title)\n",
        "    plt.colorbar()\n",
        "    tick_marks = np.arange(len(classes))\n",
        "    plt.xticks(tick_marks, classes, rotation=45)\n",
        "    plt.yticks(tick_marks, classes)\n",
        "\n",
        "    fmt = '.2f' if normalize else 'd'\n",
        "    thresh = cm.max() / 2.\n",
        "    for i, j in itertools.product(range(cm.shape[0]), range(cm.shape[1])):\n",
        "        plt.text(j, i, format(cm[i, j], fmt),\n",
        "                 horizontalalignment=\"center\",\n",
        "                 color=\"white\" if cm[i, j] > thresh else \"black\",\n",
        "                 fontsize=text_fontsize)  # Set the font size here\n",
        "\n",
        "    plt.ylabel('True label')\n",
        "    plt.xlabel('Predicted label')\n",
        "    plt.tight_layout()"
      ],
      "metadata": {
        "id": "w09QjMfYJpRL"
      },
      "execution_count": 45,
      "outputs": []
    },
    {
      "cell_type": "markdown",
      "source": [
        "##Confusion Matrix"
      ],
      "metadata": {
        "id": "PD5zMG9wnmIQ"
      }
    },
    {
      "cell_type": "code",
      "source": [
        "plt.figure()\n",
        "plot_confusion_matrix(cnf, classes=['Not Fraud','Fraud'], normalize = True,\n",
        "                      title='Confusion matrix, with normalization',text_fontsize=15)"
      ],
      "metadata": {
        "colab": {
          "base_uri": "https://localhost:8080/",
          "height": 542
        },
        "id": "xWzktwF4Jt_c",
        "outputId": "ec055f42-e200-4dad-d241-776777efe69a"
      },
      "execution_count": 46,
      "outputs": [
        {
          "output_type": "stream",
          "name": "stdout",
          "text": [
            "Normalized confusion matrix\n",
            "[[0.75230627 0.24769373]\n",
            " [0.02199817 0.97800183]]\n"
          ]
        },
        {
          "output_type": "display_data",
          "data": {
            "text/plain": [
              "<Figure size 640x480 with 2 Axes>"
            ],
            "image/png": "[encoded data removed]"
          },
          "metadata": {}
        }
      ]
    },
    {
      "cell_type": "code",
      "source": [
        "plt.figure()\n",
        "plot_confusion_matrix(cnf, classes=['Not Fraud','Fraud'], normalize = False,\n",
        "                      title='Confusion matrix, with normalization',text_fontsize=14)"
      ],
      "metadata": {
        "colab": {
          "base_uri": "https://localhost:8080/",
          "height": 542
        },
        "id": "Dw4MT5FlK0My",
        "outputId": "157cb9a7-2b0c-4f9f-9b44-c1406415bb4f"
      },
      "execution_count": 47,
      "outputs": [
        {
          "output_type": "stream",
          "name": "stdout",
          "text": [
            "Confusion matrix, without normalization\n",
            "[[1631  537]\n",
            " [  48 2134]]\n"
          ]
        },
        {
          "output_type": "display_data",
          "data": {
            "text/plain": [
              "<Figure size 640x480 with 2 Axes>"
            ],
            "image/png": "[encoded data removed]"
          },
          "metadata": {}
        }
      ]
    },
    {
      "cell_type": "markdown",
      "source": [
        "##CNN Classification report"
      ],
      "metadata": {
        "id": "zu4wPLuDnote"
      }
    },
    {
      "cell_type": "code",
      "source": [
        "print(classification_report(y_test, y_pred.round()))"
      ],
      "metadata": {
        "colab": {
          "base_uri": "https://localhost:8080/"
        },
        "id": "sHossm5WHD1Z",
        "outputId": "cea83929-b4d0-446a-afdd-c56ec236bac6"
      },
      "execution_count": 48,
      "outputs": [
        {
          "output_type": "stream",
          "name": "stdout",
          "text": [
            "              precision    recall  f1-score   support\n",
            "\n",
            "           0       0.97      0.75      0.85      2168\n",
            "           1       0.80      0.98      0.88      2182\n",
            "\n",
            "    accuracy                           0.87      4350\n",
            "   macro avg       0.89      0.87      0.86      4350\n",
            "weighted avg       0.88      0.87      0.86      4350\n",
            "\n"
          ]
        }
      ]
    },
    {
      "cell_type": "code",
      "source": [
        "print(accuracy_score(y_test, y_pred.round()))\n",
        "print(precision_score(y_test, y_pred.round()))\n",
        "print(recall_score(y_test, y_pred.round()))\n",
        "print(f1_score(y_test, y_pred.round()))"
      ],
      "metadata": {
        "colab": {
          "base_uri": "https://localhost:8080/"
        },
        "id": "B5ZGRdtgTNxo",
        "outputId": "13a3d7b8-2371-44a4-b2b3-f6c88788081d"
      },
      "execution_count": 49,
      "outputs": [
        {
          "output_type": "stream",
          "name": "stdout",
          "text": [
            "0.8655172413793103\n",
            "0.798951703481842\n",
            "0.9780018331805683\n",
            "0.8794560065938595\n"
          ]
        }
      ]
    },
    {
      "cell_type": "code",
      "source": [
        "# Calculate the metrics\n",
        "accuracy = accuracy_score(y_test, y_pred.round())\n",
        "precision = precision_score(y_test, y_pred.round())\n",
        "recall = recall_score(y_test, y_pred.round())\n",
        "f1 = f1_score(y_test, y_pred.round())\n",
        "\n",
        "# Print the metrics as percentages\n",
        "print('Accuracy: {:0.2f}%'.format(accuracy * 100))\n",
        "print('Precision: {:0.2f}%'.format(precision * 100))\n",
        "print('Recall: {:0.2f}%'.format(recall * 100))\n",
        "print('F1 Score: {:0.2f}%'.format(f1 * 100))"
      ],
      "metadata": {
        "colab": {
          "base_uri": "https://localhost:8080/"
        },
        "id": "3iCG1bI405ZL",
        "outputId": "83f25368-7ac6-4099-aebe-748fe3399816"
      },
      "execution_count": 50,
      "outputs": [
        {
          "output_type": "stream",
          "name": "stdout",
          "text": [
            "Accuracy: 86.55%\n",
            "Precision: 79.90%\n",
            "Recall: 97.80%\n",
            "F1 Score: 87.95%\n"
          ]
        }
      ]
    },
    {
      "cell_type": "markdown",
      "source": [
        "Export the data in the csv file"
      ],
      "metadata": {
        "id": "XQMKhmBy-d-a"
      }
    },
    {
      "cell_type": "code",
      "source": [
        "# Assuming X_train, X_val, X_test, y_train, y_val, y_test are your datasets\n",
        "# Convert to DataFrame for easier saving (if they are NumPy arrays)\n",
        "X_train_df = pd.DataFrame(X_train)\n",
        "X_val_df = pd.DataFrame(X_val)\n",
        "X_test_df = pd.DataFrame(X_test)\n",
        "y_train_df = pd.DataFrame(y_train)\n",
        "y_val_df = pd.DataFrame(y_val)\n",
        "y_test_df = pd.DataFrame(y_test)\n",
        "\n",
        "# Save to CSV\n",
        "X_train_df.to_csv('X_train.csv', index=False)\n",
        "X_val_df.to_csv('X_val.csv', index=False)\n",
        "X_test_df.to_csv('X_test.csv', index=False)\n",
        "y_train_df.to_csv('y_train.csv', index=False)\n",
        "y_val_df.to_csv('y_val.csv', index=False)\n",
        "y_test_df.to_csv('y_test.csv', index=False)"
      ],
      "metadata": {
        "id": "RCOSvArz-cd7"
      },
      "execution_count": null,
      "outputs": []
    },
    {
      "cell_type": "markdown",
      "source": [
        "Save the training model"
      ],
      "metadata": {
        "id": "NU2st-nY-pg7"
      }
    },
    {
      "cell_type": "code",
      "source": [
        "model.save('CNN_ADASYN_OverSampling.keras')  # Creates a HDF5 file 'my_model.h5'"
      ],
      "metadata": {
        "id": "28wGWPTQ-l-q"
      },
      "execution_count": 51,
      "outputs": []
    },
    {
      "cell_type": "markdown",
      "source": [
        "Load the model later"
      ],
      "metadata": {
        "id": "NpJ7plFc-yZ0"
      }
    },
    {
      "cell_type": "code",
      "source": [
        "# from tensorflow.keras.models import load_model\n",
        "\n",
        "# # Load the model\n",
        "# loaded_model = load_model('my_model.h5')"
      ],
      "metadata": {
        "id": "O_xA-2QU-tsK"
      },
      "execution_count": null,
      "outputs": []
    },
    {
      "cell_type": "markdown",
      "source": [
        "#CNN-LSTM"
      ],
      "metadata": {
        "id": "JbrBt6yRnTSD"
      }
    },
    {
      "cell_type": "code",
      "source": [
        "from tensorflow.keras.models import Sequential\n",
        "from tensorflow.keras.layers import Dense,Flatten,Conv1D,BatchNormalization,Dropout, MaxPool1D, LSTM\n",
        "from tensorflow.keras.optimizers import Adam"
      ],
      "metadata": {
        "id": "KUsw5CI2nXLa"
      },
      "execution_count": 52,
      "outputs": []
    },
    {
      "cell_type": "code",
      "source": [
        "model_lstm = Sequential()\n",
        "\n",
        "#1st layer\n",
        "model_lstm.add(Conv1D(filters=128, kernel_size=3, activation='relu', input_shape=X_train_re[0].shape))\n",
        "\n",
        "#2nd layer\n",
        "model_lstm.add(Conv1D(filters=64, kernel_size=3, activation='relu', input_shape=X_train_re[0].shape))\n",
        "\n",
        "#3rd layer\n",
        "model_lstm.add(LSTM(20, return_sequences=True, input_shape=X_train_re[0].shape))\n",
        "\n",
        "#4th layer\n",
        "#model.add(LSTM(256, return_sequences=True, input_shape=X_train_re[0].shape))\n",
        "\n",
        "# build DNN\n",
        "model_lstm.add(Flatten())\n",
        "model_lstm.add(Dense(1, activation='sigmoid'))"
      ],
      "metadata": {
        "id": "d90PQCSHnvzF"
      },
      "execution_count": 53,
      "outputs": []
    },
    {
      "cell_type": "code",
      "source": [
        "model_lstm.summary()"
      ],
      "metadata": {
        "colab": {
          "base_uri": "https://localhost:8080/"
        },
        "id": "4v19ot9jnzdC",
        "outputId": "eb1330d2-b5e0-4e06-86e9-486462b83eb3"
      },
      "execution_count": 54,
      "outputs": [
        {
          "output_type": "stream",
          "name": "stdout",
          "text": [
            "Model: \"sequential_1\"\n",
            "_________________________________________________________________\n",
            " Layer (type)                Output Shape              Param #   \n",
            "=================================================================\n",
            " conv1d_2 (Conv1D)           (None, 62, 128)           512       \n",
            "                                                                 \n",
            " conv1d_3 (Conv1D)           (None, 60, 64)            24640     \n",
            "                                                                 \n",
            " lstm (LSTM)                 (None, 60, 20)            6800      \n",
            "                                                                 \n",
            " flatten_1 (Flatten)         (None, 1200)              0         \n",
            "                                                                 \n",
            " dense_2 (Dense)             (None, 1)                 1201      \n",
            "                                                                 \n",
            "=================================================================\n",
            "Total params: 33153 (129.50 KB)\n",
            "Trainable params: 33153 (129.50 KB)\n",
            "Non-trainable params: 0 (0.00 Byte)\n",
            "_________________________________________________________________\n"
          ]
        }
      ]
    },
    {
      "cell_type": "code",
      "source": [
        "model_lstm.compile(optimizer=Adam(learning_rate=1e-4), loss='binary_crossentropy', metrics=['accuracy'])"
      ],
      "metadata": {
        "id": "8fu765CGn14V"
      },
      "execution_count": 55,
      "outputs": []
    },
    {
      "cell_type": "code",
      "source": [
        "history_lstm = model_lstm.fit(X_train_re, y_train, epochs=50, validation_data=(X_val_re, y_val))"
      ],
      "metadata": {
        "colab": {
          "base_uri": "https://localhost:8080/"
        },
        "id": "gEZS04_En38-",
        "outputId": "fa6359b2-1b2e-4da7-c344-a7859d43d66e"
      },
      "execution_count": 56,
      "outputs": [
        {
          "output_type": "stream",
          "name": "stdout",
          "text": [
            "Epoch 1/50\n",
            "635/635 [==============================] - 10s 9ms/step - loss: 0.6323 - accuracy: 0.6536 - val_loss: 0.5566 - val_accuracy: 0.7306\n",
            "Epoch 2/50\n",
            "635/635 [==============================] - 5s 8ms/step - loss: 0.5338 - accuracy: 0.7421 - val_loss: 0.5202 - val_accuracy: 0.7545\n",
            "Epoch 3/50\n",
            "635/635 [==============================] - 6s 10ms/step - loss: 0.5106 - accuracy: 0.7555 - val_loss: 0.5060 - val_accuracy: 0.7572\n",
            "Epoch 4/50\n",
            "635/635 [==============================] - 5s 8ms/step - loss: 0.4985 - accuracy: 0.7614 - val_loss: 0.4959 - val_accuracy: 0.7628\n",
            "Epoch 5/50\n",
            "635/635 [==============================] - 6s 9ms/step - loss: 0.4899 - accuracy: 0.7673 - val_loss: 0.4862 - val_accuracy: 0.7694\n",
            "Epoch 6/50\n",
            "635/635 [==============================] - 5s 8ms/step - loss: 0.4828 - accuracy: 0.7711 - val_loss: 0.4853 - val_accuracy: 0.7664\n",
            "Epoch 7/50\n",
            "635/635 [==============================] - 5s 8ms/step - loss: 0.4772 - accuracy: 0.7712 - val_loss: 0.4793 - val_accuracy: 0.7710\n",
            "Epoch 8/50\n",
            "635/635 [==============================] - 6s 9ms/step - loss: 0.4725 - accuracy: 0.7728 - val_loss: 0.4703 - val_accuracy: 0.7683\n",
            "Epoch 9/50\n",
            "635/635 [==============================] - 5s 8ms/step - loss: 0.4674 - accuracy: 0.7751 - val_loss: 0.4684 - val_accuracy: 0.7736\n",
            "Epoch 10/50\n",
            "635/635 [==============================] - 5s 8ms/step - loss: 0.4643 - accuracy: 0.7781 - val_loss: 0.4655 - val_accuracy: 0.7775\n",
            "Epoch 11/50\n",
            "635/635 [==============================] - 6s 9ms/step - loss: 0.4598 - accuracy: 0.7807 - val_loss: 0.4616 - val_accuracy: 0.7798\n",
            "Epoch 12/50\n",
            "635/635 [==============================] - 5s 8ms/step - loss: 0.4552 - accuracy: 0.7816 - val_loss: 0.4592 - val_accuracy: 0.7844\n",
            "Epoch 13/50\n",
            "635/635 [==============================] - 6s 10ms/step - loss: 0.4516 - accuracy: 0.7847 - val_loss: 0.4594 - val_accuracy: 0.7800\n",
            "Epoch 14/50\n",
            "635/635 [==============================] - 5s 8ms/step - loss: 0.4471 - accuracy: 0.7869 - val_loss: 0.4505 - val_accuracy: 0.7876\n",
            "Epoch 15/50\n",
            "635/635 [==============================] - 5s 8ms/step - loss: 0.4438 - accuracy: 0.7923 - val_loss: 0.4508 - val_accuracy: 0.7894\n",
            "Epoch 16/50\n",
            "635/635 [==============================] - 6s 9ms/step - loss: 0.4389 - accuracy: 0.7925 - val_loss: 0.4529 - val_accuracy: 0.7915\n",
            "Epoch 17/50\n",
            "635/635 [==============================] - 5s 8ms/step - loss: 0.4358 - accuracy: 0.7963 - val_loss: 0.4541 - val_accuracy: 0.7897\n",
            "Epoch 18/50\n",
            "635/635 [==============================] - 6s 10ms/step - loss: 0.4334 - accuracy: 0.7962 - val_loss: 0.4408 - val_accuracy: 0.7959\n",
            "Epoch 19/50\n",
            "635/635 [==============================] - 5s 8ms/step - loss: 0.4277 - accuracy: 0.8013 - val_loss: 0.4394 - val_accuracy: 0.7961\n",
            "Epoch 20/50\n",
            "635/635 [==============================] - 5s 8ms/step - loss: 0.4242 - accuracy: 0.8033 - val_loss: 0.4464 - val_accuracy: 0.7984\n",
            "Epoch 21/50\n",
            "635/635 [==============================] - 6s 10ms/step - loss: 0.4207 - accuracy: 0.8042 - val_loss: 0.4290 - val_accuracy: 0.8046\n",
            "Epoch 22/50\n",
            "635/635 [==============================] - 5s 8ms/step - loss: 0.4171 - accuracy: 0.8074 - val_loss: 0.4256 - val_accuracy: 0.8069\n",
            "Epoch 23/50\n",
            "635/635 [==============================] - 6s 10ms/step - loss: 0.4150 - accuracy: 0.8085 - val_loss: 0.4262 - val_accuracy: 0.8039\n",
            "Epoch 24/50\n",
            "635/635 [==============================] - 5s 8ms/step - loss: 0.4089 - accuracy: 0.8124 - val_loss: 0.4289 - val_accuracy: 0.8037\n",
            "Epoch 25/50\n",
            "635/635 [==============================] - 5s 8ms/step - loss: 0.4051 - accuracy: 0.8146 - val_loss: 0.4178 - val_accuracy: 0.8131\n",
            "Epoch 26/50\n",
            "635/635 [==============================] - 6s 10ms/step - loss: 0.4013 - accuracy: 0.8173 - val_loss: 0.4166 - val_accuracy: 0.8117\n",
            "Epoch 27/50\n",
            "635/635 [==============================] - 5s 8ms/step - loss: 0.3952 - accuracy: 0.8228 - val_loss: 0.4400 - val_accuracy: 0.7853\n",
            "Epoch 28/50\n",
            "635/635 [==============================] - 6s 9ms/step - loss: 0.3948 - accuracy: 0.8227 - val_loss: 0.4294 - val_accuracy: 0.8071\n",
            "Epoch 29/50\n",
            "635/635 [==============================] - 5s 8ms/step - loss: 0.3883 - accuracy: 0.8231 - val_loss: 0.4097 - val_accuracy: 0.8110\n",
            "Epoch 30/50\n",
            "635/635 [==============================] - 5s 8ms/step - loss: 0.3837 - accuracy: 0.8291 - val_loss: 0.3991 - val_accuracy: 0.8170\n",
            "Epoch 31/50\n",
            "635/635 [==============================] - 7s 11ms/step - loss: 0.3809 - accuracy: 0.8271 - val_loss: 0.3994 - val_accuracy: 0.8280\n",
            "Epoch 32/50\n",
            "635/635 [==============================] - 5s 8ms/step - loss: 0.3751 - accuracy: 0.8342 - val_loss: 0.3983 - val_accuracy: 0.8168\n",
            "Epoch 33/50\n",
            "635/635 [==============================] - 6s 9ms/step - loss: 0.3716 - accuracy: 0.8329 - val_loss: 0.3931 - val_accuracy: 0.8283\n",
            "Epoch 34/50\n",
            "635/635 [==============================] - 5s 8ms/step - loss: 0.3690 - accuracy: 0.8381 - val_loss: 0.3893 - val_accuracy: 0.8306\n",
            "Epoch 35/50\n",
            "635/635 [==============================] - 5s 8ms/step - loss: 0.3641 - accuracy: 0.8378 - val_loss: 0.3874 - val_accuracy: 0.8349\n",
            "Epoch 36/50\n",
            "635/635 [==============================] - 6s 10ms/step - loss: 0.3607 - accuracy: 0.8425 - val_loss: 0.3826 - val_accuracy: 0.8255\n",
            "Epoch 37/50\n",
            "635/635 [==============================] - 5s 8ms/step - loss: 0.3565 - accuracy: 0.8435 - val_loss: 0.3831 - val_accuracy: 0.8354\n",
            "Epoch 38/50\n",
            "635/635 [==============================] - 6s 9ms/step - loss: 0.3530 - accuracy: 0.8466 - val_loss: 0.3912 - val_accuracy: 0.8287\n",
            "Epoch 39/50\n",
            "635/635 [==============================] - 5s 8ms/step - loss: 0.3484 - accuracy: 0.8477 - val_loss: 0.3883 - val_accuracy: 0.8315\n",
            "Epoch 40/50\n",
            "635/635 [==============================] - 5s 8ms/step - loss: 0.3441 - accuracy: 0.8527 - val_loss: 0.4022 - val_accuracy: 0.8198\n",
            "Epoch 41/50\n",
            "635/635 [==============================] - 6s 10ms/step - loss: 0.3401 - accuracy: 0.8536 - val_loss: 0.3715 - val_accuracy: 0.8391\n",
            "Epoch 42/50\n",
            "635/635 [==============================] - 5s 8ms/step - loss: 0.3363 - accuracy: 0.8567 - val_loss: 0.3716 - val_accuracy: 0.8441\n",
            "Epoch 43/50\n",
            "635/635 [==============================] - 6s 9ms/step - loss: 0.3353 - accuracy: 0.8580 - val_loss: 0.3662 - val_accuracy: 0.8405\n",
            "Epoch 44/50\n",
            "635/635 [==============================] - 6s 9ms/step - loss: 0.3303 - accuracy: 0.8627 - val_loss: 0.3544 - val_accuracy: 0.8508\n",
            "Epoch 45/50\n",
            "635/635 [==============================] - 5s 8ms/step - loss: 0.3252 - accuracy: 0.8650 - val_loss: 0.3677 - val_accuracy: 0.8441\n",
            "Epoch 46/50\n",
            "635/635 [==============================] - 6s 10ms/step - loss: 0.3216 - accuracy: 0.8676 - val_loss: 0.3517 - val_accuracy: 0.8552\n",
            "Epoch 47/50\n",
            "635/635 [==============================] - 5s 8ms/step - loss: 0.3171 - accuracy: 0.8725 - val_loss: 0.3624 - val_accuracy: 0.8589\n",
            "Epoch 48/50\n",
            "635/635 [==============================] - 6s 9ms/step - loss: 0.3118 - accuracy: 0.8752 - val_loss: 0.3594 - val_accuracy: 0.8586\n",
            "Epoch 49/50\n",
            "635/635 [==============================] - 6s 9ms/step - loss: 0.3083 - accuracy: 0.8755 - val_loss: 0.3710 - val_accuracy: 0.8494\n",
            "Epoch 50/50\n",
            "635/635 [==============================] - 5s 8ms/step - loss: 0.3086 - accuracy: 0.8753 - val_loss: 0.3436 - val_accuracy: 0.8575\n"
          ]
        }
      ]
    },
    {
      "cell_type": "markdown",
      "source": [
        "##Accuracy Validation"
      ],
      "metadata": {
        "id": "E6ExYNh9rQa7"
      }
    },
    {
      "cell_type": "code",
      "source": [
        "accuracy = history_lstm.history[\"accuracy\"]\n",
        "val_accuracy = history_lstm.history[\"val_accuracy\"]\n",
        "loss = history_lstm.history[\"loss\"]\n",
        "val_loss = history_lstm.history[\"val_loss\"]\n",
        "epochs = range(1, len(accuracy) + 1)\n",
        "plt.plot(epochs, accuracy, \"bo\", label=\"Training accuracy\")\n",
        "plt.plot(epochs, val_accuracy, \"b\", label=\"Validation accuracy\")\n",
        "plt.title(\"Training and validation accuracy\")\n",
        "plt.legend()\n",
        "plt.figure()\n",
        "plt.plot(epochs, loss, \"bo\", label=\"Training loss\")\n",
        "plt.plot(epochs, val_loss, \"b\", label=\"Validation loss\")\n",
        "plt.title(\"Training and validation loss\")\n",
        "plt.legend()\n",
        "plt.show()"
      ],
      "metadata": {
        "colab": {
          "base_uri": "https://localhost:8080/",
          "height": 887
        },
        "id": "OOPoBStLo9tY",
        "outputId": "2643e8eb-a3a6-4047-f042-9b73de0ac91c"
      },
      "execution_count": 57,
      "outputs": [
        {
          "output_type": "display_data",
          "data": {
            "text/plain": [
              "<Figure size 640x480 with 1 Axes>"
            ],
            "image/png": "[encoded data removed]"
          },
          "metadata": {}
        },
        {
          "output_type": "display_data",
          "data": {
            "text/plain": [
              "<Figure size 640x480 with 1 Axes>"
            ],
            "image/png": "[encoded data removed]"
          },
          "metadata": {}
        }
      ]
    },
    {
      "cell_type": "code",
      "source": [
        "score_lstm=model_lstm.evaluate(X_test_re, y_test)\n",
        "print(score_lstm)"
      ],
      "metadata": {
        "colab": {
          "base_uri": "https://localhost:8080/"
        },
        "id": "rKQ0HjgnqVX8",
        "outputId": "6637c939-687e-4589-b803-65704a464862"
      },
      "execution_count": 58,
      "outputs": [
        {
          "output_type": "stream",
          "name": "stdout",
          "text": [
            "136/136 [==============================] - 1s 4ms/step - loss: 0.3338 - accuracy: 0.8602\n",
            "[0.3338375389575958, 0.8602299094200134]\n"
          ]
        }
      ]
    },
    {
      "cell_type": "code",
      "source": [
        "y_pred_lstm = model_lstm.predict(X_test_re)"
      ],
      "metadata": {
        "colab": {
          "base_uri": "https://localhost:8080/"
        },
        "id": "FmoIKknfqaSh",
        "outputId": "73f78a0e-11f4-456b-fd4b-5f858f98d8cd"
      },
      "execution_count": 59,
      "outputs": [
        {
          "output_type": "stream",
          "name": "stdout",
          "text": [
            "136/136 [==============================] - 1s 4ms/step\n"
          ]
        }
      ]
    },
    {
      "cell_type": "code",
      "source": [
        "y_expected_lstm=pd.DataFrame(y_test)"
      ],
      "metadata": {
        "id": "jymqr7z_qc9Q"
      },
      "execution_count": 60,
      "outputs": []
    },
    {
      "cell_type": "code",
      "source": [
        "cnf_lstm = confusion_matrix(y_test, y_pred_lstm.round())"
      ],
      "metadata": {
        "id": "RgaTM5P5qe8i"
      },
      "execution_count": 61,
      "outputs": []
    },
    {
      "cell_type": "code",
      "source": [
        "from sklearn.metrics import ConfusionMatrixDisplay\n",
        "from sklearn.metrics import confusion_matrix, accuracy_score, precision_score, f1_score, recall_score, classification_report"
      ],
      "metadata": {
        "id": "Pd4HLnsQqr9u"
      },
      "execution_count": 62,
      "outputs": []
    },
    {
      "cell_type": "markdown",
      "source": [
        "##Confusion Matrix"
      ],
      "metadata": {
        "id": "df-rBICOrM6g"
      }
    },
    {
      "cell_type": "code",
      "source": [
        "plt.figure()\n",
        "plot_confusion_matrix(cnf_lstm, classes=['Not Fraud','Fraud'], normalize = True,\n",
        "                      title='Confusion matrix, with normalization',text_fontsize=15)"
      ],
      "metadata": {
        "colab": {
          "base_uri": "https://localhost:8080/",
          "height": 542
        },
        "id": "2JWa3JSfqhAx",
        "outputId": "b1cd9cfa-c101-4f13-c48e-60c7ed06a088"
      },
      "execution_count": 63,
      "outputs": [
        {
          "output_type": "stream",
          "name": "stdout",
          "text": [
            "Normalized confusion matrix\n",
            "[[0.82979705 0.17020295]\n",
            " [0.10953254 0.89046746]]\n"
          ]
        },
        {
          "output_type": "display_data",
          "data": {
            "text/plain": [
              "<Figure size 640x480 with 2 Axes>"
            ],
            "image/png": "[encoded data removed]"
          },
          "metadata": {}
        }
      ]
    },
    {
      "cell_type": "code",
      "source": [
        "plt.figure()\n",
        "plot_confusion_matrix(cnf_lstm, classes=['Not Fraud','Fraud'], normalize = False,\n",
        "                      title='Confusion matrix, with normalization',text_fontsize=15)"
      ],
      "metadata": {
        "colab": {
          "base_uri": "https://localhost:8080/",
          "height": 542
        },
        "id": "KH_tI2C5q0df",
        "outputId": "4b090543-2c51-4413-c71b-890dcc727ded"
      },
      "execution_count": 64,
      "outputs": [
        {
          "output_type": "stream",
          "name": "stdout",
          "text": [
            "Confusion matrix, without normalization\n",
            "[[1799  369]\n",
            " [ 239 1943]]\n"
          ]
        },
        {
          "output_type": "display_data",
          "data": {
            "text/plain": [
              "<Figure size 640x480 with 2 Axes>"
            ],
            "image/png": "[encoded data removed]"
          },
          "metadata": {}
        }
      ]
    },
    {
      "cell_type": "markdown",
      "source": [
        "##CNN-LSTM Classification"
      ],
      "metadata": {
        "id": "0Veq2SwarHcM"
      }
    },
    {
      "cell_type": "code",
      "source": [
        "print(classification_report(y_test, y_pred_lstm.round()))"
      ],
      "metadata": {
        "colab": {
          "base_uri": "https://localhost:8080/"
        },
        "id": "KVNDHOhGq7oQ",
        "outputId": "94fb7c57-b17b-418f-8f1d-1a639ec8be71"
      },
      "execution_count": 65,
      "outputs": [
        {
          "output_type": "stream",
          "name": "stdout",
          "text": [
            "              precision    recall  f1-score   support\n",
            "\n",
            "           0       0.88      0.83      0.86      2168\n",
            "           1       0.84      0.89      0.86      2182\n",
            "\n",
            "    accuracy                           0.86      4350\n",
            "   macro avg       0.86      0.86      0.86      4350\n",
            "weighted avg       0.86      0.86      0.86      4350\n",
            "\n"
          ]
        }
      ]
    },
    {
      "cell_type": "code",
      "source": [
        "# Calculate the metrics\n",
        "accuracy_lstm = accuracy_score(y_test, y_pred_lstm.round())\n",
        "precision_lstm = precision_score(y_test, y_pred_lstm.round())\n",
        "recall_lstm = recall_score(y_test, y_pred_lstm.round())\n",
        "f1_lstm = f1_score(y_test, y_pred_lstm.round())\n",
        "\n",
        "# Print the metrics as percentages\n",
        "print('Accuracy: {:0.2f}%'.format(accuracy_lstm * 100))\n",
        "print('Precision: {:0.2f}%'.format(precision_lstm * 100))\n",
        "print('Recall: {:0.2f}%'.format(recall_lstm * 100))\n",
        "print('F1 Score: {:0.2f}%'.format(f1_lstm * 100))"
      ],
      "metadata": {
        "colab": {
          "base_uri": "https://localhost:8080/"
        },
        "id": "LUtuaHxpq-tf",
        "outputId": "5571b935-46dd-4751-8885-fbcd4b42ae59"
      },
      "execution_count": 66,
      "outputs": [
        {
          "output_type": "stream",
          "name": "stdout",
          "text": [
            "Accuracy: 86.02%\n",
            "Precision: 84.04%\n",
            "Recall: 89.05%\n",
            "F1 Score: 86.47%\n"
          ]
        }
      ]
    },
    {
      "cell_type": "code",
      "source": [
        "model_lstm.save('CNN-LSTM_RandomOverSampling.keras')"
      ],
      "metadata": {
        "id": "2oPoqGNsrDhl"
      },
      "execution_count": 67,
      "outputs": []
    }
  ]
}